{
 "cells": [
  {
   "cell_type": "markdown",
   "id": "3299ec04-38ac-45f6-8834-d92d225c1836",
   "metadata": {},
   "source": [
    "# 2024 Lok Sabha Election Ad Expenditure and Voting Trends by<span style=\"color:blue;\"> Mohammed Sohail Mirza</span>"
   ]
  },
  {
   "cell_type": "markdown",
   "id": "9112e2e7-fab0-4cce-bf5c-9b5102b9274c",
   "metadata": {},
   "source": [
    "![Election](Designer%20(1).jpeg)"
   ]
  },
  {
   "cell_type": "markdown",
   "id": "1693c3da-0f89-4a7d-9e43-475eb7c10498",
   "metadata": {},
   "source": [
    "### **Indepth analysis of impact and distribution of social media ad spending on voter turnout and electoral outcomes in India, with a focus on state-wise and alliance-specific expenditures.**\n",
    "\n",
    "#### The aim encompasses several key objectives:\n",
    "\n",
    "1. **Analyzing the distribution of election social ad spending across different states.**\n",
    "2. **Calculating the average voter turnout percentage for each state and highlighting the top 50 constituencies with the highest voting percentages and the bottom 50 constituencies with the lowest voting percentages..**\n",
    "3. **Identifying and comparing the top parties by their ad spending and examining net ad spending in the top 5 states governed by the NDA alliance and the top 5 states governed by the INDIA alliance.****\n",
    "4. **Comparing overall ad expenditures at the national level and by political alliances and studying the distribution of ad spending in entire india and the top allainces.**\n",
    "5. **Tracking ad spending and voter turnout across different election phases.**\n",
    "\n",
    "These objectives will help in understanding the correlation between ad spending and voter behavior, as well as identifying patterns and trends in political advertising and voter engagement."
   ]
  },
  {
   "cell_type": "markdown",
   "id": "409a1652-af8a-4fa6-bf33-584ea013cf8c",
   "metadata": {},
   "source": [
    "# Importing Basic Libraries\n",
    "Libraries in data analysis provide pre-written code for efficient tasks, enhancing productivity, consistency, and performance, while enabling effective visualization and collaboration among analysts for better insights and decision-making.\n",
    "\n",
    "1. **`pandas`**: `pandas` is a powerful Python library for data manipulation and analysis. It provides data structures like Series (one-dimensional) and DataFrame (two-dimensional) that are used to store and manipulate tabular data. `pandas` is widely used for data cleaning, preparation, and exploration.\n",
    "2. **`numpy`**: `numpy` is a fundamental library for numerical computing in Python. It provides support for arrays and matrices, along with a collection of mathematical functions to operate on these data structures. `numpy` is essential for performing efficient numerical computations and handling large datasets.\n",
    "3. **`matplotlib`**: `matplotlib` is a comprehensive library for creating static, animated, and interactive visualizations in Python. It is particularly known for its 2D plotting capabilities. `pyplot`, a module in `matplotlib`, provides a MATLAB-like interface for creating plots and graphs.\n",
    "4. **`seaborn`**: `seaborn` is a data visualization library based on `matplotlib` that provides a high-level interface for drawing attractive and informative statistical graphics. It simplifies the process of creating complex visualizations and works seamlessly with `pandas` DataFrames.\n",
    "5. **`plotly`**: `plotly` is an interactive graphing library that enables the creation of interactive plots, charts, and dashboards. `plotly.express` is a high-level interface for creating quick and easy visualizations, while `plotly.graph_objects` provides more control and customization over the plots."
   ]
  },
  {
   "cell_type": "code",
   "execution_count": 1,
   "id": "1c6e7756-0162-482e-a45d-9ebeed51024c",
   "metadata": {},
   "outputs": [
    {
     "name": "stdout",
     "output_type": "stream",
     "text": [
      "Requirement already satisfied: kaleido in /opt/anaconda3/lib/python3.11/site-packages (0.2.1)\n",
      "Note: you may need to restart the kernel to use updated packages.\n"
     ]
    }
   ],
   "source": [
    "pip install -U kaleido"
   ]
  },
  {
   "cell_type": "code",
   "execution_count": 2,
   "id": "805e80f8-949b-4e3a-a356-1abb463dbb99",
   "metadata": {},
   "outputs": [],
   "source": [
    "import pandas as pd\n",
    "import numpy as np\n",
    "import matplotlib.pyplot as plt\n",
    "import seaborn as sns\n",
    "%matplotlib inline\n",
    "\n",
    "import plotly.express as px\n",
    "import plotly.io as pio\n",
    "pio.templates.default = \"plotly_white\"\n",
    "import plotly.graph_objects as go"
   ]
  },
  {
   "cell_type": "markdown",
   "id": "1d7e6e83-04ad-4a77-9cff-cc053de168c2",
   "metadata": {},
   "source": [
    "### Dataset Definition:\n",
    "\n",
    "1. **Result Data**:\n",
    "    - **Columns**:\n",
    "        - **`_id`**: Unique identifier for each record.\n",
    "        - **`Sl No`**: Serial number.\n",
    "        - **`State`**: Contains the names of the states and union territory where elections took place.\n",
    "        - **`PC_Name`**: Contains the names of the constituencies.\n",
    "        - **`Total Electors`**: Total number of eligible voters in each constituency.\n",
    "        - **`Polled (%)`**: Percentage of voters who cast their vote.\n",
    "        - **`Total Votes`**: Total number of votes cast in each constituency.\n",
    "        - **`Phase`**: Information about the phase in which the election occurred.\n",
    "\n",
    "2. **Location Data**:\n",
    "    - **Columns**:\n",
    "        - **`Location name`**: Contains the names of the states and union Ttrritory.\n",
    "        - **`Amount Spent (INR)`**: Net amount of money spent on social ads in each state, measured in Indian Rupees (INR).\n",
    "\n",
    "3. **Advertise Data**:\n",
    "    - **Columns**:\n",
    "        - **`Page ID`**: Unique identifier for each advertising page.\n",
    "        - **`Page name`**: Name of the advertising page.\n",
    "        - **`Disclaimer`**: Disclaimer associated with the ads, often providing information about who paid for the ad.\n",
    "        - **`Amount spent (INR)`**: Total amount of money spent on ads by the page, measured in Indian Rupees (INR).\n",
    "        - **`Number of ads in Library`**: Total number of ads associated with the page available in the ad library.\n",
    "     \n",
    "\n",
    "Dataset Link - https://drive.google.com/drive/folders/1myJT4alegcmST8GpHZWfyFJj1Ie_pY-i?usp=sharing"
   ]
  },
  {
   "cell_type": "markdown",
   "id": "c4e56ef1-6dee-4544-a166-661fe84867d9",
   "metadata": {},
   "source": [
    "**Lets Analyze!!**"
   ]
  },
  {
   "cell_type": "code",
   "execution_count": 3,
   "id": "65c4079b-f7a8-4f7b-8c43-59f0ad372fad",
   "metadata": {},
   "outputs": [
    {
     "data": {
      "text/html": [
       "<div>\n",
       "<style scoped>\n",
       "    .dataframe tbody tr th:only-of-type {\n",
       "        vertical-align: middle;\n",
       "    }\n",
       "\n",
       "    .dataframe tbody tr th {\n",
       "        vertical-align: top;\n",
       "    }\n",
       "\n",
       "    .dataframe thead th {\n",
       "        text-align: right;\n",
       "    }\n",
       "</style>\n",
       "<table border=\"1\" class=\"dataframe\">\n",
       "  <thead>\n",
       "    <tr style=\"text-align: right;\">\n",
       "      <th></th>\n",
       "      <th>_id</th>\n",
       "      <th>Sl No</th>\n",
       "      <th>State</th>\n",
       "      <th>PC_Name</th>\n",
       "      <th>Total Electors</th>\n",
       "      <th>Polled (%)</th>\n",
       "      <th>Total Votes</th>\n",
       "      <th>Phase</th>\n",
       "    </tr>\n",
       "  </thead>\n",
       "  <tbody>\n",
       "    <tr>\n",
       "      <th>0</th>\n",
       "      <td>1</td>\n",
       "      <td>1.0</td>\n",
       "      <td>Andaman &amp; Nicobar Islands</td>\n",
       "      <td>Andaman &amp; Nicobar Islands</td>\n",
       "      <td>315148</td>\n",
       "      <td>64.10</td>\n",
       "      <td>202018</td>\n",
       "      <td>1.0</td>\n",
       "    </tr>\n",
       "    <tr>\n",
       "      <th>1</th>\n",
       "      <td>2</td>\n",
       "      <td>2.0</td>\n",
       "      <td>Arunachal Pradesh</td>\n",
       "      <td>Arunachal East</td>\n",
       "      <td>375310</td>\n",
       "      <td>83.31</td>\n",
       "      <td>312658</td>\n",
       "      <td>1.0</td>\n",
       "    </tr>\n",
       "    <tr>\n",
       "      <th>2</th>\n",
       "      <td>3</td>\n",
       "      <td>3.0</td>\n",
       "      <td>Arunachal Pradesh</td>\n",
       "      <td>Arunachal West</td>\n",
       "      <td>517384</td>\n",
       "      <td>73.60</td>\n",
       "      <td>380783</td>\n",
       "      <td>1.0</td>\n",
       "    </tr>\n",
       "    <tr>\n",
       "      <th>3</th>\n",
       "      <td>4</td>\n",
       "      <td>4.0</td>\n",
       "      <td>Assam</td>\n",
       "      <td>Dibrugarh</td>\n",
       "      <td>1659588</td>\n",
       "      <td>76.75</td>\n",
       "      <td>1273744</td>\n",
       "      <td>1.0</td>\n",
       "    </tr>\n",
       "    <tr>\n",
       "      <th>4</th>\n",
       "      <td>5</td>\n",
       "      <td>5.0</td>\n",
       "      <td>Assam</td>\n",
       "      <td>Jorhat</td>\n",
       "      <td>1727121</td>\n",
       "      <td>79.89</td>\n",
       "      <td>1379749</td>\n",
       "      <td>1.0</td>\n",
       "    </tr>\n",
       "  </tbody>\n",
       "</table>\n",
       "</div>"
      ],
      "text/plain": [
       "   _id  Sl No                      State                    PC_Name  \\\n",
       "0    1    1.0  Andaman & Nicobar Islands  Andaman & Nicobar Islands   \n",
       "1    2    2.0          Arunachal Pradesh             Arunachal East   \n",
       "2    3    3.0          Arunachal Pradesh             Arunachal West   \n",
       "3    4    4.0                      Assam                  Dibrugarh   \n",
       "4    5    5.0                      Assam                     Jorhat   \n",
       "\n",
       "   Total Electors  Polled (%)  Total Votes  Phase  \n",
       "0          315148       64.10       202018    1.0  \n",
       "1          375310       83.31       312658    1.0  \n",
       "2          517384       73.60       380783    1.0  \n",
       "3         1659588       76.75      1273744    1.0  \n",
       "4         1727121       79.89      1379749    1.0  "
      ]
     },
     "execution_count": 3,
     "metadata": {},
     "output_type": "execute_result"
    }
   ],
   "source": [
    "#read the result dataset\n",
    "result = pd.read_csv('results.csv')\n",
    "result.head()"
   ]
  },
  {
   "cell_type": "code",
   "execution_count": 4,
   "id": "d12dfd78-9732-4791-a0b5-cf319fe21c67",
   "metadata": {},
   "outputs": [
    {
     "name": "stdout",
     "output_type": "stream",
     "text": [
      "<class 'pandas.core.frame.DataFrame'>\n",
      "RangeIndex: 550 entries, 0 to 549\n",
      "Data columns (total 8 columns):\n",
      " #   Column          Non-Null Count  Dtype  \n",
      "---  ------          --------------  -----  \n",
      " 0   _id             550 non-null    int64  \n",
      " 1   Sl No           543 non-null    float64\n",
      " 2   State           543 non-null    object \n",
      " 3   PC_Name         550 non-null    object \n",
      " 4   Total Electors  550 non-null    int64  \n",
      " 5   Polled (%)      550 non-null    float64\n",
      " 6   Total Votes     550 non-null    int64  \n",
      " 7   Phase           492 non-null    float64\n",
      "dtypes: float64(3), int64(3), object(2)\n",
      "memory usage: 34.5+ KB\n"
     ]
    }
   ],
   "source": [
    "result.info()"
   ]
  },
  {
   "cell_type": "markdown",
   "id": "25f301e3-4ed3-44b6-b7c3-7987fdf0d3e3",
   "metadata": {},
   "source": [
    "**Since each phase's total information was included in the preceding rows of subsequent phases in the dataset, we deleted these entries to prevent unwanted consequences.**"
   ]
  },
  {
   "cell_type": "code",
   "execution_count": 5,
   "id": "d37a64f9-8886-4dab-9f82-e2c526bb544e",
   "metadata": {},
   "outputs": [],
   "source": [
    "result = result.drop(result[result['PC_Name'] == 'Phase 1 Total'].index)"
   ]
  },
  {
   "cell_type": "code",
   "execution_count": 6,
   "id": "b500849b-c4b3-48f6-9920-21697bdb3969",
   "metadata": {},
   "outputs": [],
   "source": [
    "result = result.drop(result[result['PC_Name'] == 'Phase 2 Total'].index)"
   ]
  },
  {
   "cell_type": "code",
   "execution_count": 7,
   "id": "c80bddd8-d2d6-402b-b637-8ce953b56ae0",
   "metadata": {},
   "outputs": [],
   "source": [
    "result = result.drop(result[result['PC_Name'] == 'Phase 3 Total'].index)"
   ]
  },
  {
   "cell_type": "code",
   "execution_count": 8,
   "id": "8aed1057-049b-4b6d-a58f-9ab3eff794fe",
   "metadata": {},
   "outputs": [],
   "source": [
    "result = result.drop(result[result['PC_Name'] == 'Phase 4 Total'].index)"
   ]
  },
  {
   "cell_type": "code",
   "execution_count": 9,
   "id": "6907da72-42db-4759-8998-5cf90aa400db",
   "metadata": {},
   "outputs": [],
   "source": [
    "result = result.drop(result[result['PC_Name'] == 'Phase 5 Total'].index)"
   ]
  },
  {
   "cell_type": "code",
   "execution_count": 10,
   "id": "3e711db9-fcc8-41e9-b518-295b3b2f6335",
   "metadata": {},
   "outputs": [],
   "source": [
    "result = result.drop(result[result['PC_Name'] == 'Phase 6 Total'].index)"
   ]
  },
  {
   "cell_type": "code",
   "execution_count": 11,
   "id": "d552ae61-ac43-4c2e-899a-a0feffa39015",
   "metadata": {},
   "outputs": [],
   "source": [
    "result = result.drop(result[result['PC_Name'] == 'Phase 7 Total'].index)"
   ]
  },
  {
   "cell_type": "markdown",
   "id": "5ec1b015-f951-41db-bf25-32415ec08ce4",
   "metadata": {},
   "source": [
    "**Since Phase 7(i.e.,the last phase) was filled with NaN values in Phase Column, we filled the Phase column with 7 to correct this.**"
   ]
  },
  {
   "cell_type": "code",
   "execution_count": 12,
   "id": "dd1561a1-51f7-45ee-b256-d2e904689c83",
   "metadata": {},
   "outputs": [],
   "source": [
    "result['Phase'] = result['Phase'].fillna(7)"
   ]
  },
  {
   "cell_type": "code",
   "execution_count": 13,
   "id": "bf78931b-11db-42d7-b6de-7928963bda34",
   "metadata": {},
   "outputs": [
    {
     "name": "stdout",
     "output_type": "stream",
     "text": [
      "<class 'pandas.core.frame.DataFrame'>\n",
      "Index: 543 entries, 0 to 548\n",
      "Data columns (total 8 columns):\n",
      " #   Column          Non-Null Count  Dtype  \n",
      "---  ------          --------------  -----  \n",
      " 0   _id             543 non-null    int64  \n",
      " 1   Sl No           543 non-null    float64\n",
      " 2   State           543 non-null    object \n",
      " 3   PC_Name         543 non-null    object \n",
      " 4   Total Electors  543 non-null    int64  \n",
      " 5   Polled (%)      543 non-null    float64\n",
      " 6   Total Votes     543 non-null    int64  \n",
      " 7   Phase           543 non-null    float64\n",
      "dtypes: float64(3), int64(3), object(2)\n",
      "memory usage: 38.2+ KB\n"
     ]
    }
   ],
   "source": [
    "result.info()"
   ]
  },
  {
   "cell_type": "code",
   "execution_count": 14,
   "id": "0b0bcf4d-5c24-4e1b-8e12-e4b46cdbf633",
   "metadata": {},
   "outputs": [
    {
     "data": {
      "text/html": [
       "<div>\n",
       "<style scoped>\n",
       "    .dataframe tbody tr th:only-of-type {\n",
       "        vertical-align: middle;\n",
       "    }\n",
       "\n",
       "    .dataframe tbody tr th {\n",
       "        vertical-align: top;\n",
       "    }\n",
       "\n",
       "    .dataframe thead th {\n",
       "        text-align: right;\n",
       "    }\n",
       "</style>\n",
       "<table border=\"1\" class=\"dataframe\">\n",
       "  <thead>\n",
       "    <tr style=\"text-align: right;\">\n",
       "      <th></th>\n",
       "      <th>Location name</th>\n",
       "      <th>Amount spent (INR)</th>\n",
       "    </tr>\n",
       "  </thead>\n",
       "  <tbody>\n",
       "    <tr>\n",
       "      <th>0</th>\n",
       "      <td>Andaman and Nicobar Islands</td>\n",
       "      <td>377858</td>\n",
       "    </tr>\n",
       "    <tr>\n",
       "      <th>1</th>\n",
       "      <td>Andhra Pradesh</td>\n",
       "      <td>100819732</td>\n",
       "    </tr>\n",
       "    <tr>\n",
       "      <th>2</th>\n",
       "      <td>Arunachal Pradesh</td>\n",
       "      <td>1385654</td>\n",
       "    </tr>\n",
       "    <tr>\n",
       "      <th>3</th>\n",
       "      <td>Assam</td>\n",
       "      <td>17478091</td>\n",
       "    </tr>\n",
       "    <tr>\n",
       "      <th>4</th>\n",
       "      <td>Bihar</td>\n",
       "      <td>53619242</td>\n",
       "    </tr>\n",
       "  </tbody>\n",
       "</table>\n",
       "</div>"
      ],
      "text/plain": [
       "                 Location name  Amount spent (INR)\n",
       "0  Andaman and Nicobar Islands              377858\n",
       "1               Andhra Pradesh           100819732\n",
       "2            Arunachal Pradesh             1385654\n",
       "3                        Assam            17478091\n",
       "4                        Bihar            53619242"
      ]
     },
     "execution_count": 14,
     "metadata": {},
     "output_type": "execute_result"
    }
   ],
   "source": [
    "#read the location dataset\n",
    "location = pd.read_csv('locations.csv')\n",
    "location.head()"
   ]
  },
  {
   "cell_type": "code",
   "execution_count": 15,
   "id": "151694e3-aff4-4afa-905e-ab26db66ef1d",
   "metadata": {},
   "outputs": [
    {
     "name": "stdout",
     "output_type": "stream",
     "text": [
      "<class 'pandas.core.frame.DataFrame'>\n",
      "RangeIndex: 36 entries, 0 to 35\n",
      "Data columns (total 2 columns):\n",
      " #   Column              Non-Null Count  Dtype \n",
      "---  ------              --------------  ----- \n",
      " 0   Location name       36 non-null     object\n",
      " 1   Amount spent (INR)  36 non-null     int64 \n",
      "dtypes: int64(1), object(1)\n",
      "memory usage: 708.0+ bytes\n"
     ]
    }
   ],
   "source": [
    "location.info()"
   ]
  },
  {
   "cell_type": "code",
   "execution_count": 16,
   "id": "88f9dbbe-9a80-4403-b0d4-37ed67975a1b",
   "metadata": {},
   "outputs": [
    {
     "data": {
      "text/plain": [
       "array(['Andaman and Nicobar Islands', 'Andhra Pradesh',\n",
       "       'Arunachal Pradesh', 'Assam', 'Bihar', 'Chandigarh',\n",
       "       'Chhattisgarh', 'Dadra and Nagar Haveli', 'Delhi', 'Goa',\n",
       "       'Gujarat', 'Haryana', 'Himachal Pradesh', 'Jammu and Kashmir',\n",
       "       'Jharkhand', 'Karnataka', 'Kerala', 'Lakshadweep',\n",
       "       'Madhya Pradesh', 'Maharashtra', 'Manipur', 'Meghalaya', 'Mizoram',\n",
       "       'Nagaland', 'Odisha', 'Puducherry', 'Punjab region', 'Rajasthan',\n",
       "       'Sikkim', 'Tamil Nadu', 'Telangana', 'Tripura', 'Unknown',\n",
       "       'Uttar Pradesh', 'Uttarakhand', 'West Bengal'], dtype=object)"
      ]
     },
     "execution_count": 16,
     "metadata": {},
     "output_type": "execute_result"
    }
   ],
   "source": [
    "location['Location name'].unique()"
   ]
  },
  {
   "cell_type": "markdown",
   "id": "5aa58ad1-59ac-420c-b726-c676f5d4145e",
   "metadata": {},
   "source": [
    "*Renaming location names in the **location dataset** to match those in the **result dataset** for easier analysis {'Andaman and Nicobar Islands': 'Andaman & Nicobar Islands', 'Delhi': 'NCT of Delhi', 'Dadra and Nagar Haveli': 'Dadra & Nagar Haveli and Daman & Diu', 'Punjab region': 'Punjab'}*"
   ]
  },
  {
   "cell_type": "code",
   "execution_count": 17,
   "id": "5906dc39-f20f-44d6-b110-5ac2f5652574",
   "metadata": {},
   "outputs": [],
   "source": [
    "location['Location name'].replace({'Andaman and Nicobar Islands': 'Andaman & Nicobar Islands', 'Delhi': 'NCT of Delhi','Dadra and Nagar Haveli': 'Dadra & Nagar Haveli and\\ndaman & diu', 'Punjab region': 'Punjab'}, inplace=True)"
   ]
  },
  {
   "cell_type": "code",
   "execution_count": 18,
   "id": "e9f2fff6-8bca-4466-9f9c-2cd3fd7d3388",
   "metadata": {},
   "outputs": [
    {
     "name": "stdout",
     "output_type": "stream",
     "text": [
      "<class 'pandas.core.frame.DataFrame'>\n",
      "RangeIndex: 20832 entries, 0 to 20831\n",
      "Data columns (total 5 columns):\n",
      " #   Column                    Non-Null Count  Dtype \n",
      "---  ------                    --------------  ----- \n",
      " 0   Page ID                   20832 non-null  int64 \n",
      " 1   Page name                 20832 non-null  object\n",
      " 2   Disclaimer                20832 non-null  object\n",
      " 3   Amount spent (INR)        20832 non-null  object\n",
      " 4   Number of ads in Library  20832 non-null  int64 \n",
      "dtypes: int64(2), object(3)\n",
      "memory usage: 813.9+ KB\n"
     ]
    }
   ],
   "source": [
    "#read the advetise dataset\n",
    "advetise = pd.read_csv('advertisers.csv')\n",
    "advetise.info()"
   ]
  },
  {
   "cell_type": "code",
   "execution_count": 19,
   "id": "6c6d7cbe-eeb3-436c-8819-6f8375691696",
   "metadata": {},
   "outputs": [
    {
     "name": "stdout",
     "output_type": "stream",
     "text": [
      "<class 'pandas.core.frame.DataFrame'>\n",
      "RangeIndex: 20832 entries, 0 to 20831\n",
      "Data columns (total 5 columns):\n",
      " #   Column                    Non-Null Count  Dtype \n",
      "---  ------                    --------------  ----- \n",
      " 0   Page ID                   20832 non-null  int64 \n",
      " 1   Page name                 20832 non-null  object\n",
      " 2   Disclaimer                20832 non-null  object\n",
      " 3   Amount spent (INR)        20832 non-null  object\n",
      " 4   Number of ads in Library  20832 non-null  int64 \n",
      "dtypes: int64(2), object(3)\n",
      "memory usage: 813.9+ KB\n"
     ]
    }
   ],
   "source": [
    "advetise.info()"
   ]
  },
  {
   "cell_type": "markdown",
   "id": "dc237002-f532-4066-b12a-9fe9898074c6",
   "metadata": {},
   "source": [
    "**Though there wasn't proper information about Territory Ladakh in the location dataset, we removed it from the result dataset to simplify further analysis.**"
   ]
  },
  {
   "cell_type": "code",
   "execution_count": 20,
   "id": "2d31f77a-7307-4be4-8b81-65f61860f1ee",
   "metadata": {},
   "outputs": [],
   "source": [
    "result = result[result['State'] != 'Ladakh']"
   ]
  },
  {
   "cell_type": "markdown",
   "id": "fc57cb31-5448-47d4-85bd-93418eb4874c",
   "metadata": {},
   "source": [
    "*Converted the matching columns of the ***result*** and ***location datasets*** ('State' and 'Location name') to lowercase and remove any unnecessary spaces.*"
   ]
  },
  {
   "cell_type": "code",
   "execution_count": 21,
   "id": "00c7b22a-29fe-4ada-ad71-f56f97bace2e",
   "metadata": {},
   "outputs": [],
   "source": [
    "result['State'] = result['State'].str.strip().str.lower()\n",
    "location['Location name'] = location['Location name'].str.strip().str.lower()"
   ]
  },
  {
   "cell_type": "markdown",
   "id": "48a55667-f9c7-4cef-b6bb-e3e3476c61d7",
   "metadata": {},
   "source": [
    "*Renamed the column Location name in the ***location dataset*** to 'State' to facilitate easier merging with the ***result dataset***.*"
   ]
  },
  {
   "cell_type": "code",
   "execution_count": 22,
   "id": "e02825f1-3b21-41e0-ab84-4bf42390cc80",
   "metadata": {},
   "outputs": [],
   "source": [
    "location.rename(columns={'Location name': 'State'}, inplace=True)"
   ]
  },
  {
   "cell_type": "markdown",
   "id": "91572a23-c569-4c2f-a333-4bf154c33b58",
   "metadata": {},
   "source": [
    "*Merged the ***result dataset*** with the ***location dataset*** based on the 'State' column. \n",
    "This allows for combining election information in terms of each state. The resulting ***merged_data DataFrame*** contain all columns from result and additional columns from location where matching 'State' values are found.*"
   ]
  },
  {
   "cell_type": "code",
   "execution_count": 23,
   "id": "f3c77131-fd6d-49ac-8014-a203a4eaa286",
   "metadata": {},
   "outputs": [],
   "source": [
    "merged_data = pd.merge(result, location, on='State', how='left')"
   ]
  },
  {
   "cell_type": "code",
   "execution_count": 24,
   "id": "49671274-065e-4371-bb62-d91a61fa6363",
   "metadata": {},
   "outputs": [
    {
     "data": {
      "text/html": [
       "<div>\n",
       "<style scoped>\n",
       "    .dataframe tbody tr th:only-of-type {\n",
       "        vertical-align: middle;\n",
       "    }\n",
       "\n",
       "    .dataframe tbody tr th {\n",
       "        vertical-align: top;\n",
       "    }\n",
       "\n",
       "    .dataframe thead th {\n",
       "        text-align: right;\n",
       "    }\n",
       "</style>\n",
       "<table border=\"1\" class=\"dataframe\">\n",
       "  <thead>\n",
       "    <tr style=\"text-align: right;\">\n",
       "      <th></th>\n",
       "      <th>_id</th>\n",
       "      <th>Sl No</th>\n",
       "      <th>State</th>\n",
       "      <th>PC_Name</th>\n",
       "      <th>Total Electors</th>\n",
       "      <th>Polled (%)</th>\n",
       "      <th>Total Votes</th>\n",
       "      <th>Phase</th>\n",
       "      <th>Amount spent (INR)</th>\n",
       "    </tr>\n",
       "  </thead>\n",
       "  <tbody>\n",
       "    <tr>\n",
       "      <th>0</th>\n",
       "      <td>1</td>\n",
       "      <td>1.0</td>\n",
       "      <td>andaman &amp; nicobar islands</td>\n",
       "      <td>Andaman &amp; Nicobar Islands</td>\n",
       "      <td>315148</td>\n",
       "      <td>64.10</td>\n",
       "      <td>202018</td>\n",
       "      <td>1.0</td>\n",
       "      <td>377858</td>\n",
       "    </tr>\n",
       "    <tr>\n",
       "      <th>1</th>\n",
       "      <td>2</td>\n",
       "      <td>2.0</td>\n",
       "      <td>arunachal pradesh</td>\n",
       "      <td>Arunachal East</td>\n",
       "      <td>375310</td>\n",
       "      <td>83.31</td>\n",
       "      <td>312658</td>\n",
       "      <td>1.0</td>\n",
       "      <td>1385654</td>\n",
       "    </tr>\n",
       "    <tr>\n",
       "      <th>2</th>\n",
       "      <td>3</td>\n",
       "      <td>3.0</td>\n",
       "      <td>arunachal pradesh</td>\n",
       "      <td>Arunachal West</td>\n",
       "      <td>517384</td>\n",
       "      <td>73.60</td>\n",
       "      <td>380783</td>\n",
       "      <td>1.0</td>\n",
       "      <td>1385654</td>\n",
       "    </tr>\n",
       "    <tr>\n",
       "      <th>3</th>\n",
       "      <td>4</td>\n",
       "      <td>4.0</td>\n",
       "      <td>assam</td>\n",
       "      <td>Dibrugarh</td>\n",
       "      <td>1659588</td>\n",
       "      <td>76.75</td>\n",
       "      <td>1273744</td>\n",
       "      <td>1.0</td>\n",
       "      <td>17478091</td>\n",
       "    </tr>\n",
       "    <tr>\n",
       "      <th>4</th>\n",
       "      <td>5</td>\n",
       "      <td>5.0</td>\n",
       "      <td>assam</td>\n",
       "      <td>Jorhat</td>\n",
       "      <td>1727121</td>\n",
       "      <td>79.89</td>\n",
       "      <td>1379749</td>\n",
       "      <td>1.0</td>\n",
       "      <td>17478091</td>\n",
       "    </tr>\n",
       "    <tr>\n",
       "      <th>...</th>\n",
       "      <td>...</td>\n",
       "      <td>...</td>\n",
       "      <td>...</td>\n",
       "      <td>...</td>\n",
       "      <td>...</td>\n",
       "      <td>...</td>\n",
       "      <td>...</td>\n",
       "      <td>...</td>\n",
       "      <td>...</td>\n",
       "    </tr>\n",
       "    <tr>\n",
       "      <th>537</th>\n",
       "      <td>545</td>\n",
       "      <td>53.0</td>\n",
       "      <td>west bengal</td>\n",
       "      <td>Jadavpur</td>\n",
       "      <td>2033525</td>\n",
       "      <td>76.68</td>\n",
       "      <td>1559330</td>\n",
       "      <td>7.0</td>\n",
       "      <td>77244996</td>\n",
       "    </tr>\n",
       "    <tr>\n",
       "      <th>538</th>\n",
       "      <td>546</td>\n",
       "      <td>54.0</td>\n",
       "      <td>west bengal</td>\n",
       "      <td>Joynagar</td>\n",
       "      <td>1844780</td>\n",
       "      <td>80.08</td>\n",
       "      <td>1477298</td>\n",
       "      <td>7.0</td>\n",
       "      <td>77244996</td>\n",
       "    </tr>\n",
       "    <tr>\n",
       "      <th>539</th>\n",
       "      <td>547</td>\n",
       "      <td>55.0</td>\n",
       "      <td>west bengal</td>\n",
       "      <td>Kolkata Dakshin</td>\n",
       "      <td>1849520</td>\n",
       "      <td>66.95</td>\n",
       "      <td>1238256</td>\n",
       "      <td>7.0</td>\n",
       "      <td>77244996</td>\n",
       "    </tr>\n",
       "    <tr>\n",
       "      <th>540</th>\n",
       "      <td>548</td>\n",
       "      <td>56.0</td>\n",
       "      <td>west bengal</td>\n",
       "      <td>Kolkata Uttar</td>\n",
       "      <td>1505356</td>\n",
       "      <td>63.59</td>\n",
       "      <td>957319</td>\n",
       "      <td>7.0</td>\n",
       "      <td>77244996</td>\n",
       "    </tr>\n",
       "    <tr>\n",
       "      <th>541</th>\n",
       "      <td>549</td>\n",
       "      <td>57.0</td>\n",
       "      <td>west bengal</td>\n",
       "      <td>Mathurapur</td>\n",
       "      <td>1817068</td>\n",
       "      <td>82.02</td>\n",
       "      <td>1490299</td>\n",
       "      <td>7.0</td>\n",
       "      <td>77244996</td>\n",
       "    </tr>\n",
       "  </tbody>\n",
       "</table>\n",
       "<p>542 rows × 9 columns</p>\n",
       "</div>"
      ],
      "text/plain": [
       "     _id  Sl No                      State                    PC_Name  \\\n",
       "0      1    1.0  andaman & nicobar islands  Andaman & Nicobar Islands   \n",
       "1      2    2.0          arunachal pradesh             Arunachal East   \n",
       "2      3    3.0          arunachal pradesh             Arunachal West   \n",
       "3      4    4.0                      assam                  Dibrugarh   \n",
       "4      5    5.0                      assam                     Jorhat   \n",
       "..   ...    ...                        ...                        ...   \n",
       "537  545   53.0                west bengal                   Jadavpur   \n",
       "538  546   54.0                west bengal                   Joynagar   \n",
       "539  547   55.0                west bengal            Kolkata Dakshin   \n",
       "540  548   56.0                west bengal              Kolkata Uttar   \n",
       "541  549   57.0                west bengal                 Mathurapur   \n",
       "\n",
       "     Total Electors  Polled (%)  Total Votes  Phase  Amount spent (INR)  \n",
       "0            315148       64.10       202018    1.0              377858  \n",
       "1            375310       83.31       312658    1.0             1385654  \n",
       "2            517384       73.60       380783    1.0             1385654  \n",
       "3           1659588       76.75      1273744    1.0            17478091  \n",
       "4           1727121       79.89      1379749    1.0            17478091  \n",
       "..              ...         ...          ...    ...                 ...  \n",
       "537         2033525       76.68      1559330    7.0            77244996  \n",
       "538         1844780       80.08      1477298    7.0            77244996  \n",
       "539         1849520       66.95      1238256    7.0            77244996  \n",
       "540         1505356       63.59       957319    7.0            77244996  \n",
       "541         1817068       82.02      1490299    7.0            77244996  \n",
       "\n",
       "[542 rows x 9 columns]"
      ]
     },
     "execution_count": 24,
     "metadata": {},
     "output_type": "execute_result"
    }
   ],
   "source": [
    "merged_data"
   ]
  },
  {
   "cell_type": "code",
   "execution_count": 25,
   "id": "f11bfe40-a08f-47c3-a20c-c755b6098060",
   "metadata": {},
   "outputs": [
    {
     "name": "stdout",
     "output_type": "stream",
     "text": [
      "<class 'pandas.core.frame.DataFrame'>\n",
      "RangeIndex: 542 entries, 0 to 541\n",
      "Data columns (total 9 columns):\n",
      " #   Column              Non-Null Count  Dtype  \n",
      "---  ------              --------------  -----  \n",
      " 0   _id                 542 non-null    int64  \n",
      " 1   Sl No               542 non-null    float64\n",
      " 2   State               542 non-null    object \n",
      " 3   PC_Name             542 non-null    object \n",
      " 4   Total Electors      542 non-null    int64  \n",
      " 5   Polled (%)          542 non-null    float64\n",
      " 6   Total Votes         542 non-null    int64  \n",
      " 7   Phase               542 non-null    float64\n",
      " 8   Amount spent (INR)  542 non-null    int64  \n",
      "dtypes: float64(3), int64(4), object(2)\n",
      "memory usage: 38.2+ KB\n"
     ]
    }
   ],
   "source": [
    "merged_data.info()"
   ]
  },
  {
   "cell_type": "markdown",
   "id": "e3ee90c4-16a9-4dd8-ba3f-97398e6ca3d0",
   "metadata": {},
   "source": [
    "# State and Union Territory[UT] ad spent and Voter Percentage Turnout"
   ]
  },
  {
   "cell_type": "markdown",
   "id": "0611a02a-50fb-444c-8d53-6ed305ae6b7d",
   "metadata": {},
   "source": [
    "**Created a DataFrame** based on Calculated total advertising expenditure ***(`Amount spent (INR)`)*** for each state by grouping by ***(`State`)***, summing the expenditures, and resetting the index for clarity in further analysis.*"
   ]
  },
  {
   "cell_type": "code",
   "execution_count": 26,
   "id": "7f7db983-497c-4486-a96f-cbd349a79494",
   "metadata": {},
   "outputs": [
    {
     "data": {
      "text/html": [
       "<div>\n",
       "<style scoped>\n",
       "    .dataframe tbody tr th:only-of-type {\n",
       "        vertical-align: middle;\n",
       "    }\n",
       "\n",
       "    .dataframe tbody tr th {\n",
       "        vertical-align: top;\n",
       "    }\n",
       "\n",
       "    .dataframe thead th {\n",
       "        text-align: right;\n",
       "    }\n",
       "</style>\n",
       "<table border=\"1\" class=\"dataframe\">\n",
       "  <thead>\n",
       "    <tr style=\"text-align: right;\">\n",
       "      <th></th>\n",
       "      <th>State</th>\n",
       "      <th>Amount spent (INR)</th>\n",
       "    </tr>\n",
       "  </thead>\n",
       "  <tbody>\n",
       "    <tr>\n",
       "      <th>0</th>\n",
       "      <td>andaman &amp; nicobar islands</td>\n",
       "      <td>377858</td>\n",
       "    </tr>\n",
       "    <tr>\n",
       "      <th>1</th>\n",
       "      <td>andhra pradesh</td>\n",
       "      <td>2520493300</td>\n",
       "    </tr>\n",
       "    <tr>\n",
       "      <th>2</th>\n",
       "      <td>arunachal pradesh</td>\n",
       "      <td>2771308</td>\n",
       "    </tr>\n",
       "    <tr>\n",
       "      <th>3</th>\n",
       "      <td>assam</td>\n",
       "      <td>244693274</td>\n",
       "    </tr>\n",
       "    <tr>\n",
       "      <th>4</th>\n",
       "      <td>bihar</td>\n",
       "      <td>2144769680</td>\n",
       "    </tr>\n",
       "  </tbody>\n",
       "</table>\n",
       "</div>"
      ],
      "text/plain": [
       "                       State  Amount spent (INR)\n",
       "0  andaman & nicobar islands              377858\n",
       "1             andhra pradesh          2520493300\n",
       "2          arunachal pradesh             2771308\n",
       "3                      assam           244693274\n",
       "4                      bihar          2144769680"
      ]
     },
     "execution_count": 26,
     "metadata": {},
     "output_type": "execute_result"
    }
   ],
   "source": [
    "state_ad_spend = merged_data.groupby('State')['Amount spent (INR)'].sum().reset_index()\n",
    "state_ad_spend.head()"
   ]
  },
  {
   "cell_type": "code",
   "execution_count": 27,
   "id": "ca8b2ae2-6b13-4e8b-b350-626df9d96dcb",
   "metadata": {},
   "outputs": [
    {
     "data": {
      "image/svg+xml": [
       "<svg class=\"main-svg\" xmlns=\"http://www.w3.org/2000/svg\" xmlns:xlink=\"http://www.w3.org/1999/xlink\" width=\"1000\" height=\"800\" style=\"\" viewBox=\"0 0 1000 800\"><rect x=\"0\" y=\"0\" width=\"1000\" height=\"800\" style=\"fill: rgb(255, 255, 255); fill-opacity: 1;\"/><defs id=\"defs-3a0e9a\"><g class=\"clips\"><clipPath id=\"clip3a0e9axyplot\" class=\"plotclip\"><rect width=\"761\" height=\"426\"/></clipPath><clipPath class=\"axesclip\" id=\"clip3a0e9ax\"><rect x=\"80\" y=\"0\" width=\"761\" height=\"800\"/></clipPath><clipPath class=\"axesclip\" id=\"clip3a0e9ay\"><rect x=\"0\" y=\"100\" width=\"1000\" height=\"426\"/></clipPath><clipPath class=\"axesclip\" id=\"clip3a0e9axy\"><rect x=\"80\" y=\"100\" width=\"761\" height=\"426\"/></clipPath></g><g class=\"gradients\"><linearGradient x1=\"0\" x2=\"0\" y1=\"1\" y2=\"0\" id=\"g3a0e9a-cbcoloraxis\"><stop offset=\"0%\" stop-color=\"rgb(103, 0, 31)\" stop-opacity=\"1\"/><stop offset=\"10%\" stop-color=\"rgb(178, 24, 43)\" stop-opacity=\"1\"/><stop offset=\"20%\" stop-color=\"rgb(214, 96, 77)\" stop-opacity=\"1\"/><stop offset=\"30%\" stop-color=\"rgb(244, 165, 130)\" stop-opacity=\"1\"/><stop offset=\"40%\" stop-color=\"rgb(253, 219, 199)\" stop-opacity=\"1\"/><stop offset=\"50%\" stop-color=\"rgb(247, 247, 247)\" stop-opacity=\"1\"/><stop offset=\"60%\" stop-color=\"rgb(209, 229, 240)\" stop-opacity=\"1\"/><stop offset=\"70%\" stop-color=\"rgb(146, 197, 222)\" stop-opacity=\"1\"/><stop offset=\"80%\" stop-color=\"rgb(67, 147, 195)\" stop-opacity=\"1\"/><stop offset=\"90%\" stop-color=\"rgb(33, 102, 172)\" stop-opacity=\"1\"/><stop offset=\"100%\" stop-color=\"rgb(5, 48, 97)\" stop-opacity=\"1\"/></linearGradient></g><g class=\"patterns\"/></defs><g class=\"bglayer\"/><g class=\"layer-below\"><g class=\"imagelayer\"/><g class=\"shapelayer\"/></g><g class=\"cartesianlayer\"><g class=\"subplot xy\"><g class=\"layer-subplot\"><g class=\"shapelayer\"/><g class=\"imagelayer\"/></g><g class=\"minor-gridlayer\"><g class=\"x\"/><g class=\"y\"/></g><g class=\"gridlayer\"><g class=\"x\"/><g class=\"y\"><path class=\"ygrid crisp\" transform=\"translate(0,469.58)\" d=\"M80,0h761\" style=\"stroke: rgb(235, 240, 248); stroke-opacity: 1; stroke-width: 1px;\"/><path class=\"ygrid crisp\" transform=\"translate(0,413.17)\" d=\"M80,0h761\" style=\"stroke: rgb(235, 240, 248); stroke-opacity: 1; stroke-width: 1px;\"/><path class=\"ygrid crisp\" transform=\"translate(0,356.75)\" d=\"M80,0h761\" style=\"stroke: rgb(235, 240, 248); stroke-opacity: 1; stroke-width: 1px;\"/><path class=\"ygrid crisp\" transform=\"translate(0,300.33000000000004)\" d=\"M80,0h761\" style=\"stroke: rgb(235, 240, 248); stroke-opacity: 1; stroke-width: 1px;\"/><path class=\"ygrid crisp\" transform=\"translate(0,243.92)\" d=\"M80,0h761\" style=\"stroke: rgb(235, 240, 248); stroke-opacity: 1; stroke-width: 1px;\"/><path class=\"ygrid crisp\" transform=\"translate(0,187.5)\" d=\"M80,0h761\" style=\"stroke: rgb(235, 240, 248); stroke-opacity: 1; stroke-width: 1px;\"/><path class=\"ygrid crisp\" transform=\"translate(0,131.09)\" d=\"M80,0h761\" style=\"stroke: rgb(235, 240, 248); stroke-opacity: 1; stroke-width: 1px;\"/></g></g><g class=\"zerolinelayer\"><path class=\"yzl zl crisp\" transform=\"translate(0,526)\" d=\"M80,0h761\" style=\"stroke: rgb(235, 240, 248); stroke-opacity: 1; stroke-width: 2px;\"/></g><path class=\"xlines-below\"/><path class=\"ylines-below\"/><g class=\"overlines-below\"/><g class=\"xaxislayer-below\"/><g class=\"yaxislayer-below\"/><g class=\"overaxes-below\"/><g class=\"plot\" transform=\"translate(80,100)\" clip-path=\"url(#clip3a0e9axyplot)\"><g class=\"barlayer mlayer\"><g class=\"trace bars\" style=\"opacity: 1;\"><g class=\"points\"><g class=\"point\"><path d=\"M719.69,426V425.98H737.08V426Z\" style=\"vector-effect: non-scaling-stroke; opacity: 1; stroke-width: 0.5px; fill: rgb(103, 0, 31); fill-opacity: 1; stroke: rgb(255, 255, 255); stroke-opacity: 1;\"/></g><g class=\"point\"><path d=\"M110.89,426V283.8H128.28V426Z\" style=\"vector-effect: non-scaling-stroke; opacity: 1; stroke-width: 0.5px; fill: rgb(249, 193, 165); fill-opacity: 1; stroke: rgb(255, 255, 255); stroke-opacity: 1;\"/></g><g class=\"point\"><path d=\"M567.49,426V425.84H584.88V426Z\" style=\"vector-effect: non-scaling-stroke; opacity: 1; stroke-width: 0.5px; fill: rgb(103, 0, 31); fill-opacity: 1; stroke: rgb(255, 255, 255); stroke-opacity: 1;\"/></g><g class=\"point\"><path d=\"M350.06,426V412.2H367.45V426Z\" style=\"vector-effect: non-scaling-stroke; opacity: 1; stroke-width: 0.5px; fill: rgb(129, 8, 35); fill-opacity: 1; stroke: rgb(255, 255, 255); stroke-opacity: 1;\"/></g><g class=\"point\"><path d=\"M132.63,426V305H150.03V426Z\" style=\"vector-effect: non-scaling-stroke; opacity: 1; stroke-width: 0.5px; fill: rgb(244, 164, 129); fill-opacity: 1; stroke: rgb(255, 255, 255); stroke-opacity: 1;\"/></g><g class=\"point\"><path d=\"M480.52,426V425.63H497.91V426Z\" style=\"vector-effect: non-scaling-stroke; opacity: 1; stroke-width: 0.5px; fill: rgb(104, 0, 31); fill-opacity: 1; stroke: rgb(255, 255, 255); stroke-opacity: 1;\"/></g><g class=\"point\"><path d=\"M393.55,426V416.81H410.94V426Z\" style=\"vector-effect: non-scaling-stroke; opacity: 1; stroke-width: 0.5px; fill: rgb(120, 5, 34); fill-opacity: 1; stroke: rgb(255, 255, 255); stroke-opacity: 1;\"/></g><g class=\"point\"><path d=\"M654.46,426V425.93H671.85V426Z\" style=\"vector-effect: non-scaling-stroke; opacity: 1; stroke-width: 0.5px; fill: rgb(103, 0, 31); fill-opacity: 1; stroke: rgb(255, 255, 255); stroke-opacity: 1;\"/></g><g class=\"point\"><path d=\"M524,426V425.76H541.4V426Z\" style=\"vector-effect: non-scaling-stroke; opacity: 1; stroke-width: 0.5px; fill: rgb(103, 0, 31); fill-opacity: 1; stroke: rgb(255, 255, 255); stroke-opacity: 1;\"/></g><g class=\"point\"><path d=\"M219.6,426V368.98H237V426Z\" style=\"vector-effect: non-scaling-stroke; opacity: 1; stroke-width: 0.5px; fill: rgb(193, 53, 57); fill-opacity: 1; stroke: rgb(255, 255, 255); stroke-opacity: 1;\"/></g><g class=\"point\"><path d=\"M306.57,426V402.48H323.97V426Z\" style=\"vector-effect: non-scaling-stroke; opacity: 1; stroke-width: 0.5px; fill: rgb(147, 14, 38); fill-opacity: 1; stroke: rgb(255, 255, 255); stroke-opacity: 1;\"/></g><g class=\"point\"><path d=\"M415.29,426V423.29H432.68V426Z\" style=\"vector-effect: non-scaling-stroke; opacity: 1; stroke-width: 0.5px; fill: rgb(108, 2, 32); fill-opacity: 1; stroke: rgb(255, 255, 255); stroke-opacity: 1;\"/></g><g class=\"point\"><path d=\"M458.77,426V424.15H476.17V426Z\" style=\"vector-effect: non-scaling-stroke; opacity: 1; stroke-width: 0.5px; fill: rgb(106, 1, 32); fill-opacity: 1; stroke: rgb(255, 255, 255); stroke-opacity: 1;\"/></g><g class=\"point\"><path d=\"M371.8,426V413.06H389.2V426Z\" style=\"vector-effect: non-scaling-stroke; opacity: 1; stroke-width: 0.5px; fill: rgb(127, 8, 35); fill-opacity: 1; stroke: rgb(255, 255, 255); stroke-opacity: 1;\"/></g><g class=\"point\"><path d=\"M154.37,426V360.19H171.77V426Z\" style=\"vector-effect: non-scaling-stroke; opacity: 1; stroke-width: 0.5px; fill: rgb(201, 69, 64); fill-opacity: 1; stroke: rgb(255, 255, 255); stroke-opacity: 1;\"/></g><g class=\"point\"><path d=\"M284.83,426V400.41H302.23V426Z\" style=\"vector-effect: non-scaling-stroke; opacity: 1; stroke-width: 0.5px; fill: rgb(150, 15, 39); fill-opacity: 1; stroke: rgb(255, 255, 255); stroke-opacity: 1;\"/></g><g class=\"point\"><path d=\"M741.43,426V426H758.83V426Z\" style=\"vector-effect: non-scaling-stroke; opacity: 1; stroke-width: 0.5px; fill: rgb(103, 0, 31); fill-opacity: 1; stroke: rgb(255, 255, 255); stroke-opacity: 1;\"/></g><g class=\"point\"><path d=\"M176.12,426V360.57H193.51V426Z\" style=\"vector-effect: non-scaling-stroke; opacity: 1; stroke-width: 0.5px; fill: rgb(200, 68, 64); fill-opacity: 1; stroke: rgb(255, 255, 255); stroke-opacity: 1;\"/></g><g class=\"point\"><path d=\"M23.92,426V150.01H41.31V426Z\" style=\"vector-effect: non-scaling-stroke; opacity: 1; stroke-width: 0.5px; fill: rgb(157, 203, 225); fill-opacity: 1; stroke: rgb(255, 255, 255); stroke-opacity: 1;\"/></g><g class=\"point\"><path d=\"M589.23,426V425.85H606.63V426Z\" style=\"vector-effect: non-scaling-stroke; opacity: 1; stroke-width: 0.5px; fill: rgb(103, 0, 31); fill-opacity: 1; stroke: rgb(255, 255, 255); stroke-opacity: 1;\"/></g><g class=\"point\"><path d=\"M610.97,426V425.9H628.37V426Z\" style=\"vector-effect: non-scaling-stroke; opacity: 1; stroke-width: 0.5px; fill: rgb(103, 0, 31); fill-opacity: 1; stroke: rgb(255, 255, 255); stroke-opacity: 1;\"/></g><g class=\"point\"><path d=\"M697.95,426V425.97H715.34V426Z\" style=\"vector-effect: non-scaling-stroke; opacity: 1; stroke-width: 0.5px; fill: rgb(103, 0, 31); fill-opacity: 1; stroke: rgb(255, 255, 255); stroke-opacity: 1;\"/></g><g class=\"point\"><path d=\"M676.2,426V425.97H693.6V426Z\" style=\"vector-effect: non-scaling-stroke; opacity: 1; stroke-width: 0.5px; fill: rgb(103, 0, 31); fill-opacity: 1; stroke: rgb(255, 255, 255); stroke-opacity: 1;\"/></g><g class=\"point\"><path d=\"M328.32,426V409.04H345.71V426Z\" style=\"vector-effect: non-scaling-stroke; opacity: 1; stroke-width: 0.5px; fill: rgb(134, 10, 36); fill-opacity: 1; stroke: rgb(255, 255, 255); stroke-opacity: 1;\"/></g><g class=\"point\"><path d=\"M45.66,426V212.45H63.05V426Z\" style=\"vector-effect: non-scaling-stroke; opacity: 1; stroke-width: 0.5px; fill: rgb(236, 242, 245); fill-opacity: 1; stroke: rgb(255, 255, 255); stroke-opacity: 1;\"/></g><g class=\"point\"><path d=\"M632.72,426V425.91H650.11V426Z\" style=\"vector-effect: non-scaling-stroke; opacity: 1; stroke-width: 0.5px; fill: rgb(103, 0, 31); fill-opacity: 1; stroke: rgb(255, 255, 255); stroke-opacity: 1;\"/></g><g class=\"point\"><path d=\"M263.09,426V388.27H280.48V426Z\" style=\"vector-effect: non-scaling-stroke; opacity: 1; stroke-width: 0.5px; fill: rgb(173, 22, 42); fill-opacity: 1; stroke: rgb(255, 255, 255); stroke-opacity: 1;\"/></g><g class=\"point\"><path d=\"M197.86,426V367.79H215.25V426Z\" style=\"vector-effect: non-scaling-stroke; opacity: 1; stroke-width: 0.5px; fill: rgb(194, 56, 58); fill-opacity: 1; stroke: rgb(255, 255, 255); stroke-opacity: 1;\"/></g><g class=\"point\"><path d=\"M502.26,426V425.75H519.65V426Z\" style=\"vector-effect: non-scaling-stroke; opacity: 1; stroke-width: 0.5px; fill: rgb(103, 0, 31); fill-opacity: 1; stroke: rgb(255, 255, 255); stroke-opacity: 1;\"/></g><g class=\"point\"><path d=\"M89.15,426V257.41H106.54V426Z\" style=\"vector-effect: non-scaling-stroke; opacity: 1; stroke-width: 0.5px; fill: rgb(252, 224, 207); fill-opacity: 1; stroke: rgb(255, 255, 255); stroke-opacity: 1;\"/></g><g class=\"point\"><path d=\"M241.35,426V373.73H258.74V426Z\" style=\"vector-effect: non-scaling-stroke; opacity: 1; stroke-width: 0.5px; fill: rgb(188, 45, 53); fill-opacity: 1; stroke: rgb(255, 255, 255); stroke-opacity: 1;\"/></g><g class=\"point\"><path d=\"M545.75,426V425.79H563.14V426Z\" style=\"vector-effect: non-scaling-stroke; opacity: 1; stroke-width: 0.5px; fill: rgb(103, 0, 31); fill-opacity: 1; stroke: rgb(255, 255, 255); stroke-opacity: 1;\"/></g><g class=\"point\"><path d=\"M2.17,426V21.3H19.57V426Z\" style=\"vector-effect: non-scaling-stroke; opacity: 1; stroke-width: 0.5px; fill: rgb(5, 48, 97); fill-opacity: 1; stroke: rgb(255, 255, 255); stroke-opacity: 1;\"/></g><g class=\"point\"><path d=\"M437.03,426V423.99H454.43V426Z\" style=\"vector-effect: non-scaling-stroke; opacity: 1; stroke-width: 0.5px; fill: rgb(107, 1, 32); fill-opacity: 1; stroke: rgb(255, 255, 255); stroke-opacity: 1;\"/></g><g class=\"point\"><path d=\"M67.4,426V242.97H84.8V426Z\" style=\"vector-effect: non-scaling-stroke; opacity: 1; stroke-width: 0.5px; fill: rgb(250, 234, 224); fill-opacity: 1; stroke: rgb(255, 255, 255); stroke-opacity: 1;\"/></g></g></g></g></g><g class=\"overplot\"/><path class=\"xlines-above crisp\" d=\"M0,0\" style=\"fill: none;\"/><path class=\"ylines-above crisp\" d=\"M0,0\" style=\"fill: none;\"/><g class=\"overlines-above\"/><g class=\"xaxislayer-above\"><g class=\"xtick\"><text text-anchor=\"end\" x=\"-2.0999999999999996\" y=\"535.4\" transform=\"translate(90.87,0) rotate(-90,-2.0999999999999996,529.4)\" style=\"font-family: 'Open Sans', verdana, arial, sans-serif; font-size: 12px; fill: rgb(42, 63, 95); fill-opacity: 1; white-space: pre; opacity: 1;\">uttar pradesh</text></g><g class=\"xtick\"><text text-anchor=\"end\" x=\"-2.0999999999999996\" y=\"535.4\" transform=\"translate(112.61,0) rotate(-90,-2.0999999999999996,529.4)\" style=\"font-family: 'Open Sans', verdana, arial, sans-serif; font-size: 12px; fill: rgb(42, 63, 95); fill-opacity: 1; white-space: pre; opacity: 1;\">maharashtra</text></g><g class=\"xtick\"><text text-anchor=\"end\" x=\"-2.0999999999999996\" y=\"535.4\" transform=\"translate(134.36,0) rotate(-90,-2.0999999999999996,529.4)\" style=\"font-family: 'Open Sans', verdana, arial, sans-serif; font-size: 12px; fill: rgb(42, 63, 95); fill-opacity: 1; white-space: pre; opacity: 1;\">odisha</text></g><g class=\"xtick\"><text text-anchor=\"end\" x=\"-2.0999999999999996\" y=\"535.4\" transform=\"translate(156.1,0) rotate(-90,-2.0999999999999996,529.4)\" style=\"font-family: 'Open Sans', verdana, arial, sans-serif; font-size: 12px; fill: rgb(42, 63, 95); fill-opacity: 1; white-space: pre; opacity: 1;\">west bengal</text></g><g class=\"xtick\"><text text-anchor=\"end\" x=\"-2.0999999999999996\" y=\"535.4\" transform=\"translate(177.84,0) rotate(-90,-2.0999999999999996,529.4)\" style=\"font-family: 'Open Sans', verdana, arial, sans-serif; font-size: 12px; fill: rgb(42, 63, 95); fill-opacity: 1; white-space: pre; opacity: 1;\">tamil nadu</text></g><g class=\"xtick\"><text text-anchor=\"end\" x=\"-2.0999999999999996\" y=\"535.4\" transform=\"translate(199.59,0) rotate(-90,-2.0999999999999996,529.4)\" style=\"font-family: 'Open Sans', verdana, arial, sans-serif; font-size: 12px; fill: rgb(42, 63, 95); fill-opacity: 1; white-space: pre; opacity: 1;\">andhra pradesh</text></g><g class=\"xtick\"><text text-anchor=\"end\" x=\"-2.0999999999999996\" y=\"535.4\" transform=\"translate(221.33,0) rotate(-90,-2.0999999999999996,529.4)\" style=\"font-family: 'Open Sans', verdana, arial, sans-serif; font-size: 12px; fill: rgb(42, 63, 95); fill-opacity: 1; white-space: pre; opacity: 1;\">bihar</text></g><g class=\"xtick\"><text text-anchor=\"end\" x=\"-2.0999999999999996\" y=\"535.4\" transform=\"translate(243.07,0) rotate(-90,-2.0999999999999996,529.4)\" style=\"font-family: 'Open Sans', verdana, arial, sans-serif; font-size: 12px; fill: rgb(42, 63, 95); fill-opacity: 1; white-space: pre; opacity: 1;\">karnataka</text></g><g class=\"xtick\"><text text-anchor=\"end\" x=\"-2.0999999999999996\" y=\"535.4\" transform=\"translate(264.81,0) rotate(-90,-2.0999999999999996,529.4)\" style=\"font-family: 'Open Sans', verdana, arial, sans-serif; font-size: 12px; fill: rgb(42, 63, 95); fill-opacity: 1; white-space: pre; opacity: 1;\">madhya pradesh</text></g><g class=\"xtick\"><text text-anchor=\"end\" x=\"-2.0999999999999996\" y=\"535.4\" transform=\"translate(286.56,0) rotate(-90,-2.0999999999999996,529.4)\" style=\"font-family: 'Open Sans', verdana, arial, sans-serif; font-size: 12px; fill: rgb(42, 63, 95); fill-opacity: 1; white-space: pre; opacity: 1;\">rajasthan</text></g><g class=\"xtick\"><text text-anchor=\"end\" x=\"-2.0999999999999996\" y=\"535.4\" transform=\"translate(308.3,0) rotate(-90,-2.0999999999999996,529.4)\" style=\"font-family: 'Open Sans', verdana, arial, sans-serif; font-size: 12px; fill: rgb(42, 63, 95); fill-opacity: 1; white-space: pre; opacity: 1;\">gujarat</text></g><g class=\"xtick\"><text text-anchor=\"end\" x=\"-2.0999999999999996\" y=\"535.4\" transform=\"translate(330.03999999999996,0) rotate(-90,-2.0999999999999996,529.4)\" style=\"font-family: 'Open Sans', verdana, arial, sans-serif; font-size: 12px; fill: rgb(42, 63, 95); fill-opacity: 1; white-space: pre; opacity: 1;\">telangana</text></g><g class=\"xtick\"><text text-anchor=\"end\" x=\"-2.0999999999999996\" y=\"535.4\" transform=\"translate(351.79,0) rotate(-90,-2.0999999999999996,529.4)\" style=\"font-family: 'Open Sans', verdana, arial, sans-serif; font-size: 12px; fill: rgb(42, 63, 95); fill-opacity: 1; white-space: pre; opacity: 1;\">punjab</text></g><g class=\"xtick\"><text text-anchor=\"end\" x=\"-2.0999999999999996\" y=\"535.4\" transform=\"translate(373.53,0) rotate(-90,-2.0999999999999996,529.4)\" style=\"font-family: 'Open Sans', verdana, arial, sans-serif; font-size: 12px; fill: rgb(42, 63, 95); fill-opacity: 1; white-space: pre; opacity: 1;\">kerala</text></g><g class=\"xtick\"><text text-anchor=\"end\" x=\"-2.0999999999999996\" y=\"535.4\" transform=\"translate(395.27,0) rotate(-90,-2.0999999999999996,529.4)\" style=\"font-family: 'Open Sans', verdana, arial, sans-serif; font-size: 12px; fill: rgb(42, 63, 95); fill-opacity: 1; white-space: pre; opacity: 1;\">haryana</text></g><g class=\"xtick\"><text text-anchor=\"end\" x=\"-2.0999999999999996\" y=\"535.4\" transform=\"translate(417.01,0) rotate(-90,-2.0999999999999996,529.4)\" style=\"font-family: 'Open Sans', verdana, arial, sans-serif; font-size: 12px; fill: rgb(42, 63, 95); fill-opacity: 1; white-space: pre; opacity: 1;\">nct of delhi</text></g><g class=\"xtick\"><text text-anchor=\"end\" x=\"-2.0999999999999996\" y=\"535.4\" transform=\"translate(438.76,0) rotate(-90,-2.0999999999999996,529.4)\" style=\"font-family: 'Open Sans', verdana, arial, sans-serif; font-size: 12px; fill: rgb(42, 63, 95); fill-opacity: 1; white-space: pre; opacity: 1;\">assam</text></g><g class=\"xtick\"><text text-anchor=\"end\" x=\"-2.0999999999999996\" y=\"535.4\" transform=\"translate(460.5,0) rotate(-90,-2.0999999999999996,529.4)\" style=\"font-family: 'Open Sans', verdana, arial, sans-serif; font-size: 12px; fill: rgb(42, 63, 95); fill-opacity: 1; white-space: pre; opacity: 1;\">jharkhand</text></g><g class=\"xtick\"><text text-anchor=\"end\" x=\"-2.0999999999999996\" y=\"535.4\" transform=\"translate(482.24,0) rotate(-90,-2.0999999999999996,529.4)\" style=\"font-family: 'Open Sans', verdana, arial, sans-serif; font-size: 12px; fill: rgb(42, 63, 95); fill-opacity: 1; white-space: pre; opacity: 1;\">chhattisgarh</text></g><g class=\"xtick\"><text text-anchor=\"end\" x=\"-2.0999999999999996\" y=\"535.4\" transform=\"translate(503.99,0) rotate(-90,-2.0999999999999996,529.4)\" style=\"font-family: 'Open Sans', verdana, arial, sans-serif; font-size: 12px; fill: rgb(42, 63, 95); fill-opacity: 1; white-space: pre; opacity: 1;\">himachal pradesh</text></g><g class=\"xtick\"><text text-anchor=\"end\" x=\"-2.0999999999999996\" y=\"535.4\" transform=\"translate(525.73,0) rotate(-90,-2.0999999999999996,529.4)\" style=\"font-family: 'Open Sans', verdana, arial, sans-serif; font-size: 12px; fill: rgb(42, 63, 95); fill-opacity: 1; white-space: pre; opacity: 1;\">uttarakhand</text></g><g class=\"xtick\"><text text-anchor=\"end\" x=\"-2.0999999999999996\" y=\"535.4\" transform=\"translate(547.47,0) rotate(-90,-2.0999999999999996,529.4)\" style=\"font-family: 'Open Sans', verdana, arial, sans-serif; font-size: 12px; fill: rgb(42, 63, 95); fill-opacity: 1; white-space: pre; opacity: 1;\">jammu and kashmir</text></g><g class=\"xtick\"><text text-anchor=\"end\" x=\"-2.0999999999999996\" y=\"535.4\" transform=\"translate(569.21,0) rotate(-90,-2.0999999999999996,529.4)\" style=\"font-family: 'Open Sans', verdana, arial, sans-serif; font-size: 12px; fill: rgb(42, 63, 95); fill-opacity: 1; white-space: pre; opacity: 1;\">chandigarh</text></g><g class=\"xtick\"><text text-anchor=\"end\" x=\"-2.0999999999999996\" y=\"535.4\" transform=\"translate(590.96,0) rotate(-90,-2.0999999999999996,529.4)\" style=\"font-family: 'Open Sans', verdana, arial, sans-serif; font-size: 12px; fill: rgb(42, 63, 95); fill-opacity: 1; white-space: pre; opacity: 1;\">sikkim</text></g><g class=\"xtick\"><text text-anchor=\"end\" x=\"-2.0999999999999996\" y=\"535.4\" transform=\"translate(612.7,0) rotate(-90,-2.0999999999999996,529.4)\" style=\"font-family: 'Open Sans', verdana, arial, sans-serif; font-size: 12px; fill: rgb(42, 63, 95); fill-opacity: 1; white-space: pre; opacity: 1;\">goa</text></g><g class=\"xtick\"><text text-anchor=\"end\" x=\"-2.0999999999999996\" y=\"535.4\" transform=\"translate(634.44,0) rotate(-90,-2.0999999999999996,529.4)\" style=\"font-family: 'Open Sans', verdana, arial, sans-serif; font-size: 12px; fill: rgb(42, 63, 95); fill-opacity: 1; white-space: pre; opacity: 1;\">tripura</text></g><g class=\"xtick\"><text text-anchor=\"end\" x=\"-2.0999999999999996\" y=\"535.4\" transform=\"translate(656.19,0) rotate(-90,-2.0999999999999996,529.4)\" style=\"font-family: 'Open Sans', verdana, arial, sans-serif; font-size: 12px; fill: rgb(42, 63, 95); fill-opacity: 1; white-space: pre; opacity: 1;\">arunachal pradesh</text></g><g class=\"xtick\"><text text-anchor=\"end\" x=\"-2.0999999999999996\" y=\"535.4\" transform=\"translate(677.93,0) rotate(-90,-2.0999999999999996,529.4)\" style=\"font-family: 'Open Sans', verdana, arial, sans-serif; font-size: 12px; fill: rgb(42, 63, 95); fill-opacity: 1; white-space: pre; opacity: 1;\">manipur</text></g><g class=\"xtick\"><text text-anchor=\"end\" x=\"-2.0999999999999996\" y=\"535.4\" transform=\"translate(699.67,0) rotate(-90,-2.0999999999999996,529.4)\" style=\"font-family: 'Open Sans', verdana, arial, sans-serif; font-size: 12px; fill: rgb(42, 63, 95); fill-opacity: 1; white-space: pre; opacity: 1;\">meghalaya</text></g><g class=\"xtick\"><text text-anchor=\"end\" x=\"-2.0999999999999996\" y=\"535.4\" transform=\"translate(721.41,0) rotate(-90,-2.0999999999999996,529.4)\" style=\"font-family: 'Open Sans', verdana, arial, sans-serif; font-size: 12px; fill: rgb(42, 63, 95); fill-opacity: 1; white-space: pre; opacity: 1;\">puducherry</text></g><g class=\"xtick\"><text text-anchor=\"end\" x=\"-2.0999999999999996\" y=\"535.4\" transform=\"translate(743.16,0) rotate(-90,-2.0999999999999996,529.4)\" style=\"font-family: 'Open Sans', verdana, arial, sans-serif; font-size: 12px; fill: rgb(42, 63, 95); fill-opacity: 1; white-space: pre; opacity: 1;\">dadra &amp; nagar haveli and daman &amp; diu</text></g><g class=\"xtick\"><text text-anchor=\"end\" x=\"-2.0999999999999996\" y=\"535.4\" transform=\"translate(764.9,0) rotate(-90,-2.0999999999999996,529.4)\" style=\"font-family: 'Open Sans', verdana, arial, sans-serif; font-size: 12px; fill: rgb(42, 63, 95); fill-opacity: 1; white-space: pre; opacity: 1;\">nagaland</text></g><g class=\"xtick\"><text text-anchor=\"end\" x=\"-2.0999999999999996\" y=\"535.4\" transform=\"translate(786.64,0) rotate(-90,-2.0999999999999996,529.4)\" style=\"font-family: 'Open Sans', verdana, arial, sans-serif; font-size: 12px; fill: rgb(42, 63, 95); fill-opacity: 1; white-space: pre; opacity: 1;\">mizoram</text></g><g class=\"xtick\"><text text-anchor=\"end\" x=\"-2.0999999999999996\" y=\"535.4\" transform=\"translate(808.39,0) rotate(-90,-2.0999999999999996,529.4)\" style=\"font-family: 'Open Sans', verdana, arial, sans-serif; font-size: 12px; fill: rgb(42, 63, 95); fill-opacity: 1; white-space: pre; opacity: 1;\">andaman &amp; nicobar islands</text></g><g class=\"xtick\"><text text-anchor=\"end\" x=\"-2.0999999999999996\" y=\"535.4\" transform=\"translate(830.13,0) rotate(-90,-2.0999999999999996,529.4)\" style=\"font-family: 'Open Sans', verdana, arial, sans-serif; font-size: 12px; fill: rgb(42, 63, 95); fill-opacity: 1; white-space: pre; opacity: 1;\">lakshadweep</text></g></g><g class=\"yaxislayer-above\"><g class=\"ytick\"><text text-anchor=\"end\" x=\"79\" y=\"4.199999999999999\" transform=\"translate(0,526)\" style=\"font-family: 'Open Sans', verdana, arial, sans-serif; font-size: 12px; fill: rgb(42, 63, 95); fill-opacity: 1; white-space: pre; opacity: 1;\">0</text></g><g class=\"ytick\"><text text-anchor=\"end\" x=\"79\" y=\"4.199999999999999\" style=\"font-family: 'Open Sans', verdana, arial, sans-serif; font-size: 12px; fill: rgb(42, 63, 95); fill-opacity: 1; white-space: pre; opacity: 1;\" transform=\"translate(0,469.58)\">1B</text></g><g class=\"ytick\"><text text-anchor=\"end\" x=\"79\" y=\"4.199999999999999\" style=\"font-family: 'Open Sans', verdana, arial, sans-serif; font-size: 12px; fill: rgb(42, 63, 95); fill-opacity: 1; white-space: pre; opacity: 1;\" transform=\"translate(0,413.17)\">2B</text></g><g class=\"ytick\"><text text-anchor=\"end\" x=\"79\" y=\"4.199999999999999\" style=\"font-family: 'Open Sans', verdana, arial, sans-serif; font-size: 12px; fill: rgb(42, 63, 95); fill-opacity: 1; white-space: pre; opacity: 1;\" transform=\"translate(0,356.75)\">3B</text></g><g class=\"ytick\"><text text-anchor=\"end\" x=\"79\" y=\"4.199999999999999\" style=\"font-family: 'Open Sans', verdana, arial, sans-serif; font-size: 12px; fill: rgb(42, 63, 95); fill-opacity: 1; white-space: pre; opacity: 1;\" transform=\"translate(0,300.33000000000004)\">4B</text></g><g class=\"ytick\"><text text-anchor=\"end\" x=\"79\" y=\"4.199999999999999\" style=\"font-family: 'Open Sans', verdana, arial, sans-serif; font-size: 12px; fill: rgb(42, 63, 95); fill-opacity: 1; white-space: pre; opacity: 1;\" transform=\"translate(0,243.92)\">5B</text></g><g class=\"ytick\"><text text-anchor=\"end\" x=\"79\" y=\"4.199999999999999\" style=\"font-family: 'Open Sans', verdana, arial, sans-serif; font-size: 12px; fill: rgb(42, 63, 95); fill-opacity: 1; white-space: pre; opacity: 1;\" transform=\"translate(0,187.5)\">6B</text></g><g class=\"ytick\"><text text-anchor=\"end\" x=\"79\" y=\"4.199999999999999\" style=\"font-family: 'Open Sans', verdana, arial, sans-serif; font-size: 12px; fill: rgb(42, 63, 95); fill-opacity: 1; white-space: pre; opacity: 1;\" transform=\"translate(0,131.09)\">7B</text></g></g><g class=\"overaxes-above\"/></g></g><g class=\"polarlayer\"/><g class=\"smithlayer\"/><g class=\"ternarylayer\"/><g class=\"geolayer\"/><g class=\"funnelarealayer\"/><g class=\"pielayer\"/><g class=\"iciclelayer\"/><g class=\"treemaplayer\"/><g class=\"sunburstlayer\"/><g class=\"glimages\"/><defs id=\"topdefs-3a0e9a\"><g class=\"clips\"/></defs><g class=\"layer-above\"><g class=\"imagelayer\"/><g class=\"shapelayer\"/></g><g class=\"infolayer\"><g class=\"cbcoloraxis colorbar\" transform=\"translate(80,100)\"><rect class=\"cbbg\" x=\"776\" y=\"0\" width=\"131.390625\" height=\"426\" style=\"fill: rgb(0, 0, 0); fill-opacity: 0; stroke: rgb(68, 68, 68); stroke-opacity: 1; stroke-width: 0;\"/><g class=\"cbfills\" transform=\"translate(0,32)\"><rect class=\"cbfill gradient_filled\" x=\"786\" y=\"0\" width=\"30\" height=\"384\" style=\"fill: url('#g3a0e9a-cbcoloraxis');\"/></g><g class=\"cblines\" transform=\"translate(0,32)\"/><g class=\"cbaxis crisp\" transform=\"translate(0,-100)\"><g class=\"ycbcoloraxistick\"><text text-anchor=\"start\" x=\"818.9\" y=\"4.199999999999999\" transform=\"translate(0,516)\" style=\"font-family: 'Open Sans', verdana, arial, sans-serif; font-size: 12px; fill: rgb(42, 63, 95); fill-opacity: 1; white-space: pre; opacity: 1;\">0</text></g><g class=\"ycbcoloraxistick\"><text text-anchor=\"start\" x=\"818.9\" y=\"4.199999999999999\" style=\"font-family: 'Open Sans', verdana, arial, sans-serif; font-size: 12px; fill: rgb(42, 63, 95); fill-opacity: 1; white-space: pre; opacity: 1;\" transform=\"translate(0,462.47)\">1B</text></g><g class=\"ycbcoloraxistick\"><text text-anchor=\"start\" x=\"818.9\" y=\"4.199999999999999\" style=\"font-family: 'Open Sans', verdana, arial, sans-serif; font-size: 12px; fill: rgb(42, 63, 95); fill-opacity: 1; white-space: pre; opacity: 1;\" transform=\"translate(0,408.94)\">2B</text></g><g class=\"ycbcoloraxistick\"><text text-anchor=\"start\" x=\"818.9\" y=\"4.199999999999999\" style=\"font-family: 'Open Sans', verdana, arial, sans-serif; font-size: 12px; fill: rgb(42, 63, 95); fill-opacity: 1; white-space: pre; opacity: 1;\" transform=\"translate(0,355.40999999999997)\">3B</text></g><g class=\"ycbcoloraxistick\"><text text-anchor=\"start\" x=\"818.9\" y=\"4.199999999999999\" style=\"font-family: 'Open Sans', verdana, arial, sans-serif; font-size: 12px; fill: rgb(42, 63, 95); fill-opacity: 1; white-space: pre; opacity: 1;\" transform=\"translate(0,301.88)\">4B</text></g><g class=\"ycbcoloraxistick\"><text text-anchor=\"start\" x=\"818.9\" y=\"4.199999999999999\" style=\"font-family: 'Open Sans', verdana, arial, sans-serif; font-size: 12px; fill: rgb(42, 63, 95); fill-opacity: 1; white-space: pre; opacity: 1;\" transform=\"translate(0,248.35)\">5B</text></g><g class=\"ycbcoloraxistick\"><text text-anchor=\"start\" x=\"818.9\" y=\"4.199999999999999\" style=\"font-family: 'Open Sans', verdana, arial, sans-serif; font-size: 12px; fill: rgb(42, 63, 95); fill-opacity: 1; white-space: pre; opacity: 1;\" transform=\"translate(0,194.82)\">6B</text></g><g class=\"ycbcoloraxistick\"><text text-anchor=\"start\" x=\"818.9\" y=\"4.199999999999999\" style=\"font-family: 'Open Sans', verdana, arial, sans-serif; font-size: 12px; fill: rgb(42, 63, 95); fill-opacity: 1; white-space: pre; opacity: 1;\" transform=\"translate(0,141.28)\">7B</text></g></g><g class=\"cbtitleunshift\" transform=\"translate(-80,-100)\"><g class=\"cbtitle\" transform=\"\"><text class=\"ycbcoloraxistitle\" x=\"866.22\" y=\"123.5\" text-anchor=\"start\" style=\"font-family: 'Open Sans', verdana, arial, sans-serif; font-size: 14px; fill: rgb(42, 63, 95); opacity: 1; font-weight: normal; white-space: pre;\">Ad Spend (INR)</text></g></g><rect class=\"cboutline\" x=\"786\" y=\"32\" width=\"30\" height=\"384\" style=\"stroke: rgb(68, 68, 68); stroke-opacity: 1; fill: none; stroke-width: 0;\"/></g><g class=\"g-gtitle\"><text class=\"gtitle\" x=\"50\" y=\"50\" text-anchor=\"start\" dy=\"0em\" style=\"font-family: 'Open Sans', verdana, arial, sans-serif; font-size: 17px; fill: rgb(42, 63, 95); opacity: 1; font-weight: normal; white-space: pre;\">State-wise Total Ad Spend (in Billions)</text></g><g class=\"g-xtitle\"><text class=\"xtitle\" x=\"460.5\" y=\"787.7091796875\" text-anchor=\"middle\" style=\"font-family: 'Open Sans', verdana, arial, sans-serif; font-size: 14px; fill: rgb(42, 63, 95); opacity: 1; font-weight: normal; white-space: pre;\">State</text></g><g class=\"g-ytitle\"><text class=\"ytitle\" transform=\"rotate(-90,38.340625,313)\" x=\"38.340625\" y=\"313\" text-anchor=\"middle\" style=\"font-family: 'Open Sans', verdana, arial, sans-serif; font-size: 14px; fill: rgb(42, 63, 95); opacity: 1; font-weight: normal; white-space: pre;\">Ad Spend (INR)</text></g></g></svg>"
      ]
     },
     "metadata": {},
     "output_type": "display_data"
    }
   ],
   "source": [
    "# Use the default color scale in Plotly Express\n",
    "fig = px.bar(state_ad_spend, x='State', y='Amount spent (INR)',\n",
    "             labels={'State': 'State', 'Amount spent (INR)': 'Ad Spend (INR)'},\n",
    "             title='State-wise Total Ad Spend (in Billions)',\n",
    "             color='Amount spent (INR)',  # Color by 'Amount spent (INR)' column\n",
    "             color_continuous_scale='RdBu',  # Choose a continuous color scale\n",
    "             range_color=(0, state_ad_spend['Amount spent (INR)'].max()),  # Set color scale range\n",
    "             hover_name='State',  # Display state name on hover\n",
    "             hover_data={'Amount spent (INR)': ':,.2f'},  # Format hover data\n",
    "            )\n",
    "\n",
    "fig.update_layout(xaxis={'categoryorder': 'total descending'},\n",
    "                  xaxis_tickangle=-90,\n",
    "                  width=1000,\n",
    "                  height=800)\n",
    "\n",
    "fig.show(\"svg\")"
   ]
  },
  {
   "cell_type": "markdown",
   "id": "d5561f6f-8a23-4655-a283-f8cac1f1b0d7",
   "metadata": {},
   "source": [
    "The above bar graph shows the total advertising spending in India in billions of rupees (INR) for each state and union territory [UT]. \n",
    "\n",
    "List of five states and UTs with the highest total ad spend                \n",
    "1. **Uttar Pradesh**\n",
    "2. **Maharashtra**\n",
    "3. **Odisha**\n",
    "4. **West Bengal**\n",
    "5. **Tamil Nadu**\n",
    "\n",
    "List of five states and UTs with the lowest total ad spend\n",
    "1. **dadar & nagar haveli and daman and diu**\n",
    "2. **Nagaland**\n",
    "3. **Mizoram**\n",
    "4. **Andaman and Nicobar Islands**\n",
    "5. **Lakshadweep**"
   ]
  },
  {
   "cell_type": "markdown",
   "id": "0d9cef89-e783-4bc5-9215-429086ed634e",
   "metadata": {},
   "source": [
    "-------------------------------------------------------------------------------------------------------------------------------------------"
   ]
  },
  {
   "cell_type": "markdown",
   "id": "e083d0d5-bbe9-484d-9849-50c97260b1ac",
   "metadata": {},
   "source": [
    "**Created a DataFrame** based on Calculated average voter turnout ***(`Polled (%)`)*** for each state by grouping ***(`State`)***, computing the mean of voter turnout percentages, and resetting the index for analysis."
   ]
  },
  {
   "cell_type": "code",
   "execution_count": 28,
   "id": "bc9e745c-4c36-49b8-a9ce-1d9afada48a8",
   "metadata": {},
   "outputs": [
    {
     "data": {
      "text/html": [
       "<div>\n",
       "<style scoped>\n",
       "    .dataframe tbody tr th:only-of-type {\n",
       "        vertical-align: middle;\n",
       "    }\n",
       "\n",
       "    .dataframe tbody tr th {\n",
       "        vertical-align: top;\n",
       "    }\n",
       "\n",
       "    .dataframe thead th {\n",
       "        text-align: right;\n",
       "    }\n",
       "</style>\n",
       "<table border=\"1\" class=\"dataframe\">\n",
       "  <thead>\n",
       "    <tr style=\"text-align: right;\">\n",
       "      <th></th>\n",
       "      <th>State</th>\n",
       "      <th>Polled (%)</th>\n",
       "    </tr>\n",
       "  </thead>\n",
       "  <tbody>\n",
       "    <tr>\n",
       "      <th>0</th>\n",
       "      <td>andaman &amp; nicobar islands</td>\n",
       "      <td>64.100000</td>\n",
       "    </tr>\n",
       "    <tr>\n",
       "      <th>1</th>\n",
       "      <td>andhra pradesh</td>\n",
       "      <td>80.770800</td>\n",
       "    </tr>\n",
       "    <tr>\n",
       "      <th>2</th>\n",
       "      <td>arunachal pradesh</td>\n",
       "      <td>78.455000</td>\n",
       "    </tr>\n",
       "    <tr>\n",
       "      <th>3</th>\n",
       "      <td>assam</td>\n",
       "      <td>80.882857</td>\n",
       "    </tr>\n",
       "    <tr>\n",
       "      <th>4</th>\n",
       "      <td>bihar</td>\n",
       "      <td>56.329500</td>\n",
       "    </tr>\n",
       "    <tr>\n",
       "      <th>5</th>\n",
       "      <td>chandigarh</td>\n",
       "      <td>67.980000</td>\n",
       "    </tr>\n",
       "    <tr>\n",
       "      <th>6</th>\n",
       "      <td>chhattisgarh</td>\n",
       "      <td>73.105455</td>\n",
       "    </tr>\n",
       "    <tr>\n",
       "      <th>7</th>\n",
       "      <td>dadra &amp; nagar haveli and\\ndaman &amp; diu</td>\n",
       "      <td>70.645000</td>\n",
       "    </tr>\n",
       "    <tr>\n",
       "      <th>8</th>\n",
       "      <td>goa</td>\n",
       "      <td>76.080000</td>\n",
       "    </tr>\n",
       "    <tr>\n",
       "      <th>9</th>\n",
       "      <td>gujarat</td>\n",
       "      <td>60.140400</td>\n",
       "    </tr>\n",
       "    <tr>\n",
       "      <th>10</th>\n",
       "      <td>haryana</td>\n",
       "      <td>65.019000</td>\n",
       "    </tr>\n",
       "    <tr>\n",
       "      <th>11</th>\n",
       "      <td>himachal pradesh</td>\n",
       "      <td>70.965000</td>\n",
       "    </tr>\n",
       "    <tr>\n",
       "      <th>12</th>\n",
       "      <td>jammu and kashmir</td>\n",
       "      <td>58.696000</td>\n",
       "    </tr>\n",
       "    <tr>\n",
       "      <th>13</th>\n",
       "      <td>jharkhand</td>\n",
       "      <td>66.605000</td>\n",
       "    </tr>\n",
       "    <tr>\n",
       "      <th>14</th>\n",
       "      <td>karnataka</td>\n",
       "      <td>71.714643</td>\n",
       "    </tr>\n",
       "    <tr>\n",
       "      <th>15</th>\n",
       "      <td>kerala</td>\n",
       "      <td>71.189500</td>\n",
       "    </tr>\n",
       "    <tr>\n",
       "      <th>16</th>\n",
       "      <td>lakshadweep</td>\n",
       "      <td>84.160000</td>\n",
       "    </tr>\n",
       "    <tr>\n",
       "      <th>17</th>\n",
       "      <td>madhya pradesh</td>\n",
       "      <td>66.970345</td>\n",
       "    </tr>\n",
       "    <tr>\n",
       "      <th>18</th>\n",
       "      <td>maharashtra</td>\n",
       "      <td>61.460000</td>\n",
       "    </tr>\n",
       "    <tr>\n",
       "      <th>19</th>\n",
       "      <td>manipur</td>\n",
       "      <td>78.030000</td>\n",
       "    </tr>\n",
       "    <tr>\n",
       "      <th>20</th>\n",
       "      <td>meghalaya</td>\n",
       "      <td>77.575000</td>\n",
       "    </tr>\n",
       "    <tr>\n",
       "      <th>21</th>\n",
       "      <td>mizoram</td>\n",
       "      <td>56.870000</td>\n",
       "    </tr>\n",
       "    <tr>\n",
       "      <th>22</th>\n",
       "      <td>nagaland</td>\n",
       "      <td>57.720000</td>\n",
       "    </tr>\n",
       "    <tr>\n",
       "      <th>23</th>\n",
       "      <td>nct of delhi</td>\n",
       "      <td>58.502857</td>\n",
       "    </tr>\n",
       "    <tr>\n",
       "      <th>24</th>\n",
       "      <td>odisha</td>\n",
       "      <td>74.510000</td>\n",
       "    </tr>\n",
       "    <tr>\n",
       "      <th>25</th>\n",
       "      <td>puducherry</td>\n",
       "      <td>78.900000</td>\n",
       "    </tr>\n",
       "    <tr>\n",
       "      <th>26</th>\n",
       "      <td>punjab</td>\n",
       "      <td>62.803846</td>\n",
       "    </tr>\n",
       "    <tr>\n",
       "      <th>27</th>\n",
       "      <td>rajasthan</td>\n",
       "      <td>61.426400</td>\n",
       "    </tr>\n",
       "    <tr>\n",
       "      <th>28</th>\n",
       "      <td>sikkim</td>\n",
       "      <td>79.880000</td>\n",
       "    </tr>\n",
       "    <tr>\n",
       "      <th>29</th>\n",
       "      <td>tamil nadu</td>\n",
       "      <td>70.035385</td>\n",
       "    </tr>\n",
       "    <tr>\n",
       "      <th>30</th>\n",
       "      <td>telangana</td>\n",
       "      <td>67.662941</td>\n",
       "    </tr>\n",
       "    <tr>\n",
       "      <th>31</th>\n",
       "      <td>tripura</td>\n",
       "      <td>80.920000</td>\n",
       "    </tr>\n",
       "    <tr>\n",
       "      <th>32</th>\n",
       "      <td>uttar pradesh</td>\n",
       "      <td>57.047000</td>\n",
       "    </tr>\n",
       "    <tr>\n",
       "      <th>33</th>\n",
       "      <td>uttarakhand</td>\n",
       "      <td>56.184000</td>\n",
       "    </tr>\n",
       "    <tr>\n",
       "      <th>34</th>\n",
       "      <td>west bengal</td>\n",
       "      <td>79.188095</td>\n",
       "    </tr>\n",
       "  </tbody>\n",
       "</table>\n",
       "</div>"
      ],
      "text/plain": [
       "                                    State  Polled (%)\n",
       "0               andaman & nicobar islands   64.100000\n",
       "1                          andhra pradesh   80.770800\n",
       "2                       arunachal pradesh   78.455000\n",
       "3                                   assam   80.882857\n",
       "4                                   bihar   56.329500\n",
       "5                              chandigarh   67.980000\n",
       "6                            chhattisgarh   73.105455\n",
       "7   dadra & nagar haveli and\\ndaman & diu   70.645000\n",
       "8                                     goa   76.080000\n",
       "9                                 gujarat   60.140400\n",
       "10                                haryana   65.019000\n",
       "11                       himachal pradesh   70.965000\n",
       "12                      jammu and kashmir   58.696000\n",
       "13                              jharkhand   66.605000\n",
       "14                              karnataka   71.714643\n",
       "15                                 kerala   71.189500\n",
       "16                            lakshadweep   84.160000\n",
       "17                         madhya pradesh   66.970345\n",
       "18                            maharashtra   61.460000\n",
       "19                                manipur   78.030000\n",
       "20                              meghalaya   77.575000\n",
       "21                                mizoram   56.870000\n",
       "22                               nagaland   57.720000\n",
       "23                           nct of delhi   58.502857\n",
       "24                                 odisha   74.510000\n",
       "25                             puducherry   78.900000\n",
       "26                                 punjab   62.803846\n",
       "27                              rajasthan   61.426400\n",
       "28                                 sikkim   79.880000\n",
       "29                             tamil nadu   70.035385\n",
       "30                              telangana   67.662941\n",
       "31                                tripura   80.920000\n",
       "32                          uttar pradesh   57.047000\n",
       "33                            uttarakhand   56.184000\n",
       "34                            west bengal   79.188095"
      ]
     },
     "execution_count": 28,
     "metadata": {},
     "output_type": "execute_result"
    }
   ],
   "source": [
    "state_avg_voting = merged_data.groupby('State')['Polled (%)'].mean().reset_index()\n",
    "state_avg_voting"
   ]
  },
  {
   "cell_type": "code",
   "execution_count": 48,
   "id": "71f7e899-b2ee-474d-ab9d-dcdffd1a46a1",
   "metadata": {},
   "outputs": [
    {
     "data": {
      "image/svg+xml": [
       "<svg class=\"main-svg\" xmlns=\"http://www.w3.org/2000/svg\" xmlns:xlink=\"http://www.w3.org/1999/xlink\" width=\"1000\" height=\"800\" style=\"\" viewBox=\"0 0 1000 800\"><rect x=\"0\" y=\"0\" width=\"1000\" height=\"800\" style=\"fill: rgb(255, 255, 255); fill-opacity: 1;\"/><defs id=\"defs-7a32b0\"><g class=\"clips\"><clipPath id=\"clip7a32b0xyplot\" class=\"plotclip\"><rect width=\"798\" height=\"426\"/></clipPath><clipPath class=\"axesclip\" id=\"clip7a32b0x\"><rect x=\"80\" y=\"0\" width=\"798\" height=\"800\"/></clipPath><clipPath class=\"axesclip\" id=\"clip7a32b0y\"><rect x=\"0\" y=\"100\" width=\"1000\" height=\"426\"/></clipPath><clipPath class=\"axesclip\" id=\"clip7a32b0xy\"><rect x=\"80\" y=\"100\" width=\"798\" height=\"426\"/></clipPath></g><g class=\"gradients\"><linearGradient x1=\"0\" x2=\"0\" y1=\"1\" y2=\"0\" id=\"g7a32b0-cbcoloraxis\"><stop offset=\"0%\" stop-color=\"rgb(61, 89, 65)\" stop-opacity=\"1\"/><stop offset=\"16.666667%\" stop-color=\"rgb(119, 136, 104)\" stop-opacity=\"1\"/><stop offset=\"33.333333%\" stop-color=\"rgb(181, 185, 145)\" stop-opacity=\"1\"/><stop offset=\"50%\" stop-color=\"rgb(246, 237, 189)\" stop-opacity=\"1\"/><stop offset=\"66.666667%\" stop-color=\"rgb(237, 187, 138)\" stop-opacity=\"1\"/><stop offset=\"83.333333%\" stop-color=\"rgb(222, 138, 90)\" stop-opacity=\"1\"/><stop offset=\"100%\" stop-color=\"rgb(202, 86, 44)\" stop-opacity=\"1\"/></linearGradient></g><g class=\"patterns\"/></defs><g class=\"bglayer\"/><g class=\"layer-below\"><g class=\"imagelayer\"/><g class=\"shapelayer\"/></g><g class=\"cartesianlayer\"><g class=\"subplot xy\"><g class=\"layer-subplot\"><g class=\"shapelayer\"/><g class=\"imagelayer\"/></g><g class=\"minor-gridlayer\"><g class=\"x\"/><g class=\"y\"/></g><g class=\"gridlayer\"><g class=\"x\"/><g class=\"y\"><path class=\"ygrid crisp\" transform=\"translate(0,477.91)\" d=\"M80,0h798\" style=\"stroke: rgb(235, 240, 248); stroke-opacity: 1; stroke-width: 1px;\"/><path class=\"ygrid crisp\" transform=\"translate(0,429.83)\" d=\"M80,0h798\" style=\"stroke: rgb(235, 240, 248); stroke-opacity: 1; stroke-width: 1px;\"/><path class=\"ygrid crisp\" transform=\"translate(0,381.74)\" d=\"M80,0h798\" style=\"stroke: rgb(235, 240, 248); stroke-opacity: 1; stroke-width: 1px;\"/><path class=\"ygrid crisp\" transform=\"translate(0,333.65)\" d=\"M80,0h798\" style=\"stroke: rgb(235, 240, 248); stroke-opacity: 1; stroke-width: 1px;\"/><path class=\"ygrid crisp\" transform=\"translate(0,285.57)\" d=\"M80,0h798\" style=\"stroke: rgb(235, 240, 248); stroke-opacity: 1; stroke-width: 1px;\"/><path class=\"ygrid crisp\" transform=\"translate(0,237.48)\" d=\"M80,0h798\" style=\"stroke: rgb(235, 240, 248); stroke-opacity: 1; stroke-width: 1px;\"/><path class=\"ygrid crisp\" transform=\"translate(0,189.39)\" d=\"M80,0h798\" style=\"stroke: rgb(235, 240, 248); stroke-opacity: 1; stroke-width: 1px;\"/><path class=\"ygrid crisp\" transform=\"translate(0,141.3)\" d=\"M80,0h798\" style=\"stroke: rgb(235, 240, 248); stroke-opacity: 1; stroke-width: 1px;\"/></g></g><g class=\"zerolinelayer\"><path class=\"yzl zl crisp\" transform=\"translate(0,526)\" d=\"M80,0h798\" style=\"stroke: rgb(235, 240, 248); stroke-opacity: 1; stroke-width: 2px;\"/></g><path class=\"xlines-below\"/><path class=\"ylines-below\"/><g class=\"overlines-below\"/><g class=\"xaxislayer-below\"/><g class=\"yaxislayer-below\"/><g class=\"overaxes-below\"/><g class=\"plot\" transform=\"translate(80,100)\" clip-path=\"url(#clip7a32b0xyplot)\"><g class=\"barlayer mlayer\"><g class=\"trace bars\" style=\"opacity: 1;\"><g class=\"points\"><g class=\"point\"><path d=\"M526.68,426V117.76H544.92V426Z\" style=\"vector-effect: non-scaling-stroke; opacity: 1; stroke-width: 0.5px; fill: rgb(162, 170, 133); fill-opacity: 1; stroke: rgb(255, 255, 255); stroke-opacity: 1;\"/></g><g class=\"point\"><path d=\"M70.68,426V37.6H88.92V426Z\" style=\"vector-effect: non-scaling-stroke; opacity: 1; stroke-width: 0.5px; fill: rgb(217, 124, 77); fill-opacity: 1; stroke: rgb(255, 255, 255); stroke-opacity: 1;\"/></g><g class=\"point\"><path d=\"M161.88,426V48.73H180.12V426Z\" style=\"vector-effect: non-scaling-stroke; opacity: 1; stroke-width: 0.5px; fill: rgb(225, 149, 101); fill-opacity: 1; stroke: rgb(255, 255, 255); stroke-opacity: 1;\"/></g><g class=\"point\"><path d=\"M47.88,426V37.06H66.12V426Z\" style=\"vector-effect: non-scaling-stroke; opacity: 1; stroke-width: 0.5px; fill: rgb(216, 123, 76); fill-opacity: 1; stroke: rgb(255, 255, 255); stroke-opacity: 1;\"/></g><g class=\"point\"><path d=\"M754.68,426V155.13H772.92V426Z\" style=\"vector-effect: non-scaling-stroke; opacity: 1; stroke-width: 0.5px; fill: rgb(63, 90, 66); fill-opacity: 1; stroke: rgb(255, 255, 255); stroke-opacity: 1;\"/></g><g class=\"point\"><path d=\"M412.68,426V99.1H430.92V426Z\" style=\"vector-effect: non-scaling-stroke; opacity: 1; stroke-width: 0.5px; fill: rgb(215, 213, 168); fill-opacity: 1; stroke: rgb(255, 255, 255); stroke-opacity: 1;\"/></g><g class=\"point\"><path d=\"M275.88,426V74.46H294.12V426Z\" style=\"vector-effect: non-scaling-stroke; opacity: 1; stroke-width: 0.5px; fill: rgb(240, 206, 157); fill-opacity: 1; stroke: rgb(255, 255, 255); stroke-opacity: 1;\"/></g><g class=\"point\"><path d=\"M367.08,426V86.29H385.32V426Z\" style=\"vector-effect: non-scaling-stroke; opacity: 1; stroke-width: 0.5px; fill: rgb(245, 232, 184); fill-opacity: 1; stroke: rgb(255, 255, 255); stroke-opacity: 1;\"/></g><g class=\"point\"><path d=\"M230.28,426V60.15H248.52V426Z\" style=\"vector-effect: non-scaling-stroke; opacity: 1; stroke-width: 0.5px; fill: rgb(233, 174, 125); fill-opacity: 1; stroke: rgb(255, 255, 255); stroke-opacity: 1;\"/></g><g class=\"point\"><path d=\"M617.88,426V136.8H636.12V426Z\" style=\"vector-effect: non-scaling-stroke; opacity: 1; stroke-width: 0.5px; fill: rgb(110, 129, 98); fill-opacity: 1; stroke: rgb(255, 255, 255); stroke-opacity: 1;\"/></g><g class=\"point\"><path d=\"M503.88,426V113.34H522.12V426Z\" style=\"vector-effect: non-scaling-stroke; opacity: 1; stroke-width: 0.5px; fill: rgb(174, 180, 141); fill-opacity: 1; stroke: rgb(255, 255, 255); stroke-opacity: 1;\"/></g><g class=\"point\"><path d=\"M344.28,426V84.75H362.52V426Z\" style=\"vector-effect: non-scaling-stroke; opacity: 1; stroke-width: 0.5px; fill: rgb(244, 228, 180); fill-opacity: 1; stroke: rgb(255, 255, 255); stroke-opacity: 1;\"/></g><g class=\"point\"><path d=\"M640.68,426V143.75H658.92V426Z\" style=\"vector-effect: non-scaling-stroke; opacity: 1; stroke-width: 0.5px; fill: rgb(92, 114, 86); fill-opacity: 1; stroke: rgb(255, 255, 255); stroke-opacity: 1;\"/></g><g class=\"point\"><path d=\"M481.08,426V105.72H499.32V426Z\" style=\"vector-effect: non-scaling-stroke; opacity: 1; stroke-width: 0.5px; fill: rgb(196, 197, 155); fill-opacity: 1; stroke: rgb(255, 255, 255); stroke-opacity: 1;\"/></g><g class=\"point\"><path d=\"M298.68,426V81.15H316.92V426Z\" style=\"vector-effect: non-scaling-stroke; opacity: 1; stroke-width: 0.5px; fill: rgb(243, 220, 172); fill-opacity: 1; stroke: rgb(255, 255, 255); stroke-opacity: 1;\"/></g><g class=\"point\"><path d=\"M321.48,426V83.67H339.72V426Z\" style=\"vector-effect: non-scaling-stroke; opacity: 1; stroke-width: 0.5px; fill: rgb(244, 226, 178); fill-opacity: 1; stroke: rgb(255, 255, 255); stroke-opacity: 1;\"/></g><g class=\"point\"><path d=\"M2.28,426V21.3H20.52V426Z\" style=\"vector-effect: non-scaling-stroke; opacity: 1; stroke-width: 0.5px; fill: rgb(202, 86, 44); fill-opacity: 1; stroke: rgb(255, 255, 255); stroke-opacity: 1;\"/></g><g class=\"point\"><path d=\"M458.28,426V103.96H476.52V426Z\" style=\"vector-effect: non-scaling-stroke; opacity: 1; stroke-width: 0.5px; fill: rgb(201, 201, 159); fill-opacity: 1; stroke: rgb(255, 255, 255); stroke-opacity: 1;\"/></g><g class=\"point\"><path d=\"M572.28,426V130.46H590.52V426Z\" style=\"vector-effect: non-scaling-stroke; opacity: 1; stroke-width: 0.5px; fill: rgb(127, 142, 109); fill-opacity: 1; stroke: rgb(255, 255, 255); stroke-opacity: 1;\"/></g><g class=\"point\"><path d=\"M184.68,426V50.78H202.92V426Z\" style=\"vector-effect: non-scaling-stroke; opacity: 1; stroke-width: 0.5px; fill: rgb(227, 153, 105); fill-opacity: 1; stroke: rgb(255, 255, 255); stroke-opacity: 1;\"/></g><g class=\"point\"><path d=\"M207.48,426V52.97H225.72V426Z\" style=\"vector-effect: non-scaling-stroke; opacity: 1; stroke-width: 0.5px; fill: rgb(228, 158, 110); fill-opacity: 1; stroke: rgb(255, 255, 255); stroke-opacity: 1;\"/></g><g class=\"point\"><path d=\"M731.88,426V152.53H750.12V426Z\" style=\"vector-effect: non-scaling-stroke; opacity: 1; stroke-width: 0.5px; fill: rgb(70, 96, 71); fill-opacity: 1; stroke: rgb(255, 255, 255); stroke-opacity: 1;\"/></g><g class=\"point\"><path d=\"M686.28,426V148.44H704.52V426Z\" style=\"vector-effect: non-scaling-stroke; opacity: 1; stroke-width: 0.5px; fill: rgb(80, 104, 78); fill-opacity: 1; stroke: rgb(255, 255, 255); stroke-opacity: 1;\"/></g><g class=\"point\"><path d=\"M663.48,426V144.68H681.72V426Z\" style=\"vector-effect: non-scaling-stroke; opacity: 1; stroke-width: 0.5px; fill: rgb(90, 112, 84); fill-opacity: 1; stroke: rgb(255, 255, 255); stroke-opacity: 1;\"/></g><g class=\"point\"><path d=\"M253.08,426V67.7H271.32V426Z\" style=\"vector-effect: non-scaling-stroke; opacity: 1; stroke-width: 0.5px; fill: rgb(238, 190, 142); fill-opacity: 1; stroke: rgb(255, 255, 255); stroke-opacity: 1;\"/></g><g class=\"point\"><path d=\"M139.08,426V46.59H157.32V426Z\" style=\"vector-effect: non-scaling-stroke; opacity: 1; stroke-width: 0.5px; fill: rgb(224, 144, 96); fill-opacity: 1; stroke: rgb(255, 255, 255); stroke-opacity: 1;\"/></g><g class=\"point\"><path d=\"M549.48,426V124H567.72V426Z\" style=\"vector-effect: non-scaling-stroke; opacity: 1; stroke-width: 0.5px; fill: rgb(145, 157, 121); fill-opacity: 1; stroke: rgb(255, 255, 255); stroke-opacity: 1;\"/></g><g class=\"point\"><path d=\"M595.08,426V130.62H613.32V426Z\" style=\"vector-effect: non-scaling-stroke; opacity: 1; stroke-width: 0.5px; fill: rgb(127, 142, 109); fill-opacity: 1; stroke: rgb(255, 255, 255); stroke-opacity: 1;\"/></g><g class=\"point\"><path d=\"M93.48,426V41.88H111.72V426Z\" style=\"vector-effect: non-scaling-stroke; opacity: 1; stroke-width: 0.5px; fill: rgb(220, 134, 86); fill-opacity: 1; stroke: rgb(255, 255, 255); stroke-opacity: 1;\"/></g><g class=\"point\"><path d=\"M389.88,426V89.22H408.12V426Z\" style=\"vector-effect: non-scaling-stroke; opacity: 1; stroke-width: 0.5px; fill: rgb(244, 235, 188); fill-opacity: 1; stroke: rgb(255, 255, 255); stroke-opacity: 1;\"/></g><g class=\"point\"><path d=\"M435.48,426V100.63H453.72V426Z\" style=\"vector-effect: non-scaling-stroke; opacity: 1; stroke-width: 0.5px; fill: rgb(211, 209, 165); fill-opacity: 1; stroke: rgb(255, 255, 255); stroke-opacity: 1;\"/></g><g class=\"point\"><path d=\"M25.08,426V36.88H43.32V426Z\" style=\"vector-effect: non-scaling-stroke; opacity: 1; stroke-width: 0.5px; fill: rgb(216, 122, 76); fill-opacity: 1; stroke: rgb(255, 255, 255); stroke-opacity: 1;\"/></g><g class=\"point\"><path d=\"M709.08,426V151.68H727.32V426Z\" style=\"vector-effect: non-scaling-stroke; opacity: 1; stroke-width: 0.5px; fill: rgb(72, 98, 72); fill-opacity: 1; stroke: rgb(255, 255, 255); stroke-opacity: 1;\"/></g><g class=\"point\"><path d=\"M777.48,426V155.83H795.72V426Z\" style=\"vector-effect: non-scaling-stroke; opacity: 1; stroke-width: 0.5px; fill: rgb(61, 89, 65); fill-opacity: 1; stroke: rgb(255, 255, 255); stroke-opacity: 1;\"/></g><g class=\"point\"><path d=\"M116.28,426V45.21H134.52V426Z\" style=\"vector-effect: non-scaling-stroke; opacity: 1; stroke-width: 0.5px; fill: rgb(223, 141, 93); fill-opacity: 1; stroke: rgb(255, 255, 255); stroke-opacity: 1;\"/></g></g></g></g></g><g class=\"overplot\"/><path class=\"xlines-above crisp\" d=\"M0,0\" style=\"fill: none;\"/><path class=\"ylines-above crisp\" d=\"M0,0\" style=\"fill: none;\"/><g class=\"overlines-above\"/><g class=\"xaxislayer-above\"><g class=\"xtick\"><text text-anchor=\"end\" x=\"-2.0999999999999996\" y=\"535.4\" transform=\"translate(91.4,0) rotate(-90,-2.0999999999999996,529.4)\" style=\"font-family: 'Open Sans', verdana, arial, sans-serif; font-size: 12px; fill: rgb(42, 63, 95); fill-opacity: 1; white-space: pre; opacity: 1;\">lakshadweep</text></g><g class=\"xtick\"><text text-anchor=\"end\" x=\"-2.0999999999999996\" y=\"535.4\" transform=\"translate(114.2,0) rotate(-90,-2.0999999999999996,529.4)\" style=\"font-family: 'Open Sans', verdana, arial, sans-serif; font-size: 12px; fill: rgb(42, 63, 95); fill-opacity: 1; white-space: pre; opacity: 1;\">tripura</text></g><g class=\"xtick\"><text text-anchor=\"end\" x=\"-2.0999999999999996\" y=\"535.4\" transform=\"translate(137,0) rotate(-90,-2.0999999999999996,529.4)\" style=\"font-family: 'Open Sans', verdana, arial, sans-serif; font-size: 12px; fill: rgb(42, 63, 95); fill-opacity: 1; white-space: pre; opacity: 1;\">assam</text></g><g class=\"xtick\"><text text-anchor=\"end\" x=\"-2.0999999999999996\" y=\"535.4\" transform=\"translate(159.8,0) rotate(-90,-2.0999999999999996,529.4)\" style=\"font-family: 'Open Sans', verdana, arial, sans-serif; font-size: 12px; fill: rgb(42, 63, 95); fill-opacity: 1; white-space: pre; opacity: 1;\">andhra pradesh</text></g><g class=\"xtick\"><text text-anchor=\"end\" x=\"-2.0999999999999996\" y=\"535.4\" transform=\"translate(182.6,0) rotate(-90,-2.0999999999999996,529.4)\" style=\"font-family: 'Open Sans', verdana, arial, sans-serif; font-size: 12px; fill: rgb(42, 63, 95); fill-opacity: 1; white-space: pre; opacity: 1;\">sikkim</text></g><g class=\"xtick\"><text text-anchor=\"end\" x=\"-2.0999999999999996\" y=\"535.4\" transform=\"translate(205.4,0) rotate(-90,-2.0999999999999996,529.4)\" style=\"font-family: 'Open Sans', verdana, arial, sans-serif; font-size: 12px; fill: rgb(42, 63, 95); fill-opacity: 1; white-space: pre; opacity: 1;\">west bengal</text></g><g class=\"xtick\"><text text-anchor=\"end\" x=\"-2.0999999999999996\" y=\"535.4\" transform=\"translate(228.2,0) rotate(-90,-2.0999999999999996,529.4)\" style=\"font-family: 'Open Sans', verdana, arial, sans-serif; font-size: 12px; fill: rgb(42, 63, 95); fill-opacity: 1; white-space: pre; opacity: 1;\">puducherry</text></g><g class=\"xtick\"><text text-anchor=\"end\" x=\"-2.0999999999999996\" y=\"535.4\" transform=\"translate(251,0) rotate(-90,-2.0999999999999996,529.4)\" style=\"font-family: 'Open Sans', verdana, arial, sans-serif; font-size: 12px; fill: rgb(42, 63, 95); fill-opacity: 1; white-space: pre; opacity: 1;\">arunachal pradesh</text></g><g class=\"xtick\"><text text-anchor=\"end\" x=\"-2.0999999999999996\" y=\"535.4\" transform=\"translate(273.8,0) rotate(-90,-2.0999999999999996,529.4)\" style=\"font-family: 'Open Sans', verdana, arial, sans-serif; font-size: 12px; fill: rgb(42, 63, 95); fill-opacity: 1; white-space: pre; opacity: 1;\">manipur</text></g><g class=\"xtick\"><text text-anchor=\"end\" x=\"-2.0999999999999996\" y=\"535.4\" transform=\"translate(296.6,0) rotate(-90,-2.0999999999999996,529.4)\" style=\"font-family: 'Open Sans', verdana, arial, sans-serif; font-size: 12px; fill: rgb(42, 63, 95); fill-opacity: 1; white-space: pre; opacity: 1;\">meghalaya</text></g><g class=\"xtick\"><text text-anchor=\"end\" x=\"-2.0999999999999996\" y=\"535.4\" transform=\"translate(319.4,0) rotate(-90,-2.0999999999999996,529.4)\" style=\"font-family: 'Open Sans', verdana, arial, sans-serif; font-size: 12px; fill: rgb(42, 63, 95); fill-opacity: 1; white-space: pre; opacity: 1;\">goa</text></g><g class=\"xtick\"><text text-anchor=\"end\" x=\"-2.0999999999999996\" y=\"535.4\" transform=\"translate(342.2,0) rotate(-90,-2.0999999999999996,529.4)\" style=\"font-family: 'Open Sans', verdana, arial, sans-serif; font-size: 12px; fill: rgb(42, 63, 95); fill-opacity: 1; white-space: pre; opacity: 1;\">odisha</text></g><g class=\"xtick\"><text text-anchor=\"end\" x=\"-2.0999999999999996\" y=\"535.4\" transform=\"translate(365,0) rotate(-90,-2.0999999999999996,529.4)\" style=\"font-family: 'Open Sans', verdana, arial, sans-serif; font-size: 12px; fill: rgb(42, 63, 95); fill-opacity: 1; white-space: pre; opacity: 1;\">chhattisgarh</text></g><g class=\"xtick\"><text text-anchor=\"end\" x=\"-2.0999999999999996\" y=\"535.4\" transform=\"translate(387.8,0) rotate(-90,-2.0999999999999996,529.4)\" style=\"font-family: 'Open Sans', verdana, arial, sans-serif; font-size: 12px; fill: rgb(42, 63, 95); fill-opacity: 1; white-space: pre; opacity: 1;\">karnataka</text></g><g class=\"xtick\"><text text-anchor=\"end\" x=\"-2.0999999999999996\" y=\"535.4\" transform=\"translate(410.6,0) rotate(-90,-2.0999999999999996,529.4)\" style=\"font-family: 'Open Sans', verdana, arial, sans-serif; font-size: 12px; fill: rgb(42, 63, 95); fill-opacity: 1; white-space: pre; opacity: 1;\">kerala</text></g><g class=\"xtick\"><text text-anchor=\"end\" x=\"-2.0999999999999996\" y=\"535.4\" transform=\"translate(433.4,0) rotate(-90,-2.0999999999999996,529.4)\" style=\"font-family: 'Open Sans', verdana, arial, sans-serif; font-size: 12px; fill: rgb(42, 63, 95); fill-opacity: 1; white-space: pre; opacity: 1;\">himachal pradesh</text></g><g class=\"xtick\"><text text-anchor=\"end\" x=\"-2.0999999999999996\" y=\"535.4\" transform=\"translate(456.2,0) rotate(-90,-2.0999999999999996,529.4)\" style=\"font-family: 'Open Sans', verdana, arial, sans-serif; font-size: 12px; fill: rgb(42, 63, 95); fill-opacity: 1; white-space: pre; opacity: 1;\">dadra &amp; nagar haveli and daman &amp; diu</text></g><g class=\"xtick\"><text text-anchor=\"end\" x=\"-2.0999999999999996\" y=\"535.4\" transform=\"translate(479,0) rotate(-90,-2.0999999999999996,529.4)\" style=\"font-family: 'Open Sans', verdana, arial, sans-serif; font-size: 12px; fill: rgb(42, 63, 95); fill-opacity: 1; white-space: pre; opacity: 1;\">tamil nadu</text></g><g class=\"xtick\"><text text-anchor=\"end\" x=\"-2.0999999999999996\" y=\"535.4\" transform=\"translate(501.8,0) rotate(-90,-2.0999999999999996,529.4)\" style=\"font-family: 'Open Sans', verdana, arial, sans-serif; font-size: 12px; fill: rgb(42, 63, 95); fill-opacity: 1; white-space: pre; opacity: 1;\">chandigarh</text></g><g class=\"xtick\"><text text-anchor=\"end\" x=\"-2.0999999999999996\" y=\"535.4\" transform=\"translate(524.6,0) rotate(-90,-2.0999999999999996,529.4)\" style=\"font-family: 'Open Sans', verdana, arial, sans-serif; font-size: 12px; fill: rgb(42, 63, 95); fill-opacity: 1; white-space: pre; opacity: 1;\">telangana</text></g><g class=\"xtick\"><text text-anchor=\"end\" x=\"-2.0999999999999996\" y=\"535.4\" transform=\"translate(547.4,0) rotate(-90,-2.0999999999999996,529.4)\" style=\"font-family: 'Open Sans', verdana, arial, sans-serif; font-size: 12px; fill: rgb(42, 63, 95); fill-opacity: 1; white-space: pre; opacity: 1;\">madhya pradesh</text></g><g class=\"xtick\"><text text-anchor=\"end\" x=\"-2.0999999999999996\" y=\"535.4\" transform=\"translate(570.2,0) rotate(-90,-2.0999999999999996,529.4)\" style=\"font-family: 'Open Sans', verdana, arial, sans-serif; font-size: 12px; fill: rgb(42, 63, 95); fill-opacity: 1; white-space: pre; opacity: 1;\">jharkhand</text></g><g class=\"xtick\"><text text-anchor=\"end\" x=\"-2.0999999999999996\" y=\"535.4\" transform=\"translate(593,0) rotate(-90,-2.0999999999999996,529.4)\" style=\"font-family: 'Open Sans', verdana, arial, sans-serif; font-size: 12px; fill: rgb(42, 63, 95); fill-opacity: 1; white-space: pre; opacity: 1;\">haryana</text></g><g class=\"xtick\"><text text-anchor=\"end\" x=\"-2.0999999999999996\" y=\"535.4\" transform=\"translate(615.8,0) rotate(-90,-2.0999999999999996,529.4)\" style=\"font-family: 'Open Sans', verdana, arial, sans-serif; font-size: 12px; fill: rgb(42, 63, 95); fill-opacity: 1; white-space: pre; opacity: 1;\">andaman &amp; nicobar islands</text></g><g class=\"xtick\"><text text-anchor=\"end\" x=\"-2.0999999999999996\" y=\"535.4\" transform=\"translate(638.6,0) rotate(-90,-2.0999999999999996,529.4)\" style=\"font-family: 'Open Sans', verdana, arial, sans-serif; font-size: 12px; fill: rgb(42, 63, 95); fill-opacity: 1; white-space: pre; opacity: 1;\">punjab</text></g><g class=\"xtick\"><text text-anchor=\"end\" x=\"-2.0999999999999996\" y=\"535.4\" transform=\"translate(661.4,0) rotate(-90,-2.0999999999999996,529.4)\" style=\"font-family: 'Open Sans', verdana, arial, sans-serif; font-size: 12px; fill: rgb(42, 63, 95); fill-opacity: 1; white-space: pre; opacity: 1;\">maharashtra</text></g><g class=\"xtick\"><text text-anchor=\"end\" x=\"-2.0999999999999996\" y=\"535.4\" transform=\"translate(684.2,0) rotate(-90,-2.0999999999999996,529.4)\" style=\"font-family: 'Open Sans', verdana, arial, sans-serif; font-size: 12px; fill: rgb(42, 63, 95); fill-opacity: 1; white-space: pre; opacity: 1;\">rajasthan</text></g><g class=\"xtick\"><text text-anchor=\"end\" x=\"-2.0999999999999996\" y=\"535.4\" transform=\"translate(707,0) rotate(-90,-2.0999999999999996,529.4)\" style=\"font-family: 'Open Sans', verdana, arial, sans-serif; font-size: 12px; fill: rgb(42, 63, 95); fill-opacity: 1; white-space: pre; opacity: 1;\">gujarat</text></g><g class=\"xtick\"><text text-anchor=\"end\" x=\"-2.0999999999999996\" y=\"535.4\" transform=\"translate(729.8,0) rotate(-90,-2.0999999999999996,529.4)\" style=\"font-family: 'Open Sans', verdana, arial, sans-serif; font-size: 12px; fill: rgb(42, 63, 95); fill-opacity: 1; white-space: pre; opacity: 1;\">jammu and kashmir</text></g><g class=\"xtick\"><text text-anchor=\"end\" x=\"-2.0999999999999996\" y=\"535.4\" transform=\"translate(752.6,0) rotate(-90,-2.0999999999999996,529.4)\" style=\"font-family: 'Open Sans', verdana, arial, sans-serif; font-size: 12px; fill: rgb(42, 63, 95); fill-opacity: 1; white-space: pre; opacity: 1;\">nct of delhi</text></g><g class=\"xtick\"><text text-anchor=\"end\" x=\"-2.0999999999999996\" y=\"535.4\" transform=\"translate(775.4,0) rotate(-90,-2.0999999999999996,529.4)\" style=\"font-family: 'Open Sans', verdana, arial, sans-serif; font-size: 12px; fill: rgb(42, 63, 95); fill-opacity: 1; white-space: pre; opacity: 1;\">nagaland</text></g><g class=\"xtick\"><text text-anchor=\"end\" x=\"-2.0999999999999996\" y=\"535.4\" transform=\"translate(798.2,0) rotate(-90,-2.0999999999999996,529.4)\" style=\"font-family: 'Open Sans', verdana, arial, sans-serif; font-size: 12px; fill: rgb(42, 63, 95); fill-opacity: 1; white-space: pre; opacity: 1;\">uttar pradesh</text></g><g class=\"xtick\"><text text-anchor=\"end\" x=\"-2.0999999999999996\" y=\"535.4\" transform=\"translate(821,0) rotate(-90,-2.0999999999999996,529.4)\" style=\"font-family: 'Open Sans', verdana, arial, sans-serif; font-size: 12px; fill: rgb(42, 63, 95); fill-opacity: 1; white-space: pre; opacity: 1;\">mizoram</text></g><g class=\"xtick\"><text text-anchor=\"end\" x=\"-2.0999999999999996\" y=\"535.4\" transform=\"translate(843.8,0) rotate(-90,-2.0999999999999996,529.4)\" style=\"font-family: 'Open Sans', verdana, arial, sans-serif; font-size: 12px; fill: rgb(42, 63, 95); fill-opacity: 1; white-space: pre; opacity: 1;\">bihar</text></g><g class=\"xtick\"><text text-anchor=\"end\" x=\"-2.0999999999999996\" y=\"535.4\" transform=\"translate(866.6,0) rotate(-90,-2.0999999999999996,529.4)\" style=\"font-family: 'Open Sans', verdana, arial, sans-serif; font-size: 12px; fill: rgb(42, 63, 95); fill-opacity: 1; white-space: pre; opacity: 1;\">uttarakhand</text></g></g><g class=\"yaxislayer-above\"><g class=\"ytick\"><text text-anchor=\"end\" x=\"79\" y=\"4.199999999999999\" transform=\"translate(0,526)\" style=\"font-family: 'Open Sans', verdana, arial, sans-serif; font-size: 12px; fill: rgb(42, 63, 95); fill-opacity: 1; white-space: pre; opacity: 1;\">0</text></g><g class=\"ytick\"><text text-anchor=\"end\" x=\"79\" y=\"4.199999999999999\" style=\"font-family: 'Open Sans', verdana, arial, sans-serif; font-size: 12px; fill: rgb(42, 63, 95); fill-opacity: 1; white-space: pre; opacity: 1;\" transform=\"translate(0,477.91)\">10</text></g><g class=\"ytick\"><text text-anchor=\"end\" x=\"79\" y=\"4.199999999999999\" style=\"font-family: 'Open Sans', verdana, arial, sans-serif; font-size: 12px; fill: rgb(42, 63, 95); fill-opacity: 1; white-space: pre; opacity: 1;\" transform=\"translate(0,429.83)\">20</text></g><g class=\"ytick\"><text text-anchor=\"end\" x=\"79\" y=\"4.199999999999999\" style=\"font-family: 'Open Sans', verdana, arial, sans-serif; font-size: 12px; fill: rgb(42, 63, 95); fill-opacity: 1; white-space: pre; opacity: 1;\" transform=\"translate(0,381.74)\">30</text></g><g class=\"ytick\"><text text-anchor=\"end\" x=\"79\" y=\"4.199999999999999\" style=\"font-family: 'Open Sans', verdana, arial, sans-serif; font-size: 12px; fill: rgb(42, 63, 95); fill-opacity: 1; white-space: pre; opacity: 1;\" transform=\"translate(0,333.65)\">40</text></g><g class=\"ytick\"><text text-anchor=\"end\" x=\"79\" y=\"4.199999999999999\" style=\"font-family: 'Open Sans', verdana, arial, sans-serif; font-size: 12px; fill: rgb(42, 63, 95); fill-opacity: 1; white-space: pre; opacity: 1;\" transform=\"translate(0,285.57)\">50</text></g><g class=\"ytick\"><text text-anchor=\"end\" x=\"79\" y=\"4.199999999999999\" style=\"font-family: 'Open Sans', verdana, arial, sans-serif; font-size: 12px; fill: rgb(42, 63, 95); fill-opacity: 1; white-space: pre; opacity: 1;\" transform=\"translate(0,237.48)\">60</text></g><g class=\"ytick\"><text text-anchor=\"end\" x=\"79\" y=\"4.199999999999999\" style=\"font-family: 'Open Sans', verdana, arial, sans-serif; font-size: 12px; fill: rgb(42, 63, 95); fill-opacity: 1; white-space: pre; opacity: 1;\" transform=\"translate(0,189.39)\">70</text></g><g class=\"ytick\"><text text-anchor=\"end\" x=\"79\" y=\"4.199999999999999\" style=\"font-family: 'Open Sans', verdana, arial, sans-serif; font-size: 12px; fill: rgb(42, 63, 95); fill-opacity: 1; white-space: pre; opacity: 1;\" transform=\"translate(0,141.3)\">80</text></g></g><g class=\"overaxes-above\"/></g></g><g class=\"polarlayer\"/><g class=\"smithlayer\"/><g class=\"ternarylayer\"/><g class=\"geolayer\"/><g class=\"funnelarealayer\"/><g class=\"pielayer\"/><g class=\"iciclelayer\"/><g class=\"treemaplayer\"/><g class=\"sunburstlayer\"/><g class=\"glimages\"/><defs id=\"topdefs-7a32b0\"><g class=\"clips\"/></defs><g class=\"layer-above\"><g class=\"imagelayer\"/><g class=\"shapelayer\"/></g><g class=\"infolayer\"><g class=\"cbcoloraxis colorbar\" transform=\"translate(80,100)\"><rect class=\"cbbg\" x=\"814\" y=\"0\" width=\"94.359375\" height=\"426\" style=\"fill: rgb(0, 0, 0); fill-opacity: 0; stroke: rgb(68, 68, 68); stroke-opacity: 1; stroke-width: 0;\"/><g class=\"cbfills\" transform=\"translate(0,32)\"><rect class=\"cbfill gradient_filled\" x=\"824\" y=\"0\" width=\"30\" height=\"384\" style=\"fill: url('#g7a32b0-cbcoloraxis');\"/></g><g class=\"cblines\" transform=\"translate(0,32)\"/><g class=\"cbaxis crisp\" transform=\"translate(0,-100)\"><g class=\"ycbcoloraxistick\"><text text-anchor=\"start\" x=\"856.9\" y=\"4.199999999999999\" transform=\"translate(0,463.62)\" style=\"font-family: 'Open Sans', verdana, arial, sans-serif; font-size: 12px; fill: rgb(42, 63, 95); fill-opacity: 1; white-space: pre; opacity: 1;\">60</text></g><g class=\"ycbcoloraxistick\"><text text-anchor=\"start\" x=\"856.9\" y=\"4.199999999999999\" style=\"font-family: 'Open Sans', verdana, arial, sans-serif; font-size: 12px; fill: rgb(42, 63, 95); fill-opacity: 1; white-space: pre; opacity: 1;\" transform=\"translate(0,394.99)\">65</text></g><g class=\"ycbcoloraxistick\"><text text-anchor=\"start\" x=\"856.9\" y=\"4.199999999999999\" style=\"font-family: 'Open Sans', verdana, arial, sans-serif; font-size: 12px; fill: rgb(42, 63, 95); fill-opacity: 1; white-space: pre; opacity: 1;\" transform=\"translate(0,326.36)\">70</text></g><g class=\"ycbcoloraxistick\"><text text-anchor=\"start\" x=\"856.9\" y=\"4.199999999999999\" style=\"font-family: 'Open Sans', verdana, arial, sans-serif; font-size: 12px; fill: rgb(42, 63, 95); fill-opacity: 1; white-space: pre; opacity: 1;\" transform=\"translate(0,257.73)\">75</text></g><g class=\"ycbcoloraxistick\"><text text-anchor=\"start\" x=\"856.9\" y=\"4.199999999999999\" style=\"font-family: 'Open Sans', verdana, arial, sans-serif; font-size: 12px; fill: rgb(42, 63, 95); fill-opacity: 1; white-space: pre; opacity: 1;\" transform=\"translate(0,189.1)\">80</text></g></g><g class=\"cbtitleunshift\" transform=\"translate(-80,-100)\"><g class=\"cbtitle\" transform=\"\"><text class=\"ycbcoloraxistitle\" x=\"903.96\" y=\"123.5\" text-anchor=\"start\" style=\"font-family: 'Open Sans', verdana, arial, sans-serif; font-size: 14px; fill: rgb(42, 63, 95); opacity: 1; font-weight: normal; white-space: pre;\">Polled (%)</text></g></g><rect class=\"cboutline\" x=\"824\" y=\"32\" width=\"30\" height=\"384\" style=\"stroke: rgb(68, 68, 68); stroke-opacity: 1; fill: none; stroke-width: 0;\"/></g><g class=\"g-gtitle\"><text class=\"gtitle\" x=\"50\" y=\"50\" text-anchor=\"start\" dy=\"0em\" style=\"font-family: 'Open Sans', verdana, arial, sans-serif; font-size: 17px; fill: rgb(42, 63, 95); opacity: 1; font-weight: normal; white-space: pre;\">State Wise Average Vote Percentage in 2024 General Election</text></g><g class=\"g-xtitle\"><text class=\"xtitle\" x=\"479\" y=\"787.7091796875\" text-anchor=\"middle\" style=\"font-family: 'Open Sans', verdana, arial, sans-serif; font-size: 14px; fill: rgb(42, 63, 95); opacity: 1; font-weight: normal; white-space: pre;\">State</text></g><g class=\"g-ytitle\"><text class=\"ytitle\" transform=\"rotate(-90,38.934375,313)\" x=\"38.934375\" y=\"313\" text-anchor=\"middle\" style=\"font-family: 'Open Sans', verdana, arial, sans-serif; font-size: 14px; fill: rgb(42, 63, 95); opacity: 1; font-weight: normal; white-space: pre;\">Polled (%)</text></g></g></svg>"
      ]
     },
     "metadata": {},
     "output_type": "display_data"
    }
   ],
   "source": [
    "fig = px.bar(state_avg_voting, x='State', y='Polled (%)',\n",
    "             labels={'State': 'State', 'Polled (%)': 'Polled (%)'},\n",
    "             title='State Wise Average Vote Percentage in 2024 General Election',\n",
    "             color='Polled (%)',\n",
    "             color_continuous_scale='fall')\n",
    "\n",
    "fig.update_layout(xaxis={'categoryorder': 'total descending'},\n",
    "                  xaxis_tickangle=-90,\n",
    "                  width=1000,\n",
    "                  height=800,\n",
    "                  template='plotly_white')\n",
    "\n",
    "fig.show(\"svg\")"
   ]
  },
  {
   "cell_type": "markdown",
   "id": "0ede4a44-d308-4a77-929d-31ce4492a602",
   "metadata": {},
   "source": [
    "The above bar graph shows **Average Vote Percentage in 2024 General Election in state and union territory [UT].**\n",
    "\n",
    "List of five states and UTs with the **highest average vote percent**               \n",
    "1. **Lakshadweep - 84.16 %**\n",
    "2. **Tripura - 80.92 %**\n",
    "3. **Assam - 80.88 %**\n",
    "4. **Andra Pradesh - 80.77 %**\n",
    "5. **Sikkim - 79.88 %**\n",
    "\n",
    "List of five states and UTs with the **lowest average vote percent**\n",
    "1. **Nagaland - 57.72 %**\n",
    "2. **Uttar Pradesh - 57.04 %**\n",
    "3. **Mizoram - 56.87 %**\n",
    "4. **Bihar - 56.32 %**\n",
    "5. **Uttrakhand - 56.18 %**"
   ]
  },
  {
   "cell_type": "code",
   "execution_count": 49,
   "id": "42d1e3cf-3745-464e-b430-5d03950c308d",
   "metadata": {},
   "outputs": [
    {
     "data": {
      "image/svg+xml": [
       "<svg class=\"main-svg\" xmlns=\"http://www.w3.org/2000/svg\" xmlns:xlink=\"http://www.w3.org/1999/xlink\" width=\"1000\" height=\"800\" style=\"\" viewBox=\"0 0 1000 800\"><rect x=\"0\" y=\"0\" width=\"1000\" height=\"800\" style=\"fill: rgb(255, 255, 255); fill-opacity: 1;\"/><defs id=\"defs-8c69ff\"><g class=\"clips\"><clipPath id=\"clip8c69ffxyplot\" class=\"plotclip\"><rect width=\"798\" height=\"528\"/></clipPath><clipPath class=\"axesclip\" id=\"clip8c69ffx\"><rect x=\"80\" y=\"0\" width=\"798\" height=\"800\"/></clipPath><clipPath class=\"axesclip\" id=\"clip8c69ffy\"><rect x=\"0\" y=\"100\" width=\"1000\" height=\"528\"/></clipPath><clipPath class=\"axesclip\" id=\"clip8c69ffxy\"><rect x=\"80\" y=\"100\" width=\"798\" height=\"528\"/></clipPath></g><g class=\"gradients\"><linearGradient x1=\"0\" x2=\"0\" y1=\"1\" y2=\"0\" id=\"g8c69ff-cbcoloraxis\"><stop offset=\"0%\" stop-color=\"rgb(255, 245, 240)\" stop-opacity=\"1\"/><stop offset=\"12.5%\" stop-color=\"rgb(254, 224, 210)\" stop-opacity=\"1\"/><stop offset=\"25%\" stop-color=\"rgb(252, 187, 161)\" stop-opacity=\"1\"/><stop offset=\"37.5%\" stop-color=\"rgb(252, 146, 114)\" stop-opacity=\"1\"/><stop offset=\"50%\" stop-color=\"rgb(251, 106, 74)\" stop-opacity=\"1\"/><stop offset=\"62.5%\" stop-color=\"rgb(239, 59, 44)\" stop-opacity=\"1\"/><stop offset=\"75%\" stop-color=\"rgb(203, 24, 29)\" stop-opacity=\"1\"/><stop offset=\"87.5%\" stop-color=\"rgb(165, 15, 21)\" stop-opacity=\"1\"/><stop offset=\"100%\" stop-color=\"rgb(103, 0, 13)\" stop-opacity=\"1\"/></linearGradient></g><g class=\"patterns\"/></defs><g class=\"bglayer\"/><g class=\"layer-below\"><g class=\"imagelayer\"/><g class=\"shapelayer\"/></g><g class=\"cartesianlayer\"><g class=\"subplot xy\"><g class=\"layer-subplot\"><g class=\"shapelayer\"/><g class=\"imagelayer\"/></g><g class=\"minor-gridlayer\"><g class=\"x\"/><g class=\"y\"/></g><g class=\"gridlayer\"><g class=\"x\"/><g class=\"y\"><path class=\"ygrid crisp\" transform=\"translate(0,573.53)\" d=\"M80,0h798\" style=\"stroke: rgb(235, 240, 248); stroke-opacity: 1; stroke-width: 1px;\"/><path class=\"ygrid crisp\" transform=\"translate(0,519.05)\" d=\"M80,0h798\" style=\"stroke: rgb(235, 240, 248); stroke-opacity: 1; stroke-width: 1px;\"/><path class=\"ygrid crisp\" transform=\"translate(0,464.58)\" d=\"M80,0h798\" style=\"stroke: rgb(235, 240, 248); stroke-opacity: 1; stroke-width: 1px;\"/><path class=\"ygrid crisp\" transform=\"translate(0,410.1)\" d=\"M80,0h798\" style=\"stroke: rgb(235, 240, 248); stroke-opacity: 1; stroke-width: 1px;\"/><path class=\"ygrid crisp\" transform=\"translate(0,355.63)\" d=\"M80,0h798\" style=\"stroke: rgb(235, 240, 248); stroke-opacity: 1; stroke-width: 1px;\"/><path class=\"ygrid crisp\" transform=\"translate(0,301.15)\" d=\"M80,0h798\" style=\"stroke: rgb(235, 240, 248); stroke-opacity: 1; stroke-width: 1px;\"/><path class=\"ygrid crisp\" transform=\"translate(0,246.68)\" d=\"M80,0h798\" style=\"stroke: rgb(235, 240, 248); stroke-opacity: 1; stroke-width: 1px;\"/><path class=\"ygrid crisp\" transform=\"translate(0,192.20999999999998)\" d=\"M80,0h798\" style=\"stroke: rgb(235, 240, 248); stroke-opacity: 1; stroke-width: 1px;\"/><path class=\"ygrid crisp\" transform=\"translate(0,137.73)\" d=\"M80,0h798\" style=\"stroke: rgb(235, 240, 248); stroke-opacity: 1; stroke-width: 1px;\"/></g></g><g class=\"zerolinelayer\"><path class=\"yzl zl crisp\" transform=\"translate(0,628)\" d=\"M80,0h798\" style=\"stroke: rgb(235, 240, 248); stroke-opacity: 1; stroke-width: 2px;\"/></g><path class=\"xlines-below\"/><path class=\"ylines-below\"/><g class=\"overlines-below\"/><g class=\"xaxislayer-below\"/><g class=\"yaxislayer-below\"/><g class=\"overaxes-below\"/><g class=\"plot\" transform=\"translate(80,100)\" clip-path=\"url(#clip8c69ffxyplot)\"><g class=\"barlayer mlayer\"><g class=\"trace bars\" style=\"opacity: 1;\"><g class=\"points\"><g class=\"point\"><path d=\"M1.6,528V26.4H14.36V528Z\" style=\"vector-effect: non-scaling-stroke; opacity: 1; stroke-width: 0.5px; fill: rgb(103, 0, 13); fill-opacity: 1; stroke: rgb(255, 255, 255); stroke-opacity: 1;\"/></g><g class=\"point\"><path d=\"M17.56,528V53.75H30.32V528Z\" style=\"vector-effect: non-scaling-stroke; opacity: 1; stroke-width: 0.5px; fill: rgb(245, 81, 58); fill-opacity: 1; stroke: rgb(255, 255, 255); stroke-opacity: 1;\"/></g><g class=\"point\"><path d=\"M33.52,528V60.01H46.28V528Z\" style=\"vector-effect: non-scaling-stroke; opacity: 1; stroke-width: 0.5px; fill: rgb(251, 116, 84); fill-opacity: 1; stroke: rgb(255, 255, 255); stroke-opacity: 1;\"/></g><g class=\"point\"><path d=\"M49.48,528V60.77H62.24V528Z\" style=\"vector-effect: non-scaling-stroke; opacity: 1; stroke-width: 0.5px; fill: rgb(251, 120, 88); fill-opacity: 1; stroke: rgb(255, 255, 255); stroke-opacity: 1;\"/></g><g class=\"point\"><path d=\"M65.44,528V61.43H78.2V528Z\" style=\"vector-effect: non-scaling-stroke; opacity: 1; stroke-width: 0.5px; fill: rgb(251, 123, 91); fill-opacity: 1; stroke: rgb(255, 255, 255); stroke-opacity: 1;\"/></g><g class=\"point\"><path d=\"M81.4,528V62.35H94.16V528Z\" style=\"vector-effect: non-scaling-stroke; opacity: 1; stroke-width: 0.5px; fill: rgb(252, 128, 96); fill-opacity: 1; stroke: rgb(255, 255, 255); stroke-opacity: 1;\"/></g><g class=\"point\"><path d=\"M97.36,528V63.66H110.12V528Z\" style=\"vector-effect: non-scaling-stroke; opacity: 1; stroke-width: 0.5px; fill: rgb(252, 135, 103); fill-opacity: 1; stroke: rgb(255, 255, 255); stroke-opacity: 1;\"/></g><g class=\"point\"><path d=\"M113.32,528V64.37H126.08V528Z\" style=\"vector-effect: non-scaling-stroke; opacity: 1; stroke-width: 0.5px; fill: rgb(252, 138, 106); fill-opacity: 1; stroke: rgb(255, 255, 255); stroke-opacity: 1;\"/></g><g class=\"point\"><path d=\"M129.28,528V65.13H142.04V528Z\" style=\"vector-effect: non-scaling-stroke; opacity: 1; stroke-width: 0.5px; fill: rgb(252, 142, 110); fill-opacity: 1; stroke: rgb(255, 255, 255); stroke-opacity: 1;\"/></g><g class=\"point\"><path d=\"M145.24,528V66.11H158V528Z\" style=\"vector-effect: non-scaling-stroke; opacity: 1; stroke-width: 0.5px; fill: rgb(252, 147, 115); fill-opacity: 1; stroke: rgb(255, 255, 255); stroke-opacity: 1;\"/></g><g class=\"point\"><path d=\"M161.2,528V66.22H173.96V528Z\" style=\"vector-effect: non-scaling-stroke; opacity: 1; stroke-width: 0.5px; fill: rgb(252, 148, 116); fill-opacity: 1; stroke: rgb(255, 255, 255); stroke-opacity: 1;\"/></g><g class=\"point\"><path d=\"M177.16,528V66.6H189.92V528Z\" style=\"vector-effect: non-scaling-stroke; opacity: 1; stroke-width: 0.5px; fill: rgb(252, 150, 118); fill-opacity: 1; stroke: rgb(255, 255, 255); stroke-opacity: 1;\"/></g><g class=\"point\"><path d=\"M193.12,528V68.73H205.88V528Z\" style=\"vector-effect: non-scaling-stroke; opacity: 1; stroke-width: 0.5px; fill: rgb(252, 161, 131); fill-opacity: 1; stroke: rgb(255, 255, 255); stroke-opacity: 1;\"/></g><g class=\"point\"><path d=\"M209.08,528V69.54H221.84V528Z\" style=\"vector-effect: non-scaling-stroke; opacity: 1; stroke-width: 0.5px; fill: rgb(252, 165, 136); fill-opacity: 1; stroke: rgb(255, 255, 255); stroke-opacity: 1;\"/></g><g class=\"point\"><path d=\"M225.04,528V70.14H237.8V528Z\" style=\"vector-effect: non-scaling-stroke; opacity: 1; stroke-width: 0.5px; fill: rgb(252, 168, 139); fill-opacity: 1; stroke: rgb(255, 255, 255); stroke-opacity: 1;\"/></g><g class=\"point\"><path d=\"M241,528V71.23H253.76V528Z\" style=\"vector-effect: non-scaling-stroke; opacity: 1; stroke-width: 0.5px; fill: rgb(252, 174, 146); fill-opacity: 1; stroke: rgb(255, 255, 255); stroke-opacity: 1;\"/></g><g class=\"point\"><path d=\"M256.96,528V72.16H269.72V528Z\" style=\"vector-effect: non-scaling-stroke; opacity: 1; stroke-width: 0.5px; fill: rgb(252, 179, 151); fill-opacity: 1; stroke: rgb(255, 255, 255); stroke-opacity: 1;\"/></g><g class=\"point\"><path d=\"M272.92,528V72.27H285.68V528Z\" style=\"vector-effect: non-scaling-stroke; opacity: 1; stroke-width: 0.5px; fill: rgb(252, 179, 152); fill-opacity: 1; stroke: rgb(255, 255, 255); stroke-opacity: 1;\"/></g><g class=\"point\"><path d=\"M288.88,528V72.87H301.64V528Z\" style=\"vector-effect: non-scaling-stroke; opacity: 1; stroke-width: 0.5px; fill: rgb(252, 182, 155); fill-opacity: 1; stroke: rgb(255, 255, 255); stroke-opacity: 1;\"/></g><g class=\"point\"><path d=\"M304.84,528V73.3H317.6V528Z\" style=\"vector-effect: non-scaling-stroke; opacity: 1; stroke-width: 0.5px; fill: rgb(252, 184, 158); fill-opacity: 1; stroke: rgb(255, 255, 255); stroke-opacity: 1;\"/></g><g class=\"point\"><path d=\"M320.8,528V74.17H333.56V528Z\" style=\"vector-effect: non-scaling-stroke; opacity: 1; stroke-width: 0.5px; fill: rgb(252, 189, 163); fill-opacity: 1; stroke: rgb(255, 255, 255); stroke-opacity: 1;\"/></g><g class=\"point\"><path d=\"M336.76,528V76.68H349.52V528Z\" style=\"vector-effect: non-scaling-stroke; opacity: 1; stroke-width: 0.5px; fill: rgb(253, 201, 179); fill-opacity: 1; stroke: rgb(255, 255, 255); stroke-opacity: 1;\"/></g><g class=\"point\"><path d=\"M352.72,528V77.71H365.48V528Z\" style=\"vector-effect: non-scaling-stroke; opacity: 1; stroke-width: 0.5px; fill: rgb(253, 205, 185); fill-opacity: 1; stroke: rgb(255, 255, 255); stroke-opacity: 1;\"/></g><g class=\"point\"><path d=\"M368.68,528V77.93H381.44V528Z\" style=\"vector-effect: non-scaling-stroke; opacity: 1; stroke-width: 0.5px; fill: rgb(253, 206, 187); fill-opacity: 1; stroke: rgb(255, 255, 255); stroke-opacity: 1;\"/></g><g class=\"point\"><path d=\"M384.64,528V78.1H397.4V528Z\" style=\"vector-effect: non-scaling-stroke; opacity: 1; stroke-width: 0.5px; fill: rgb(253, 207, 188); fill-opacity: 1; stroke: rgb(255, 255, 255); stroke-opacity: 1;\"/></g><g class=\"point\"><path d=\"M400.6,528V80.38H413.36V528Z\" style=\"vector-effect: non-scaling-stroke; opacity: 1; stroke-width: 0.5px; fill: rgb(254, 218, 202); fill-opacity: 1; stroke: rgb(255, 255, 255); stroke-opacity: 1;\"/></g><g class=\"point\"><path d=\"M432.52,528V80.44H445.28V528Z\" style=\"vector-effect: non-scaling-stroke; opacity: 1; stroke-width: 0.5px; fill: rgb(254, 218, 202); fill-opacity: 1; stroke: rgb(255, 255, 255); stroke-opacity: 1;\"/></g><g class=\"point\"><path d=\"M416.56,528V80.44H429.32V528Z\" style=\"vector-effect: non-scaling-stroke; opacity: 1; stroke-width: 0.5px; fill: rgb(254, 218, 202); fill-opacity: 1; stroke: rgb(255, 255, 255); stroke-opacity: 1;\"/></g><g class=\"point\"><path d=\"M448.48,528V81.15H461.24V528Z\" style=\"vector-effect: non-scaling-stroke; opacity: 1; stroke-width: 0.5px; fill: rgb(254, 221, 207); fill-opacity: 1; stroke: rgb(255, 255, 255); stroke-opacity: 1;\"/></g><g class=\"point\"><path d=\"M464.44,528V81.2H477.2V528Z\" style=\"vector-effect: non-scaling-stroke; opacity: 1; stroke-width: 0.5px; fill: rgb(254, 222, 207); fill-opacity: 1; stroke: rgb(255, 255, 255); stroke-opacity: 1;\"/></g><g class=\"point\"><path d=\"M480.4,528V81.26H493.16V528Z\" style=\"vector-effect: non-scaling-stroke; opacity: 1; stroke-width: 0.5px; fill: rgb(254, 222, 207); fill-opacity: 1; stroke: rgb(255, 255, 255); stroke-opacity: 1;\"/></g><g class=\"point\"><path d=\"M496.36,528V81.8H509.12V528Z\" style=\"vector-effect: non-scaling-stroke; opacity: 1; stroke-width: 0.5px; fill: rgb(254, 224, 210); fill-opacity: 1; stroke: rgb(255, 255, 255); stroke-opacity: 1;\"/></g><g class=\"point\"><path d=\"M512.32,528V82.02H525.08V528Z\" style=\"vector-effect: non-scaling-stroke; opacity: 1; stroke-width: 0.5px; fill: rgb(254, 225, 211); fill-opacity: 1; stroke: rgb(255, 255, 255); stroke-opacity: 1;\"/></g><g class=\"point\"><path d=\"M528.28,528V83.11H541.04V528Z\" style=\"vector-effect: non-scaling-stroke; opacity: 1; stroke-width: 0.5px; fill: rgb(254, 228, 215); fill-opacity: 1; stroke: rgb(255, 255, 255); stroke-opacity: 1;\"/></g><g class=\"point\"><path d=\"M544.24,528V83.71H557V528Z\" style=\"vector-effect: non-scaling-stroke; opacity: 1; stroke-width: 0.5px; fill: rgb(254, 229, 218); fill-opacity: 1; stroke: rgb(255, 255, 255); stroke-opacity: 1;\"/></g><g class=\"point\"><path d=\"M560.2,528V83.92H572.96V528Z\" style=\"vector-effect: non-scaling-stroke; opacity: 1; stroke-width: 0.5px; fill: rgb(254, 230, 218); fill-opacity: 1; stroke: rgb(255, 255, 255); stroke-opacity: 1;\"/></g><g class=\"point\"><path d=\"M576.16,528V84.14H588.92V528Z\" style=\"vector-effect: non-scaling-stroke; opacity: 1; stroke-width: 0.5px; fill: rgb(254, 231, 219); fill-opacity: 1; stroke: rgb(255, 255, 255); stroke-opacity: 1;\"/></g><g class=\"point\"><path d=\"M592.12,528V84.69H604.88V528Z\" style=\"vector-effect: non-scaling-stroke; opacity: 1; stroke-width: 0.5px; fill: rgb(254, 232, 221); fill-opacity: 1; stroke: rgb(255, 255, 255); stroke-opacity: 1;\"/></g><g class=\"point\"><path d=\"M608.08,528V84.74H620.84V528Z\" style=\"vector-effect: non-scaling-stroke; opacity: 1; stroke-width: 0.5px; fill: rgb(254, 232, 222); fill-opacity: 1; stroke: rgb(255, 255, 255); stroke-opacity: 1;\"/></g><g class=\"point\"><path d=\"M624.04,528V85.67H636.8V528Z\" style=\"vector-effect: non-scaling-stroke; opacity: 1; stroke-width: 0.5px; fill: rgb(255, 235, 225); fill-opacity: 1; stroke: rgb(255, 255, 255); stroke-opacity: 1;\"/></g><g class=\"point\"><path d=\"M640,528V86.49H652.76V528Z\" style=\"vector-effect: non-scaling-stroke; opacity: 1; stroke-width: 0.5px; fill: rgb(255, 237, 228); fill-opacity: 1; stroke: rgb(255, 255, 255); stroke-opacity: 1;\"/></g><g class=\"point\"><path d=\"M671.92,528V86.54H684.68V528Z\" style=\"vector-effect: non-scaling-stroke; opacity: 1; stroke-width: 0.5px; fill: rgb(255, 237, 228); fill-opacity: 1; stroke: rgb(255, 255, 255); stroke-opacity: 1;\"/></g><g class=\"point\"><path d=\"M655.96,528V86.54H668.72V528Z\" style=\"vector-effect: non-scaling-stroke; opacity: 1; stroke-width: 0.5px; fill: rgb(255, 237, 228); fill-opacity: 1; stroke: rgb(255, 255, 255); stroke-opacity: 1;\"/></g><g class=\"point\"><path d=\"M687.88,528V87.14H700.64V528Z\" style=\"vector-effect: non-scaling-stroke; opacity: 1; stroke-width: 0.5px; fill: rgb(255, 238, 231); fill-opacity: 1; stroke: rgb(255, 255, 255); stroke-opacity: 1;\"/></g><g class=\"point\"><path d=\"M703.84,528V88.12H716.6V528Z\" style=\"vector-effect: non-scaling-stroke; opacity: 1; stroke-width: 0.5px; fill: rgb(255, 241, 234); fill-opacity: 1; stroke: rgb(255, 255, 255); stroke-opacity: 1;\"/></g><g class=\"point\"><path d=\"M719.8,528V88.28H732.56V528Z\" style=\"vector-effect: non-scaling-stroke; opacity: 1; stroke-width: 0.5px; fill: rgb(255, 242, 235); fill-opacity: 1; stroke: rgb(255, 255, 255); stroke-opacity: 1;\"/></g><g class=\"point\"><path d=\"M735.76,528V88.66H748.52V528Z\" style=\"vector-effect: non-scaling-stroke; opacity: 1; stroke-width: 0.5px; fill: rgb(255, 243, 236); fill-opacity: 1; stroke: rgb(255, 255, 255); stroke-opacity: 1;\"/></g><g class=\"point\"><path d=\"M751.72,528V88.88H764.48V528Z\" style=\"vector-effect: non-scaling-stroke; opacity: 1; stroke-width: 0.5px; fill: rgb(255, 243, 237); fill-opacity: 1; stroke: rgb(255, 255, 255); stroke-opacity: 1;\"/></g><g class=\"point\"><path d=\"M767.68,528V89.43H780.44V528Z\" style=\"vector-effect: non-scaling-stroke; opacity: 1; stroke-width: 0.5px; fill: rgb(255, 245, 239); fill-opacity: 1; stroke: rgb(255, 255, 255); stroke-opacity: 1;\"/></g><g class=\"point\"><path d=\"M783.64,528V89.59H796.4V528Z\" style=\"vector-effect: non-scaling-stroke; opacity: 1; stroke-width: 0.5px; fill: rgb(255, 245, 240); fill-opacity: 1; stroke: rgb(255, 255, 255); stroke-opacity: 1;\"/></g></g></g></g></g><g class=\"overplot\"/><path class=\"xlines-above crisp\" d=\"M0,0\" style=\"fill: none;\"/><path class=\"ylines-above crisp\" d=\"M0,0\" style=\"fill: none;\"/><g class=\"overlines-above\"/><g class=\"xaxislayer-above\"><g class=\"xtick\"><text text-anchor=\"end\" x=\"-2.0999999999999996\" y=\"637.4\" transform=\"translate(87.98,0) rotate(-90,-2.0999999999999996,631.4)\" style=\"font-family: 'Open Sans', verdana, arial, sans-serif; font-size: 12px; fill: rgb(42, 63, 95); fill-opacity: 1; white-space: pre; opacity: 1;\">Dhubri</text></g><g class=\"xtick\"><text text-anchor=\"end\" x=\"-2.0999999999999996\" y=\"637.4\" transform=\"translate(103.94,0) rotate(-90,-2.0999999999999996,631.4)\" style=\"font-family: 'Open Sans', verdana, arial, sans-serif; font-size: 12px; fill: rgb(42, 63, 95); fill-opacity: 1; white-space: pre; opacity: 1;\">Ongole</text></g><g class=\"xtick\"><text text-anchor=\"end\" x=\"-2.0999999999999996\" y=\"637.4\" transform=\"translate(119.9,0) rotate(-90,-2.0999999999999996,631.4)\" style=\"font-family: 'Open Sans', verdana, arial, sans-serif; font-size: 12px; fill: rgb(42, 63, 95); fill-opacity: 1; white-space: pre; opacity: 1;\">Bishnupur</text></g><g class=\"xtick\"><text text-anchor=\"end\" x=\"-2.0999999999999996\" y=\"637.4\" transform=\"translate(135.86,0) rotate(-90,-2.0999999999999996,631.4)\" style=\"font-family: 'Open Sans', verdana, arial, sans-serif; font-size: 12px; fill: rgb(42, 63, 95); fill-opacity: 1; white-space: pre; opacity: 1;\">Chittoor(SC)</text></g><g class=\"xtick\"><text text-anchor=\"end\" x=\"-2.0999999999999996\" y=\"637.4\" transform=\"translate(151.82,0) rotate(-90,-2.0999999999999996,631.4)\" style=\"font-family: 'Open Sans', verdana, arial, sans-serif; font-size: 12px; fill: rgb(42, 63, 95); fill-opacity: 1; white-space: pre; opacity: 1;\">Narsaraopet</text></g><g class=\"xtick\"><text text-anchor=\"end\" x=\"-2.0999999999999996\" y=\"637.4\" transform=\"translate(167.78,0) rotate(-90,-2.0999999999999996,631.4)\" style=\"font-family: 'Open Sans', verdana, arial, sans-serif; font-size: 12px; fill: rgb(42, 63, 95); fill-opacity: 1; white-space: pre; opacity: 1;\">Bapatla (SC)</text></g><g class=\"xtick\"><text text-anchor=\"end\" x=\"-2.0999999999999996\" y=\"637.4\" transform=\"translate(183.74,0) rotate(-90,-2.0999999999999996,631.4)\" style=\"font-family: 'Open Sans', verdana, arial, sans-serif; font-size: 12px; fill: rgb(42, 63, 95); fill-opacity: 1; white-space: pre; opacity: 1;\">Barpeta</text></g><g class=\"xtick\"><text text-anchor=\"end\" x=\"-2.0999999999999996\" y=\"637.4\" transform=\"translate(199.7,0) rotate(-90,-2.0999999999999996,631.4)\" style=\"font-family: 'Open Sans', verdana, arial, sans-serif; font-size: 12px; fill: rgb(42, 63, 95); fill-opacity: 1; white-space: pre; opacity: 1;\">Outer Manipur</text></g><g class=\"xtick\"><text text-anchor=\"end\" x=\"-2.0999999999999996\" y=\"637.4\" transform=\"translate(215.66,0) rotate(-90,-2.0999999999999996,631.4)\" style=\"font-family: 'Open Sans', verdana, arial, sans-serif; font-size: 12px; fill: rgb(42, 63, 95); fill-opacity: 1; white-space: pre; opacity: 1;\">Nagaon</text></g><g class=\"xtick\"><text text-anchor=\"end\" x=\"-2.0999999999999996\" y=\"637.4\" transform=\"translate(231.62,0) rotate(-90,-2.0999999999999996,631.4)\" style=\"font-family: 'Open Sans', verdana, arial, sans-serif; font-size: 12px; fill: rgb(42, 63, 95); fill-opacity: 1; white-space: pre; opacity: 1;\">Tamluk</text></g><g class=\"xtick\"><text text-anchor=\"end\" x=\"-2.0999999999999996\" y=\"637.4\" transform=\"translate(247.58,0) rotate(-90,-2.0999999999999996,631.4)\" style=\"font-family: 'Open Sans', verdana, arial, sans-serif; font-size: 12px; fill: rgb(42, 63, 95); fill-opacity: 1; white-space: pre; opacity: 1;\">Kanthi</text></g><g class=\"xtick\"><text text-anchor=\"end\" x=\"-2.0999999999999996\" y=\"637.4\" transform=\"translate(263.53999999999996,0) rotate(-90,-2.0999999999999996,631.4)\" style=\"font-family: 'Open Sans', verdana, arial, sans-serif; font-size: 12px; fill: rgb(42, 63, 95); fill-opacity: 1; white-space: pre; opacity: 1;\">Hindupur</text></g><g class=\"xtick\"><text text-anchor=\"end\" x=\"-2.0999999999999996\" y=\"637.4\" transform=\"translate(279.5,0) rotate(-90,-2.0999999999999996,631.4)\" style=\"font-family: 'Open Sans', verdana, arial, sans-serif; font-size: 12px; fill: rgb(42, 63, 95); fill-opacity: 1; white-space: pre; opacity: 1;\">Basirhat</text></g><g class=\"xtick\"><text text-anchor=\"end\" x=\"-2.0999999999999996\" y=\"637.4\" transform=\"translate(295.46000000000004,0) rotate(-90,-2.0999999999999996,631.4)\" style=\"font-family: 'Open Sans', verdana, arial, sans-serif; font-size: 12px; fill: rgb(42, 63, 95); fill-opacity: 1; white-space: pre; opacity: 1;\">Lakshadweep</text></g><g class=\"xtick\"><text text-anchor=\"end\" x=\"-2.0999999999999996\" y=\"637.4\" transform=\"translate(311.41999999999996,0) rotate(-90,-2.0999999999999996,631.4)\" style=\"font-family: 'Open Sans', verdana, arial, sans-serif; font-size: 12px; fill: rgb(42, 63, 95); fill-opacity: 1; white-space: pre; opacity: 1;\">Machilipatnam</text></g><g class=\"xtick\"><text text-anchor=\"end\" x=\"-2.0999999999999996\" y=\"637.4\" transform=\"translate(327.38,0) rotate(-90,-2.0999999999999996,631.4)\" style=\"font-family: 'Open Sans', verdana, arial, sans-serif; font-size: 12px; fill: rgb(42, 63, 95); fill-opacity: 1; white-space: pre; opacity: 1;\">Amalapuram (SC)</text></g><g class=\"xtick\"><text text-anchor=\"end\" x=\"-2.0999999999999996\" y=\"637.4\" transform=\"translate(343.34,0) rotate(-90,-2.0999999999999996,631.4)\" style=\"font-family: 'Open Sans', verdana, arial, sans-serif; font-size: 12px; fill: rgb(42, 63, 95); fill-opacity: 1; white-space: pre; opacity: 1;\">Eluru</text></g><g class=\"xtick\"><text text-anchor=\"end\" x=\"-2.0999999999999996\" y=\"637.4\" transform=\"translate(359.3,0) rotate(-90,-2.0999999999999996,631.4)\" style=\"font-family: 'Open Sans', verdana, arial, sans-serif; font-size: 12px; fill: rgb(42, 63, 95); fill-opacity: 1; white-space: pre; opacity: 1;\">Jalpaiguri</text></g><g class=\"xtick\"><text text-anchor=\"end\" x=\"-2.0999999999999996\" y=\"637.4\" transform=\"translate(375.26,0) rotate(-90,-2.0999999999999996,631.4)\" style=\"font-family: 'Open Sans', verdana, arial, sans-serif; font-size: 12px; fill: rgb(42, 63, 95); fill-opacity: 1; white-space: pre; opacity: 1;\">Kokrajhar</text></g><g class=\"xtick\"><text text-anchor=\"end\" x=\"-2.0999999999999996\" y=\"637.4\" transform=\"translate(391.22,0) rotate(-90,-2.0999999999999996,631.4)\" style=\"font-family: 'Open Sans', verdana, arial, sans-serif; font-size: 12px; fill: rgb(42, 63, 95); fill-opacity: 1; white-space: pre; opacity: 1;\">Jhargram</text></g><g class=\"xtick\"><text text-anchor=\"end\" x=\"-2.0999999999999996\" y=\"637.4\" transform=\"translate(407.18,0) rotate(-90,-2.0999999999999996,631.4)\" style=\"font-family: 'Open Sans', verdana, arial, sans-serif; font-size: 12px; fill: rgb(42, 63, 95); fill-opacity: 1; white-space: pre; opacity: 1;\">Arunachal East</text></g><g class=\"xtick\"><text text-anchor=\"end\" x=\"-2.0999999999999996\" y=\"637.4\" transform=\"translate(423.14,0) rotate(-90,-2.0999999999999996,631.4)\" style=\"font-family: 'Open Sans', verdana, arial, sans-serif; font-size: 12px; fill: rgb(42, 63, 95); fill-opacity: 1; white-space: pre; opacity: 1;\">Bardhaman Purba</text></g><g class=\"xtick\"><text text-anchor=\"end\" x=\"-2.0999999999999996\" y=\"637.4\" transform=\"translate(439.1,0) rotate(-90,-2.0999999999999996,631.4)\" style=\"font-family: 'Open Sans', verdana, arial, sans-serif; font-size: 12px; fill: rgb(42, 63, 95); fill-opacity: 1; white-space: pre; opacity: 1;\">Bolpur</text></g><g class=\"xtick\"><text text-anchor=\"end\" x=\"-2.0999999999999996\" y=\"637.4\" transform=\"translate(455.06,0) rotate(-90,-2.0999999999999996,631.4)\" style=\"font-family: 'Open Sans', verdana, arial, sans-serif; font-size: 12px; fill: rgb(42, 63, 95); fill-opacity: 1; white-space: pre; opacity: 1;\">Arambagh</text></g><g class=\"xtick\"><text text-anchor=\"end\" x=\"-2.0999999999999996\" y=\"637.4\" transform=\"translate(471.02,0) rotate(-90,-2.0999999999999996,631.4)\" style=\"font-family: 'Open Sans', verdana, arial, sans-serif; font-size: 12px; fill: rgb(42, 63, 95); fill-opacity: 1; white-space: pre; opacity: 1;\">Narsapuram</text></g><g class=\"xtick\"><text text-anchor=\"end\" x=\"-2.0999999999999996\" y=\"637.4\" transform=\"translate(486.98,0) rotate(-90,-2.0999999999999996,631.4)\" style=\"font-family: 'Open Sans', verdana, arial, sans-serif; font-size: 12px; fill: rgb(42, 63, 95); fill-opacity: 1; white-space: pre; opacity: 1;\">Ghatal</text></g><g class=\"xtick\"><text text-anchor=\"end\" x=\"-2.0999999999999996\" y=\"637.4\" transform=\"translate(502.94,0) rotate(-90,-2.0999999999999996,631.4)\" style=\"font-family: 'Open Sans', verdana, arial, sans-serif; font-size: 12px; fill: rgb(42, 63, 95); fill-opacity: 1; white-space: pre; opacity: 1;\">Coochbehar</text></g><g class=\"xtick\"><text text-anchor=\"end\" x=\"-2.0999999999999996\" y=\"637.4\" transform=\"translate(518.9,0) rotate(-90,-2.0999999999999996,631.4)\" style=\"font-family: 'Open Sans', verdana, arial, sans-serif; font-size: 12px; fill: rgb(42, 63, 95); fill-opacity: 1; white-space: pre; opacity: 1;\">Nabarangpur</text></g><g class=\"xtick\"><text text-anchor=\"end\" x=\"-2.0999999999999996\" y=\"637.4\" transform=\"translate(534.86,0) rotate(-90,-2.0999999999999996,631.4)\" style=\"font-family: 'Open Sans', verdana, arial, sans-serif; font-size: 12px; fill: rgb(42, 63, 95); fill-opacity: 1; white-space: pre; opacity: 1;\">Anakapalle</text></g><g class=\"xtick\"><text text-anchor=\"end\" x=\"-2.0999999999999996\" y=\"637.4\" transform=\"translate(550.8199999999999,0) rotate(-90,-2.0999999999999996,631.4)\" style=\"font-family: 'Open Sans', verdana, arial, sans-serif; font-size: 12px; fill: rgb(42, 63, 95); fill-opacity: 1; white-space: pre; opacity: 1;\">Mathurapur</text></g><g class=\"xtick\"><text text-anchor=\"end\" x=\"-2.0999999999999996\" y=\"637.4\" transform=\"translate(566.78,0) rotate(-90,-2.0999999999999996,631.4)\" style=\"font-family: 'Open Sans', verdana, arial, sans-serif; font-size: 12px; fill: rgb(42, 63, 95); fill-opacity: 1; white-space: pre; opacity: 1;\">Darrang-Udalguri</text></g><g class=\"xtick\"><text text-anchor=\"end\" x=\"-2.0999999999999996\" y=\"637.4\" transform=\"translate(582.74,0) rotate(-90,-2.0999999999999996,631.4)\" style=\"font-family: 'Open Sans', verdana, arial, sans-serif; font-size: 12px; fill: rgb(42, 63, 95); fill-opacity: 1; white-space: pre; opacity: 1;\">Birbhum</text></g><g class=\"xtick\"><text text-anchor=\"end\" x=\"-2.0999999999999996\" y=\"637.4\" transform=\"translate(598.7,0) rotate(-90,-2.0999999999999996,631.4)\" style=\"font-family: 'Open Sans', verdana, arial, sans-serif; font-size: 12px; fill: rgb(42, 63, 95); fill-opacity: 1; white-space: pre; opacity: 1;\">Ranaghat</text></g><g class=\"xtick\"><text text-anchor=\"end\" x=\"-2.0999999999999996\" y=\"637.4\" transform=\"translate(614.66,0) rotate(-90,-2.0999999999999996,631.4)\" style=\"font-family: 'Open Sans', verdana, arial, sans-serif; font-size: 12px; fill: rgb(42, 63, 95); fill-opacity: 1; white-space: pre; opacity: 1;\">Mandya</text></g><g class=\"xtick\"><text text-anchor=\"end\" x=\"-2.0999999999999996\" y=\"637.4\" transform=\"translate(630.62,0) rotate(-90,-2.0999999999999996,631.4)\" style=\"font-family: 'Open Sans', verdana, arial, sans-serif; font-size: 12px; fill: rgb(42, 63, 95); fill-opacity: 1; white-space: pre; opacity: 1;\">Medinipur</text></g><g class=\"xtick\"><text text-anchor=\"end\" x=\"-2.0999999999999996\" y=\"637.4\" transform=\"translate(646.58,0) rotate(-90,-2.0999999999999996,631.4)\" style=\"font-family: 'Open Sans', verdana, arial, sans-serif; font-size: 12px; fill: rgb(42, 63, 95); fill-opacity: 1; white-space: pre; opacity: 1;\">Murshidabad</text></g><g class=\"xtick\"><text text-anchor=\"end\" x=\"-2.0999999999999996\" y=\"637.4\" transform=\"translate(662.54,0) rotate(-90,-2.0999999999999996,631.4)\" style=\"font-family: 'Open Sans', verdana, arial, sans-serif; font-size: 12px; fill: rgb(42, 63, 95); fill-opacity: 1; white-space: pre; opacity: 1;\">Tripura West</text></g><g class=\"xtick\"><text text-anchor=\"end\" x=\"-2.0999999999999996\" y=\"637.4\" transform=\"translate(678.5,0) rotate(-90,-2.0999999999999996,631.4)\" style=\"font-family: 'Open Sans', verdana, arial, sans-serif; font-size: 12px; fill: rgb(42, 63, 95); fill-opacity: 1; white-space: pre; opacity: 1;\">Hooghly</text></g><g class=\"xtick\"><text text-anchor=\"end\" x=\"-2.0999999999999996\" y=\"637.4\" transform=\"translate(694.46,0) rotate(-90,-2.0999999999999996,631.4)\" style=\"font-family: 'Open Sans', verdana, arial, sans-serif; font-size: 12px; fill: rgb(42, 63, 95); fill-opacity: 1; white-space: pre; opacity: 1;\">Tura</text></g><g class=\"xtick\"><text text-anchor=\"end\" x=\"-2.0999999999999996\" y=\"637.4\" transform=\"translate(710.42,0) rotate(-90,-2.0999999999999996,631.4)\" style=\"font-family: 'Open Sans', verdana, arial, sans-serif; font-size: 12px; fill: rgb(42, 63, 95); fill-opacity: 1; white-space: pre; opacity: 1;\">DHARMAPURI</text></g><g class=\"xtick\"><text text-anchor=\"end\" x=\"-2.0999999999999996\" y=\"637.4\" transform=\"translate(726.38,0) rotate(-90,-2.0999999999999996,631.4)\" style=\"font-family: 'Open Sans', verdana, arial, sans-serif; font-size: 12px; fill: rgb(42, 63, 95); fill-opacity: 1; white-space: pre; opacity: 1;\">Vizianagaram</text></g><g class=\"xtick\"><text text-anchor=\"end\" x=\"-2.0999999999999996\" y=\"637.4\" transform=\"translate(742.34,0) rotate(-90,-2.0999999999999996,631.4)\" style=\"font-family: 'Open Sans', verdana, arial, sans-serif; font-size: 12px; fill: rgb(42, 63, 95); fill-opacity: 1; white-space: pre; opacity: 1;\">Bangaon</text></g><g class=\"xtick\"><text text-anchor=\"end\" x=\"-2.0999999999999996\" y=\"637.4\" transform=\"translate(758.3,0) rotate(-90,-2.0999999999999996,631.4)\" style=\"font-family: 'Open Sans', verdana, arial, sans-serif; font-size: 12px; fill: rgb(42, 63, 95); fill-opacity: 1; white-space: pre; opacity: 1;\">Diamond harbour</text></g><g class=\"xtick\"><text text-anchor=\"end\" x=\"-2.0999999999999996\" y=\"637.4\" transform=\"translate(774.26,0) rotate(-90,-2.0999999999999996,631.4)\" style=\"font-family: 'Open Sans', verdana, arial, sans-serif; font-size: 12px; fill: rgb(42, 63, 95); fill-opacity: 1; white-space: pre; opacity: 1;\">Rajahmundry</text></g><g class=\"xtick\"><text text-anchor=\"end\" x=\"-2.0999999999999996\" y=\"637.4\" transform=\"translate(790.22,0) rotate(-90,-2.0999999999999996,631.4)\" style=\"font-family: 'Open Sans', verdana, arial, sans-serif; font-size: 12px; fill: rgb(42, 63, 95); fill-opacity: 1; white-space: pre; opacity: 1;\">Bankura</text></g><g class=\"xtick\"><text text-anchor=\"end\" x=\"-2.0999999999999996\" y=\"637.4\" transform=\"translate(806.18,0) rotate(-90,-2.0999999999999996,631.4)\" style=\"font-family: 'Open Sans', verdana, arial, sans-serif; font-size: 12px; fill: rgb(42, 63, 95); fill-opacity: 1; white-space: pre; opacity: 1;\">Bardhaman-Durgapur</text></g><g class=\"xtick\"><text text-anchor=\"end\" x=\"-2.0999999999999996\" y=\"637.4\" transform=\"translate(822.14,0) rotate(-90,-2.0999999999999996,631.4)\" style=\"font-family: 'Open Sans', verdana, arial, sans-serif; font-size: 12px; fill: rgb(42, 63, 95); fill-opacity: 1; white-space: pre; opacity: 1;\">Krishnanagar</text></g><g class=\"xtick\"><text text-anchor=\"end\" x=\"-2.0999999999999996\" y=\"637.4\" transform=\"translate(838.1,0) rotate(-90,-2.0999999999999996,631.4)\" style=\"font-family: 'Open Sans', verdana, arial, sans-serif; font-size: 12px; fill: rgb(42, 63, 95); fill-opacity: 1; white-space: pre; opacity: 1;\">Nandyal</text></g><g class=\"xtick\"><text text-anchor=\"end\" x=\"-2.0999999999999996\" y=\"637.4\" transform=\"translate(854.06,0) rotate(-90,-2.0999999999999996,631.4)\" style=\"font-family: 'Open Sans', verdana, arial, sans-serif; font-size: 12px; fill: rgb(42, 63, 95); fill-opacity: 1; white-space: pre; opacity: 1;\">Ananthapur</text></g><g class=\"xtick\"><text text-anchor=\"end\" x=\"-2.0999999999999996\" y=\"637.4\" transform=\"translate(870.02,0) rotate(-90,-2.0999999999999996,631.4)\" style=\"font-family: 'Open Sans', verdana, arial, sans-serif; font-size: 12px; fill: rgb(42, 63, 95); fill-opacity: 1; white-space: pre; opacity: 1;\">Karimganj</text></g></g><g class=\"yaxislayer-above\"><g class=\"ytick\"><text text-anchor=\"end\" x=\"79\" y=\"4.199999999999999\" transform=\"translate(0,628)\" style=\"font-family: 'Open Sans', verdana, arial, sans-serif; font-size: 12px; fill: rgb(42, 63, 95); fill-opacity: 1; white-space: pre; opacity: 1;\">0</text></g><g class=\"ytick\"><text text-anchor=\"end\" x=\"79\" y=\"4.199999999999999\" style=\"font-family: 'Open Sans', verdana, arial, sans-serif; font-size: 12px; fill: rgb(42, 63, 95); fill-opacity: 1; white-space: pre; opacity: 1;\" transform=\"translate(0,573.53)\">10</text></g><g class=\"ytick\"><text text-anchor=\"end\" x=\"79\" y=\"4.199999999999999\" style=\"font-family: 'Open Sans', verdana, arial, sans-serif; font-size: 12px; fill: rgb(42, 63, 95); fill-opacity: 1; white-space: pre; opacity: 1;\" transform=\"translate(0,519.05)\">20</text></g><g class=\"ytick\"><text text-anchor=\"end\" x=\"79\" y=\"4.199999999999999\" style=\"font-family: 'Open Sans', verdana, arial, sans-serif; font-size: 12px; fill: rgb(42, 63, 95); fill-opacity: 1; white-space: pre; opacity: 1;\" transform=\"translate(0,464.58)\">30</text></g><g class=\"ytick\"><text text-anchor=\"end\" x=\"79\" y=\"4.199999999999999\" style=\"font-family: 'Open Sans', verdana, arial, sans-serif; font-size: 12px; fill: rgb(42, 63, 95); fill-opacity: 1; white-space: pre; opacity: 1;\" transform=\"translate(0,410.1)\">40</text></g><g class=\"ytick\"><text text-anchor=\"end\" x=\"79\" y=\"4.199999999999999\" style=\"font-family: 'Open Sans', verdana, arial, sans-serif; font-size: 12px; fill: rgb(42, 63, 95); fill-opacity: 1; white-space: pre; opacity: 1;\" transform=\"translate(0,355.63)\">50</text></g><g class=\"ytick\"><text text-anchor=\"end\" x=\"79\" y=\"4.199999999999999\" style=\"font-family: 'Open Sans', verdana, arial, sans-serif; font-size: 12px; fill: rgb(42, 63, 95); fill-opacity: 1; white-space: pre; opacity: 1;\" transform=\"translate(0,301.15)\">60</text></g><g class=\"ytick\"><text text-anchor=\"end\" x=\"79\" y=\"4.199999999999999\" style=\"font-family: 'Open Sans', verdana, arial, sans-serif; font-size: 12px; fill: rgb(42, 63, 95); fill-opacity: 1; white-space: pre; opacity: 1;\" transform=\"translate(0,246.68)\">70</text></g><g class=\"ytick\"><text text-anchor=\"end\" x=\"79\" y=\"4.199999999999999\" style=\"font-family: 'Open Sans', verdana, arial, sans-serif; font-size: 12px; fill: rgb(42, 63, 95); fill-opacity: 1; white-space: pre; opacity: 1;\" transform=\"translate(0,192.20999999999998)\">80</text></g><g class=\"ytick\"><text text-anchor=\"end\" x=\"79\" y=\"4.199999999999999\" style=\"font-family: 'Open Sans', verdana, arial, sans-serif; font-size: 12px; fill: rgb(42, 63, 95); fill-opacity: 1; white-space: pre; opacity: 1;\" transform=\"translate(0,137.73)\">90</text></g></g><g class=\"overaxes-above\"/></g></g><g class=\"polarlayer\"/><g class=\"smithlayer\"/><g class=\"ternarylayer\"/><g class=\"geolayer\"/><g class=\"funnelarealayer\"/><g class=\"pielayer\"/><g class=\"iciclelayer\"/><g class=\"treemaplayer\"/><g class=\"sunburstlayer\"/><g class=\"glimages\"/><defs id=\"topdefs-8c69ff\"><g class=\"clips\"/></defs><g class=\"layer-above\"><g class=\"imagelayer\"/><g class=\"shapelayer\"/></g><g class=\"infolayer\"><g class=\"cbcoloraxis colorbar\" transform=\"translate(80,100)\"><rect class=\"cbbg\" x=\"814\" y=\"0\" width=\"94.359375\" height=\"528\" style=\"fill: rgb(0, 0, 0); fill-opacity: 0; stroke: rgb(68, 68, 68); stroke-opacity: 1; stroke-width: 0;\"/><g class=\"cbfills\" transform=\"translate(0,32)\"><rect class=\"cbfill gradient_filled\" x=\"824\" y=\"0\" width=\"30\" height=\"486\" style=\"fill: url('#g8c69ff-cbcoloraxis');\"/></g><g class=\"cblines\" transform=\"translate(0,32)\"/><g class=\"cbaxis crisp\" transform=\"translate(0,-100)\"><g class=\"ycbcoloraxistick\"><text text-anchor=\"start\" x=\"856.9\" y=\"4.199999999999999\" transform=\"translate(0,554.3199999999999)\" style=\"font-family: 'Open Sans', verdana, arial, sans-serif; font-size: 12px; fill: rgb(42, 63, 95); fill-opacity: 1; white-space: pre; opacity: 1;\">82</text></g><g class=\"ycbcoloraxistick\"><text text-anchor=\"start\" x=\"856.9\" y=\"4.199999999999999\" style=\"font-family: 'Open Sans', verdana, arial, sans-serif; font-size: 12px; fill: rgb(42, 63, 95); fill-opacity: 1; white-space: pre; opacity: 1;\" transform=\"translate(0,470.52)\">84</text></g><g class=\"ycbcoloraxistick\"><text text-anchor=\"start\" x=\"856.9\" y=\"4.199999999999999\" style=\"font-family: 'Open Sans', verdana, arial, sans-serif; font-size: 12px; fill: rgb(42, 63, 95); fill-opacity: 1; white-space: pre; opacity: 1;\" transform=\"translate(0,386.72999999999996)\">86</text></g><g class=\"ycbcoloraxistick\"><text text-anchor=\"start\" x=\"856.9\" y=\"4.199999999999999\" style=\"font-family: 'Open Sans', verdana, arial, sans-serif; font-size: 12px; fill: rgb(42, 63, 95); fill-opacity: 1; white-space: pre; opacity: 1;\" transform=\"translate(0,302.93999999999994)\">88</text></g><g class=\"ycbcoloraxistick\"><text text-anchor=\"start\" x=\"856.9\" y=\"4.199999999999999\" style=\"font-family: 'Open Sans', verdana, arial, sans-serif; font-size: 12px; fill: rgb(42, 63, 95); fill-opacity: 1; white-space: pre; opacity: 1;\" transform=\"translate(0,219.14)\">90</text></g><g class=\"ycbcoloraxistick\"><text text-anchor=\"start\" x=\"856.9\" y=\"4.199999999999999\" style=\"font-family: 'Open Sans', verdana, arial, sans-serif; font-size: 12px; fill: rgb(42, 63, 95); fill-opacity: 1; white-space: pre; opacity: 1;\" transform=\"translate(0,135.34999999999997)\">92</text></g></g><g class=\"cbtitleunshift\" transform=\"translate(-80,-100)\"><g class=\"cbtitle\" transform=\"\"><text class=\"ycbcoloraxistitle\" x=\"903.96\" y=\"123.5\" text-anchor=\"start\" style=\"font-family: 'Open Sans', verdana, arial, sans-serif; font-size: 14px; fill: rgb(42, 63, 95); opacity: 1; font-weight: normal; white-space: pre;\">Polled (%)</text></g></g><rect class=\"cboutline\" x=\"824\" y=\"32\" width=\"30\" height=\"486\" style=\"stroke: rgb(68, 68, 68); stroke-opacity: 1; fill: none; stroke-width: 0;\"/></g><g class=\"g-gtitle\"><text class=\"gtitle\" x=\"50\" y=\"50\" text-anchor=\"start\" dy=\"0em\" style=\"font-family: 'Open Sans', verdana, arial, sans-serif; font-size: 17px; fill: rgb(42, 63, 95); opacity: 1; font-weight: normal; white-space: pre;\">Top 50 Constituencies by Vote Percentage</text></g><g class=\"g-xtitle\"><text class=\"xtitle\" x=\"479\" y=\"787.8029296875\" text-anchor=\"middle\" style=\"font-family: 'Open Sans', verdana, arial, sans-serif; font-size: 14px; fill: rgb(42, 63, 95); opacity: 1; font-weight: normal; white-space: pre;\">Constituency Name</text></g><g class=\"g-ytitle\"><text class=\"ytitle\" transform=\"rotate(-90,38.934375,364)\" x=\"38.934375\" y=\"364\" text-anchor=\"middle\" style=\"font-family: 'Open Sans', verdana, arial, sans-serif; font-size: 14px; fill: rgb(42, 63, 95); opacity: 1; font-weight: normal; white-space: pre;\">Polled (%)</text></g></g></svg>"
      ]
     },
     "metadata": {},
     "output_type": "display_data"
    }
   ],
   "source": [
    "top_50_constituency_high_vote = merged_data.groupby('PC_Name')['Polled (%)'].nlargest(50).reset_index().sort_values(by='Polled (%)',ascending=False)\n",
    "top_50_constituency_high_vote\n",
    "top_50_constituency_high_vote = top_50_constituency_high_vote.head(50)\n",
    "\n",
    "import plotly.express as px\n",
    "\n",
    "# Assuming top_50_constituency_high_vote is a DataFrame with the necessary data\n",
    "fig = px.bar(top_50_constituency_high_vote, x='PC_Name', y='Polled (%)',\n",
    "             labels={'PC_Name': 'Constituency Name', 'Polled (%)': 'Polled (%)'},\n",
    "             title='Top 50 Constituencies by Vote Percentage',\n",
    "             color='Polled (%)',\n",
    "             color_continuous_scale='reds')\n",
    "\n",
    "fig.update_layout(xaxis={'categoryorder': 'total descending'},\n",
    "                  xaxis_tickangle=-90,\n",
    "                  width=1000,\n",
    "                  height=800,\n",
    "                  template='plotly_white')\n",
    "\n",
    "fig.update_traces(hovertemplate='<b>%{x}</b><br>Polled: %{y:.2f}%')\n",
    "\n",
    "fig.show(\"svg\")"
   ]
  },
  {
   "cell_type": "markdown",
   "id": "1df2ffa1-df71-4a3b-94cc-7b32116816b3",
   "metadata": {},
   "source": [
    "The above bar graph shows **Top 50 Constituency with Highest Vote Percentage** in 2024 General Election in state and union territory [UT].\n",
    "\n",
    "List of ten constituency in states and UTs with the **highest vote percent**               \n",
    "1. **Dhubri - 92.08 %**\n",
    "2. **Ongole - 87.06 %**\n",
    "3. **Bishnupur - 85.91 %**\n",
    "4. **Chittoor(SC) - 85.77 %**\n",
    "5. **Narsaraopet - 85.65 %**\n",
    "6. **Bapatla (SC) - 85.48 %**\n",
    "7. **Barpeta - 85.24 %**\n",
    "8. **Outer Manipur - 85.11 %**\n",
    "9. **Nagaon - 84.97 %**\n",
    "10. **Tamluk - 84.79 %**"
   ]
  },
  {
   "cell_type": "code",
   "execution_count": 50,
   "id": "bac7b75a-3243-4953-8429-0a00b8736610",
   "metadata": {},
   "outputs": [
    {
     "data": {
      "image/svg+xml": [
       "<svg class=\"main-svg\" xmlns=\"http://www.w3.org/2000/svg\" xmlns:xlink=\"http://www.w3.org/1999/xlink\" width=\"1000\" height=\"800\" style=\"\" viewBox=\"0 0 1000 800\"><rect x=\"0\" y=\"0\" width=\"1000\" height=\"800\" style=\"fill: rgb(255, 255, 255); fill-opacity: 1;\"/><defs id=\"defs-07d4f0\"><g class=\"clips\"><clipPath id=\"clip07d4f0xyplot\" class=\"plotclip\"><rect width=\"798\" height=\"522\"/></clipPath><clipPath class=\"axesclip\" id=\"clip07d4f0x\"><rect x=\"80\" y=\"0\" width=\"798\" height=\"800\"/></clipPath><clipPath class=\"axesclip\" id=\"clip07d4f0y\"><rect x=\"0\" y=\"100\" width=\"1000\" height=\"522\"/></clipPath><clipPath class=\"axesclip\" id=\"clip07d4f0xy\"><rect x=\"80\" y=\"100\" width=\"798\" height=\"522\"/></clipPath></g><g class=\"gradients\"><linearGradient x1=\"0\" x2=\"0\" y1=\"1\" y2=\"0\" id=\"g07d4f0-cbcoloraxis\"><stop offset=\"0%\" stop-color=\"rgb(247, 252, 245)\" stop-opacity=\"1\"/><stop offset=\"12.5%\" stop-color=\"rgb(229, 245, 224)\" stop-opacity=\"1\"/><stop offset=\"25%\" stop-color=\"rgb(199, 233, 192)\" stop-opacity=\"1\"/><stop offset=\"37.5%\" stop-color=\"rgb(161, 217, 155)\" stop-opacity=\"1\"/><stop offset=\"50%\" stop-color=\"rgb(116, 196, 118)\" stop-opacity=\"1\"/><stop offset=\"62.5%\" stop-color=\"rgb(65, 171, 93)\" stop-opacity=\"1\"/><stop offset=\"75%\" stop-color=\"rgb(35, 139, 69)\" stop-opacity=\"1\"/><stop offset=\"87.5%\" stop-color=\"rgb(0, 109, 44)\" stop-opacity=\"1\"/><stop offset=\"100%\" stop-color=\"rgb(0, 68, 27)\" stop-opacity=\"1\"/></linearGradient></g><g class=\"patterns\"/></defs><g class=\"bglayer\"/><g class=\"layer-below\"><g class=\"imagelayer\"/><g class=\"shapelayer\"/></g><g class=\"cartesianlayer\"><g class=\"subplot xy\"><g class=\"layer-subplot\"><g class=\"shapelayer\"/><g class=\"imagelayer\"/></g><g class=\"minor-gridlayer\"><g class=\"x\"/><g class=\"y\"/></g><g class=\"gridlayer\"><g class=\"x\"/><g class=\"y\"><path class=\"ygrid crisp\" transform=\"translate(0,529.76)\" d=\"M80,0h798\" style=\"stroke: rgb(235, 240, 248); stroke-opacity: 1; stroke-width: 1px;\"/><path class=\"ygrid crisp\" transform=\"translate(0,437.51)\" d=\"M80,0h798\" style=\"stroke: rgb(235, 240, 248); stroke-opacity: 1; stroke-width: 1px;\"/><path class=\"ygrid crisp\" transform=\"translate(0,345.27)\" d=\"M80,0h798\" style=\"stroke: rgb(235, 240, 248); stroke-opacity: 1; stroke-width: 1px;\"/><path class=\"ygrid crisp\" transform=\"translate(0,253.03)\" d=\"M80,0h798\" style=\"stroke: rgb(235, 240, 248); stroke-opacity: 1; stroke-width: 1px;\"/><path class=\"ygrid crisp\" transform=\"translate(0,160.78)\" d=\"M80,0h798\" style=\"stroke: rgb(235, 240, 248); stroke-opacity: 1; stroke-width: 1px;\"/></g></g><g class=\"zerolinelayer\"><path class=\"yzl zl crisp\" transform=\"translate(0,622)\" d=\"M80,0h798\" style=\"stroke: rgb(235, 240, 248); stroke-opacity: 1; stroke-width: 2px;\"/></g><path class=\"xlines-below\"/><path class=\"ylines-below\"/><g class=\"overlines-below\"/><g class=\"xaxislayer-below\"/><g class=\"yaxislayer-below\"/><g class=\"overaxes-below\"/><g class=\"plot\" transform=\"translate(80,100)\" clip-path=\"url(#clip07d4f0xyplot)\"><g class=\"barlayer mlayer\"><g class=\"trace bars\" style=\"opacity: 1;\"><g class=\"points\"><g class=\"point\"><path d=\"M1.6,522V166.96H14.36V522Z\" style=\"vector-effect: non-scaling-stroke; opacity: 1; stroke-width: 0.5px; fill: rgb(247, 252, 245); fill-opacity: 1; stroke: rgb(255, 255, 255); stroke-opacity: 1;\"/></g><g class=\"point\"><path d=\"M17.56,522V123.79H30.32V522Z\" style=\"vector-effect: non-scaling-stroke; opacity: 1; stroke-width: 0.5px; fill: rgb(182, 226, 175); fill-opacity: 1; stroke: rgb(255, 255, 255); stroke-opacity: 1;\"/></g><g class=\"point\"><path d=\"M33.52,522V89.84H46.28V522Z\" style=\"vector-effect: non-scaling-stroke; opacity: 1; stroke-width: 0.5px; fill: rgb(97, 187, 109); fill-opacity: 1; stroke: rgb(255, 255, 255); stroke-opacity: 1;\"/></g><g class=\"point\"><path d=\"M49.48,522V74.8H62.24V522Z\" style=\"vector-effect: non-scaling-stroke; opacity: 1; stroke-width: 0.5px; fill: rgb(58, 164, 87); fill-opacity: 1; stroke: rgb(255, 255, 255); stroke-opacity: 1;\"/></g><g class=\"point\"><path d=\"M65.44,522V72.41H78.2V522Z\" style=\"vector-effect: non-scaling-stroke; opacity: 1; stroke-width: 0.5px; fill: rgb(54, 159, 84); fill-opacity: 1; stroke: rgb(255, 255, 255); stroke-opacity: 1;\"/></g><g class=\"point\"><path d=\"M81.4,522V70.84H94.16V522Z\" style=\"vector-effect: non-scaling-stroke; opacity: 1; stroke-width: 0.5px; fill: rgb(51, 156, 82); fill-opacity: 1; stroke: rgb(255, 255, 255); stroke-opacity: 1;\"/></g><g class=\"point\"><path d=\"M97.36,522V69.64H110.12V522Z\" style=\"vector-effect: non-scaling-stroke; opacity: 1; stroke-width: 0.5px; fill: rgb(49, 154, 80); fill-opacity: 1; stroke: rgb(255, 255, 255); stroke-opacity: 1;\"/></g><g class=\"point\"><path d=\"M113.32,522V66.23H126.08V522Z\" style=\"vector-effect: non-scaling-stroke; opacity: 1; stroke-width: 0.5px; fill: rgb(43, 148, 76); fill-opacity: 1; stroke: rgb(255, 255, 255); stroke-opacity: 1;\"/></g><g class=\"point\"><path d=\"M129.28,522V66.04H142.04V522Z\" style=\"vector-effect: non-scaling-stroke; opacity: 1; stroke-width: 0.5px; fill: rgb(43, 148, 75); fill-opacity: 1; stroke: rgb(255, 255, 255); stroke-opacity: 1;\"/></g><g class=\"point\"><path d=\"M145.24,522V64.57H158V522Z\" style=\"vector-effect: non-scaling-stroke; opacity: 1; stroke-width: 0.5px; fill: rgb(41, 145, 73); fill-opacity: 1; stroke: rgb(255, 255, 255); stroke-opacity: 1;\"/></g><g class=\"point\"><path d=\"M161.2,522V62.81H173.96V522Z\" style=\"vector-effect: non-scaling-stroke; opacity: 1; stroke-width: 0.5px; fill: rgb(38, 142, 71); fill-opacity: 1; stroke: rgb(255, 255, 255); stroke-opacity: 1;\"/></g><g class=\"point\"><path d=\"M177.16,522V61.89H189.92V522Z\" style=\"vector-effect: non-scaling-stroke; opacity: 1; stroke-width: 0.5px; fill: rgb(36, 140, 70); fill-opacity: 1; stroke: rgb(255, 255, 255); stroke-opacity: 1;\"/></g><g class=\"point\"><path d=\"M193.12,522V60.23H205.88V522Z\" style=\"vector-effect: non-scaling-stroke; opacity: 1; stroke-width: 0.5px; fill: rgb(33, 137, 67); fill-opacity: 1; stroke: rgb(255, 255, 255); stroke-opacity: 1;\"/></g><g class=\"point\"><path d=\"M209.08,522V59.68H221.84V522Z\" style=\"vector-effect: non-scaling-stroke; opacity: 1; stroke-width: 0.5px; fill: rgb(32, 136, 67); fill-opacity: 1; stroke: rgb(255, 255, 255); stroke-opacity: 1;\"/></g><g class=\"point\"><path d=\"M225.04,522V58.29H237.8V522Z\" style=\"vector-effect: non-scaling-stroke; opacity: 1; stroke-width: 0.5px; fill: rgb(29, 134, 65); fill-opacity: 1; stroke: rgb(255, 255, 255); stroke-opacity: 1;\"/></g><g class=\"point\"><path d=\"M241,522V58.11H253.76V522Z\" style=\"vector-effect: non-scaling-stroke; opacity: 1; stroke-width: 0.5px; fill: rgb(29, 134, 64); fill-opacity: 1; stroke: rgb(255, 255, 255); stroke-opacity: 1;\"/></g><g class=\"point\"><path d=\"M256.96,522V57.55H269.72V522Z\" style=\"vector-effect: non-scaling-stroke; opacity: 1; stroke-width: 0.5px; fill: rgb(28, 133, 64); fill-opacity: 1; stroke: rgb(255, 255, 255); stroke-opacity: 1;\"/></g><g class=\"point\"><path d=\"M272.92,522V53.59H285.68V522Z\" style=\"vector-effect: non-scaling-stroke; opacity: 1; stroke-width: 0.5px; fill: rgb(20, 126, 58); fill-opacity: 1; stroke: rgb(255, 255, 255); stroke-opacity: 1;\"/></g><g class=\"point\"><path d=\"M288.88,522V49.25H301.64V522Z\" style=\"vector-effect: non-scaling-stroke; opacity: 1; stroke-width: 0.5px; fill: rgb(11, 118, 52); fill-opacity: 1; stroke: rgb(255, 255, 255); stroke-opacity: 1;\"/></g><g class=\"point\"><path d=\"M304.84,522V48.05H317.6V522Z\" style=\"vector-effect: non-scaling-stroke; opacity: 1; stroke-width: 0.5px; fill: rgb(9, 116, 50); fill-opacity: 1; stroke: rgb(255, 255, 255); stroke-opacity: 1;\"/></g><g class=\"point\"><path d=\"M320.8,522V47.41H333.56V522Z\" style=\"vector-effect: non-scaling-stroke; opacity: 1; stroke-width: 0.5px; fill: rgb(7, 115, 49); fill-opacity: 1; stroke: rgb(255, 255, 255); stroke-opacity: 1;\"/></g><g class=\"point\"><path d=\"M336.76,522V45.84H349.52V522Z\" style=\"vector-effect: non-scaling-stroke; opacity: 1; stroke-width: 0.5px; fill: rgb(4, 113, 47); fill-opacity: 1; stroke: rgb(255, 255, 255); stroke-opacity: 1;\"/></g><g class=\"point\"><path d=\"M352.72,522V44.27H365.48V522Z\" style=\"vector-effect: non-scaling-stroke; opacity: 1; stroke-width: 0.5px; fill: rgb(1, 110, 45); fill-opacity: 1; stroke: rgb(255, 255, 255); stroke-opacity: 1;\"/></g><g class=\"point\"><path d=\"M368.68,522V44H381.44V522Z\" style=\"vector-effect: non-scaling-stroke; opacity: 1; stroke-width: 0.5px; fill: rgb(1, 109, 44); fill-opacity: 1; stroke: rgb(255, 255, 255); stroke-opacity: 1;\"/></g><g class=\"point\"><path d=\"M384.64,522V43.9H397.4V522Z\" style=\"vector-effect: non-scaling-stroke; opacity: 1; stroke-width: 0.5px; fill: rgb(0, 109, 44); fill-opacity: 1; stroke: rgb(255, 255, 255); stroke-opacity: 1;\"/></g><g class=\"point\"><path d=\"M400.6,522V42.61H413.36V522Z\" style=\"vector-effect: non-scaling-stroke; opacity: 1; stroke-width: 0.5px; fill: rgb(0, 106, 43); fill-opacity: 1; stroke: rgb(255, 255, 255); stroke-opacity: 1;\"/></g><g class=\"point\"><path d=\"M416.56,522V42.52H429.32V522Z\" style=\"vector-effect: non-scaling-stroke; opacity: 1; stroke-width: 0.5px; fill: rgb(0, 106, 43); fill-opacity: 1; stroke: rgb(255, 255, 255); stroke-opacity: 1;\"/></g><g class=\"point\"><path d=\"M432.52,522V41.87H445.28V522Z\" style=\"vector-effect: non-scaling-stroke; opacity: 1; stroke-width: 0.5px; fill: rgb(0, 105, 42); fill-opacity: 1; stroke: rgb(255, 255, 255); stroke-opacity: 1;\"/></g><g class=\"point\"><path d=\"M448.48,522V41.5H461.24V522Z\" style=\"vector-effect: non-scaling-stroke; opacity: 1; stroke-width: 0.5px; fill: rgb(0, 104, 42); fill-opacity: 1; stroke: rgb(255, 255, 255); stroke-opacity: 1;\"/></g><g class=\"point\"><path d=\"M464.44,522V39.84H477.2V522Z\" style=\"vector-effect: non-scaling-stroke; opacity: 1; stroke-width: 0.5px; fill: rgb(0, 100, 40); fill-opacity: 1; stroke: rgb(255, 255, 255); stroke-opacity: 1;\"/></g><g class=\"point\"><path d=\"M480.4,522V39.75H493.16V522Z\" style=\"vector-effect: non-scaling-stroke; opacity: 1; stroke-width: 0.5px; fill: rgb(0, 100, 40); fill-opacity: 1; stroke: rgb(255, 255, 255); stroke-opacity: 1;\"/></g><g class=\"point\"><path d=\"M496.36,522V39.38H509.12V522Z\" style=\"vector-effect: non-scaling-stroke; opacity: 1; stroke-width: 0.5px; fill: rgb(0, 99, 40); fill-opacity: 1; stroke: rgb(255, 255, 255); stroke-opacity: 1;\"/></g><g class=\"point\"><path d=\"M512.32,522V38.46H525.08V522Z\" style=\"vector-effect: non-scaling-stroke; opacity: 1; stroke-width: 0.5px; fill: rgb(0, 97, 39); fill-opacity: 1; stroke: rgb(255, 255, 255); stroke-opacity: 1;\"/></g><g class=\"point\"><path d=\"M528.28,522V37.81H541.04V522Z\" style=\"vector-effect: non-scaling-stroke; opacity: 1; stroke-width: 0.5px; fill: rgb(0, 95, 38); fill-opacity: 1; stroke: rgb(255, 255, 255); stroke-opacity: 1;\"/></g><g class=\"point\"><path d=\"M544.24,522V37.08H557V522Z\" style=\"vector-effect: non-scaling-stroke; opacity: 1; stroke-width: 0.5px; fill: rgb(0, 94, 38); fill-opacity: 1; stroke: rgb(255, 255, 255); stroke-opacity: 1;\"/></g><g class=\"point\"><path d=\"M560.2,522V35.32H572.96V522Z\" style=\"vector-effect: non-scaling-stroke; opacity: 1; stroke-width: 0.5px; fill: rgb(0, 89, 36); fill-opacity: 1; stroke: rgb(255, 255, 255); stroke-opacity: 1;\"/></g><g class=\"point\"><path d=\"M576.16,522V34.96H588.92V522Z\" style=\"vector-effect: non-scaling-stroke; opacity: 1; stroke-width: 0.5px; fill: rgb(0, 89, 36); fill-opacity: 1; stroke: rgb(255, 255, 255); stroke-opacity: 1;\"/></g><g class=\"point\"><path d=\"M592.12,522V34.96H604.88V522Z\" style=\"vector-effect: non-scaling-stroke; opacity: 1; stroke-width: 0.5px; fill: rgb(0, 89, 36); fill-opacity: 1; stroke: rgb(255, 255, 255); stroke-opacity: 1;\"/></g><g class=\"point\"><path d=\"M608.08,522V34.68H620.84V522Z\" style=\"vector-effect: non-scaling-stroke; opacity: 1; stroke-width: 0.5px; fill: rgb(0, 88, 35); fill-opacity: 1; stroke: rgb(255, 255, 255); stroke-opacity: 1;\"/></g><g class=\"point\"><path d=\"M624.04,522V33.76H636.8V522Z\" style=\"vector-effect: non-scaling-stroke; opacity: 1; stroke-width: 0.5px; fill: rgb(0, 86, 34); fill-opacity: 1; stroke: rgb(255, 255, 255); stroke-opacity: 1;\"/></g><g class=\"point\"><path d=\"M640,522V32.74H652.76V522Z\" style=\"vector-effect: non-scaling-stroke; opacity: 1; stroke-width: 0.5px; fill: rgb(0, 83, 33); fill-opacity: 1; stroke: rgb(255, 255, 255); stroke-opacity: 1;\"/></g><g class=\"point\"><path d=\"M655.96,522V32.65H668.72V522Z\" style=\"vector-effect: non-scaling-stroke; opacity: 1; stroke-width: 0.5px; fill: rgb(0, 83, 33); fill-opacity: 1; stroke: rgb(255, 255, 255); stroke-opacity: 1;\"/></g><g class=\"point\"><path d=\"M671.92,522V32.46H684.68V522Z\" style=\"vector-effect: non-scaling-stroke; opacity: 1; stroke-width: 0.5px; fill: rgb(0, 83, 33); fill-opacity: 1; stroke: rgb(255, 255, 255); stroke-opacity: 1;\"/></g><g class=\"point\"><path d=\"M687.88,522V31.54H700.64V522Z\" style=\"vector-effect: non-scaling-stroke; opacity: 1; stroke-width: 0.5px; fill: rgb(0, 81, 32); fill-opacity: 1; stroke: rgb(255, 255, 255); stroke-opacity: 1;\"/></g><g class=\"point\"><path d=\"M703.84,522V29.79H716.6V522Z\" style=\"vector-effect: non-scaling-stroke; opacity: 1; stroke-width: 0.5px; fill: rgb(0, 77, 31); fill-opacity: 1; stroke: rgb(255, 255, 255); stroke-opacity: 1;\"/></g><g class=\"point\"><path d=\"M719.8,522V28.5H732.56V522Z\" style=\"vector-effect: non-scaling-stroke; opacity: 1; stroke-width: 0.5px; fill: rgb(0, 74, 29); fill-opacity: 1; stroke: rgb(255, 255, 255); stroke-opacity: 1;\"/></g><g class=\"point\"><path d=\"M735.76,522V28.13H748.52V522Z\" style=\"vector-effect: non-scaling-stroke; opacity: 1; stroke-width: 0.5px; fill: rgb(0, 73, 29); fill-opacity: 1; stroke: rgb(255, 255, 255); stroke-opacity: 1;\"/></g><g class=\"point\"><path d=\"M751.72,522V27.58H764.48V522Z\" style=\"vector-effect: non-scaling-stroke; opacity: 1; stroke-width: 0.5px; fill: rgb(0, 71, 28); fill-opacity: 1; stroke: rgb(255, 255, 255); stroke-opacity: 1;\"/></g><g class=\"point\"><path d=\"M767.68,522V27.3H780.44V522Z\" style=\"vector-effect: non-scaling-stroke; opacity: 1; stroke-width: 0.5px; fill: rgb(0, 71, 28); fill-opacity: 1; stroke: rgb(255, 255, 255); stroke-opacity: 1;\"/></g><g class=\"point\"><path d=\"M783.64,522V26.1H796.4V522Z\" style=\"vector-effect: non-scaling-stroke; opacity: 1; stroke-width: 0.5px; fill: rgb(0, 68, 27); fill-opacity: 1; stroke: rgb(255, 255, 255); stroke-opacity: 1;\"/></g></g></g></g></g><g class=\"overplot\"/><path class=\"xlines-above crisp\" d=\"M0,0\" style=\"fill: none;\"/><path class=\"ylines-above crisp\" d=\"M0,0\" style=\"fill: none;\"/><g class=\"overlines-above\"/><g class=\"xaxislayer-above\"><g class=\"xtick\"><text text-anchor=\"end\" x=\"-2.0999999999999996\" y=\"631.4\" transform=\"translate(87.98,0) rotate(-90,-2.0999999999999996,625.4)\" style=\"font-family: 'Open Sans', verdana, arial, sans-serif; font-size: 12px; fill: rgb(42, 63, 95); fill-opacity: 1; white-space: pre; opacity: 1;\">SRINAGAR</text></g><g class=\"xtick\"><text text-anchor=\"end\" x=\"-2.0999999999999996\" y=\"631.4\" transform=\"translate(103.94,0) rotate(-90,-2.0999999999999996,625.4)\" style=\"font-family: 'Open Sans', verdana, arial, sans-serif; font-size: 12px; fill: rgb(42, 63, 95); fill-opacity: 1; white-space: pre; opacity: 1;\">Nawada</text></g><g class=\"xtick\"><text text-anchor=\"end\" x=\"-2.0999999999999996\" y=\"631.4\" transform=\"translate(119.9,0) rotate(-90,-2.0999999999999996,625.4)\" style=\"font-family: 'Open Sans', verdana, arial, sans-serif; font-size: 12px; fill: rgb(42, 63, 95); fill-opacity: 1; white-space: pre; opacity: 1;\">Patna Sahib</text></g><g class=\"xtick\"><text text-anchor=\"end\" x=\"-2.0999999999999996\" y=\"631.4\" transform=\"translate(135.86,0) rotate(-90,-2.0999999999999996,625.4)\" style=\"font-family: 'Open Sans', verdana, arial, sans-serif; font-size: 12px; fill: rgb(42, 63, 95); fill-opacity: 1; white-space: pre; opacity: 1;\">Hyderabad</text></g><g class=\"xtick\"><text text-anchor=\"end\" x=\"-2.0999999999999996\" y=\"631.4\" transform=\"translate(151.82,0) rotate(-90,-2.0999999999999996,625.4)\" style=\"font-family: 'Open Sans', verdana, arial, sans-serif; font-size: 12px; fill: rgb(42, 63, 95); fill-opacity: 1; white-space: pre; opacity: 1;\">Almora</text></g><g class=\"xtick\"><text text-anchor=\"end\" x=\"-2.0999999999999996\" y=\"631.4\" transform=\"translate(167.78,0) rotate(-90,-2.0999999999999996,625.4)\" style=\"font-family: 'Open Sans', verdana, arial, sans-serif; font-size: 12px; fill: rgb(42, 63, 95); fill-opacity: 1; white-space: pre; opacity: 1;\">Phulpur</text></g><g class=\"xtick\"><text text-anchor=\"end\" x=\"-2.0999999999999996\" y=\"631.4\" transform=\"translate(183.74,0) rotate(-90,-2.0999999999999996,625.4)\" style=\"font-family: 'Open Sans', verdana, arial, sans-serif; font-size: 12px; fill: rgb(42, 63, 95); fill-opacity: 1; white-space: pre; opacity: 1;\">Secunderabad</text></g><g class=\"xtick\"><text text-anchor=\"end\" x=\"-2.0999999999999996\" y=\"631.4\" transform=\"translate(199.7,0) rotate(-90,-2.0999999999999996,625.4)\" style=\"font-family: 'Open Sans', verdana, arial, sans-serif; font-size: 12px; fill: rgb(42, 63, 95); fill-opacity: 1; white-space: pre; opacity: 1;\">Mathura</text></g><g class=\"xtick\"><text text-anchor=\"end\" x=\"-2.0999999999999996\" y=\"631.4\" transform=\"translate(215.66,0) rotate(-90,-2.0999999999999996,625.4)\" style=\"font-family: 'Open Sans', verdana, arial, sans-serif; font-size: 12px; fill: rgb(42, 63, 95); fill-opacity: 1; white-space: pre; opacity: 1;\">REWA</text></g><g class=\"xtick\"><text text-anchor=\"end\" x=\"-2.0999999999999996\" y=\"631.4\" transform=\"translate(231.62,0) rotate(-90,-2.0999999999999996,625.4)\" style=\"font-family: 'Open Sans', verdana, arial, sans-serif; font-size: 12px; fill: rgb(42, 63, 95); fill-opacity: 1; white-space: pre; opacity: 1;\">KARAULI-DHOLPUR</text></g><g class=\"xtick\"><text text-anchor=\"end\" x=\"-2.0999999999999996\" y=\"631.4\" transform=\"translate(247.58,0) rotate(-90,-2.0999999999999996,625.4)\" style=\"font-family: 'Open Sans', verdana, arial, sans-serif; font-size: 12px; fill: rgb(42, 63, 95); fill-opacity: 1; white-space: pre; opacity: 1;\">Nalanda</text></g><g class=\"xtick\"><text text-anchor=\"end\" x=\"-2.0999999999999996\" y=\"631.4\" transform=\"translate(263.53999999999996,0) rotate(-90,-2.0999999999999996,625.4)\" style=\"font-family: 'Open Sans', verdana, arial, sans-serif; font-size: 12px; fill: rgb(42, 63, 95); fill-opacity: 1; white-space: pre; opacity: 1;\">Ghaziabad</text></g><g class=\"xtick\"><text text-anchor=\"end\" x=\"-2.0999999999999996\" y=\"631.4\" transform=\"translate(279.5,0) rotate(-90,-2.0999999999999996,625.4)\" style=\"font-family: 'Open Sans', verdana, arial, sans-serif; font-size: 12px; fill: rgb(42, 63, 95); fill-opacity: 1; white-space: pre; opacity: 1;\">Mumbai South</text></g><g class=\"xtick\"><text text-anchor=\"end\" x=\"-2.0999999999999996\" y=\"631.4\" transform=\"translate(295.46000000000004,0) rotate(-90,-2.0999999999999996,625.4)\" style=\"font-family: 'Open Sans', verdana, arial, sans-serif; font-size: 12px; fill: rgb(42, 63, 95); fill-opacity: 1; white-space: pre; opacity: 1;\">Kalyan</text></g><g class=\"xtick\"><text text-anchor=\"end\" x=\"-2.0999999999999996\" y=\"631.4\" transform=\"translate(311.41999999999996,0) rotate(-90,-2.0999999999999996,625.4)\" style=\"font-family: 'Open Sans', verdana, arial, sans-serif; font-size: 12px; fill: rgb(42, 63, 95); fill-opacity: 1; white-space: pre; opacity: 1;\">Arrah</text></g><g class=\"xtick\"><text text-anchor=\"end\" x=\"-2.0999999999999996\" y=\"631.4\" transform=\"translate(327.38,0) rotate(-90,-2.0999999999999996,625.4)\" style=\"font-family: 'Open Sans', verdana, arial, sans-serif; font-size: 12px; fill: rgb(42, 63, 95); fill-opacity: 1; white-space: pre; opacity: 1;\">Amreli</text></g><g class=\"xtick\"><text text-anchor=\"end\" x=\"-2.0999999999999996\" y=\"631.4\" transform=\"translate(343.34,0) rotate(-90,-2.0999999999999996,625.4)\" style=\"font-family: 'Open Sans', verdana, arial, sans-serif; font-size: 12px; fill: rgb(42, 63, 95); fill-opacity: 1; white-space: pre; opacity: 1;\">Aurangabad</text></g><g class=\"xtick\"><text text-anchor=\"end\" x=\"-2.0999999999999996\" y=\"631.4\" transform=\"translate(359.3,0) rotate(-90,-2.0999999999999996,625.4)\" style=\"font-family: 'Open Sans', verdana, arial, sans-serif; font-size: 12px; fill: rgb(42, 63, 95); fill-opacity: 1; white-space: pre; opacity: 1;\">Malkajgiri</text></g><g class=\"xtick\"><text text-anchor=\"end\" x=\"-2.0999999999999996\" y=\"631.4\" transform=\"translate(375.26,0) rotate(-90,-2.0999999999999996,625.4)\" style=\"font-family: 'Open Sans', verdana, arial, sans-serif; font-size: 12px; fill: rgb(42, 63, 95); fill-opacity: 1; white-space: pre; opacity: 1;\">Jamui</text></g><g class=\"xtick\"><text text-anchor=\"end\" x=\"-2.0999999999999996\" y=\"631.4\" transform=\"translate(391.22,0) rotate(-90,-2.0999999999999996,625.4)\" style=\"font-family: 'Open Sans', verdana, arial, sans-serif; font-size: 12px; fill: rgb(42, 63, 95); fill-opacity: 1; white-space: pre; opacity: 1;\">Salempur</text></g><g class=\"xtick\"><text text-anchor=\"end\" x=\"-2.0999999999999996\" y=\"631.4\" transform=\"translate(407.18,0) rotate(-90,-2.0999999999999996,625.4)\" style=\"font-family: 'Open Sans', verdana, arial, sans-serif; font-size: 12px; fill: rgb(42, 63, 95); fill-opacity: 1; white-space: pre; opacity: 1;\">Pratapgarh</text></g><g class=\"xtick\"><text text-anchor=\"end\" x=\"-2.0999999999999996\" y=\"631.4\" transform=\"translate(423.14,0) rotate(-90,-2.0999999999999996,625.4)\" style=\"font-family: 'Open Sans', verdana, arial, sans-serif; font-size: 12px; fill: rgb(42, 63, 95); fill-opacity: 1; white-space: pre; opacity: 1;\">Gonda</text></g><g class=\"xtick\"><text text-anchor=\"end\" x=\"-2.0999999999999996\" y=\"631.4\" transform=\"translate(439.1,0) rotate(-90,-2.0999999999999996,625.4)\" style=\"font-family: 'Open Sans', verdana, arial, sans-serif; font-size: 12px; fill: rgb(42, 63, 95); fill-opacity: 1; white-space: pre; opacity: 1;\">Bansgaon</text></g><g class=\"xtick\"><text text-anchor=\"end\" x=\"-2.0999999999999996\" y=\"631.4\" transform=\"translate(455.06,0) rotate(-90,-2.0999999999999996,625.4)\" style=\"font-family: 'Open Sans', verdana, arial, sans-serif; font-size: 12px; fill: rgb(42, 63, 95); fill-opacity: 1; white-space: pre; opacity: 1;\">Allahabad</text></g><g class=\"xtick\"><text text-anchor=\"end\" x=\"-2.0999999999999996\" y=\"631.4\" transform=\"translate(471.02,0) rotate(-90,-2.0999999999999996,625.4)\" style=\"font-family: 'Open Sans', verdana, arial, sans-serif; font-size: 12px; fill: rgb(42, 63, 95); fill-opacity: 1; white-space: pre; opacity: 1;\">Porbandar</text></g><g class=\"xtick\"><text text-anchor=\"end\" x=\"-2.0999999999999996\" y=\"631.4\" transform=\"translate(486.98,0) rotate(-90,-2.0999999999999996,625.4)\" style=\"font-family: 'Open Sans', verdana, arial, sans-serif; font-size: 12px; fill: rgb(42, 63, 95); fill-opacity: 1; white-space: pre; opacity: 1;\">Domariyaganj</text></g><g class=\"xtick\"><text text-anchor=\"end\" x=\"-2.0999999999999996\" y=\"631.4\" transform=\"translate(502.94,0) rotate(-90,-2.0999999999999996,625.4)\" style=\"font-family: 'Open Sans', verdana, arial, sans-serif; font-size: 12px; fill: rgb(42, 63, 95); fill-opacity: 1; white-space: pre; opacity: 1;\">Mumbai North Central</text></g><g class=\"xtick\"><text text-anchor=\"end\" x=\"-2.0999999999999996\" y=\"631.4\" transform=\"translate(518.9,0) rotate(-90,-2.0999999999999996,625.4)\" style=\"font-family: 'Open Sans', verdana, arial, sans-serif; font-size: 12px; fill: rgb(42, 63, 95); fill-opacity: 1; white-space: pre; opacity: 1;\">Ballia</text></g><g class=\"xtick\"><text text-anchor=\"end\" x=\"-2.0999999999999996\" y=\"631.4\" transform=\"translate(534.86,0) rotate(-90,-2.0999999999999996,625.4)\" style=\"font-family: 'Open Sans', verdana, arial, sans-serif; font-size: 12px; fill: rgb(42, 63, 95); fill-opacity: 1; white-space: pre; opacity: 1;\">Thane</text></g><g class=\"xtick\"><text text-anchor=\"end\" x=\"-2.0999999999999996\" y=\"631.4\" transform=\"translate(550.8199999999999,0) rotate(-90,-2.0999999999999996,625.4)\" style=\"font-family: 'Open Sans', verdana, arial, sans-serif; font-size: 12px; fill: rgb(42, 63, 95); fill-opacity: 1; white-space: pre; opacity: 1;\">Maharajganj</text></g><g class=\"xtick\"><text text-anchor=\"end\" x=\"-2.0999999999999996\" y=\"631.4\" transform=\"translate(566.78,0) rotate(-90,-2.0999999999999996,625.4)\" style=\"font-family: 'Open Sans', verdana, arial, sans-serif; font-size: 12px; fill: rgb(42, 63, 95); fill-opacity: 1; white-space: pre; opacity: 1;\">Lucknow</text></g><g class=\"xtick\"><text text-anchor=\"end\" x=\"-2.0999999999999996\" y=\"631.4\" transform=\"translate(582.74,0) rotate(-90,-2.0999999999999996,625.4)\" style=\"font-family: 'Open Sans', verdana, arial, sans-serif; font-size: 12px; fill: rgb(42, 63, 95); fill-opacity: 1; white-space: pre; opacity: 1;\">Gopalganj</text></g><g class=\"xtick\"><text text-anchor=\"end\" x=\"-2.0999999999999996\" y=\"631.4\" transform=\"translate(598.7,0) rotate(-90,-2.0999999999999996,625.4)\" style=\"font-family: 'Open Sans', verdana, arial, sans-serif; font-size: 12px; fill: rgb(42, 63, 95); fill-opacity: 1; white-space: pre; opacity: 1;\">Garhwal</text></g><g class=\"xtick\"><text text-anchor=\"end\" x=\"-2.0999999999999996\" y=\"631.4\" transform=\"translate(614.66,0) rotate(-90,-2.0999999999999996,625.4)\" style=\"font-family: 'Open Sans', verdana, arial, sans-serif; font-size: 12px; fill: rgb(42, 63, 95); fill-opacity: 1; white-space: pre; opacity: 1;\">Siwan</text></g><g class=\"xtick\"><text text-anchor=\"end\" x=\"-2.0999999999999996\" y=\"631.4\" transform=\"translate(630.62,0) rotate(-90,-2.0999999999999996,625.4)\" style=\"font-family: 'Open Sans', verdana, arial, sans-serif; font-size: 12px; fill: rgb(42, 63, 95); fill-opacity: 1; white-space: pre; opacity: 1;\">Sant Kabir Nagar</text></g><g class=\"xtick\"><text text-anchor=\"end\" x=\"-2.0999999999999996\" y=\"631.4\" transform=\"translate(646.58,0) rotate(-90,-2.0999999999999996,625.4)\" style=\"font-family: 'Open Sans', verdana, arial, sans-serif; font-size: 12px; fill: rgb(42, 63, 95); fill-opacity: 1; white-space: pre; opacity: 1;\">Gaya</text></g><g class=\"xtick\"><text text-anchor=\"end\" x=\"-2.0999999999999996\" y=\"631.4\" transform=\"translate(662.54,0) rotate(-90,-2.0999999999999996,625.4)\" style=\"font-family: 'Open Sans', verdana, arial, sans-serif; font-size: 12px; fill: rgb(42, 63, 95); fill-opacity: 1; white-space: pre; opacity: 1;\">BHARATPUR</text></g><g class=\"xtick\"><text text-anchor=\"end\" x=\"-2.0999999999999996\" y=\"631.4\" transform=\"translate(678.5,0) rotate(-90,-2.0999999999999996,625.4)\" style=\"font-family: 'Open Sans', verdana, arial, sans-serif; font-size: 12px; fill: rgb(42, 63, 95); fill-opacity: 1; white-space: pre; opacity: 1;\">Kaushambi</text></g><g class=\"xtick\"><text text-anchor=\"end\" x=\"-2.0999999999999996\" y=\"631.4\" transform=\"translate(694.46,0) rotate(-90,-2.0999999999999996,625.4)\" style=\"font-family: 'Open Sans', verdana, arial, sans-serif; font-size: 12px; fill: rgb(42, 63, 95); fill-opacity: 1; white-space: pre; opacity: 1;\">Shrawasti</text></g><g class=\"xtick\"><text text-anchor=\"end\" x=\"-2.0999999999999996\" y=\"631.4\" transform=\"translate(710.42,0) rotate(-90,-2.0999999999999996,625.4)\" style=\"font-family: 'Open Sans', verdana, arial, sans-serif; font-size: 12px; fill: rgb(42, 63, 95); fill-opacity: 1; white-space: pre; opacity: 1;\">JHUNJHUNU</text></g><g class=\"xtick\"><text text-anchor=\"end\" x=\"-2.0999999999999996\" y=\"631.4\" transform=\"translate(726.38,0) rotate(-90,-2.0999999999999996,625.4)\" style=\"font-family: 'Open Sans', verdana, arial, sans-serif; font-size: 12px; fill: rgb(42, 63, 95); fill-opacity: 1; white-space: pre; opacity: 1;\">Madhubani</text></g><g class=\"xtick\"><text text-anchor=\"end\" x=\"-2.0999999999999996\" y=\"631.4\" transform=\"translate(742.34,0) rotate(-90,-2.0999999999999996,625.4)\" style=\"font-family: 'Open Sans', verdana, arial, sans-serif; font-size: 12px; fill: rgb(42, 63, 95); fill-opacity: 1; white-space: pre; opacity: 1;\">Kanpur</text></g><g class=\"xtick\"><text text-anchor=\"end\" x=\"-2.0999999999999996\" y=\"631.4\" transform=\"translate(758.3,0) rotate(-90,-2.0999999999999996,625.4)\" style=\"font-family: 'Open Sans', verdana, arial, sans-serif; font-size: 12px; fill: rgb(42, 63, 95); fill-opacity: 1; white-space: pre; opacity: 1;\">Bhadohi</text></g><g class=\"xtick\"><text text-anchor=\"end\" x=\"-2.0999999999999996\" y=\"631.4\" transform=\"translate(774.26,0) rotate(-90,-2.0999999999999996,625.4)\" style=\"font-family: 'Open Sans', verdana, arial, sans-serif; font-size: 12px; fill: rgb(42, 63, 95); fill-opacity: 1; white-space: pre; opacity: 1;\">Bangalore South</text></g><g class=\"xtick\"><text text-anchor=\"end\" x=\"-2.0999999999999996\" y=\"631.4\" transform=\"translate(790.22,0) rotate(-90,-2.0999999999999996,625.4)\" style=\"font-family: 'Open Sans', verdana, arial, sans-serif; font-size: 12px; fill: rgb(42, 63, 95); fill-opacity: 1; white-space: pre; opacity: 1;\">Shahjahanpur</text></g><g class=\"xtick\"><text text-anchor=\"end\" x=\"-2.0999999999999996\" y=\"631.4\" transform=\"translate(806.18,0) rotate(-90,-2.0999999999999996,625.4)\" style=\"font-family: 'Open Sans', verdana, arial, sans-serif; font-size: 12px; fill: rgb(42, 63, 95); fill-opacity: 1; white-space: pre; opacity: 1;\">Bhagalpur</text></g><g class=\"xtick\"><text text-anchor=\"end\" x=\"-2.0999999999999996\" y=\"631.4\" transform=\"translate(822.14,0) rotate(-90,-2.0999999999999996,625.4)\" style=\"font-family: 'Open Sans', verdana, arial, sans-serif; font-size: 12px; fill: rgb(42, 63, 95); fill-opacity: 1; white-space: pre; opacity: 1;\">Pune</text></g><g class=\"xtick\"><text text-anchor=\"end\" x=\"-2.0999999999999996\" y=\"631.4\" transform=\"translate(838.1,0) rotate(-90,-2.0999999999999996,625.4)\" style=\"font-family: 'Open Sans', verdana, arial, sans-serif; font-size: 12px; fill: rgb(42, 63, 95); fill-opacity: 1; white-space: pre; opacity: 1;\">Mumbai South Central</text></g><g class=\"xtick\"><text text-anchor=\"end\" x=\"-2.0999999999999996\" y=\"631.4\" transform=\"translate(854.06,0) rotate(-90,-2.0999999999999996,625.4)\" style=\"font-family: 'Open Sans', verdana, arial, sans-serif; font-size: 12px; fill: rgb(42, 63, 95); fill-opacity: 1; white-space: pre; opacity: 1;\">Gautam Buddha Nagar</text></g><g class=\"xtick\"><text text-anchor=\"end\" x=\"-2.0999999999999996\" y=\"631.4\" transform=\"translate(870.02,0) rotate(-90,-2.0999999999999996,625.4)\" style=\"font-family: 'Open Sans', verdana, arial, sans-serif; font-size: 12px; fill: rgb(42, 63, 95); fill-opacity: 1; white-space: pre; opacity: 1;\">Tehri Garhwal</text></g></g><g class=\"yaxislayer-above\"><g class=\"ytick\"><text text-anchor=\"end\" x=\"79\" y=\"4.199999999999999\" transform=\"translate(0,622)\" style=\"font-family: 'Open Sans', verdana, arial, sans-serif; font-size: 12px; fill: rgb(42, 63, 95); fill-opacity: 1; white-space: pre; opacity: 1;\">0</text></g><g class=\"ytick\"><text text-anchor=\"end\" x=\"79\" y=\"4.199999999999999\" style=\"font-family: 'Open Sans', verdana, arial, sans-serif; font-size: 12px; fill: rgb(42, 63, 95); fill-opacity: 1; white-space: pre; opacity: 1;\" transform=\"translate(0,529.76)\">10</text></g><g class=\"ytick\"><text text-anchor=\"end\" x=\"79\" y=\"4.199999999999999\" style=\"font-family: 'Open Sans', verdana, arial, sans-serif; font-size: 12px; fill: rgb(42, 63, 95); fill-opacity: 1; white-space: pre; opacity: 1;\" transform=\"translate(0,437.51)\">20</text></g><g class=\"ytick\"><text text-anchor=\"end\" x=\"79\" y=\"4.199999999999999\" style=\"font-family: 'Open Sans', verdana, arial, sans-serif; font-size: 12px; fill: rgb(42, 63, 95); fill-opacity: 1; white-space: pre; opacity: 1;\" transform=\"translate(0,345.27)\">30</text></g><g class=\"ytick\"><text text-anchor=\"end\" x=\"79\" y=\"4.199999999999999\" style=\"font-family: 'Open Sans', verdana, arial, sans-serif; font-size: 12px; fill: rgb(42, 63, 95); fill-opacity: 1; white-space: pre; opacity: 1;\" transform=\"translate(0,253.03)\">40</text></g><g class=\"ytick\"><text text-anchor=\"end\" x=\"79\" y=\"4.199999999999999\" style=\"font-family: 'Open Sans', verdana, arial, sans-serif; font-size: 12px; fill: rgb(42, 63, 95); fill-opacity: 1; white-space: pre; opacity: 1;\" transform=\"translate(0,160.78)\">50</text></g></g><g class=\"overaxes-above\"/></g></g><g class=\"polarlayer\"/><g class=\"smithlayer\"/><g class=\"ternarylayer\"/><g class=\"geolayer\"/><g class=\"funnelarealayer\"/><g class=\"pielayer\"/><g class=\"iciclelayer\"/><g class=\"treemaplayer\"/><g class=\"sunburstlayer\"/><g class=\"glimages\"/><defs id=\"topdefs-07d4f0\"><g class=\"clips\"/></defs><g class=\"layer-above\"><g class=\"imagelayer\"/><g class=\"shapelayer\"/></g><g class=\"infolayer\"><g class=\"cbcoloraxis colorbar\" transform=\"translate(80,100)\"><rect class=\"cbbg\" x=\"814\" y=\"0\" width=\"94.359375\" height=\"522\" style=\"fill: rgb(0, 0, 0); fill-opacity: 0; stroke: rgb(68, 68, 68); stroke-opacity: 1; stroke-width: 0;\"/><g class=\"cbfills\" transform=\"translate(0,32)\"><rect class=\"cbfill gradient_filled\" x=\"824\" y=\"0\" width=\"30\" height=\"480\" style=\"fill: url('#g07d4f0-cbcoloraxis');\"/></g><g class=\"cblines\" transform=\"translate(0,32)\"/><g class=\"cbaxis crisp\" transform=\"translate(0,-100)\"><g class=\"ycbcoloraxistick\"><text text-anchor=\"start\" x=\"856.9\" y=\"4.199999999999999\" transform=\"translate(0,564.53)\" style=\"font-family: 'Open Sans', verdana, arial, sans-serif; font-size: 12px; fill: rgb(42, 63, 95); fill-opacity: 1; white-space: pre; opacity: 1;\">40</text></g><g class=\"ycbcoloraxistick\"><text text-anchor=\"start\" x=\"856.9\" y=\"4.199999999999999\" style=\"font-family: 'Open Sans', verdana, arial, sans-serif; font-size: 12px; fill: rgb(42, 63, 95); fill-opacity: 1; white-space: pre; opacity: 1;\" transform=\"translate(0,501.6700000000001)\">42</text></g><g class=\"ycbcoloraxistick\"><text text-anchor=\"start\" x=\"856.9\" y=\"4.199999999999999\" style=\"font-family: 'Open Sans', verdana, arial, sans-serif; font-size: 12px; fill: rgb(42, 63, 95); fill-opacity: 1; white-space: pre; opacity: 1;\" transform=\"translate(0,438.80000000000007)\">44</text></g><g class=\"ycbcoloraxistick\"><text text-anchor=\"start\" x=\"856.9\" y=\"4.199999999999999\" style=\"font-family: 'Open Sans', verdana, arial, sans-serif; font-size: 12px; fill: rgb(42, 63, 95); fill-opacity: 1; white-space: pre; opacity: 1;\" transform=\"translate(0,375.93000000000006)\">46</text></g><g class=\"ycbcoloraxistick\"><text text-anchor=\"start\" x=\"856.9\" y=\"4.199999999999999\" style=\"font-family: 'Open Sans', verdana, arial, sans-serif; font-size: 12px; fill: rgb(42, 63, 95); fill-opacity: 1; white-space: pre; opacity: 1;\" transform=\"translate(0,313.06000000000006)\">48</text></g><g class=\"ycbcoloraxistick\"><text text-anchor=\"start\" x=\"856.9\" y=\"4.199999999999999\" style=\"font-family: 'Open Sans', verdana, arial, sans-serif; font-size: 12px; fill: rgb(42, 63, 95); fill-opacity: 1; white-space: pre; opacity: 1;\" transform=\"translate(0,250.19000000000003)\">50</text></g><g class=\"ycbcoloraxistick\"><text text-anchor=\"start\" x=\"856.9\" y=\"4.199999999999999\" style=\"font-family: 'Open Sans', verdana, arial, sans-serif; font-size: 12px; fill: rgb(42, 63, 95); fill-opacity: 1; white-space: pre; opacity: 1;\" transform=\"translate(0,187.32000000000002)\">52</text></g></g><g class=\"cbtitleunshift\" transform=\"translate(-80,-100)\"><g class=\"cbtitle\" transform=\"\"><text class=\"ycbcoloraxistitle\" x=\"903.96\" y=\"123.5\" text-anchor=\"start\" style=\"font-family: 'Open Sans', verdana, arial, sans-serif; font-size: 14px; fill: rgb(42, 63, 95); opacity: 1; font-weight: normal; white-space: pre;\">Polled (%)</text></g></g><rect class=\"cboutline\" x=\"824\" y=\"32\" width=\"30\" height=\"480\" style=\"stroke: rgb(68, 68, 68); stroke-opacity: 1; fill: none; stroke-width: 0;\"/></g><g class=\"g-gtitle\"><text class=\"gtitle\" x=\"50\" y=\"50\" text-anchor=\"start\" dy=\"0em\" style=\"font-family: 'Open Sans', verdana, arial, sans-serif; font-size: 17px; fill: rgb(42, 63, 95); opacity: 1; font-weight: normal; white-space: pre;\">Least 50 Constituencies by Vote Percentage</text></g><g class=\"g-xtitle\"><text class=\"xtitle\" x=\"479\" y=\"787.9279296875\" text-anchor=\"middle\" style=\"font-family: 'Open Sans', verdana, arial, sans-serif; font-size: 14px; fill: rgb(42, 63, 95); opacity: 1; font-weight: normal; white-space: pre;\">Constituency Name</text></g><g class=\"g-ytitle\"><text class=\"ytitle\" transform=\"rotate(-90,38.934375,361)\" x=\"38.934375\" y=\"361\" text-anchor=\"middle\" style=\"font-family: 'Open Sans', verdana, arial, sans-serif; font-size: 14px; fill: rgb(42, 63, 95); opacity: 1; font-weight: normal; white-space: pre;\">Polled (%)</text></g></g></svg>"
      ]
     },
     "metadata": {},
     "output_type": "display_data"
    }
   ],
   "source": [
    "least_50_constituency_low_vote = merged_data.groupby('PC_Name')['Polled (%)'].nlargest(50).reset_index().sort_values(by='Polled (%)',ascending=True)\n",
    "least_50_constituency_low_vote\n",
    "least_50_constituency_low_vote = least_50_constituency_low_vote.head(50)\n",
    "\n",
    "\n",
    "# Assuming least_50_constituency_low_vote is a DataFrame with the necessary data\n",
    "fig = px.bar(least_50_constituency_low_vote, x='PC_Name', y='Polled (%)',\n",
    "             labels={'PC_Name': 'Constituency Name', 'Polled (%)': 'Polled (%)'},\n",
    "             title='Least 50 Constituencies by Vote Percentage',\n",
    "             color='Polled (%)',\n",
    "             color_continuous_scale='greens')\n",
    "\n",
    "fig.update_layout(xaxis={'categoryorder': 'total ascending'},\n",
    "                  xaxis_tickangle=-90,\n",
    "                  width=1000,\n",
    "                  height=800,\n",
    "                  template='plotly_white')\n",
    "\n",
    "fig.update_traces(hovertemplate='<b>%{x}</b><br>Polled: %{y:.2f}%')\n",
    "\n",
    "fig.show(\"svg\")\n"
   ]
  },
  {
   "cell_type": "markdown",
   "id": "c838a6c9-6fc7-44f6-9f56-78be9e8916d3",
   "metadata": {},
   "source": [
    "The above bar graph shows **Least 50 Constituency with Lowest Vote Percentage** in 2024 General Election in state and union territory [UT].\n",
    "\n",
    "List of ten constituency in states and UTs with the **lowest vote percent**               \n",
    "1. **SRINAGAR - 38.49 %**\n",
    "2. **Nawada - 43.17 %**\n",
    "3. **Patna Sahib - 46.85 %**\n",
    "4. **Hydrabad - 48.48 %**\n",
    "5. **Almora - 48.74 %**\n",
    "6. **Phulpur - 48.91 %**\n",
    "7. **Secunderabad - 49.04 %**\n",
    "8. **Mathura - 49.41 %**\n",
    "9. **REWA - 49.43 %**\n",
    "10. **KARAULI - DHOLPUR - 49.59 %**"
   ]
  },
  {
   "cell_type": "code",
   "execution_count": 32,
   "id": "3bacef91-2d43-45fc-a6a0-522a61c4e846",
   "metadata": {},
   "outputs": [
    {
     "data": {
      "image/png": "[encoded data removed]",
      "text/plain": [
       "<Figure size 1500x2500 with 1 Axes>"
      ]
     },
     "metadata": {},
     "output_type": "display_data"
    }
   ],
   "source": [
    "plt.figure(figsize=(15, 25))\n",
    "sns.scatterplot(data=merged_data, x='Amount spent (INR)', y='Polled (%)', hue='State', palette='Set1')\n",
    "\n",
    "# Customize labels and title\n",
    "plt.xlabel('Ad Spend (INR)')\n",
    "plt.ylabel('Voter Turnout (%)')\n",
    "plt.title('Ad Spend and Voter Turnout by State')\n",
    "\n",
    "# Show the plot\n",
    "plt.show()"
   ]
  },
  {
   "cell_type": "markdown",
   "id": "107ad2dc-c265-4f95-a2ad-364a84e6df7d",
   "metadata": {},
   "source": [
    "#### Ad Expendiure and Average Voter turnout Analysis in states and union territory[UT]."
   ]
  },
  {
   "cell_type": "markdown",
   "id": "c9d589a6-6286-44e2-8438-b5476e125531",
   "metadata": {},
   "source": [
    "-------------------------------------------------------------------------------------------------------------------------------------------"
   ]
  },
  {
   "cell_type": "markdown",
   "id": "be1b743c-2633-41b7-a148-72317b1cb445",
   "metadata": {},
   "source": [
    "# Top 5 Parties' Net Spending in India and Leading Alliance Rulling States"
   ]
  },
  {
   "cell_type": "code",
   "execution_count": 33,
   "id": "2bd95690-0106-49c2-8e3a-d6ddd2de8944",
   "metadata": {},
   "outputs": [],
   "source": [
    "party_spend = advetise.groupby('Page name')['Amount spent (INR)'].sum().sort_values(ascending=False)"
   ]
  },
  {
   "cell_type": "code",
   "execution_count": 34,
   "id": "94341ff9-b0fd-45a5-8e20-34e3a1180e69",
   "metadata": {},
   "outputs": [
    {
     "data": {
      "text/plain": [
       "Page name\n",
       "Bharatiya Janata Party (BJP)                193854342.0\n",
       "Ama Chinha Sankha Chinha                    112412941.0\n",
       "Indian National Congress                    108787100.0\n",
       "Ellorum Nammudan                             23806041.0\n",
       "BJP Odisha                                   19573782.0\n",
       "                                               ...     \n",
       "Ranjit Nath                                       101.0\n",
       "Old coin selling company in Mumbai India          101.0\n",
       "chilliestirupati                                  101.0\n",
       "nihitsirpolity                                    101.0\n",
       "महा MTB                                           101.0\n",
       "Name: Amount spent (INR), Length: 11590, dtype: float64"
      ]
     },
     "execution_count": 34,
     "metadata": {},
     "output_type": "execute_result"
    }
   ],
   "source": [
    "advetise['Amount spent (INR)'] = pd.to_numeric(advetise['Amount spent (INR)'], errors='coerce')\n",
    "advetise.dropna(subset=['Amount spent (INR)'], inplace=True)\n",
    "party_spend = advetise.groupby('Page name')['Amount spent (INR)'].sum().sort_values(ascending=False)\n",
    "party_spend"
   ]
  },
  {
   "cell_type": "code",
   "execution_count": 51,
   "id": "e3c30bf2-eb6a-4173-a4c4-cdba8314a762",
   "metadata": {},
   "outputs": [
    {
     "data": {
      "image/svg+xml": [
       "<svg class=\"main-svg\" xmlns=\"http://www.w3.org/2000/svg\" xmlns:xlink=\"http://www.w3.org/1999/xlink\" width=\"1000\" height=\"400\" style=\"\" viewBox=\"0 0 1000 400\"><rect x=\"0\" y=\"0\" width=\"1000\" height=\"400\" style=\"fill: rgb(255, 255, 255); fill-opacity: 1;\"/><defs id=\"defs-918b99\"><g class=\"clips\"/><g class=\"gradients\"/><g class=\"patterns\"/></defs><g class=\"bglayer\"/><g class=\"layer-below\"><g class=\"imagelayer\"/><g class=\"shapelayer\"/></g><g class=\"cartesianlayer\"/><g class=\"polarlayer\"/><g class=\"smithlayer\"/><g class=\"ternarylayer\"/><g class=\"geolayer\"/><g class=\"funnelarealayer\"/><g class=\"pielayer\"><g class=\"trace\" stroke-linejoin=\"round\" style=\"opacity: 1;\"><g class=\"slice\"><path class=\"surface\" d=\"M488.5,210l0,-110a110,110 0 0 1 51.25111593418886,207.33099771141943Z\" style=\"pointer-events: all; stroke-width: 0; fill: rgb(255, 140, 0); fill-opacity: 1; stroke: rgb(68, 68, 68); stroke-opacity: 1;\"/><g class=\"slicetext\"><text data-notex=\"1\" class=\"slicetext\" transform=\"translate(622.9068834138316,179.6814904353414)\" text-anchor=\"middle\" x=\"0\" y=\"0\" style=\"font-family: 'Open Sans', verdana, arial, sans-serif; font-size: 12px; fill: rgb(42, 63, 95); fill-opacity: 1; white-space: pre;\"><tspan class=\"line\" dy=\"0em\" x=\"0\" y=\"0\">BJP</tspan><tspan class=\"line\" dy=\"1.3em\" x=\"0\" y=\"0\">42.3%</tspan></text></g></g><g class=\"slice\"><path class=\"surface\" d=\"M488.5,210l-109.95019806457812,-3.309674539896935a110,110 0 0 1 109.95019806457812,-106.69032546010307Z\" style=\"pointer-events: all; stroke-width: 0; fill: rgb(0, 128, 0); fill-opacity: 1; stroke: rgb(68, 68, 68); stroke-opacity: 1;\"/><g class=\"slicetext\"><text data-notex=\"1\" class=\"slicetext\" transform=\"translate(384.27624376163953,120.24826567191764)\" text-anchor=\"middle\" x=\"0\" y=\"0\" style=\"font-family: 'Open Sans', verdana, arial, sans-serif; font-size: 12px; fill: rgb(42, 63, 95); fill-opacity: 1; white-space: pre;\"><tspan class=\"line\" dy=\"0em\" x=\"0\" y=\"0\">BJD</tspan><tspan class=\"line\" dy=\"1.3em\" x=\"0\" y=\"0\">24.5%</tspan></text></g></g><g class=\"slice\"><path class=\"surface\" d=\"M488.5,210l-12.06247742762809,109.33662075584722a110,110 0 0 1 -97.88772063695002,-112.64629529574415Z\" style=\"pointer-events: all; stroke-width: 0; fill: rgb(135, 206, 235); fill-opacity: 1; stroke: rgb(68, 68, 68); stroke-opacity: 1;\"/><g class=\"slicetext\"><text data-notex=\"1\" class=\"slicetext\" transform=\"translate(377.84836845723606,285.5746028594635)\" text-anchor=\"middle\" x=\"0\" y=\"0\" style=\"font-family: 'Open Sans', verdana, arial, sans-serif; font-size: 12px; fill: rgb(42, 63, 95); fill-opacity: 1; white-space: pre;\"><tspan class=\"line\" dy=\"0em\" x=\"0\" y=\"0\">INC</tspan><tspan class=\"line\" dy=\"1.3em\" x=\"0\" y=\"0\">23.7%</tspan></text></g></g><g class=\"slice\"><path class=\"surface\" d=\"M488.5,210l23.618629374674462,107.43444674061372a110,110 0 0 1 -35.68110680230255,1.9021740152334985Z\" style=\"pointer-events: all; stroke-width: 0; fill: rgb(255, 0, 0); fill-opacity: 1; stroke: rgb(68, 68, 68); stroke-opacity: 1;\"/><g class=\"slicetext\"><text data-notex=\"1\" class=\"slicetext\" transform=\"translate(521.9769223379851,353.6448012952512)\" text-anchor=\"middle\" x=\"0\" y=\"0\" style=\"font-family: 'Open Sans', verdana, arial, sans-serif; font-size: 12px; fill: rgb(42, 63, 95); fill-opacity: 1; white-space: pre;\"><tspan class=\"line\" dy=\"0em\" x=\"0\" y=\"0\">DMK</tspan><tspan class=\"line\" dy=\"1.3em\" x=\"0\" y=\"0\">5.19%</tspan></text></g><path class=\"textline\" stroke-width=\"1.5\" d=\"M494.35582858798506,319.84402246616855V356.6994887952512h7.52734375\" fill=\"none\" style=\"stroke: rgb(42, 63, 95); stroke-opacity: 1;\"/></g><g class=\"slice\"><path class=\"surface\" d=\"M488.5,210l51.25111593418883,97.33099771141943a110,110 0 0 1 -27.63248655951437,10.103449029194294Z\" style=\"pointer-events: all; stroke-width: 0; fill: rgb(255, 165, 0); fill-opacity: 1; stroke: rgb(68, 68, 68); stroke-opacity: 1;\"/><g class=\"slicetext\"><text data-notex=\"1\" class=\"slicetext\" transform=\"translate(567.0046611467263,323.5354262952512)\" text-anchor=\"middle\" x=\"0\" y=\"0\" style=\"font-family: 'Open Sans', verdana, arial, sans-serif; font-size: 12px; fill: rgb(42, 63, 95); fill-opacity: 1; white-space: pre;\"><tspan class=\"line\" dy=\"0em\" x=\"0\" y=\"0\">BJP Odisha</tspan><tspan class=\"line\" dy=\"1.3em\" x=\"0\" y=\"0\">4.27%</tspan></text></g></g></g></g><g class=\"iciclelayer\"/><g class=\"treemaplayer\"/><g class=\"sunburstlayer\"/><g class=\"glimages\"/><defs id=\"topdefs-918b99\"><g class=\"clips\"/><clipPath id=\"legend918b99\"><rect width=\"112\" height=\"105\" x=\"0\" y=\"0\"/></clipPath></defs><g class=\"layer-above\"><g class=\"imagelayer\"/><g class=\"shapelayer\"/></g><g class=\"infolayer\"><g class=\"legend\" pointer-events=\"all\" transform=\"translate(144.7,149)\"><rect class=\"bg\" shape-rendering=\"crispEdges\" style=\"stroke: rgb(68, 68, 68); stroke-opacity: 1; fill: rgb(255, 255, 255); fill-opacity: 1; stroke-width: 0px;\" width=\"112\" height=\"105\" x=\"0\" y=\"0\"/><g class=\"scrollbox\" transform=\"\" clip-path=\"url(#legend918b99)\"><g class=\"groups\"><g class=\"traces\" transform=\"translate(0,14.5)\" style=\"opacity: 1;\"><text class=\"legendtext\" text-anchor=\"start\" x=\"40\" y=\"4.680000000000001\" style=\"font-family: 'Open Sans', verdana, arial, sans-serif; font-size: 12px; fill: rgb(42, 63, 95); fill-opacity: 1; white-space: pre;\">BJP</text><g class=\"layers\" style=\"opacity: 1;\"><g class=\"legendfill\"/><g class=\"legendlines\"/><g class=\"legendsymbols\"><g class=\"legendpoints\"><path class=\"legendpie\" d=\"M6,6H-6V-6H6Z\" transform=\"translate(20,0)\" style=\"stroke-width: 0; fill: rgb(255, 140, 0); fill-opacity: 1; stroke: rgb(68, 68, 68); stroke-opacity: 1;\"/></g></g></g><rect class=\"legendtoggle\" x=\"0\" y=\"-9.5\" width=\"106.40625\" height=\"19\" style=\"fill: rgb(0, 0, 0); fill-opacity: 0;\"/></g><g class=\"traces\" transform=\"translate(0,33.5)\" style=\"opacity: 1;\"><text class=\"legendtext\" text-anchor=\"start\" x=\"40\" y=\"4.680000000000001\" style=\"font-family: 'Open Sans', verdana, arial, sans-serif; font-size: 12px; fill: rgb(42, 63, 95); fill-opacity: 1; white-space: pre;\">BJD</text><g class=\"layers\" style=\"opacity: 1;\"><g class=\"legendfill\"/><g class=\"legendlines\"/><g class=\"legendsymbols\"><g class=\"legendpoints\"><path class=\"legendpie\" d=\"M6,6H-6V-6H6Z\" transform=\"translate(20,0)\" style=\"stroke-width: 0; fill: rgb(0, 128, 0); fill-opacity: 1; stroke: rgb(68, 68, 68); stroke-opacity: 1;\"/></g></g></g><rect class=\"legendtoggle\" x=\"0\" y=\"-9.5\" width=\"106.40625\" height=\"19\" style=\"fill: rgb(0, 0, 0); fill-opacity: 0;\"/></g><g class=\"traces\" transform=\"translate(0,52.5)\" style=\"opacity: 1;\"><text class=\"legendtext\" text-anchor=\"start\" x=\"40\" y=\"4.680000000000001\" style=\"font-family: 'Open Sans', verdana, arial, sans-serif; font-size: 12px; fill: rgb(42, 63, 95); fill-opacity: 1; white-space: pre;\">INC</text><g class=\"layers\" style=\"opacity: 1;\"><g class=\"legendfill\"/><g class=\"legendlines\"/><g class=\"legendsymbols\"><g class=\"legendpoints\"><path class=\"legendpie\" d=\"M6,6H-6V-6H6Z\" transform=\"translate(20,0)\" style=\"stroke-width: 0; fill: rgb(135, 206, 235); fill-opacity: 1; stroke: rgb(68, 68, 68); stroke-opacity: 1;\"/></g></g></g><rect class=\"legendtoggle\" x=\"0\" y=\"-9.5\" width=\"106.40625\" height=\"19\" style=\"fill: rgb(0, 0, 0); fill-opacity: 0;\"/></g><g class=\"traces\" transform=\"translate(0,71.5)\" style=\"opacity: 1;\"><text class=\"legendtext\" text-anchor=\"start\" x=\"40\" y=\"4.680000000000001\" style=\"font-family: 'Open Sans', verdana, arial, sans-serif; font-size: 12px; fill: rgb(42, 63, 95); fill-opacity: 1; white-space: pre;\">DMK</text><g class=\"layers\" style=\"opacity: 1;\"><g class=\"legendfill\"/><g class=\"legendlines\"/><g class=\"legendsymbols\"><g class=\"legendpoints\"><path class=\"legendpie\" d=\"M6,6H-6V-6H6Z\" transform=\"translate(20,0)\" style=\"stroke-width: 0; fill: rgb(255, 0, 0); fill-opacity: 1; stroke: rgb(68, 68, 68); stroke-opacity: 1;\"/></g></g></g><rect class=\"legendtoggle\" x=\"0\" y=\"-9.5\" width=\"106.40625\" height=\"19\" style=\"fill: rgb(0, 0, 0); fill-opacity: 0;\"/></g><g class=\"traces\" transform=\"translate(0,90.5)\" style=\"opacity: 1;\"><text class=\"legendtext\" text-anchor=\"start\" x=\"40\" y=\"4.680000000000001\" style=\"font-family: 'Open Sans', verdana, arial, sans-serif; font-size: 12px; fill: rgb(42, 63, 95); fill-opacity: 1; white-space: pre;\">BJP Odisha</text><g class=\"layers\" style=\"opacity: 1;\"><g class=\"legendfill\"/><g class=\"legendlines\"/><g class=\"legendsymbols\"><g class=\"legendpoints\"><path class=\"legendpie\" d=\"M6,6H-6V-6H6Z\" transform=\"translate(20,0)\" style=\"stroke-width: 0; fill: rgb(255, 165, 0); fill-opacity: 1; stroke: rgb(68, 68, 68); stroke-opacity: 1;\"/></g></g></g><rect class=\"legendtoggle\" x=\"0\" y=\"-9.5\" width=\"106.40625\" height=\"19\" style=\"fill: rgb(0, 0, 0); fill-opacity: 0;\"/></g></g></g><rect class=\"scrollbar\" rx=\"20\" ry=\"3\" width=\"0\" height=\"0\" style=\"fill: rgb(128, 139, 164); fill-opacity: 1;\" x=\"0\" y=\"0\"/></g><g class=\"g-gtitle\"><text class=\"gtitle\" x=\"50\" y=\"50\" text-anchor=\"start\" dy=\"0em\" style=\"font-family: 'Open Sans', verdana, arial, sans-serif; font-size: 17px; fill: rgb(42, 63, 95); opacity: 1; font-weight: normal; white-space: pre;\">Top 5 Parties by Ad Spend</text></g></g></svg>"
      ]
     },
     "metadata": {},
     "output_type": "display_data"
    }
   ],
   "source": [
    "top_5_parties = party_spend.head(5).reset_index()\n",
    "\n",
    "\n",
    "fig = go.Figure(data=[go.Pie(labels=['BJP', 'BJD', 'INC', 'DMK', 'BJP Odisha'],\n",
    "                             values=top_5_parties['Amount spent (INR)'],\n",
    "                             textinfo='label+percent',\n",
    "                             textposition='outside',\n",
    "                             marker=dict(colors=['darkorange', 'green', 'skyblue', 'red', 'orange']))])\n",
    "\n",
    "fig.update_layout(\n",
    "    title_text='Top 5 Parties by Ad Spend',\n",
    "    showlegend=True,\n",
    "    legend=dict(\n",
    "        orientation='v',\n",
    "        xanchor='left',\n",
    "        yanchor='bottom',\n",
    "        x=-0.1,\n",
    "        y=0.3  # Adjust to ensure it doesn't overlap the graph\n",
    "    ),\n",
    "    width=1000,  # Increase figure width\n",
    "    height=400  # Increase figure height\n",
    ")\n",
    "\n",
    "fig.show(\"svg\")"
   ]
  },
  {
   "cell_type": "markdown",
   "id": "b70cea45-4923-41d2-8b97-ed4a3cb6a298",
   "metadata": {},
   "source": [
    "The above pie graph shows **Top 5 Parties with the Highest Net Contribution to Spending** in 2024 General Election in state and union territory [UT].\n",
    "\n",
    "List of top five parties contibution in ad spend in states and UTs among **Top 5 Parties with the Highest Net Contribution to Spending**               \n",
    "1. **BJP (NDA) - 42.3 %**\n",
    "2. **BJD - 24.5 %**\n",
    "3. **INC (INDIA) - 23.7 %**\n",
    "4. **DMK (INDIA) - 5.19 %**\n",
    "5. **BJP Odisha (NDA) - 4.27 %**"
   ]
  },
  {
   "cell_type": "markdown",
   "id": "b37c899b-e1a1-43fa-9298-aca6dbb695a0",
   "metadata": {},
   "source": [
    "### Top 5 Parties' Net Spending in NDA Alliance Rulling States"
   ]
  },
  {
   "cell_type": "code",
   "execution_count": 36,
   "id": "c1604621-47e6-4ed2-9354-52406f3c844a",
   "metadata": {},
   "outputs": [],
   "source": [
    "#Checking on BJP and NDA Ruling State\n",
    "#List of NDA and its alliance Rulling State UK, HR, RJ, GJ, MH, AP, CG, MP, UP, BR, MN, ML, NL, PY, SK, TR, GA, AR, AS\n",
    "NDA_States = ['arunachal pradesh', 'assam', 'bihar','chhattisgarh',\n",
    "       'madhya pradesh', 'maharashtra', 'manipur', 'meghalaya',\n",
    "       'nagaland', 'puducherry', 'rajasthan', 'sikkim',\n",
    "       'tripura', 'uttar pradesh', 'uttarakhand',\n",
    "       'goa', 'gujarat', 'andhra pradesh', 'haryana']\n",
    "\n",
    "# Filter rows based of above mentioned state in terms of 'State' column\n",
    "NDA = merged_data[merged_data['State'].isin(NDA_States)]\n",
    "\n",
    "#grouping by State and Amount Spent in the extracted NDA States\n",
    "NDA_State_Spent_by_all_parties = NDA.groupby('State')['Amount spent (INR)'].sum().reset_index()\n",
    "NDA_State_Spent_by_all_parties_1 = NDA_State_Spent_by_all_parties.sort_values(by='Amount spent (INR)',ascending=False)\n",
    "Net_NDA_Rulling_Spent_top_5 = NDA_State_Spent_by_all_parties_1.head(5)"
   ]
  },
  {
   "cell_type": "code",
   "execution_count": 52,
   "id": "1d3c175f-9e24-43f2-84f2-d95a53597e3c",
   "metadata": {},
   "outputs": [
    {
     "data": {
      "image/svg+xml": [
       "<svg class=\"main-svg\" xmlns=\"http://www.w3.org/2000/svg\" xmlns:xlink=\"http://www.w3.org/1999/xlink\" width=\"1050\" height=\"600\" style=\"\" viewBox=\"0 0 1050 600\"><rect x=\"0\" y=\"0\" width=\"1050\" height=\"600\" style=\"fill: rgb(255, 255, 255); fill-opacity: 1;\"/><defs id=\"defs-83b5a8\"><g class=\"clips\"><clipPath id=\"clip83b5a8xyplot\" class=\"plotclip\"><rect width=\"347.84999999999997\" height=\"420\"/></clipPath><clipPath class=\"axesclip\" id=\"clip83b5a8x\"><rect x=\"505.15000000000003\" y=\"0\" width=\"347.84999999999997\" height=\"600\"/></clipPath><clipPath class=\"axesclip\" id=\"clip83b5a8y\"><rect x=\"0\" y=\"100\" width=\"1050\" height=\"420\"/></clipPath><clipPath class=\"axesclip\" id=\"clip83b5a8xy\"><rect x=\"505.15000000000003\" y=\"100\" width=\"347.84999999999997\" height=\"420\"/></clipPath></g><g class=\"gradients\"/><g class=\"patterns\"/></defs><g class=\"bglayer\"/><g class=\"layer-below\"><g class=\"imagelayer\"/><g class=\"shapelayer\"/></g><g class=\"cartesianlayer\"><g class=\"subplot xy\"><g class=\"layer-subplot\"><g class=\"shapelayer\"/><g class=\"imagelayer\"/></g><g class=\"minor-gridlayer\"><g class=\"x\"/><g class=\"y\"/></g><g class=\"gridlayer\"><g class=\"x\"/><g class=\"y\"><path class=\"ygrid crisp\" transform=\"translate(0,464.38)\" d=\"M505.15000000000003,0h347.84999999999997\" style=\"stroke: rgb(235, 240, 248); stroke-opacity: 1; stroke-width: 1px;\"/><path class=\"ygrid crisp\" transform=\"translate(0,408.76)\" d=\"M505.15000000000003,0h347.84999999999997\" style=\"stroke: rgb(235, 240, 248); stroke-opacity: 1; stroke-width: 1px;\"/><path class=\"ygrid crisp\" transform=\"translate(0,353.13)\" d=\"M505.15000000000003,0h347.84999999999997\" style=\"stroke: rgb(235, 240, 248); stroke-opacity: 1; stroke-width: 1px;\"/><path class=\"ygrid crisp\" transform=\"translate(0,297.51)\" d=\"M505.15000000000003,0h347.84999999999997\" style=\"stroke: rgb(235, 240, 248); stroke-opacity: 1; stroke-width: 1px;\"/><path class=\"ygrid crisp\" transform=\"translate(0,241.89)\" d=\"M505.15000000000003,0h347.84999999999997\" style=\"stroke: rgb(235, 240, 248); stroke-opacity: 1; stroke-width: 1px;\"/><path class=\"ygrid crisp\" transform=\"translate(0,186.26999999999998)\" d=\"M505.15000000000003,0h347.84999999999997\" style=\"stroke: rgb(235, 240, 248); stroke-opacity: 1; stroke-width: 1px;\"/><path class=\"ygrid crisp\" transform=\"translate(0,130.65)\" d=\"M505.15000000000003,0h347.84999999999997\" style=\"stroke: rgb(235, 240, 248); stroke-opacity: 1; stroke-width: 1px;\"/></g></g><g class=\"zerolinelayer\"><path class=\"yzl zl crisp\" transform=\"translate(0,520)\" d=\"M505.15000000000003,0h347.84999999999997\" style=\"stroke: rgb(235, 240, 248); stroke-opacity: 1; stroke-width: 2px;\"/></g><path class=\"xlines-below\"/><path class=\"ylines-below\"/><g class=\"overlines-below\"/><g class=\"xaxislayer-below\"/><g class=\"yaxislayer-below\"/><g class=\"overaxes-below\"/><g class=\"plot\" transform=\"translate(505.15000000000003,100)\" clip-path=\"url(#clip83b5a8xyplot)\"><g class=\"barlayer mlayer\"><g class=\"trace bars\" style=\"opacity: 1;\"><g class=\"points\"><g class=\"point\"><path d=\"M6.96,420V21H62.61V420Z\" style=\"vector-effect: non-scaling-stroke; opacity: 1; stroke-width: 0.5px; fill: rgb(79, 129, 189); fill-opacity: 1; stroke: rgb(255, 255, 255); stroke-opacity: 1;\"/></g><g class=\"point\"><path d=\"M76.53,420V147.9H132.18V420Z\" style=\"vector-effect: non-scaling-stroke; opacity: 1; stroke-width: 0.5px; fill: rgb(192, 80, 77); fill-opacity: 1; stroke: rgb(255, 255, 255); stroke-opacity: 1;\"/></g><g class=\"point\"><path d=\"M146.1,420V279.81H201.75V420Z\" style=\"vector-effect: non-scaling-stroke; opacity: 1; stroke-width: 0.5px; fill: rgb(155, 187, 89); fill-opacity: 1; stroke: rgb(255, 255, 255); stroke-opacity: 1;\"/></g><g class=\"point\"><path d=\"M215.67,420V300.7H271.32V420Z\" style=\"vector-effect: non-scaling-stroke; opacity: 1; stroke-width: 0.5px; fill: rgb(128, 100, 162); fill-opacity: 1; stroke: rgb(255, 255, 255); stroke-opacity: 1;\"/></g><g class=\"point\"><path d=\"M285.24,420V355.49H340.89V420Z\" style=\"vector-effect: non-scaling-stroke; opacity: 1; stroke-width: 0.5px; fill: rgb(247, 150, 70); fill-opacity: 1; stroke: rgb(255, 255, 255); stroke-opacity: 1;\"/></g></g></g></g></g><g class=\"overplot\"/><path class=\"xlines-above crisp\" d=\"M0,0\" style=\"fill: none;\"/><path class=\"ylines-above crisp\" d=\"M0,0\" style=\"fill: none;\"/><g class=\"overlines-above\"/><g class=\"xaxislayer-above\"><g class=\"xtick\"><text text-anchor=\"start\" x=\"0\" y=\"533\" transform=\"translate(539.9300000000001,0) rotate(30,0,527)\" style=\"font-family: 'Open Sans', verdana, arial, sans-serif; font-size: 12px; fill: rgb(42, 63, 95); fill-opacity: 1; white-space: pre; opacity: 1;\">uttar pradesh</text></g><g class=\"xtick\"><text text-anchor=\"start\" x=\"0\" y=\"533\" transform=\"translate(609.5,0) rotate(30,0,527)\" style=\"font-family: 'Open Sans', verdana, arial, sans-serif; font-size: 12px; fill: rgb(42, 63, 95); fill-opacity: 1; white-space: pre; opacity: 1;\">maharashtra</text></g><g class=\"xtick\"><text text-anchor=\"start\" x=\"0\" y=\"533\" transform=\"translate(679.08,0) rotate(30,0,527)\" style=\"font-family: 'Open Sans', verdana, arial, sans-serif; font-size: 12px; fill: rgb(42, 63, 95); fill-opacity: 1; white-space: pre; opacity: 1;\">andhra pradesh</text></g><g class=\"xtick\"><text text-anchor=\"start\" x=\"0\" y=\"533\" transform=\"translate(748.6400000000001,0) rotate(30,0,527)\" style=\"font-family: 'Open Sans', verdana, arial, sans-serif; font-size: 12px; fill: rgb(42, 63, 95); fill-opacity: 1; white-space: pre; opacity: 1;\">bihar</text></g><g class=\"xtick\"><text text-anchor=\"start\" x=\"0\" y=\"533\" transform=\"translate(818.21,0) rotate(30,0,527)\" style=\"font-family: 'Open Sans', verdana, arial, sans-serif; font-size: 12px; fill: rgb(42, 63, 95); fill-opacity: 1; white-space: pre; opacity: 1;\">madhya pradesh</text></g></g><g class=\"yaxislayer-above\"><g class=\"ytick\"><text text-anchor=\"end\" x=\"504.15000000000003\" y=\"4.199999999999999\" transform=\"translate(0,520)\" style=\"font-family: 'Open Sans', verdana, arial, sans-serif; font-size: 12px; fill: rgb(42, 63, 95); fill-opacity: 1; white-space: pre; opacity: 1;\">0</text></g><g class=\"ytick\"><text text-anchor=\"end\" x=\"504.15000000000003\" y=\"4.199999999999999\" style=\"font-family: 'Open Sans', verdana, arial, sans-serif; font-size: 12px; fill: rgb(42, 63, 95); fill-opacity: 1; white-space: pre; opacity: 1;\" transform=\"translate(0,464.38)\">1B</text></g><g class=\"ytick\"><text text-anchor=\"end\" x=\"504.15000000000003\" y=\"4.199999999999999\" style=\"font-family: 'Open Sans', verdana, arial, sans-serif; font-size: 12px; fill: rgb(42, 63, 95); fill-opacity: 1; white-space: pre; opacity: 1;\" transform=\"translate(0,408.76)\">2B</text></g><g class=\"ytick\"><text text-anchor=\"end\" x=\"504.15000000000003\" y=\"4.199999999999999\" style=\"font-family: 'Open Sans', verdana, arial, sans-serif; font-size: 12px; fill: rgb(42, 63, 95); fill-opacity: 1; white-space: pre; opacity: 1;\" transform=\"translate(0,353.13)\">3B</text></g><g class=\"ytick\"><text text-anchor=\"end\" x=\"504.15000000000003\" y=\"4.199999999999999\" style=\"font-family: 'Open Sans', verdana, arial, sans-serif; font-size: 12px; fill: rgb(42, 63, 95); fill-opacity: 1; white-space: pre; opacity: 1;\" transform=\"translate(0,297.51)\">4B</text></g><g class=\"ytick\"><text text-anchor=\"end\" x=\"504.15000000000003\" y=\"4.199999999999999\" style=\"font-family: 'Open Sans', verdana, arial, sans-serif; font-size: 12px; fill: rgb(42, 63, 95); fill-opacity: 1; white-space: pre; opacity: 1;\" transform=\"translate(0,241.89)\">5B</text></g><g class=\"ytick\"><text text-anchor=\"end\" x=\"504.15000000000003\" y=\"4.199999999999999\" style=\"font-family: 'Open Sans', verdana, arial, sans-serif; font-size: 12px; fill: rgb(42, 63, 95); fill-opacity: 1; white-space: pre; opacity: 1;\" transform=\"translate(0,186.26999999999998)\">6B</text></g><g class=\"ytick\"><text text-anchor=\"end\" x=\"504.15000000000003\" y=\"4.199999999999999\" style=\"font-family: 'Open Sans', verdana, arial, sans-serif; font-size: 12px; fill: rgb(42, 63, 95); fill-opacity: 1; white-space: pre; opacity: 1;\" transform=\"translate(0,130.65)\">7B</text></g></g><g class=\"overaxes-above\"/></g></g><g class=\"polarlayer\"/><g class=\"smithlayer\"/><g class=\"ternarylayer\"/><g class=\"geolayer\"/><g class=\"funnelarealayer\"/><g class=\"pielayer\"><g class=\"trace\" stroke-linejoin=\"round\" style=\"opacity: 1;\"><g class=\"slice\"><path class=\"surface\" d=\"M253.925,310l0,-173.925a173.925,173.925 0 0 1 101.3767966030492,315.24962890630206Z\" style=\"pointer-events: all; stroke-width: 0; fill: rgb(79, 129, 189); fill-opacity: 1; stroke: rgb(68, 68, 68); stroke-opacity: 1;\"/><g class=\"slicetext\"><text data-notex=\"1\" class=\"slicetext\" transform=\"translate(467.96428578065974,252.28958304741556)\" text-anchor=\"middle\" x=\"0\" y=\"0\" style=\"font-family: 'Open Sans', verdana, arial, sans-serif; font-size: 12px; fill: rgb(42, 63, 95); fill-opacity: 1; white-space: pre;\"><tspan class=\"line\" dy=\"0em\" x=\"0\" y=\"0\">uttar pradesh</tspan><tspan class=\"line\" dy=\"1.3em\" x=\"0\" y=\"0\">40.1%</tspan></text></g></g><g class=\"slice\"><path class=\"surface\" d=\"M253.925,310l-172.0418188379855,25.524854473978575a173.925,173.925 0 0 1 172.0418188379855,-199.44985447397858Z\" style=\"pointer-events: all; stroke-width: 0; fill: rgb(192, 80, 77); fill-opacity: 1; stroke: rgb(68, 68, 68); stroke-opacity: 1;\"/><g class=\"slicetext\"><text data-notex=\"1\" class=\"slicetext\" transform=\"translate(76.22978715767897,186.921399254985)\" text-anchor=\"middle\" x=\"0\" y=\"0\" style=\"font-family: 'Open Sans', verdana, arial, sans-serif; font-size: 12px; fill: rgb(42, 63, 95); fill-opacity: 1; white-space: pre;\"><tspan class=\"line\" dy=\"0em\" x=\"0\" y=\"0\">maharashtra</tspan><tspan class=\"line\" dy=\"1.3em\" x=\"0\" y=\"0\">27.3%</tspan></text></g></g><g class=\"slice\"><path class=\"surface\" d=\"M253.925,310l-89.16809756907202,149.3283496222752a173.925,173.925 0 0 1 -82.87372126891347,-123.80349514829662Z\" style=\"pointer-events: all; stroke-width: 0; fill: rgb(155, 187, 89); fill-opacity: 1; stroke: rgb(68, 68, 68); stroke-opacity: 1;\"/><g class=\"slicetext\"><text data-notex=\"1\" class=\"slicetext\" transform=\"translate(54.506342011369895,408.35306701923673)\" text-anchor=\"middle\" x=\"0\" y=\"0\" style=\"font-family: 'Open Sans', verdana, arial, sans-serif; font-size: 12px; fill: rgb(42, 63, 95); fill-opacity: 1; white-space: pre;\"><tspan class=\"line\" dy=\"0em\" x=\"0\" y=\"0\">andhra pradesh</tspan><tspan class=\"line\" dy=\"1.3em\" x=\"0\" y=\"0\">14.1%</tspan></text></g></g><g class=\"slice\"><path class=\"surface\" d=\"M253.925,310l37.096598722470894,169.9227706583905a173.925,173.925 0 0 1 -126.26469629154292,-20.594421036115307Z\" style=\"pointer-events: all; stroke-width: 0; fill: rgb(128, 100, 162); fill-opacity: 1; stroke: rgb(68, 68, 68); stroke-opacity: 1;\"/><g class=\"slicetext\"><text data-notex=\"1\" class=\"slicetext\" transform=\"translate(202.99332073534217,493.2665458409624)\" text-anchor=\"middle\" x=\"0\" y=\"0\" style=\"font-family: 'Open Sans', verdana, arial, sans-serif; font-size: 12px; fill: rgb(42, 63, 95); fill-opacity: 1; white-space: pre;\"><tspan class=\"line\" dy=\"0em\" x=\"0\" y=\"0\">bihar</tspan><tspan class=\"line\" dy=\"1.3em\" x=\"0\" y=\"0\">12%</tspan></text></g></g><g class=\"slice\"><path class=\"surface\" d=\"M253.925,310l101.37679660304903,141.3246289063022a173.925,173.925 0 0 1 -64.28019788057813,28.59814175208831Z\" style=\"pointer-events: all; stroke-width: 0; fill: rgb(247, 150, 70); fill-opacity: 1; stroke: rgb(68, 68, 68); stroke-opacity: 1;\"/><g class=\"slicetext\"><text data-notex=\"1\" class=\"slicetext\" transform=\"translate(382.5408027420154,478.4204218647415)\" text-anchor=\"middle\" x=\"0\" y=\"0\" style=\"font-family: 'Open Sans', verdana, arial, sans-serif; font-size: 12px; fill: rgb(42, 63, 95); fill-opacity: 1; white-space: pre;\"><tspan class=\"line\" dy=\"0em\" x=\"0\" y=\"0\">madhya pradesh</tspan><tspan class=\"line\" dy=\"1.3em\" x=\"0\" y=\"0\">6.48%</tspan></text></g></g></g></g><g class=\"iciclelayer\"/><g class=\"treemaplayer\"/><g class=\"sunburstlayer\"/><g class=\"glimages\"/><defs id=\"topdefs-83b5a8\"><g class=\"clips\"/><clipPath id=\"legend83b5a8\"><rect width=\"146\" height=\"124\" x=\"0\" y=\"0\"/></clipPath></defs><g class=\"layer-above\"><g class=\"imagelayer\"/><g class=\"shapelayer\"/></g><g class=\"infolayer\"><g class=\"legend\" pointer-events=\"all\" transform=\"translate(891.6500000000001,186)\"><rect class=\"bg\" shape-rendering=\"crispEdges\" style=\"stroke: rgb(68, 68, 68); stroke-opacity: 1; fill: rgb(255, 255, 255); fill-opacity: 1; stroke-width: 0px;\" width=\"146\" height=\"124\" x=\"0\" y=\"0\"/><g class=\"scrollbox\" transform=\"\" clip-path=\"url(#legend83b5a8)\"><g class=\"groups\"><g class=\"traces\" transform=\"translate(0,14.5)\" style=\"opacity: 1;\"><text class=\"legendtext\" text-anchor=\"start\" x=\"40\" y=\"4.680000000000001\" style=\"font-family: 'Open Sans', verdana, arial, sans-serif; font-size: 12px; fill: rgb(42, 63, 95); fill-opacity: 1; white-space: pre;\">uttar pradesh</text><g class=\"layers\" style=\"opacity: 1;\"><g class=\"legendfill\"/><g class=\"legendlines\"/><g class=\"legendsymbols\"><g class=\"legendpoints\"><path class=\"legendpie\" d=\"M6,6H-6V-6H6Z\" transform=\"translate(20,0)\" style=\"stroke-width: 0; fill: rgb(79, 129, 189); fill-opacity: 1; stroke: rgb(68, 68, 68); stroke-opacity: 1;\"/></g></g></g><rect class=\"legendtoggle\" x=\"0\" y=\"-9.5\" width=\"140.765625\" height=\"19\" style=\"fill: rgb(0, 0, 0); fill-opacity: 0;\"/></g><g class=\"traces\" transform=\"translate(0,33.5)\" style=\"opacity: 1;\"><text class=\"legendtext\" text-anchor=\"start\" x=\"40\" y=\"4.680000000000001\" style=\"font-family: 'Open Sans', verdana, arial, sans-serif; font-size: 12px; fill: rgb(42, 63, 95); fill-opacity: 1; white-space: pre;\">maharashtra</text><g class=\"layers\" style=\"opacity: 1;\"><g class=\"legendfill\"/><g class=\"legendlines\"/><g class=\"legendsymbols\"><g class=\"legendpoints\"><path class=\"legendpie\" d=\"M6,6H-6V-6H6Z\" transform=\"translate(20,0)\" style=\"stroke-width: 0; fill: rgb(192, 80, 77); fill-opacity: 1; stroke: rgb(68, 68, 68); stroke-opacity: 1;\"/></g></g></g><rect class=\"legendtoggle\" x=\"0\" y=\"-9.5\" width=\"140.765625\" height=\"19\" style=\"fill: rgb(0, 0, 0); fill-opacity: 0;\"/></g><g class=\"traces\" transform=\"translate(0,52.5)\" style=\"opacity: 1;\"><text class=\"legendtext\" text-anchor=\"start\" x=\"40\" y=\"4.680000000000001\" style=\"font-family: 'Open Sans', verdana, arial, sans-serif; font-size: 12px; fill: rgb(42, 63, 95); fill-opacity: 1; white-space: pre;\">andhra pradesh</text><g class=\"layers\" style=\"opacity: 1;\"><g class=\"legendfill\"/><g class=\"legendlines\"/><g class=\"legendsymbols\"><g class=\"legendpoints\"><path class=\"legendpie\" d=\"M6,6H-6V-6H6Z\" transform=\"translate(20,0)\" style=\"stroke-width: 0; fill: rgb(155, 187, 89); fill-opacity: 1; stroke: rgb(68, 68, 68); stroke-opacity: 1;\"/></g></g></g><rect class=\"legendtoggle\" x=\"0\" y=\"-9.5\" width=\"140.765625\" height=\"19\" style=\"fill: rgb(0, 0, 0); fill-opacity: 0;\"/></g><g class=\"traces\" transform=\"translate(0,71.5)\" style=\"opacity: 1;\"><text class=\"legendtext\" text-anchor=\"start\" x=\"40\" y=\"4.680000000000001\" style=\"font-family: 'Open Sans', verdana, arial, sans-serif; font-size: 12px; fill: rgb(42, 63, 95); fill-opacity: 1; white-space: pre;\">bihar</text><g class=\"layers\" style=\"opacity: 1;\"><g class=\"legendfill\"/><g class=\"legendlines\"/><g class=\"legendsymbols\"><g class=\"legendpoints\"><path class=\"legendpie\" d=\"M6,6H-6V-6H6Z\" transform=\"translate(20,0)\" style=\"stroke-width: 0; fill: rgb(128, 100, 162); fill-opacity: 1; stroke: rgb(68, 68, 68); stroke-opacity: 1;\"/></g></g></g><rect class=\"legendtoggle\" x=\"0\" y=\"-9.5\" width=\"140.765625\" height=\"19\" style=\"fill: rgb(0, 0, 0); fill-opacity: 0;\"/></g><g class=\"traces\" transform=\"translate(0,90.5)\" style=\"opacity: 1;\"><text class=\"legendtext\" text-anchor=\"start\" x=\"40\" y=\"4.680000000000001\" style=\"font-family: 'Open Sans', verdana, arial, sans-serif; font-size: 12px; fill: rgb(42, 63, 95); fill-opacity: 1; white-space: pre;\">madhya pradesh</text><g class=\"layers\" style=\"opacity: 1;\"><g class=\"legendfill\"/><g class=\"legendlines\"/><g class=\"legendsymbols\"><g class=\"legendpoints\"><path class=\"legendpie\" d=\"M6,6H-6V-6H6Z\" transform=\"translate(20,0)\" style=\"stroke-width: 0; fill: rgb(247, 150, 70); fill-opacity: 1; stroke: rgb(68, 68, 68); stroke-opacity: 1;\"/></g></g></g><rect class=\"legendtoggle\" x=\"0\" y=\"-9.5\" width=\"140.765625\" height=\"19\" style=\"fill: rgb(0, 0, 0); fill-opacity: 0;\"/></g><g class=\"traces\" transform=\"translate(0,109.5)\" style=\"opacity: 1;\"><text class=\"legendtext\" text-anchor=\"start\" x=\"40\" y=\"4.680000000000001\" style=\"font-family: 'Open Sans', verdana, arial, sans-serif; font-size: 12px; fill: rgb(42, 63, 95); fill-opacity: 1; white-space: pre;\">trace 1</text><g class=\"layers\" style=\"opacity: 1;\"><g class=\"legendfill\"/><g class=\"legendlines\"/><g class=\"legendsymbols\"><g class=\"legendpoints\"><path class=\"legendundefined\" d=\"M6,6H-6V-6H6Z\" transform=\"translate(20,0)\" style=\"stroke-width: 0.5px; fill: rgb(79, 129, 189); fill-opacity: 1; stroke: rgb(255, 255, 255); stroke-opacity: 1;\"/></g></g></g><rect class=\"legendtoggle\" x=\"0\" y=\"-9.5\" width=\"140.765625\" height=\"19\" style=\"fill: rgb(0, 0, 0); fill-opacity: 0;\"/></g></g></g><rect class=\"scrollbar\" rx=\"20\" ry=\"3\" width=\"0\" height=\"0\" style=\"fill: rgb(128, 139, 164); fill-opacity: 1;\" x=\"0\" y=\"0\"/></g><g class=\"g-gtitle\"><text class=\"gtitle\" x=\"52.5\" y=\"50\" text-anchor=\"start\" dy=\"0em\" style=\"font-family: 'Open Sans', verdana, arial, sans-serif; font-size: 17px; fill: rgb(42, 63, 95); opacity: 1; font-weight: normal; white-space: pre;\">Top 5 NDA Ruled State Net Ad Spend</text></g><g class=\"g-xtitle\"/><g class=\"g-ytitle\"/></g></svg>"
      ]
     },
     "metadata": {},
     "output_type": "display_data"
    }
   ],
   "source": [
    "from plotly.subplots import make_subplots\n",
    "colors = ['#4F81BD', '#C0504D', '#9BBB59', '#8064A2', '#F79646']\n",
    "\n",
    "# Create subplots: use 'domain' type for pie charts and 'xy' type for bar charts\n",
    "fig = make_subplots(\n",
    "    rows=1, cols=2,  # One row and two columns\n",
    "    specs=[[{'type': 'domain'}, {'type': 'xy'}]],  # Specify the types of subplots\n",
    ")\n",
    "\n",
    "# Add pie chart\n",
    "fig.add_trace(go.Pie(labels=Net_NDA_Rulling_Spent_top_5['State'],\n",
    "                     values=Net_NDA_Rulling_Spent_top_5['Amount spent (INR)'],\n",
    "                     textinfo='label+percent',\n",
    "                     textposition='outside',\n",
    "                     marker=dict(colors=colors)),\n",
    "              row=1, col=1)\n",
    "\n",
    "# Add bar chart\n",
    "fig.add_trace(go.Bar(x=Net_NDA_Rulling_Spent_top_5['State'],\n",
    "                     y=Net_NDA_Rulling_Spent_top_5['Amount spent (INR)'],\n",
    "                     marker=dict(color=colors)),\n",
    "              row=1, col=2)\n",
    "\n",
    "# Update layout\n",
    "fig.update_layout(\n",
    "    title_text='Top 5 NDA Ruled State Net Ad Spend',\n",
    "    showlegend=True,\n",
    "    legend=dict(\n",
    "        orientation='v',\n",
    "        xanchor='left',\n",
    "        yanchor='bottom',\n",
    "        x=1.05,\n",
    "        y=0.5\n",
    "    ),\n",
    "    width=1050,  # Adjust figure width\n",
    "    height=600   # Adjust figure height\n",
    ")\n",
    "\n",
    "fig.show(\"svg\")\n"
   ]
  },
  {
   "cell_type": "markdown",
   "id": "343eb9e6-89ed-4a35-ade5-2b8707f4c3ff",
   "metadata": {},
   "source": [
    "The above graph shows the top 5 net amount contribution among NDA alliance rulling states and unioin territory[UT]\n",
    "\n",
    "List of **top five state and UT** net ad spend among NDA alliance rulling states and unioin territory[UT]               \n",
    "1. **Uttar Pradesh - 40.1 % ~ 7.17B (INR)**\n",
    "2. **Maharashtra - 27.3 % ~ 4.89B (INR)**\n",
    "3. **Andra Pradesh - 14.1 % ~ 2.52B (INR)**\n",
    "4. **Bihar - 12 % ~ 2.14B (INR)**\n",
    "5. **Madhya Pradesh - 6.48 % ~ 1.15B (INR)**\n"
   ]
  },
  {
   "cell_type": "markdown",
   "id": "c67dd03a-610c-4156-a2d8-8cf417817ff4",
   "metadata": {},
   "source": [
    "### Top 5 Parties' Net Spending in INDIA Alliance Rulling States"
   ]
  },
  {
   "cell_type": "code",
   "execution_count": 38,
   "id": "ea9110fa-6655-477d-bfd5-8f4683245fbd",
   "metadata": {},
   "outputs": [],
   "source": [
    "#Checking on INDIA and its Allies\n",
    "#PB, HP, KR, NCT, JK, WB, TN, TS, KL\n",
    "\n",
    "INDIA_States = ['tamil nadu', 'west bengal',\n",
    "       'karnataka', 'kerala', 'jharkhand',\n",
    "       'telangana', 'nct of delhi',\n",
    "       'himachal pradesh', 'punjab']\n",
    "\n",
    "# Filter rows based on 'State' column\n",
    "INDIA = merged_data[merged_data['State'].isin(INDIA_States)]\n",
    "\n",
    "INDIA_State_Spent_by_all_parties = INDIA.groupby('State')['Amount spent (INR)'].sum().reset_index().sort_values(by='Amount spent (INR)',ascending=False)\n",
    "Net_India_Ruling_State_top_5 = INDIA_State_Spent_by_all_parties.head(5)"
   ]
  },
  {
   "cell_type": "code",
   "execution_count": 53,
   "id": "ed9503fc-a1be-4ee7-824f-07c9c6b8baa0",
   "metadata": {},
   "outputs": [
    {
     "data": {
      "image/svg+xml": [
       "<svg class=\"main-svg\" xmlns=\"http://www.w3.org/2000/svg\" xmlns:xlink=\"http://www.w3.org/1999/xlink\" width=\"1100\" height=\"600\" style=\"\" viewBox=\"0 0 1100 600\"><rect x=\"0\" y=\"0\" width=\"1100\" height=\"600\" style=\"fill: rgb(255, 255, 255); fill-opacity: 1;\"/><defs id=\"defs-8fd9ef\"><g class=\"clips\"><clipPath id=\"clip8fd9efxyplot\" class=\"plotclip\"><rect width=\"381.59999999999997\" height=\"420\"/></clipPath><clipPath class=\"axesclip\" id=\"clip8fd9efx\"><rect x=\"546.4000000000001\" y=\"0\" width=\"381.59999999999997\" height=\"600\"/></clipPath><clipPath class=\"axesclip\" id=\"clip8fd9efy\"><rect x=\"0\" y=\"100\" width=\"1100\" height=\"420\"/></clipPath><clipPath class=\"axesclip\" id=\"clip8fd9efxy\"><rect x=\"546.4000000000001\" y=\"100\" width=\"381.59999999999997\" height=\"420\"/></clipPath></g><g class=\"gradients\"/><g class=\"patterns\"/></defs><g class=\"bglayer\"/><g class=\"layer-below\"><g class=\"imagelayer\"/><g class=\"shapelayer\"/></g><g class=\"cartesianlayer\"><g class=\"subplot xy\"><g class=\"layer-subplot\"><g class=\"shapelayer\"/><g class=\"imagelayer\"/></g><g class=\"minor-gridlayer\"><g class=\"x\"/><g class=\"y\"/></g><g class=\"gridlayer\"><g class=\"x\"/><g class=\"y\"><path class=\"ygrid crisp\" transform=\"translate(0,458.51)\" d=\"M546.4000000000001,0h381.59999999999997\" style=\"stroke: rgb(235, 240, 248); stroke-opacity: 1; stroke-width: 1px;\"/><path class=\"ygrid crisp\" transform=\"translate(0,397.01)\" d=\"M546.4000000000001,0h381.59999999999997\" style=\"stroke: rgb(235, 240, 248); stroke-opacity: 1; stroke-width: 1px;\"/><path class=\"ygrid crisp\" transform=\"translate(0,335.52)\" d=\"M546.4000000000001,0h381.59999999999997\" style=\"stroke: rgb(235, 240, 248); stroke-opacity: 1; stroke-width: 1px;\"/><path class=\"ygrid crisp\" transform=\"translate(0,274.03)\" d=\"M546.4000000000001,0h381.59999999999997\" style=\"stroke: rgb(235, 240, 248); stroke-opacity: 1; stroke-width: 1px;\"/><path class=\"ygrid crisp\" transform=\"translate(0,212.54000000000002)\" d=\"M546.4000000000001,0h381.59999999999997\" style=\"stroke: rgb(235, 240, 248); stroke-opacity: 1; stroke-width: 1px;\"/><path class=\"ygrid crisp\" transform=\"translate(0,151.04)\" d=\"M546.4000000000001,0h381.59999999999997\" style=\"stroke: rgb(235, 240, 248); stroke-opacity: 1; stroke-width: 1px;\"/></g></g><g class=\"zerolinelayer\"><path class=\"yzl zl crisp\" transform=\"translate(0,520)\" d=\"M546.4000000000001,0h381.59999999999997\" style=\"stroke: rgb(235, 240, 248); stroke-opacity: 1; stroke-width: 2px;\"/></g><path class=\"xlines-below\"/><path class=\"ylines-below\"/><g class=\"overlines-below\"/><g class=\"xaxislayer-below\"/><g class=\"yaxislayer-below\"/><g class=\"overaxes-below\"/><g class=\"plot\" transform=\"translate(546.4000000000001,100)\" clip-path=\"url(#clip8fd9efxyplot)\"><g class=\"barlayer mlayer\"><g class=\"trace bars\" style=\"opacity: 1;\"><g class=\"points\"><g class=\"point\"><path d=\"M7.63,420V21H68.69V420Z\" style=\"vector-effect: non-scaling-stroke; opacity: 1; stroke-width: 0.5px; fill: rgb(79, 129, 189); fill-opacity: 1; stroke: rgb(255, 255, 255); stroke-opacity: 1;\"/></g><g class=\"point\"><path d=\"M83.95,420V52.49H145.01V420Z\" style=\"vector-effect: non-scaling-stroke; opacity: 1; stroke-width: 0.5px; fill: rgb(192, 80, 77); fill-opacity: 1; stroke: rgb(255, 255, 255); stroke-opacity: 1;\"/></g><g class=\"point\"><path d=\"M160.27,420V276.54H221.33V420Z\" style=\"vector-effect: non-scaling-stroke; opacity: 1; stroke-width: 0.5px; fill: rgb(155, 187, 89); fill-opacity: 1; stroke: rgb(255, 255, 255); stroke-opacity: 1;\"/></g><g class=\"point\"><path d=\"M236.59,420V306.06H297.65V420Z\" style=\"vector-effect: non-scaling-stroke; opacity: 1; stroke-width: 0.5px; fill: rgb(128, 100, 162); fill-opacity: 1; stroke: rgb(255, 255, 255); stroke-opacity: 1;\"/></g><g class=\"point\"><path d=\"M312.91,420V337.76H373.97V420Z\" style=\"vector-effect: non-scaling-stroke; opacity: 1; stroke-width: 0.5px; fill: rgb(247, 150, 70); fill-opacity: 1; stroke: rgb(255, 255, 255); stroke-opacity: 1;\"/></g></g></g></g></g><g class=\"overplot\"/><path class=\"xlines-above crisp\" d=\"M0,0\" style=\"fill: none;\"/><path class=\"ylines-above crisp\" d=\"M0,0\" style=\"fill: none;\"/><g class=\"overlines-above\"/><g class=\"xaxislayer-above\"><g class=\"xtick\"><text text-anchor=\"middle\" x=\"0\" y=\"533\" transform=\"translate(584.5600000000001,0)\" style=\"font-family: 'Open Sans', verdana, arial, sans-serif; font-size: 12px; fill: rgb(42, 63, 95); fill-opacity: 1; white-space: pre; opacity: 1;\">west bengal</text></g><g class=\"xtick\"><text text-anchor=\"middle\" x=\"0\" y=\"533\" transform=\"translate(660.8800000000001,0)\" style=\"font-family: 'Open Sans', verdana, arial, sans-serif; font-size: 12px; fill: rgb(42, 63, 95); fill-opacity: 1; white-space: pre; opacity: 1;\">tamil nadu</text></g><g class=\"xtick\"><text text-anchor=\"middle\" x=\"0\" y=\"533\" transform=\"translate(737.2,0)\" style=\"font-family: 'Open Sans', verdana, arial, sans-serif; font-size: 12px; fill: rgb(42, 63, 95); fill-opacity: 1; white-space: pre; opacity: 1;\">karnataka</text></g><g class=\"xtick\"><text text-anchor=\"middle\" x=\"0\" y=\"533\" transform=\"translate(813.5200000000001,0)\" style=\"font-family: 'Open Sans', verdana, arial, sans-serif; font-size: 12px; fill: rgb(42, 63, 95); fill-opacity: 1; white-space: pre; opacity: 1;\">telangana</text></g><g class=\"xtick\"><text text-anchor=\"middle\" x=\"0\" y=\"533\" transform=\"translate(889.8400000000001,0)\" style=\"font-family: 'Open Sans', verdana, arial, sans-serif; font-size: 12px; fill: rgb(42, 63, 95); fill-opacity: 1; white-space: pre; opacity: 1;\">punjab</text></g></g><g class=\"yaxislayer-above\"><g class=\"ytick\"><text text-anchor=\"end\" x=\"545.4000000000001\" y=\"4.199999999999999\" transform=\"translate(0,520)\" style=\"font-family: 'Open Sans', verdana, arial, sans-serif; font-size: 12px; fill: rgb(42, 63, 95); fill-opacity: 1; white-space: pre; opacity: 1;\">0</text></g><g class=\"ytick\"><text text-anchor=\"end\" x=\"545.4000000000001\" y=\"4.199999999999999\" style=\"font-family: 'Open Sans', verdana, arial, sans-serif; font-size: 12px; fill: rgb(42, 63, 95); fill-opacity: 1; white-space: pre; opacity: 1;\" transform=\"translate(0,458.51)\">0.5B</text></g><g class=\"ytick\"><text text-anchor=\"end\" x=\"545.4000000000001\" y=\"4.199999999999999\" style=\"font-family: 'Open Sans', verdana, arial, sans-serif; font-size: 12px; fill: rgb(42, 63, 95); fill-opacity: 1; white-space: pre; opacity: 1;\" transform=\"translate(0,397.01)\">1B</text></g><g class=\"ytick\"><text text-anchor=\"end\" x=\"545.4000000000001\" y=\"4.199999999999999\" style=\"font-family: 'Open Sans', verdana, arial, sans-serif; font-size: 12px; fill: rgb(42, 63, 95); fill-opacity: 1; white-space: pre; opacity: 1;\" transform=\"translate(0,335.52)\">1.5B</text></g><g class=\"ytick\"><text text-anchor=\"end\" x=\"545.4000000000001\" y=\"4.199999999999999\" style=\"font-family: 'Open Sans', verdana, arial, sans-serif; font-size: 12px; fill: rgb(42, 63, 95); fill-opacity: 1; white-space: pre; opacity: 1;\" transform=\"translate(0,274.03)\">2B</text></g><g class=\"ytick\"><text text-anchor=\"end\" x=\"545.4000000000001\" y=\"4.199999999999999\" style=\"font-family: 'Open Sans', verdana, arial, sans-serif; font-size: 12px; fill: rgb(42, 63, 95); fill-opacity: 1; white-space: pre; opacity: 1;\" transform=\"translate(0,212.54000000000002)\">2.5B</text></g><g class=\"ytick\"><text text-anchor=\"end\" x=\"545.4000000000001\" y=\"4.199999999999999\" style=\"font-family: 'Open Sans', verdana, arial, sans-serif; font-size: 12px; fill: rgb(42, 63, 95); fill-opacity: 1; white-space: pre; opacity: 1;\" transform=\"translate(0,151.04)\">3B</text></g></g><g class=\"overaxes-above\"/></g></g><g class=\"polarlayer\"/><g class=\"smithlayer\"/><g class=\"ternarylayer\"/><g class=\"geolayer\"/><g class=\"funnelarealayer\"/><g class=\"pielayer\"><g class=\"trace\" stroke-linejoin=\"round\" style=\"opacity: 1;\"><g class=\"slice\"><path class=\"surface\" d=\"M270.8,310l0,-190.8a190.8,190.8 0 0 1 146.46995384087015,313.07506950254975Z\" style=\"pointer-events: all; stroke-width: 0; fill: rgb(79, 129, 189); fill-opacity: 1; stroke: rgb(68, 68, 68); stroke-opacity: 1;\"/><g class=\"slicetext\"><text data-notex=\"1\" class=\"slicetext\" transform=\"translate(487.33660635686397,223.3884644984876)\" text-anchor=\"middle\" x=\"0\" y=\"0\" style=\"font-family: 'Open Sans', verdana, arial, sans-serif; font-size: 12px; fill: rgb(42, 63, 95); fill-opacity: 1; white-space: pre;\"><tspan class=\"line\" dy=\"0em\" x=\"0\" y=\"0\">west bengal</tspan><tspan class=\"line\" dy=\"1.3em\" x=\"0\" y=\"0\">36.1%</tspan></text></g></g><g class=\"slice\"><path class=\"surface\" d=\"M270.8,310l-165.88544053846343,94.26908622321487a190.8,190.8 0 0 1 165.88544053846343,-285.06908622321487Z\" style=\"pointer-events: all; stroke-width: 0; fill: rgb(192, 80, 77); fill-opacity: 1; stroke: rgb(68, 68, 68); stroke-opacity: 1;\"/><g class=\"slicetext\"><text data-notex=\"1\" class=\"slicetext\" transform=\"translate(66.20554904012829,207.1732334404365)\" text-anchor=\"middle\" x=\"0\" y=\"0\" style=\"font-family: 'Open Sans', verdana, arial, sans-serif; font-size: 12px; fill: rgb(42, 63, 95); fill-opacity: 1; white-space: pre;\"><tspan class=\"line\" dy=\"0em\" x=\"0\" y=\"0\">tamil nadu</tspan><tspan class=\"line\" dy=\"1.3em\" x=\"0\" y=\"0\">33.2%</tspan></text></g></g><g class=\"slice\"><path class=\"surface\" d=\"M270.8,310l-45.19729811692132,185.36948034379915a190.8,190.8 0 0 1 -120.68814242154211,-91.10039412058428Z\" style=\"pointer-events: all; stroke-width: 0; fill: rgb(155, 187, 89); fill-opacity: 1; stroke: rgb(68, 68, 68); stroke-opacity: 1;\"/><g class=\"slicetext\"><text data-notex=\"1\" class=\"slicetext\" transform=\"translate(118.07135746744683,468.8209827839225)\" text-anchor=\"middle\" x=\"0\" y=\"0\" style=\"font-family: 'Open Sans', verdana, arial, sans-serif; font-size: 12px; fill: rgb(42, 63, 95); fill-opacity: 1; white-space: pre;\"><tspan class=\"line\" dy=\"0em\" x=\"0\" y=\"0\">karnataka</tspan><tspan class=\"line\" dy=\"1.3em\" x=\"0\" y=\"0\">13%</tspan></text></g></g><g class=\"slice\"><path class=\"surface\" d=\"M270.8,310l75.71078793900521,175.13570906487058a190.8,190.8 0 0 1 -120.90808605592653,10.233771278928572Z\" style=\"pointer-events: all; stroke-width: 0; fill: rgb(128, 100, 162); fill-opacity: 1; stroke: rgb(68, 68, 68); stroke-opacity: 1;\"/><g class=\"slicetext\"><text data-notex=\"1\" class=\"slicetext\" transform=\"translate(324.1536665478261,512.0131108740012)\" text-anchor=\"middle\" x=\"0\" y=\"0\" style=\"font-family: 'Open Sans', verdana, arial, sans-serif; font-size: 12px; fill: rgb(42, 63, 95); fill-opacity: 1; white-space: pre;\"><tspan class=\"line\" dy=\"0em\" x=\"0\" y=\"0\">telangana</tspan><tspan class=\"line\" dy=\"1.3em\" x=\"0\" y=\"0\">10.3%</tspan></text></g></g><g class=\"slice\"><path class=\"surface\" d=\"M270.8,310l146.46995384087,122.27506950254993a190.8,190.8 0 0 1 -70.75916590186479,52.86063956232066Z\" style=\"pointer-events: all; stroke-width: 0; fill: rgb(247, 150, 70); fill-opacity: 1; stroke: rgb(68, 68, 68); stroke-opacity: 1;\"/><g class=\"slicetext\"><text data-notex=\"1\" class=\"slicetext\" transform=\"translate(413.2685531673553,469.46378841308626)\" text-anchor=\"middle\" x=\"0\" y=\"0\" style=\"font-family: 'Open Sans', verdana, arial, sans-serif; font-size: 12px; fill: rgb(42, 63, 95); fill-opacity: 1; white-space: pre;\"><tspan class=\"line\" dy=\"0em\" x=\"0\" y=\"0\">punjab</tspan><tspan class=\"line\" dy=\"1.3em\" x=\"0\" y=\"0\">7.43%</tspan></text></g></g></g></g><g class=\"iciclelayer\"/><g class=\"treemaplayer\"/><g class=\"sunburstlayer\"/><g class=\"glimages\"/><defs id=\"topdefs-8fd9ef\"><g class=\"clips\"/><clipPath id=\"legend8fd9ef\"><rect width=\"118\" height=\"124\" x=\"0\" y=\"0\"/></clipPath></defs><g class=\"layer-above\"><g class=\"imagelayer\"/><g class=\"shapelayer\"/></g><g class=\"infolayer\"><g class=\"legend\" pointer-events=\"all\" transform=\"translate(970.4000000000001,186)\"><rect class=\"bg\" shape-rendering=\"crispEdges\" style=\"stroke: rgb(68, 68, 68); stroke-opacity: 1; fill: rgb(255, 255, 255); fill-opacity: 1; stroke-width: 0px;\" width=\"118\" height=\"124\" x=\"0\" y=\"0\"/><g class=\"scrollbox\" transform=\"\" clip-path=\"url(#legend8fd9ef)\"><g class=\"groups\"><g class=\"traces\" transform=\"translate(0,14.5)\" style=\"opacity: 1;\"><text class=\"legendtext\" text-anchor=\"start\" x=\"40\" y=\"4.680000000000001\" style=\"font-family: 'Open Sans', verdana, arial, sans-serif; font-size: 12px; fill: rgb(42, 63, 95); fill-opacity: 1; white-space: pre;\">west bengal</text><g class=\"layers\" style=\"opacity: 1;\"><g class=\"legendfill\"/><g class=\"legendlines\"/><g class=\"legendsymbols\"><g class=\"legendpoints\"><path class=\"legendpie\" d=\"M6,6H-6V-6H6Z\" transform=\"translate(20,0)\" style=\"stroke-width: 0; fill: rgb(79, 129, 189); fill-opacity: 1; stroke: rgb(68, 68, 68); stroke-opacity: 1;\"/></g></g></g><rect class=\"legendtoggle\" x=\"0\" y=\"-9.5\" width=\"112.375\" height=\"19\" style=\"fill: rgb(0, 0, 0); fill-opacity: 0;\"/></g><g class=\"traces\" transform=\"translate(0,33.5)\" style=\"opacity: 1;\"><text class=\"legendtext\" text-anchor=\"start\" x=\"40\" y=\"4.680000000000001\" style=\"font-family: 'Open Sans', verdana, arial, sans-serif; font-size: 12px; fill: rgb(42, 63, 95); fill-opacity: 1; white-space: pre;\">tamil nadu</text><g class=\"layers\" style=\"opacity: 1;\"><g class=\"legendfill\"/><g class=\"legendlines\"/><g class=\"legendsymbols\"><g class=\"legendpoints\"><path class=\"legendpie\" d=\"M6,6H-6V-6H6Z\" transform=\"translate(20,0)\" style=\"stroke-width: 0; fill: rgb(192, 80, 77); fill-opacity: 1; stroke: rgb(68, 68, 68); stroke-opacity: 1;\"/></g></g></g><rect class=\"legendtoggle\" x=\"0\" y=\"-9.5\" width=\"112.375\" height=\"19\" style=\"fill: rgb(0, 0, 0); fill-opacity: 0;\"/></g><g class=\"traces\" transform=\"translate(0,52.5)\" style=\"opacity: 1;\"><text class=\"legendtext\" text-anchor=\"start\" x=\"40\" y=\"4.680000000000001\" style=\"font-family: 'Open Sans', verdana, arial, sans-serif; font-size: 12px; fill: rgb(42, 63, 95); fill-opacity: 1; white-space: pre;\">karnataka</text><g class=\"layers\" style=\"opacity: 1;\"><g class=\"legendfill\"/><g class=\"legendlines\"/><g class=\"legendsymbols\"><g class=\"legendpoints\"><path class=\"legendpie\" d=\"M6,6H-6V-6H6Z\" transform=\"translate(20,0)\" style=\"stroke-width: 0; fill: rgb(155, 187, 89); fill-opacity: 1; stroke: rgb(68, 68, 68); stroke-opacity: 1;\"/></g></g></g><rect class=\"legendtoggle\" x=\"0\" y=\"-9.5\" width=\"112.375\" height=\"19\" style=\"fill: rgb(0, 0, 0); fill-opacity: 0;\"/></g><g class=\"traces\" transform=\"translate(0,71.5)\" style=\"opacity: 1;\"><text class=\"legendtext\" text-anchor=\"start\" x=\"40\" y=\"4.680000000000001\" style=\"font-family: 'Open Sans', verdana, arial, sans-serif; font-size: 12px; fill: rgb(42, 63, 95); fill-opacity: 1; white-space: pre;\">telangana</text><g class=\"layers\" style=\"opacity: 1;\"><g class=\"legendfill\"/><g class=\"legendlines\"/><g class=\"legendsymbols\"><g class=\"legendpoints\"><path class=\"legendpie\" d=\"M6,6H-6V-6H6Z\" transform=\"translate(20,0)\" style=\"stroke-width: 0; fill: rgb(128, 100, 162); fill-opacity: 1; stroke: rgb(68, 68, 68); stroke-opacity: 1;\"/></g></g></g><rect class=\"legendtoggle\" x=\"0\" y=\"-9.5\" width=\"112.375\" height=\"19\" style=\"fill: rgb(0, 0, 0); fill-opacity: 0;\"/></g><g class=\"traces\" transform=\"translate(0,90.5)\" style=\"opacity: 1;\"><text class=\"legendtext\" text-anchor=\"start\" x=\"40\" y=\"4.680000000000001\" style=\"font-family: 'Open Sans', verdana, arial, sans-serif; font-size: 12px; fill: rgb(42, 63, 95); fill-opacity: 1; white-space: pre;\">punjab</text><g class=\"layers\" style=\"opacity: 1;\"><g class=\"legendfill\"/><g class=\"legendlines\"/><g class=\"legendsymbols\"><g class=\"legendpoints\"><path class=\"legendpie\" d=\"M6,6H-6V-6H6Z\" transform=\"translate(20,0)\" style=\"stroke-width: 0; fill: rgb(247, 150, 70); fill-opacity: 1; stroke: rgb(68, 68, 68); stroke-opacity: 1;\"/></g></g></g><rect class=\"legendtoggle\" x=\"0\" y=\"-9.5\" width=\"112.375\" height=\"19\" style=\"fill: rgb(0, 0, 0); fill-opacity: 0;\"/></g><g class=\"traces\" transform=\"translate(0,109.5)\" style=\"opacity: 1;\"><text class=\"legendtext\" text-anchor=\"start\" x=\"40\" y=\"4.680000000000001\" style=\"font-family: 'Open Sans', verdana, arial, sans-serif; font-size: 12px; fill: rgb(42, 63, 95); fill-opacity: 1; white-space: pre;\">trace 1</text><g class=\"layers\" style=\"opacity: 1;\"><g class=\"legendfill\"/><g class=\"legendlines\"/><g class=\"legendsymbols\"><g class=\"legendpoints\"><path class=\"legendundefined\" d=\"M6,6H-6V-6H6Z\" transform=\"translate(20,0)\" style=\"stroke-width: 0.5px; fill: rgb(79, 129, 189); fill-opacity: 1; stroke: rgb(255, 255, 255); stroke-opacity: 1;\"/></g></g></g><rect class=\"legendtoggle\" x=\"0\" y=\"-9.5\" width=\"112.375\" height=\"19\" style=\"fill: rgb(0, 0, 0); fill-opacity: 0;\"/></g></g></g><rect class=\"scrollbar\" rx=\"20\" ry=\"3\" width=\"0\" height=\"0\" style=\"fill: rgb(128, 139, 164); fill-opacity: 1;\" x=\"0\" y=\"0\"/></g><g class=\"g-gtitle\"><text class=\"gtitle\" x=\"55\" y=\"50\" text-anchor=\"start\" dy=\"0em\" style=\"font-family: 'Open Sans', verdana, arial, sans-serif; font-size: 17px; fill: rgb(42, 63, 95); opacity: 1; font-weight: normal; white-space: pre;\">Top 5 INDIA Ruled State Net Ad Spend</text></g><g class=\"g-xtitle\"/><g class=\"g-ytitle\"/></g></svg>"
      ]
     },
     "metadata": {},
     "output_type": "display_data"
    }
   ],
   "source": [
    "colors = ['#4F81BD', '#C0504D', '#9BBB59', '#8064A2', '#F79646']\n",
    "\n",
    "# Create subplots: use 'domain' type for pie charts\n",
    "fig = make_subplots(\n",
    "    rows=1, cols=2,  # One row and two columns\n",
    "    specs=[[{'type': 'domain'}, {'type': 'xy'}]],  # Specify the types of subplots\n",
    ")\n",
    "\n",
    "# Add pie chart\n",
    "fig.add_trace(go.Pie(labels=Net_India_Ruling_State_top_5['State'],\n",
    "                     values=Net_India_Ruling_State_top_5['Amount spent (INR)'],\n",
    "                     textinfo='label+percent',\n",
    "                     textposition='outside',\n",
    "                     marker=dict(colors=colors)),\n",
    "              row=1, col=1)\n",
    "\n",
    "# Add bar chart\n",
    "fig.add_trace(go.Bar(x=Net_India_Ruling_State_top_5['State'],\n",
    "                     y=Net_India_Ruling_State_top_5['Amount spent (INR)'],\n",
    "                     marker=dict(color=colors)),\n",
    "              row=1, col=2)\n",
    "\n",
    "# Update layout\n",
    "fig.update_layout(\n",
    "    title_text='Top 5 INDIA Ruled State Net Ad Spend',\n",
    "    showlegend=True,\n",
    "    legend=dict(\n",
    "        orientation='v',\n",
    "        xanchor='left',\n",
    "        yanchor='bottom',\n",
    "        x=1.05,\n",
    "        y=0.5\n",
    "    ),\n",
    "    width=1100,  # Adjust figure width\n",
    "    height=600   # Adjust figure height\n",
    ")\n",
    "\n",
    "fig.show(\"svg\")\n"
   ]
  },
  {
   "cell_type": "markdown",
   "id": "1aa14153-368d-4116-a12f-69184904a1d8",
   "metadata": {},
   "source": [
    "The above graph shows the top 5 net amount contribution among INDIA alliance rulling states and unioin territory[UT]\n",
    "\n",
    "List of **top five state and UT** net ad spend among INDIA alliance rulling states and unioin territory[UT]               \n",
    "1. **West Bengal - 36.1 % ~ 3.24B (INR)**\n",
    "2. **Tamil Nadu - 33.2 % ~ 2.98B (INR)**\n",
    "3. **Karnataka - 13 % ~ 1.16B (INR)**\n",
    "4. **Telengana - 10.3 % ~ 0.92B (INR)**\n",
    "5. **Punjab - 7.43 % ~ 0.66B (INR)**"
   ]
  },
  {
   "cell_type": "markdown",
   "id": "772f4650-54d5-40dd-b18b-460d4da70cdb",
   "metadata": {},
   "source": [
    "# Compaisrion of Entire India with main Alliances"
   ]
  },
  {
   "cell_type": "code",
   "execution_count": 54,
   "id": "7a5246dc-b2bc-4e72-8bbe-1d7e56e9d5e2",
   "metadata": {},
   "outputs": [
    {
     "data": {
      "image/svg+xml": [
       "<svg class=\"main-svg\" xmlns=\"http://www.w3.org/2000/svg\" xmlns:xlink=\"http://www.w3.org/1999/xlink\" width=\"1050\" height=\"400\" style=\"\" viewBox=\"0 0 1050 400\"><rect x=\"0\" y=\"0\" width=\"1050\" height=\"400\" style=\"fill: rgb(255, 255, 255); fill-opacity: 1;\"/><defs id=\"defs-d21c01\"><g class=\"clips\"><clipPath id=\"clipd21c01xyplot\" class=\"plotclip\"><rect width=\"883\" height=\"58.66666666666668\"/></clipPath><clipPath id=\"clipd21c01x2y2plot\" class=\"plotclip\"><rect width=\"883\" height=\"58.666666666666664\"/></clipPath><clipPath id=\"clipd21c01x3y3plot\" class=\"plotclip\"><rect width=\"883\" height=\"58.666666666666664\"/></clipPath><clipPath class=\"axesclip\" id=\"clipd21c01x\"><rect x=\"87\" y=\"0\" width=\"883\" height=\"400\"/></clipPath><clipPath class=\"axesclip\" id=\"clipd21c01y\"><rect x=\"0\" y=\"100\" width=\"1050\" height=\"58.66666666666668\"/></clipPath><clipPath class=\"axesclip\" id=\"clipd21c01xy\"><rect x=\"87\" y=\"100\" width=\"883\" height=\"58.66666666666668\"/></clipPath><clipPath class=\"axesclip\" id=\"clipd21c01y2\"><rect x=\"0\" y=\"180.66666666666669\" width=\"1050\" height=\"58.666666666666664\"/></clipPath><clipPath class=\"axesclip\" id=\"clipd21c01xy2\"><rect x=\"87\" y=\"180.66666666666669\" width=\"883\" height=\"58.666666666666664\"/></clipPath><clipPath class=\"axesclip\" id=\"clipd21c01y3\"><rect x=\"0\" y=\"261.33333333333337\" width=\"1050\" height=\"58.666666666666664\"/></clipPath><clipPath class=\"axesclip\" id=\"clipd21c01xy3\"><rect x=\"87\" y=\"261.33333333333337\" width=\"883\" height=\"58.666666666666664\"/></clipPath><clipPath class=\"axesclip\" id=\"clipd21c01x2\"><rect x=\"87\" y=\"0\" width=\"883\" height=\"400\"/></clipPath><clipPath class=\"axesclip\" id=\"clipd21c01x2y\"><rect x=\"87\" y=\"100\" width=\"883\" height=\"58.66666666666668\"/></clipPath><clipPath class=\"axesclip\" id=\"clipd21c01x2y2\"><rect x=\"87\" y=\"180.66666666666669\" width=\"883\" height=\"58.666666666666664\"/></clipPath><clipPath class=\"axesclip\" id=\"clipd21c01x2y3\"><rect x=\"87\" y=\"261.33333333333337\" width=\"883\" height=\"58.666666666666664\"/></clipPath><clipPath class=\"axesclip\" id=\"clipd21c01x3\"><rect x=\"87\" y=\"0\" width=\"883\" height=\"400\"/></clipPath><clipPath class=\"axesclip\" id=\"clipd21c01x3y\"><rect x=\"87\" y=\"100\" width=\"883\" height=\"58.66666666666668\"/></clipPath><clipPath class=\"axesclip\" id=\"clipd21c01x3y2\"><rect x=\"87\" y=\"180.66666666666669\" width=\"883\" height=\"58.666666666666664\"/></clipPath><clipPath class=\"axesclip\" id=\"clipd21c01x3y3\"><rect x=\"87\" y=\"261.33333333333337\" width=\"883\" height=\"58.666666666666664\"/></clipPath></g><g class=\"gradients\"/><g class=\"patterns\"/></defs><g class=\"bglayer\"/><g class=\"layer-below\"><g class=\"imagelayer\"/><g class=\"shapelayer\"/></g><g class=\"cartesianlayer\"><g class=\"subplot xy\"><g class=\"layer-subplot\"><g class=\"shapelayer\"/><g class=\"imagelayer\"/></g><g class=\"minor-gridlayer\"><g class=\"x\"/><g class=\"y\"/></g><g class=\"gridlayer\"><g class=\"x\"><path class=\"xgrid crisp\" transform=\"translate(351.53,0)\" d=\"M0,100v58.66666666666668\" style=\"stroke: rgb(235, 240, 248); stroke-opacity: 1; stroke-width: 1px;\"/><path class=\"xgrid crisp\" transform=\"translate(571.99,0)\" d=\"M0,100v58.66666666666668\" style=\"stroke: rgb(235, 240, 248); stroke-opacity: 1; stroke-width: 1px;\"/><path class=\"xgrid crisp\" transform=\"translate(792.46,0)\" d=\"M0,100v58.66666666666668\" style=\"stroke: rgb(235, 240, 248); stroke-opacity: 1; stroke-width: 1px;\"/></g><g class=\"y\"/></g><g class=\"zerolinelayer\"><path class=\"xzl zl crisp\" transform=\"translate(131.06,0)\" d=\"M0,100v58.66666666666668\" style=\"stroke: rgb(235, 240, 248); stroke-opacity: 1; stroke-width: 2px;\"/></g><path class=\"xlines-below\"/><path class=\"ylines-below\"/><g class=\"overlines-below\"/><g class=\"xaxislayer-below\"/><g class=\"yaxislayer-below\"/><g class=\"overaxes-below\"/><g class=\"plot\" transform=\"translate(87,100)\" clip-path=\"url(#clipd21c01xyplot)\"><g class=\"boxlayer mlayer\"><g class=\"trace boxes\" style=\"opacity: 1;\"><path class=\"box\" d=\"M284.35,43.71V14.96M222.31,43.71V14.96H439.44V43.71ZM222.31,29.33H44.15M439.44,29.33H493.45M44.15,36.52V22.15M493.45,36.52V22.15\" style=\"vector-effect: non-scaling-stroke; stroke-width: 1px; stroke: rgb(0, 128, 0); stroke-opacity: 1; fill: rgb(0, 128, 0); fill-opacity: 0.5;\"/><g class=\"points\"><path class=\"point\" transform=\"translate(838.85,29.33)\" d=\"M3,0A3,3 0 1,1 0,-3A3,3 0 0,1 3,0Z\" style=\"opacity: 1; stroke-width: 0px; fill: rgb(0, 128, 0); fill-opacity: 1;\"/><path class=\"point\" transform=\"translate(838.85,29.33)\" d=\"M3,0A3,3 0 1,1 0,-3A3,3 0 0,1 3,0Z\" style=\"opacity: 1; stroke-width: 0px; fill: rgb(0, 128, 0); fill-opacity: 1;\"/><path class=\"point\" transform=\"translate(838.85,29.33)\" d=\"M3,0A3,3 0 1,1 0,-3A3,3 0 0,1 3,0Z\" style=\"opacity: 1; stroke-width: 0px; fill: rgb(0, 128, 0); fill-opacity: 1;\"/><path class=\"point\" transform=\"translate(838.85,29.33)\" d=\"M3,0A3,3 0 1,1 0,-3A3,3 0 0,1 3,0Z\" style=\"opacity: 1; stroke-width: 0px; fill: rgb(0, 128, 0); fill-opacity: 1;\"/><path class=\"point\" transform=\"translate(838.85,29.33)\" d=\"M3,0A3,3 0 1,1 0,-3A3,3 0 0,1 3,0Z\" style=\"opacity: 1; stroke-width: 0px; fill: rgb(0, 128, 0); fill-opacity: 1;\"/><path class=\"point\" transform=\"translate(838.85,29.33)\" d=\"M3,0A3,3 0 1,1 0,-3A3,3 0 0,1 3,0Z\" style=\"opacity: 1; stroke-width: 0px; fill: rgb(0, 128, 0); fill-opacity: 1;\"/><path class=\"point\" transform=\"translate(838.85,29.33)\" d=\"M3,0A3,3 0 1,1 0,-3A3,3 0 0,1 3,0Z\" style=\"opacity: 1; stroke-width: 0px; fill: rgb(0, 128, 0); fill-opacity: 1;\"/><path class=\"point\" transform=\"translate(838.85,29.33)\" d=\"M3,0A3,3 0 1,1 0,-3A3,3 0 0,1 3,0Z\" style=\"opacity: 1; stroke-width: 0px; fill: rgb(0, 128, 0); fill-opacity: 1;\"/><path class=\"point\" transform=\"translate(838.85,29.33)\" d=\"M3,0A3,3 0 1,1 0,-3A3,3 0 0,1 3,0Z\" style=\"opacity: 1; stroke-width: 0px; fill: rgb(0, 128, 0); fill-opacity: 1;\"/><path class=\"point\" transform=\"translate(838.85,29.33)\" d=\"M3,0A3,3 0 1,1 0,-3A3,3 0 0,1 3,0Z\" style=\"opacity: 1; stroke-width: 0px; fill: rgb(0, 128, 0); fill-opacity: 1;\"/><path class=\"point\" transform=\"translate(838.85,29.33)\" d=\"M3,0A3,3 0 1,1 0,-3A3,3 0 0,1 3,0Z\" style=\"opacity: 1; stroke-width: 0px; fill: rgb(0, 128, 0); fill-opacity: 1;\"/><path class=\"point\" transform=\"translate(838.85,29.33)\" d=\"M3,0A3,3 0 1,1 0,-3A3,3 0 0,1 3,0Z\" style=\"opacity: 1; stroke-width: 0px; fill: rgb(0, 128, 0); fill-opacity: 1;\"/><path class=\"point\" transform=\"translate(838.85,29.33)\" d=\"M3,0A3,3 0 1,1 0,-3A3,3 0 0,1 3,0Z\" style=\"opacity: 1; stroke-width: 0px; fill: rgb(0, 128, 0); fill-opacity: 1;\"/><path class=\"point\" transform=\"translate(838.85,29.33)\" d=\"M3,0A3,3 0 1,1 0,-3A3,3 0 0,1 3,0Z\" style=\"opacity: 1; stroke-width: 0px; fill: rgb(0, 128, 0); fill-opacity: 1;\"/><path class=\"point\" transform=\"translate(838.85,29.33)\" d=\"M3,0A3,3 0 1,1 0,-3A3,3 0 0,1 3,0Z\" style=\"opacity: 1; stroke-width: 0px; fill: rgb(0, 128, 0); fill-opacity: 1;\"/><path class=\"point\" transform=\"translate(838.85,29.33)\" d=\"M3,0A3,3 0 1,1 0,-3A3,3 0 0,1 3,0Z\" style=\"opacity: 1; stroke-width: 0px; fill: rgb(0, 128, 0); fill-opacity: 1;\"/><path class=\"point\" transform=\"translate(838.85,29.33)\" d=\"M3,0A3,3 0 1,1 0,-3A3,3 0 0,1 3,0Z\" style=\"opacity: 1; stroke-width: 0px; fill: rgb(0, 128, 0); fill-opacity: 1;\"/><path class=\"point\" transform=\"translate(838.85,29.33)\" d=\"M3,0A3,3 0 1,1 0,-3A3,3 0 0,1 3,0Z\" style=\"opacity: 1; stroke-width: 0px; fill: rgb(0, 128, 0); fill-opacity: 1;\"/><path class=\"point\" transform=\"translate(838.85,29.33)\" d=\"M3,0A3,3 0 1,1 0,-3A3,3 0 0,1 3,0Z\" style=\"opacity: 1; stroke-width: 0px; fill: rgb(0, 128, 0); fill-opacity: 1;\"/><path class=\"point\" transform=\"translate(838.85,29.33)\" d=\"M3,0A3,3 0 1,1 0,-3A3,3 0 0,1 3,0Z\" style=\"opacity: 1; stroke-width: 0px; fill: rgb(0, 128, 0); fill-opacity: 1;\"/><path class=\"point\" transform=\"translate(838.85,29.33)\" d=\"M3,0A3,3 0 1,1 0,-3A3,3 0 0,1 3,0Z\" style=\"opacity: 1; stroke-width: 0px; fill: rgb(0, 128, 0); fill-opacity: 1;\"/></g></g></g></g><g class=\"overplot\"/><path class=\"xlines-above crisp\" d=\"M0,0\" style=\"fill: none;\"/><path class=\"ylines-above crisp\" d=\"M0,0\" style=\"fill: none;\"/><g class=\"overlines-above\"/><g class=\"xaxislayer-above\"><g class=\"xtick\"><text text-anchor=\"middle\" x=\"0\" y=\"171.66666666666669\" transform=\"translate(131.06,0)\" style=\"font-family: 'Open Sans', verdana, arial, sans-serif; font-size: 12px; fill: rgb(42, 63, 95); fill-opacity: 1; white-space: pre; opacity: 1;\">0</text></g><g class=\"xtick\"><text text-anchor=\"middle\" x=\"0\" y=\"171.66666666666669\" style=\"font-family: 'Open Sans', verdana, arial, sans-serif; font-size: 12px; fill: rgb(42, 63, 95); fill-opacity: 1; white-space: pre; opacity: 1;\" transform=\"translate(351.53,0)\">50M</text></g><g class=\"xtick\"><text text-anchor=\"middle\" x=\"0\" y=\"171.66666666666669\" style=\"font-family: 'Open Sans', verdana, arial, sans-serif; font-size: 12px; fill: rgb(42, 63, 95); fill-opacity: 1; white-space: pre; opacity: 1;\" transform=\"translate(571.99,0)\">100M</text></g><g class=\"xtick\"><text text-anchor=\"middle\" x=\"0\" y=\"171.66666666666669\" style=\"font-family: 'Open Sans', verdana, arial, sans-serif; font-size: 12px; fill: rgb(42, 63, 95); fill-opacity: 1; white-space: pre; opacity: 1;\" transform=\"translate(792.46,0)\">150M</text></g></g><g class=\"yaxislayer-above\"><g class=\"ytick\"><text text-anchor=\"end\" x=\"86\" y=\"4.199999999999999\" transform=\"translate(0,129.32999999999998)\" style=\"font-family: 'Open Sans', verdana, arial, sans-serif; font-size: 12px; fill: rgb(42, 63, 95); fill-opacity: 1; white-space: pre; opacity: 1;\">Entire India</text></g></g><g class=\"overaxes-above\"/></g><g class=\"subplot x2y2\"><g class=\"layer-subplot\"><g class=\"shapelayer\"/><g class=\"imagelayer\"/></g><g class=\"minor-gridlayer\"><g class=\"x2\"/><g class=\"y2\"/></g><g class=\"gridlayer\"><g class=\"x2\"><path class=\"x2grid crisp\" transform=\"translate(241.88,0)\" d=\"M0,180.66666666666669v58.666666666666664\" style=\"stroke: rgb(235, 240, 248); stroke-opacity: 1; stroke-width: 1px;\"/><path class=\"x2grid crisp\" transform=\"translate(352.67,0)\" d=\"M0,180.66666666666669v58.666666666666664\" style=\"stroke: rgb(235, 240, 248); stroke-opacity: 1; stroke-width: 1px;\"/><path class=\"x2grid crisp\" transform=\"translate(463.46,0)\" d=\"M0,180.66666666666669v58.666666666666664\" style=\"stroke: rgb(235, 240, 248); stroke-opacity: 1; stroke-width: 1px;\"/><path class=\"x2grid crisp\" transform=\"translate(574.25,0)\" d=\"M0,180.66666666666669v58.666666666666664\" style=\"stroke: rgb(235, 240, 248); stroke-opacity: 1; stroke-width: 1px;\"/><path class=\"x2grid crisp\" transform=\"translate(685.05,0)\" d=\"M0,180.66666666666669v58.666666666666664\" style=\"stroke: rgb(235, 240, 248); stroke-opacity: 1; stroke-width: 1px;\"/><path class=\"x2grid crisp\" transform=\"translate(795.84,0)\" d=\"M0,180.66666666666669v58.666666666666664\" style=\"stroke: rgb(235, 240, 248); stroke-opacity: 1; stroke-width: 1px;\"/><path class=\"x2grid crisp\" transform=\"translate(906.63,0)\" d=\"M0,180.66666666666669v58.666666666666664\" style=\"stroke: rgb(235, 240, 248); stroke-opacity: 1; stroke-width: 1px;\"/></g><g class=\"y2\"/></g><g class=\"zerolinelayer\"><path class=\"x2zl zl crisp\" transform=\"translate(131.07999999999998,0)\" d=\"M0,180.66666666666669v58.666666666666664\" style=\"stroke: rgb(235, 240, 248); stroke-opacity: 1; stroke-width: 2px;\"/></g><path class=\"xlines-below\"/><path class=\"ylines-below\"/><g class=\"overlines-below\"/><g class=\"xaxislayer-below\"/><g class=\"yaxislayer-below\"/><g class=\"overaxes-below\"/><g class=\"plot\" transform=\"translate(87,180.66666666666669)\" clip-path=\"url(#clipd21c01x2y2plot)\"><g class=\"boxlayer mlayer\"><g class=\"trace boxes\" style=\"opacity: 1;\"><path class=\"box\" d=\"M62.12,43.71V14.96M44.42,43.71V14.96H169.03V43.71ZM44.42,29.33H44.15M169.03,29.33H323.34M44.15,36.52V22.15M323.34,36.52V22.15\" style=\"vector-effect: non-scaling-stroke; stroke-width: 1px; stroke: rgb(255, 140, 0); stroke-opacity: 1; fill: rgb(255, 140, 0); fill-opacity: 0.5;\"/><g class=\"points\"><path class=\"point\" transform=\"translate(586.08,29.33)\" d=\"M3,0A3,3 0 1,1 0,-3A3,3 0 0,1 3,0Z\" style=\"opacity: 1; stroke-width: 0px; fill: rgb(255, 140, 0); fill-opacity: 1;\"/><path class=\"point\" transform=\"translate(838.85,29.33)\" d=\"M3,0A3,3 0 1,1 0,-3A3,3 0 0,1 3,0Z\" style=\"opacity: 1; stroke-width: 0px; fill: rgb(255, 140, 0); fill-opacity: 1;\"/></g></g></g></g><g class=\"overplot\"/><path class=\"xlines-above crisp\" d=\"M0,0\" style=\"fill: none;\"/><path class=\"ylines-above crisp\" d=\"M0,0\" style=\"fill: none;\"/><g class=\"overlines-above\"/><g class=\"xaxislayer-above\"><g class=\"x2tick\"><text text-anchor=\"middle\" x=\"0\" y=\"252.33333333333334\" transform=\"translate(131.07999999999998,0)\" style=\"font-family: 'Open Sans', verdana, arial, sans-serif; font-size: 12px; fill: rgb(42, 63, 95); fill-opacity: 1; white-space: pre; opacity: 1;\">0</text></g><g class=\"x2tick\"><text text-anchor=\"middle\" x=\"0\" y=\"252.33333333333334\" style=\"font-family: 'Open Sans', verdana, arial, sans-serif; font-size: 12px; fill: rgb(42, 63, 95); fill-opacity: 1; white-space: pre; opacity: 1;\" transform=\"translate(241.88,0)\">1B</text></g><g class=\"x2tick\"><text text-anchor=\"middle\" x=\"0\" y=\"252.33333333333334\" style=\"font-family: 'Open Sans', verdana, arial, sans-serif; font-size: 12px; fill: rgb(42, 63, 95); fill-opacity: 1; white-space: pre; opacity: 1;\" transform=\"translate(352.67,0)\">2B</text></g><g class=\"x2tick\"><text text-anchor=\"middle\" x=\"0\" y=\"252.33333333333334\" style=\"font-family: 'Open Sans', verdana, arial, sans-serif; font-size: 12px; fill: rgb(42, 63, 95); fill-opacity: 1; white-space: pre; opacity: 1;\" transform=\"translate(463.46,0)\">3B</text></g><g class=\"x2tick\"><text text-anchor=\"middle\" x=\"0\" y=\"252.33333333333334\" style=\"font-family: 'Open Sans', verdana, arial, sans-serif; font-size: 12px; fill: rgb(42, 63, 95); fill-opacity: 1; white-space: pre; opacity: 1;\" transform=\"translate(574.25,0)\">4B</text></g><g class=\"x2tick\"><text text-anchor=\"middle\" x=\"0\" y=\"252.33333333333334\" style=\"font-family: 'Open Sans', verdana, arial, sans-serif; font-size: 12px; fill: rgb(42, 63, 95); fill-opacity: 1; white-space: pre; opacity: 1;\" transform=\"translate(685.05,0)\">5B</text></g><g class=\"x2tick\"><text text-anchor=\"middle\" x=\"0\" y=\"252.33333333333334\" style=\"font-family: 'Open Sans', verdana, arial, sans-serif; font-size: 12px; fill: rgb(42, 63, 95); fill-opacity: 1; white-space: pre; opacity: 1;\" transform=\"translate(795.84,0)\">6B</text></g><g class=\"x2tick\"><text text-anchor=\"middle\" x=\"0\" y=\"252.33333333333334\" style=\"font-family: 'Open Sans', verdana, arial, sans-serif; font-size: 12px; fill: rgb(42, 63, 95); fill-opacity: 1; white-space: pre; opacity: 1;\" transform=\"translate(906.63,0)\">7B</text></g></g><g class=\"yaxislayer-above\"><g class=\"y2tick\"><text text-anchor=\"end\" x=\"86\" y=\"4.199999999999999\" transform=\"translate(0,209.99666666666667)\" style=\"font-family: 'Open Sans', verdana, arial, sans-serif; font-size: 12px; fill: rgb(42, 63, 95); fill-opacity: 1; white-space: pre; opacity: 1;\">NDA States</text></g></g><g class=\"overaxes-above\"/></g><g class=\"subplot x3y3\"><g class=\"layer-subplot\"><g class=\"shapelayer\"/><g class=\"imagelayer\"/></g><g class=\"minor-gridlayer\"><g class=\"x3\"/><g class=\"y3\"/></g><g class=\"gridlayer\"><g class=\"x3\"><path class=\"x3grid crisp\" transform=\"translate(243.52,0)\" d=\"M0,261.33333333333337v58.666666666666664\" style=\"stroke: rgb(235, 240, 248); stroke-opacity: 1; stroke-width: 1px;\"/><path class=\"x3grid crisp\" transform=\"translate(367.84,0)\" d=\"M0,261.33333333333337v58.666666666666664\" style=\"stroke: rgb(235, 240, 248); stroke-opacity: 1; stroke-width: 1px;\"/><path class=\"x3grid crisp\" transform=\"translate(492.16,0)\" d=\"M0,261.33333333333337v58.666666666666664\" style=\"stroke: rgb(235, 240, 248); stroke-opacity: 1; stroke-width: 1px;\"/><path class=\"x3grid crisp\" transform=\"translate(616.48,0)\" d=\"M0,261.33333333333337v58.666666666666664\" style=\"stroke: rgb(235, 240, 248); stroke-opacity: 1; stroke-width: 1px;\"/><path class=\"x3grid crisp\" transform=\"translate(740.79,0)\" d=\"M0,261.33333333333337v58.666666666666664\" style=\"stroke: rgb(235, 240, 248); stroke-opacity: 1; stroke-width: 1px;\"/><path class=\"x3grid crisp\" transform=\"translate(865.11,0)\" d=\"M0,261.33333333333337v58.666666666666664\" style=\"stroke: rgb(235, 240, 248); stroke-opacity: 1; stroke-width: 1px;\"/></g><g class=\"y3\"/></g><g class=\"zerolinelayer\"><path class=\"x3zl zl crisp\" transform=\"translate(119.2,0)\" d=\"M0,261.33333333333337v58.666666666666664\" style=\"stroke: rgb(235, 240, 248); stroke-opacity: 1; stroke-width: 2px;\"/></g><path class=\"xlines-below\"/><path class=\"ylines-below\"/><g class=\"overlines-below\"/><g class=\"xaxislayer-below\"/><g class=\"yaxislayer-below\"/><g class=\"overaxes-below\"/><g class=\"plot\" transform=\"translate(87,261.33333333333337)\" clip-path=\"url(#clipd21c01x3y3plot)\"><g class=\"boxlayer mlayer\"><g class=\"trace boxes\" style=\"opacity: 1;\"><path class=\"box\" d=\"M198.47,43.71V14.96M102.5,43.71V14.96H435.47V43.71ZM102.5,29.33H44.15M435.47,29.33H838.85M44.15,36.52V22.15M838.85,36.52V22.15\" style=\"vector-effect: non-scaling-stroke; stroke-width: 1px; stroke: rgb(135, 206, 235); stroke-opacity: 1; fill: rgb(135, 206, 235); fill-opacity: 0.5;\"/><g class=\"points\"/></g></g></g><g class=\"overplot\"/><path class=\"xlines-above crisp\" d=\"M0,0\" style=\"fill: none;\"/><path class=\"ylines-above crisp\" d=\"M0,0\" style=\"fill: none;\"/><g class=\"overlines-above\"/><g class=\"xaxislayer-above\"><g class=\"x3tick\"><text text-anchor=\"middle\" x=\"0\" y=\"333.00000000000006\" transform=\"translate(119.2,0)\" style=\"font-family: 'Open Sans', verdana, arial, sans-serif; font-size: 12px; fill: rgb(42, 63, 95); fill-opacity: 1; white-space: pre; opacity: 1;\">0</text></g><g class=\"x3tick\"><text text-anchor=\"middle\" x=\"0\" y=\"333.00000000000006\" style=\"font-family: 'Open Sans', verdana, arial, sans-serif; font-size: 12px; fill: rgb(42, 63, 95); fill-opacity: 1; white-space: pre; opacity: 1;\" transform=\"translate(243.52,0)\">0.5B</text></g><g class=\"x3tick\"><text text-anchor=\"middle\" x=\"0\" y=\"333.00000000000006\" style=\"font-family: 'Open Sans', verdana, arial, sans-serif; font-size: 12px; fill: rgb(42, 63, 95); fill-opacity: 1; white-space: pre; opacity: 1;\" transform=\"translate(367.84,0)\">1B</text></g><g class=\"x3tick\"><text text-anchor=\"middle\" x=\"0\" y=\"333.00000000000006\" style=\"font-family: 'Open Sans', verdana, arial, sans-serif; font-size: 12px; fill: rgb(42, 63, 95); fill-opacity: 1; white-space: pre; opacity: 1;\" transform=\"translate(492.16,0)\">1.5B</text></g><g class=\"x3tick\"><text text-anchor=\"middle\" x=\"0\" y=\"333.00000000000006\" style=\"font-family: 'Open Sans', verdana, arial, sans-serif; font-size: 12px; fill: rgb(42, 63, 95); fill-opacity: 1; white-space: pre; opacity: 1;\" transform=\"translate(616.48,0)\">2B</text></g><g class=\"x3tick\"><text text-anchor=\"middle\" x=\"0\" y=\"333.00000000000006\" style=\"font-family: 'Open Sans', verdana, arial, sans-serif; font-size: 12px; fill: rgb(42, 63, 95); fill-opacity: 1; white-space: pre; opacity: 1;\" transform=\"translate(740.79,0)\">2.5B</text></g><g class=\"x3tick\"><text text-anchor=\"middle\" x=\"0\" y=\"333.00000000000006\" style=\"font-family: 'Open Sans', verdana, arial, sans-serif; font-size: 12px; fill: rgb(42, 63, 95); fill-opacity: 1; white-space: pre; opacity: 1;\" transform=\"translate(865.11,0)\">3B</text></g></g><g class=\"yaxislayer-above\"><g class=\"y3tick\"><text text-anchor=\"end\" x=\"86\" y=\"4.199999999999999\" transform=\"translate(0,290.66333333333336)\" style=\"font-family: 'Open Sans', verdana, arial, sans-serif; font-size: 12px; fill: rgb(42, 63, 95); fill-opacity: 1; white-space: pre; opacity: 1;\">INDIA Sates</text></g></g><g class=\"overaxes-above\"/></g></g><g class=\"polarlayer\"/><g class=\"smithlayer\"/><g class=\"ternarylayer\"/><g class=\"geolayer\"/><g class=\"funnelarealayer\"/><g class=\"pielayer\"/><g class=\"iciclelayer\"/><g class=\"treemaplayer\"/><g class=\"sunburstlayer\"/><g class=\"glimages\"/><defs id=\"topdefs-d21c01\"><g class=\"clips\"/></defs><g class=\"layer-above\"><g class=\"imagelayer\"/><g class=\"shapelayer\"/></g><g class=\"infolayer\"><g class=\"g-gtitle\"><text class=\"gtitle\" x=\"52.5\" y=\"50\" text-anchor=\"start\" dy=\"0em\" style=\"font-family: 'Open Sans', verdana, arial, sans-serif; font-size: 17px; fill: rgb(42, 63, 95); opacity: 1; font-weight: normal; white-space: pre;\">Comparison of Ad Expenditure Entire India and MainAlliances</text></g><g class=\"g-xtitle\"/><g class=\"g-x2title\"/><g class=\"g-x3title\"/><g class=\"g-ytitle\"/><g class=\"g-y2title\"/><g class=\"g-y3title\"/></g></svg>"
      ]
     },
     "metadata": {},
     "output_type": "display_data"
    }
   ],
   "source": [
    "# Create subplots: one row with two columns\n",
    "fig = make_subplots(rows=3, cols=1)\n",
    "\n",
    "# Add box plot forentire India\n",
    "fig.add_trace(go.Box(\n",
    "    x=merged_data['Amount spent (INR)'],\n",
    "    marker_color='green',\n",
    "    line_width=1,\n",
    "    name='Entire India'\n",
    "), row=1, col=1)\n",
    "\n",
    "# Add box plot for NDA Alliance\n",
    "fig.add_trace(go.Box(\n",
    "    x=NDA_State_Spent_by_all_parties['Amount spent (INR)'],\n",
    "    marker_color='darkorange',\n",
    "    line_width=1,\n",
    "    name='NDA States'\n",
    "), row=2, col=1)\n",
    "\n",
    "# Add box plot for India Alliance\n",
    "fig.add_trace(go.Box(\n",
    "    x=INDIA_State_Spent_by_all_parties['Amount spent (INR)'],\n",
    "    marker_color='skyblue',\n",
    "    line_width=1,\n",
    "    name='INDIA Sates'\n",
    "), row=3, col=1)\n",
    "\n",
    "# Update layout for the entire figure\n",
    "fig.update_layout(\n",
    "    title='Comparison of Ad Expenditure Entire India and MainAlliances',\n",
    "    width=1050,  # Adjust figure width\n",
    "    height=400,  # Adjust figure height\n",
    "    showlegend=False  # No need for legend with single trace in each subplot\n",
    ")\n",
    "\n",
    "# Update subplot titles and spacing\n",
    "fig.update_annotations(font_size=16, font_family='Arial', xref=\"paper\", yref=\"paper\", showarrow=False)\n",
    "\n",
    "fig.show(\"svg\")"
   ]
  },
  {
   "cell_type": "markdown",
   "id": "30e9b9ad-66d0-44d0-91a9-02a08554aa31",
   "metadata": {},
   "source": [
    "The above graph summerize the net expenditure in terms of five-number summary is the \n",
    "1. **Minimum**\n",
    "2. **First quartile**\n",
    "3. **Median**\n",
    "4. **Third quartile**\n",
    "5. **Maximum**"
   ]
  },
  {
   "cell_type": "code",
   "execution_count": 41,
   "id": "4bb9580d-f751-4d37-b38b-c490282c3d4b",
   "metadata": {},
   "outputs": [],
   "source": [
    "net_india_ruling_spent = INDIA_State_Spent_by_all_parties['Amount spent (INR)'].sum()\n",
    "net_nda_ruling_spent = NDA_State_Spent_by_all_parties['Amount spent (INR)'].sum()\n",
    "merged_spent = merged_data['Amount spent (INR)'].sum()\n",
    "\n",
    "# Create a dictionary with the data\n",
    "data_india_Allaice_wise = {\n",
    "    'India': ['Entire India', 'N.D.A Allaince', 'I.N.D.I.A Alliance'],\n",
    "    'Net spent': [merged_spent, net_nda_ruling_spent,net_india_ruling_spent]\n",
    "}\n",
    "df = pd.DataFrame(data_india_Allaice_wise)"
   ]
  },
  {
   "cell_type": "code",
   "execution_count": 55,
   "id": "032b2677-28bc-464e-8d0e-8e64c025fb38",
   "metadata": {},
   "outputs": [
    {
     "data": {
      "image/svg+xml": [
       "<svg class=\"main-svg\" xmlns=\"http://www.w3.org/2000/svg\" xmlns:xlink=\"http://www.w3.org/1999/xlink\" width=\"800\" height=\"600\" style=\"\" viewBox=\"0 0 800 600\"><rect x=\"0\" y=\"0\" width=\"800\" height=\"600\" style=\"fill: rgb(255, 255, 255); fill-opacity: 1;\"/><defs id=\"defs-5d1be7\"><g class=\"clips\"><clipPath id=\"clip5d1be7xyplot\" class=\"plotclip\"><rect width=\"640\" height=\"420\"/></clipPath><clipPath class=\"axesclip\" id=\"clip5d1be7x\"><rect x=\"80\" y=\"0\" width=\"640\" height=\"600\"/></clipPath><clipPath class=\"axesclip\" id=\"clip5d1be7y\"><rect x=\"0\" y=\"100\" width=\"800\" height=\"420\"/></clipPath><clipPath class=\"axesclip\" id=\"clip5d1be7xy\"><rect x=\"80\" y=\"100\" width=\"640\" height=\"420\"/></clipPath></g><g class=\"gradients\"/><g class=\"patterns\"/></defs><g class=\"bglayer\"/><g class=\"layer-below\"><g class=\"imagelayer\"/><g class=\"shapelayer\"/></g><g class=\"cartesianlayer\"><g class=\"subplot xy\"><g class=\"layer-subplot\"><g class=\"shapelayer\"/><g class=\"imagelayer\"/></g><g class=\"minor-gridlayer\"><g class=\"x\"/><g class=\"y\"/></g><g class=\"gridlayer\"><g class=\"x\"/><g class=\"y\"><path class=\"ygrid crisp\" transform=\"translate(0,462.45)\" d=\"M80,0h640\" style=\"stroke: rgb(235, 240, 248); stroke-opacity: 1; stroke-width: 1px;\"/><path class=\"ygrid crisp\" transform=\"translate(0,404.91)\" d=\"M80,0h640\" style=\"stroke: rgb(235, 240, 248); stroke-opacity: 1; stroke-width: 1px;\"/><path class=\"ygrid crisp\" transform=\"translate(0,347.36)\" d=\"M80,0h640\" style=\"stroke: rgb(235, 240, 248); stroke-opacity: 1; stroke-width: 1px;\"/><path class=\"ygrid crisp\" transform=\"translate(0,289.81)\" d=\"M80,0h640\" style=\"stroke: rgb(235, 240, 248); stroke-opacity: 1; stroke-width: 1px;\"/><path class=\"ygrid crisp\" transform=\"translate(0,232.26)\" d=\"M80,0h640\" style=\"stroke: rgb(235, 240, 248); stroke-opacity: 1; stroke-width: 1px;\"/><path class=\"ygrid crisp\" transform=\"translate(0,174.72)\" d=\"M80,0h640\" style=\"stroke: rgb(235, 240, 248); stroke-opacity: 1; stroke-width: 1px;\"/><path class=\"ygrid crisp\" transform=\"translate(0,117.17)\" d=\"M80,0h640\" style=\"stroke: rgb(235, 240, 248); stroke-opacity: 1; stroke-width: 1px;\"/></g></g><g class=\"zerolinelayer\"><path class=\"yzl zl crisp\" transform=\"translate(0,520)\" d=\"M80,0h640\" style=\"stroke: rgb(235, 240, 248); stroke-opacity: 1; stroke-width: 2px;\"/></g><path class=\"xlines-below\"/><path class=\"ylines-below\"/><g class=\"overlines-below\"/><g class=\"xaxislayer-below\"/><g class=\"yaxislayer-below\"/><g class=\"overaxes-below\"/><g class=\"plot\" transform=\"translate(80,100)\" clip-path=\"url(#clip5d1be7xyplot)\"><g class=\"barlayer mlayer\"><g class=\"trace bars\" style=\"opacity: 1;\"><g class=\"points\"><g class=\"point\"><path d=\"M21.33,420V21H192V420Z\" style=\"vector-effect: non-scaling-stroke; opacity: 1; stroke-width: 0.5px; fill: rgb(135, 206, 235); fill-opacity: 1; stroke: rgb(255, 255, 255); stroke-opacity: 1;\"/></g><g class=\"point\"><path d=\"M234.67,420V180.43H405.33V420Z\" style=\"vector-effect: non-scaling-stroke; opacity: 1; stroke-width: 0.5px; fill: rgb(135, 206, 235); fill-opacity: 1; stroke: rgb(255, 255, 255); stroke-opacity: 1;\"/></g><g class=\"point\"><path d=\"M448,420V304.61H618.67V420Z\" style=\"vector-effect: non-scaling-stroke; opacity: 1; stroke-width: 0.5px; fill: rgb(135, 206, 235); fill-opacity: 1; stroke: rgb(255, 255, 255); stroke-opacity: 1;\"/></g></g></g></g></g><g class=\"overplot\"/><path class=\"xlines-above crisp\" d=\"M0,0\" style=\"fill: none;\"/><path class=\"ylines-above crisp\" d=\"M0,0\" style=\"fill: none;\"/><g class=\"overlines-above\"/><g class=\"xaxislayer-above\"><g class=\"xtick\"><text text-anchor=\"middle\" x=\"0\" y=\"533\" transform=\"translate(186.67000000000002,0)\" style=\"font-family: 'Open Sans', verdana, arial, sans-serif; font-size: 12px; fill: rgb(42, 63, 95); fill-opacity: 1; white-space: pre; opacity: 1;\">Entire India</text></g><g class=\"xtick\"><text text-anchor=\"middle\" x=\"0\" y=\"533\" transform=\"translate(400,0)\" style=\"font-family: 'Open Sans', verdana, arial, sans-serif; font-size: 12px; fill: rgb(42, 63, 95); fill-opacity: 1; white-space: pre; opacity: 1;\">N.D.A Allaince</text></g><g class=\"xtick\"><text text-anchor=\"middle\" x=\"0\" y=\"533\" transform=\"translate(613.33,0)\" style=\"font-family: 'Open Sans', verdana, arial, sans-serif; font-size: 12px; fill: rgb(42, 63, 95); fill-opacity: 1; white-space: pre; opacity: 1;\">I.N.D.I.A Alliance</text></g></g><g class=\"yaxislayer-above\"><g class=\"ytick\"><text text-anchor=\"end\" x=\"79\" y=\"4.199999999999999\" transform=\"translate(0,520)\" style=\"font-family: 'Open Sans', verdana, arial, sans-serif; font-size: 12px; fill: rgb(42, 63, 95); fill-opacity: 1; white-space: pre; opacity: 1;\">0</text></g><g class=\"ytick\"><text text-anchor=\"end\" x=\"79\" y=\"4.199999999999999\" style=\"font-family: 'Open Sans', verdana, arial, sans-serif; font-size: 12px; fill: rgb(42, 63, 95); fill-opacity: 1; white-space: pre; opacity: 1;\" transform=\"translate(0,462.45)\">5B</text></g><g class=\"ytick\"><text text-anchor=\"end\" x=\"79\" y=\"4.199999999999999\" style=\"font-family: 'Open Sans', verdana, arial, sans-serif; font-size: 12px; fill: rgb(42, 63, 95); fill-opacity: 1; white-space: pre; opacity: 1;\" transform=\"translate(0,404.91)\">10B</text></g><g class=\"ytick\"><text text-anchor=\"end\" x=\"79\" y=\"4.199999999999999\" style=\"font-family: 'Open Sans', verdana, arial, sans-serif; font-size: 12px; fill: rgb(42, 63, 95); fill-opacity: 1; white-space: pre; opacity: 1;\" transform=\"translate(0,347.36)\">15B</text></g><g class=\"ytick\"><text text-anchor=\"end\" x=\"79\" y=\"4.199999999999999\" style=\"font-family: 'Open Sans', verdana, arial, sans-serif; font-size: 12px; fill: rgb(42, 63, 95); fill-opacity: 1; white-space: pre; opacity: 1;\" transform=\"translate(0,289.81)\">20B</text></g><g class=\"ytick\"><text text-anchor=\"end\" x=\"79\" y=\"4.199999999999999\" style=\"font-family: 'Open Sans', verdana, arial, sans-serif; font-size: 12px; fill: rgb(42, 63, 95); fill-opacity: 1; white-space: pre; opacity: 1;\" transform=\"translate(0,232.26)\">25B</text></g><g class=\"ytick\"><text text-anchor=\"end\" x=\"79\" y=\"4.199999999999999\" style=\"font-family: 'Open Sans', verdana, arial, sans-serif; font-size: 12px; fill: rgb(42, 63, 95); fill-opacity: 1; white-space: pre; opacity: 1;\" transform=\"translate(0,174.72)\">30B</text></g><g class=\"ytick\"><text text-anchor=\"end\" x=\"79\" y=\"4.199999999999999\" style=\"font-family: 'Open Sans', verdana, arial, sans-serif; font-size: 12px; fill: rgb(42, 63, 95); fill-opacity: 1; white-space: pre; opacity: 1;\" transform=\"translate(0,117.17)\">35B</text></g></g><g class=\"overaxes-above\"/></g></g><g class=\"polarlayer\"/><g class=\"smithlayer\"/><g class=\"ternarylayer\"/><g class=\"geolayer\"/><g class=\"funnelarealayer\"/><g class=\"pielayer\"/><g class=\"iciclelayer\"/><g class=\"treemaplayer\"/><g class=\"sunburstlayer\"/><g class=\"glimages\"/><defs id=\"topdefs-5d1be7\"><g class=\"clips\"/></defs><g class=\"layer-above\"><g class=\"imagelayer\"/><g class=\"shapelayer\"/></g><g class=\"infolayer\"><g class=\"g-gtitle\"><text class=\"gtitle\" x=\"40\" y=\"50\" text-anchor=\"start\" dy=\"0em\" style=\"font-family: 'Open Sans', verdana, arial, sans-serif; font-size: 17px; fill: rgb(42, 63, 95); opacity: 1; font-weight: normal; white-space: pre;\">Net Ad Spend</text></g><g class=\"g-xtitle\"><text class=\"xtitle\" x=\"400\" y=\"560.3\" text-anchor=\"middle\" style=\"font-family: 'Open Sans', verdana, arial, sans-serif; font-size: 14px; fill: rgb(42, 63, 95); opacity: 1; font-weight: normal; white-space: pre;\">India</text></g><g class=\"g-ytitle\"><text class=\"ytitle\" transform=\"rotate(-90,30.715625000000003,310)\" x=\"30.715625000000003\" y=\"310\" text-anchor=\"middle\" style=\"font-family: 'Open Sans', verdana, arial, sans-serif; font-size: 14px; fill: rgb(42, 63, 95); opacity: 1; font-weight: normal; white-space: pre;\">Amount spent (INR)</text></g></g></svg>"
      ]
     },
     "metadata": {},
     "output_type": "display_data"
    }
   ],
   "source": [
    "fig = go.Figure()\n",
    "\n",
    "fig.add_trace(go.Bar(\n",
    "    x=df['India'],\n",
    "    y=df['Net spent'],\n",
    "    marker=dict(color='skyblue')  # Customize the color of bars\n",
    "))\n",
    "\n",
    "# Update the layout\n",
    "fig.update_layout(\n",
    "    title='Net Ad Spend',\n",
    "    xaxis_title='India',\n",
    "    yaxis_title='Amount spent (INR)',\n",
    "    width=800,  # Adjust figure width\n",
    "    height=600  # Adjust figure height\n",
    ")\n",
    "\n",
    "# Show the plot\n",
    "fig.show(\"svg\")\n"
   ]
  },
  {
   "cell_type": "markdown",
   "id": "12636cf1-8570-4a3e-9948-814eb01a3d84",
   "metadata": {},
   "source": [
    "The above bar graph shows a comparison of net expenditure in entire **India and two main alliances ruling state** during the 2024 General Election.         \n",
    "1. **India - 34.66B (INR)**\n",
    "2. **NDA Alliance Ruling State - 20.18B (INR)**\n",
    "3. **INDIA Alliance Ruling State - 10.02B (INR)**\n"
   ]
  },
  {
   "cell_type": "markdown",
   "id": "4d42b096-911c-460f-89b6-15f74eba9a6d",
   "metadata": {},
   "source": [
    "# Checking the number of constituencies within specific net expenditure ranges."
   ]
  },
  {
   "cell_type": "code",
   "execution_count": 56,
   "id": "ffe44925-663b-4df1-ad57-7219675a1195",
   "metadata": {},
   "outputs": [
    {
     "data": {
      "image/svg+xml": [
       "<svg class=\"main-svg\" xmlns=\"http://www.w3.org/2000/svg\" xmlns:xlink=\"http://www.w3.org/1999/xlink\" width=\"1000\" height=\"600\" style=\"\" viewBox=\"0 0 1000 600\"><rect x=\"0\" y=\"0\" width=\"1000\" height=\"600\" style=\"fill: rgb(0, 0, 0); fill-opacity: 0;\"/><defs id=\"defs-6bd8cf\"><g class=\"clips\"><clipPath id=\"clip6bd8cfxyplot\" class=\"plotclip\"><rect width=\"883\" height=\"462\"/></clipPath><clipPath class=\"axesclip\" id=\"clip6bd8cfx\"><rect x=\"67\" y=\"0\" width=\"883\" height=\"600\"/></clipPath><clipPath class=\"axesclip\" id=\"clip6bd8cfy\"><rect x=\"0\" y=\"80\" width=\"1000\" height=\"462\"/></clipPath><clipPath class=\"axesclip\" id=\"clip6bd8cfxy\"><rect x=\"67\" y=\"80\" width=\"883\" height=\"462\"/></clipPath></g><g class=\"gradients\"/><g class=\"patterns\"/></defs><g class=\"bglayer\"><rect class=\"bg\" x=\"67\" y=\"80\" width=\"883\" height=\"462\" style=\"fill: rgb(0, 0, 0); fill-opacity: 0; stroke-width: 0;\"/></g><g class=\"layer-below\"><g class=\"imagelayer\"/><g class=\"shapelayer\"/></g><g class=\"cartesianlayer\"><g class=\"subplot xy\"><g class=\"layer-subplot\"><g class=\"shapelayer\"/><g class=\"imagelayer\"/></g><g class=\"minor-gridlayer\"><g class=\"x\"/><g class=\"y\"/></g><g class=\"gridlayer\"><g class=\"x\"/><g class=\"y\"><path class=\"ygrid crisp\" transform=\"translate(0,449.6)\" d=\"M67,0h883\" style=\"stroke: rgb(235, 240, 248); stroke-opacity: 1; stroke-width: 1px;\"/><path class=\"ygrid crisp\" transform=\"translate(0,357.2)\" d=\"M67,0h883\" style=\"stroke: rgb(235, 240, 248); stroke-opacity: 1; stroke-width: 1px;\"/><path class=\"ygrid crisp\" transform=\"translate(0,264.8)\" d=\"M67,0h883\" style=\"stroke: rgb(235, 240, 248); stroke-opacity: 1; stroke-width: 1px;\"/><path class=\"ygrid crisp\" transform=\"translate(0,172.4)\" d=\"M67,0h883\" style=\"stroke: rgb(235, 240, 248); stroke-opacity: 1; stroke-width: 1px;\"/></g></g><g class=\"zerolinelayer\"><path class=\"yzl zl crisp\" transform=\"translate(0,542)\" d=\"M67,0h883\" style=\"stroke: rgb(235, 240, 248); stroke-opacity: 1; stroke-width: 2px;\"/></g><path class=\"xlines-below\"/><path class=\"ylines-below\"/><g class=\"overlines-below\"/><g class=\"xaxislayer-below\"/><g class=\"yaxislayer-below\"/><g class=\"overaxes-below\"/><g class=\"plot\" transform=\"translate(67,80)\" clip-path=\"url(#clip6bd8cfxyplot)\"><g class=\"barlayer mlayer\"><g class=\"trace bars\" shape-rendering=\"crispEdges\" style=\"opacity: 0.75;\"><g class=\"points\"><g class=\"point\"><path d=\"M0,462V323.4H46.47V462Z\" style=\"vector-effect: non-scaling-stroke; opacity: 1; stroke-width: 0px; fill: rgb(0, 139, 139); fill-opacity: 1;\"/></g><g class=\"point\"><path d=\"M46.47,462V263.34H92.95V462Z\" style=\"vector-effect: non-scaling-stroke; opacity: 1; stroke-width: 0px; fill: rgb(0, 139, 139); fill-opacity: 1;\"/></g><g class=\"point\"><path d=\"M92.95,462V369.6H139.42V462Z\" style=\"vector-effect: non-scaling-stroke; opacity: 1; stroke-width: 0px; fill: rgb(0, 139, 139); fill-opacity: 1;\"/></g><g class=\"point\"><path d=\"M139.42,462V328.02H185.89V462Z\" style=\"vector-effect: non-scaling-stroke; opacity: 1; stroke-width: 0px; fill: rgb(0, 139, 139); fill-opacity: 1;\"/></g><g class=\"point\"><path d=\"M185.89,462V23.1H232.37V462Z\" style=\"vector-effect: non-scaling-stroke; opacity: 1; stroke-width: 0px; fill: rgb(0, 139, 139); fill-opacity: 1;\"/></g><g class=\"point\"><path d=\"M232.37,462V138.6H278.84V462Z\" style=\"vector-effect: non-scaling-stroke; opacity: 1; stroke-width: 0px; fill: rgb(0, 139, 139); fill-opacity: 1;\"/></g><g class=\"point\"><path d=\"M0,0Z\" style=\"vector-effect: non-scaling-stroke; opacity: 1; stroke-width: 0px; fill: rgb(0, 139, 139); fill-opacity: 1;\"/></g><g class=\"point\"><path d=\"M325.32,462V87.78H371.79V462Z\" style=\"vector-effect: non-scaling-stroke; opacity: 1; stroke-width: 0px; fill: rgb(0, 139, 139); fill-opacity: 1;\"/></g><g class=\"point\"><path d=\"M371.79,462V92.4H418.26V462Z\" style=\"vector-effect: non-scaling-stroke; opacity: 1; stroke-width: 0px; fill: rgb(0, 139, 139); fill-opacity: 1;\"/></g><g class=\"point\"><path d=\"M0,0Z\" style=\"vector-effect: non-scaling-stroke; opacity: 1; stroke-width: 0px; fill: rgb(0, 139, 139); fill-opacity: 1;\"/></g><g class=\"point\"><path d=\"M464.74,462V124.74H511.21V462Z\" style=\"vector-effect: non-scaling-stroke; opacity: 1; stroke-width: 0px; fill: rgb(0, 139, 139); fill-opacity: 1;\"/></g><g class=\"point\"><path d=\"M0,0Z\" style=\"vector-effect: non-scaling-stroke; opacity: 1; stroke-width: 0px; fill: rgb(0, 139, 139); fill-opacity: 1;\"/></g><g class=\"point\"><path d=\"M0,0Z\" style=\"vector-effect: non-scaling-stroke; opacity: 1; stroke-width: 0px; fill: rgb(0, 139, 139); fill-opacity: 1;\"/></g><g class=\"point\"><path d=\"M0,0Z\" style=\"vector-effect: non-scaling-stroke; opacity: 1; stroke-width: 0px; fill: rgb(0, 139, 139); fill-opacity: 1;\"/></g><g class=\"point\"><path d=\"M0,0Z\" style=\"vector-effect: non-scaling-stroke; opacity: 1; stroke-width: 0px; fill: rgb(0, 139, 139); fill-opacity: 1;\"/></g><g class=\"point\"><path d=\"M0,0Z\" style=\"vector-effect: non-scaling-stroke; opacity: 1; stroke-width: 0px; fill: rgb(0, 139, 139); fill-opacity: 1;\"/></g><g class=\"point\"><path d=\"M0,0Z\" style=\"vector-effect: non-scaling-stroke; opacity: 1; stroke-width: 0px; fill: rgb(0, 139, 139); fill-opacity: 1;\"/></g><g class=\"point\"><path d=\"M0,0Z\" style=\"vector-effect: non-scaling-stroke; opacity: 1; stroke-width: 0px; fill: rgb(0, 139, 139); fill-opacity: 1;\"/></g><g class=\"point\"><path d=\"M836.53,462V364.98H883V462Z\" style=\"vector-effect: non-scaling-stroke; opacity: 1; stroke-width: 0px; fill: rgb(0, 139, 139); fill-opacity: 1;\"/></g></g></g></g></g><g class=\"overplot\"/><path class=\"xlines-above crisp\" d=\"M0,0\" style=\"fill: none;\"/><path class=\"ylines-above crisp\" d=\"M0,0\" style=\"fill: none;\"/><g class=\"overlines-above\"/><g class=\"xaxislayer-above\"><g class=\"xtick\"><text text-anchor=\"middle\" x=\"0\" y=\"557\" transform=\"translate(67,0)\" style=\"font-family: 'Open Sans', verdana, arial, sans-serif; font-size: 14px; fill: rgb(42, 63, 95); fill-opacity: 1; white-space: pre; opacity: 1;\">0</text></g><g class=\"xtick\"><text text-anchor=\"middle\" x=\"0\" y=\"557\" style=\"font-family: 'Open Sans', verdana, arial, sans-serif; font-size: 14px; fill: rgb(42, 63, 95); fill-opacity: 1; white-space: pre; opacity: 1;\" transform=\"translate(159.95,0)\">20M</text></g><g class=\"xtick\"><text text-anchor=\"middle\" x=\"0\" y=\"557\" style=\"font-family: 'Open Sans', verdana, arial, sans-serif; font-size: 14px; fill: rgb(42, 63, 95); fill-opacity: 1; white-space: pre; opacity: 1;\" transform=\"translate(252.89,0)\">40M</text></g><g class=\"xtick\"><text text-anchor=\"middle\" x=\"0\" y=\"557\" style=\"font-family: 'Open Sans', verdana, arial, sans-serif; font-size: 14px; fill: rgb(42, 63, 95); fill-opacity: 1; white-space: pre; opacity: 1;\" transform=\"translate(345.84,0)\">60M</text></g><g class=\"xtick\"><text text-anchor=\"middle\" x=\"0\" y=\"557\" style=\"font-family: 'Open Sans', verdana, arial, sans-serif; font-size: 14px; fill: rgb(42, 63, 95); fill-opacity: 1; white-space: pre; opacity: 1;\" transform=\"translate(438.79,0)\">80M</text></g><g class=\"xtick\"><text text-anchor=\"middle\" x=\"0\" y=\"557\" style=\"font-family: 'Open Sans', verdana, arial, sans-serif; font-size: 14px; fill: rgb(42, 63, 95); fill-opacity: 1; white-space: pre; opacity: 1;\" transform=\"translate(531.74,0)\">100M</text></g><g class=\"xtick\"><text text-anchor=\"middle\" x=\"0\" y=\"557\" style=\"font-family: 'Open Sans', verdana, arial, sans-serif; font-size: 14px; fill: rgb(42, 63, 95); fill-opacity: 1; white-space: pre; opacity: 1;\" transform=\"translate(624.68,0)\">120M</text></g><g class=\"xtick\"><text text-anchor=\"middle\" x=\"0\" y=\"557\" style=\"font-family: 'Open Sans', verdana, arial, sans-serif; font-size: 14px; fill: rgb(42, 63, 95); fill-opacity: 1; white-space: pre; opacity: 1;\" transform=\"translate(717.63,0)\">140M</text></g><g class=\"xtick\"><text text-anchor=\"middle\" x=\"0\" y=\"557\" style=\"font-family: 'Open Sans', verdana, arial, sans-serif; font-size: 14px; fill: rgb(42, 63, 95); fill-opacity: 1; white-space: pre; opacity: 1;\" transform=\"translate(810.58,0)\">160M</text></g><g class=\"xtick\"><text text-anchor=\"middle\" x=\"0\" y=\"557\" style=\"font-family: 'Open Sans', verdana, arial, sans-serif; font-size: 14px; fill: rgb(42, 63, 95); fill-opacity: 1; white-space: pre; opacity: 1;\" transform=\"translate(903.53,0)\">180M</text></g></g><g class=\"yaxislayer-above\"><g class=\"ytick\"><text text-anchor=\"end\" x=\"66\" y=\"4.8999999999999995\" transform=\"translate(0,542)\" style=\"font-family: 'Open Sans', verdana, arial, sans-serif; font-size: 14px; fill: rgb(42, 63, 95); fill-opacity: 1; white-space: pre; opacity: 1;\">0</text></g><g class=\"ytick\"><text text-anchor=\"end\" x=\"66\" y=\"4.8999999999999995\" style=\"font-family: 'Open Sans', verdana, arial, sans-serif; font-size: 14px; fill: rgb(42, 63, 95); fill-opacity: 1; white-space: pre; opacity: 1;\" transform=\"translate(0,449.6)\">20</text></g><g class=\"ytick\"><text text-anchor=\"end\" x=\"66\" y=\"4.8999999999999995\" style=\"font-family: 'Open Sans', verdana, arial, sans-serif; font-size: 14px; fill: rgb(42, 63, 95); fill-opacity: 1; white-space: pre; opacity: 1;\" transform=\"translate(0,357.2)\">40</text></g><g class=\"ytick\"><text text-anchor=\"end\" x=\"66\" y=\"4.8999999999999995\" style=\"font-family: 'Open Sans', verdana, arial, sans-serif; font-size: 14px; fill: rgb(42, 63, 95); fill-opacity: 1; white-space: pre; opacity: 1;\" transform=\"translate(0,264.8)\">60</text></g><g class=\"ytick\"><text text-anchor=\"end\" x=\"66\" y=\"4.8999999999999995\" style=\"font-family: 'Open Sans', verdana, arial, sans-serif; font-size: 14px; fill: rgb(42, 63, 95); fill-opacity: 1; white-space: pre; opacity: 1;\" transform=\"translate(0,172.4)\">80</text></g><g class=\"ytick\"><text text-anchor=\"end\" x=\"66\" y=\"4.8999999999999995\" style=\"font-family: 'Open Sans', verdana, arial, sans-serif; font-size: 14px; fill: rgb(42, 63, 95); fill-opacity: 1; white-space: pre; opacity: 1;\" transform=\"translate(0,80)\">100</text></g></g><g class=\"overaxes-above\"/></g></g><g class=\"polarlayer\"/><g class=\"smithlayer\"/><g class=\"ternarylayer\"/><g class=\"geolayer\"/><g class=\"funnelarealayer\"/><g class=\"pielayer\"/><g class=\"iciclelayer\"/><g class=\"treemaplayer\"/><g class=\"sunburstlayer\"/><g class=\"glimages\"/><defs id=\"topdefs-6bd8cf\"><g class=\"clips\"/></defs><g class=\"layer-above\"><g class=\"imagelayer\"/><g class=\"shapelayer\"/></g><g class=\"infolayer\"><g class=\"g-gtitle\"><text class=\"gtitle\" x=\"500\" y=\"40\" text-anchor=\"middle\" dy=\"0em\" style=\"font-family: 'Open Sans', verdana, arial, sans-serif; font-size: 24px; fill: rgb(42, 63, 95); opacity: 1; font-weight: normal; white-space: pre;\">Distribution of Ad Spend</text></g><g class=\"g-xtitle\"><text class=\"xtitle\" x=\"508.5\" y=\"587.6\" text-anchor=\"middle\" style=\"font-family: 'Open Sans', verdana, arial, sans-serif; font-size: 18px; fill: rgb(42, 63, 95); opacity: 1; font-weight: normal; white-space: pre;\">Ad Spend (INR)</text></g><g class=\"g-ytitle\" transform=\"translate(6.302734375,0)\"><text class=\"ytitle\" transform=\"rotate(-90,11.696874999999999,311)\" x=\"11.696874999999999\" y=\"311\" text-anchor=\"middle\" style=\"font-family: 'Open Sans', verdana, arial, sans-serif; font-size: 18px; fill: rgb(42, 63, 95); opacity: 1; font-weight: normal; white-space: pre;\">Frequency</text></g></g></svg>"
      ]
     },
     "metadata": {},
     "output_type": "display_data"
    }
   ],
   "source": [
    "# Create the histogram plot\n",
    "fig = go.Figure()\n",
    "\n",
    "# Add histogram trace\n",
    "fig.add_trace(go.Histogram(\n",
    "    x=merged_data['Amount spent (INR)'],\n",
    "    nbinsx=30,  # Number of bins\n",
    "    marker_color='darkcyan',\n",
    "    opacity=0.75,\n",
    "    name='Histogram',\n",
    "    hoverinfo='x+y'\n",
    "))\n",
    "\n",
    "# Update layout for better aesthetics\n",
    "fig.update_layout(\n",
    "    title=dict(\n",
    "        text='Distribution of Ad Spend',\n",
    "        font=dict(size=24),\n",
    "        x=0.5,\n",
    "        xanchor='center'\n",
    "    ),\n",
    "    xaxis=dict(\n",
    "        title='Ad Spend (INR)',\n",
    "        titlefont=dict(size=18),\n",
    "        tickfont=dict(size=14)\n",
    "    ),\n",
    "    yaxis=dict(\n",
    "        title='Frequency',\n",
    "        titlefont=dict(size=18),\n",
    "        tickfont=dict(size=14)\n",
    "    ),\n",
    "    width=1000,  # Adjust figure width\n",
    "    height=600,  # Adjust figure height\n",
    "    legend=dict(\n",
    "        font=dict(size=14),\n",
    "        x=1,\n",
    "        xanchor='right',\n",
    "        y=1,\n",
    "        yanchor='top'\n",
    "    ),\n",
    "    margin=dict(l=50, r=50, t=80, b=50),\n",
    "    plot_bgcolor='rgba(0,0,0,0)',  # Make background transparent\n",
    "    paper_bgcolor='rgba(0,0,0,0)',  # Make background transparent\n",
    ")\n",
    "\n",
    "# Show the plot\n",
    "fig.show(\"svg\")\n"
   ]
  },
  {
   "cell_type": "markdown",
   "id": "ef42f924-71cc-4c26-a94a-db8d66bab217",
   "metadata": {},
   "source": [
    "-------------------------------------------------------------------------------------------------------------------------------------------"
   ]
  },
  {
   "cell_type": "markdown",
   "id": "11c03352-9c31-4dcd-9fa9-5bf90cce1a7c",
   "metadata": {},
   "source": [
    "# Phase Wise Expenditure and voter turnout analysis"
   ]
  },
  {
   "cell_type": "code",
   "execution_count": 44,
   "id": "fdf3a558-31ad-4062-86ab-0312cc5a8e29",
   "metadata": {},
   "outputs": [],
   "source": [
    "phase_data = merged_data.groupby('Phase').agg({\n",
    "    'Amount spent (INR)': 'sum',\n",
    "    'Polled (%)': 'mean'\n",
    "}).reset_index()"
   ]
  },
  {
   "cell_type": "code",
   "execution_count": 57,
   "id": "d06a3def-5818-44bc-af1a-6bc3bd273505",
   "metadata": {},
   "outputs": [
    {
     "data": {
      "image/svg+xml": [
       "<svg class=\"main-svg\" xmlns=\"http://www.w3.org/2000/svg\" xmlns:xlink=\"http://www.w3.org/1999/xlink\" width=\"1000\" height=\"600\" style=\"\" viewBox=\"0 0 1000 600\"><rect x=\"0\" y=\"0\" width=\"1000\" height=\"600\" style=\"fill: rgb(0, 0, 0); fill-opacity: 0;\"/><defs id=\"defs-ab3e36\"><g class=\"clips\"><clipPath id=\"clipab3e36xyplot\" class=\"plotclip\"><rect width=\"840\" height=\"420\"/></clipPath><clipPath class=\"axesclip\" id=\"clipab3e36x\"><rect x=\"80\" y=\"0\" width=\"840\" height=\"600\"/></clipPath><clipPath class=\"axesclip\" id=\"clipab3e36y\"><rect x=\"0\" y=\"100\" width=\"1000\" height=\"420\"/></clipPath><clipPath class=\"axesclip\" id=\"clipab3e36xy\"><rect x=\"80\" y=\"100\" width=\"840\" height=\"420\"/></clipPath></g><g class=\"gradients\"/><g class=\"patterns\"/></defs><g class=\"bglayer\"><rect class=\"bg\" x=\"80\" y=\"100\" width=\"840\" height=\"420\" style=\"fill: rgb(0, 0, 0); fill-opacity: 0; stroke-width: 0;\"/></g><g class=\"layer-below\"><g class=\"imagelayer\"/><g class=\"shapelayer\"/></g><g class=\"cartesianlayer\"><g class=\"subplot xy\"><g class=\"layer-subplot\"><g class=\"shapelayer\"/><g class=\"imagelayer\"/></g><g class=\"minor-gridlayer\"><g class=\"x\"/><g class=\"y\"/></g><g class=\"gridlayer\"><g class=\"x\"/><g class=\"y\"><path class=\"ygrid crisp\" transform=\"translate(0,468.4)\" d=\"M80,0h840\" style=\"stroke: rgb(235, 240, 248); stroke-opacity: 1; stroke-width: 1px;\"/><path class=\"ygrid crisp\" transform=\"translate(0,416.8)\" d=\"M80,0h840\" style=\"stroke: rgb(235, 240, 248); stroke-opacity: 1; stroke-width: 1px;\"/><path class=\"ygrid crisp\" transform=\"translate(0,365.2)\" d=\"M80,0h840\" style=\"stroke: rgb(235, 240, 248); stroke-opacity: 1; stroke-width: 1px;\"/><path class=\"ygrid crisp\" transform=\"translate(0,313.61)\" d=\"M80,0h840\" style=\"stroke: rgb(235, 240, 248); stroke-opacity: 1; stroke-width: 1px;\"/><path class=\"ygrid crisp\" transform=\"translate(0,262.01)\" d=\"M80,0h840\" style=\"stroke: rgb(235, 240, 248); stroke-opacity: 1; stroke-width: 1px;\"/><path class=\"ygrid crisp\" transform=\"translate(0,210.41)\" d=\"M80,0h840\" style=\"stroke: rgb(235, 240, 248); stroke-opacity: 1; stroke-width: 1px;\"/><path class=\"ygrid crisp\" transform=\"translate(0,158.81)\" d=\"M80,0h840\" style=\"stroke: rgb(235, 240, 248); stroke-opacity: 1; stroke-width: 1px;\"/><path class=\"ygrid crisp\" transform=\"translate(0,107.21)\" d=\"M80,0h840\" style=\"stroke: rgb(235, 240, 248); stroke-opacity: 1; stroke-width: 1px;\"/></g></g><g class=\"zerolinelayer\"><path class=\"yzl zl crisp\" transform=\"translate(0,520)\" d=\"M80,0h840\" style=\"stroke: rgb(235, 240, 248); stroke-opacity: 1; stroke-width: 2px;\"/></g><path class=\"xlines-below\"/><path class=\"ylines-below\"/><g class=\"overlines-below\"/><g class=\"xaxislayer-below\"/><g class=\"yaxislayer-below\"/><g class=\"overaxes-below\"/><g class=\"plot\" transform=\"translate(80,100)\" clip-path=\"url(#clipab3e36xyplot)\"><g class=\"barlayer mlayer\"><g class=\"trace bars\" style=\"opacity: 1;\"><g class=\"points\"><g class=\"point\"><path d=\"M12,420V133.29H108V420Z\" style=\"vector-effect: non-scaling-stroke; opacity: 1; stroke-width: 0.5px; fill: rgb(254, 165, 70); fill-opacity: 1; stroke: rgb(255, 255, 255); stroke-opacity: 1;\"/></g><g class=\"point\"><path d=\"M132,420V214.28H228V420Z\" style=\"vector-effect: non-scaling-stroke; opacity: 1; stroke-width: 0.5px; fill: rgb(255, 255, 204); fill-opacity: 1; stroke: rgb(255, 255, 255); stroke-opacity: 1;\"/></g><g class=\"point\"><path d=\"M252,420V176.06H348V420Z\" style=\"vector-effect: non-scaling-stroke; opacity: 1; stroke-width: 0.5px; fill: rgb(254, 225, 136); fill-opacity: 1; stroke: rgb(255, 255, 255); stroke-opacity: 1;\"/></g><g class=\"point\"><path d=\"M372,420V21H468V420Z\" style=\"vector-effect: non-scaling-stroke; opacity: 1; stroke-width: 0.5px; fill: rgb(128, 0, 38); fill-opacity: 1; stroke: rgb(255, 255, 255); stroke-opacity: 1;\"/></g><g class=\"point\"><path d=\"M492,420V195.75H588V420Z\" style=\"vector-effect: non-scaling-stroke; opacity: 1; stroke-width: 0.5px; fill: rgb(255, 241, 170); fill-opacity: 1; stroke: rgb(255, 255, 255); stroke-opacity: 1;\"/></g><g class=\"point\"><path d=\"M612,420V204.67H708V420Z\" style=\"vector-effect: non-scaling-stroke; opacity: 1; stroke-width: 0.5px; fill: rgb(255, 248, 186); fill-opacity: 1; stroke: rgb(255, 255, 255); stroke-opacity: 1;\"/></g><g class=\"point\"><path d=\"M732,420V206.19H828V420Z\" style=\"vector-effect: non-scaling-stroke; opacity: 1; stroke-width: 0.5px; fill: rgb(255, 249, 189); fill-opacity: 1; stroke: rgb(255, 255, 255); stroke-opacity: 1;\"/></g></g></g></g></g><g class=\"overplot\"/><path class=\"xlines-above crisp\" d=\"M0,0\" style=\"fill: none;\"/><path class=\"ylines-above crisp\" d=\"M0,0\" style=\"fill: none;\"/><g class=\"overlines-above\"/><g class=\"xaxislayer-above\"><g class=\"xtick\"><text text-anchor=\"middle\" x=\"0\" y=\"535\" transform=\"translate(140,0)\" style=\"font-family: 'Open Sans', verdana, arial, sans-serif; font-size: 14px; fill: rgb(42, 63, 95); fill-opacity: 1; white-space: pre; opacity: 1;\">1</text></g><g class=\"xtick\"><text text-anchor=\"middle\" x=\"0\" y=\"535\" style=\"font-family: 'Open Sans', verdana, arial, sans-serif; font-size: 14px; fill: rgb(42, 63, 95); fill-opacity: 1; white-space: pre; opacity: 1;\" transform=\"translate(260,0)\">2</text></g><g class=\"xtick\"><text text-anchor=\"middle\" x=\"0\" y=\"535\" style=\"font-family: 'Open Sans', verdana, arial, sans-serif; font-size: 14px; fill: rgb(42, 63, 95); fill-opacity: 1; white-space: pre; opacity: 1;\" transform=\"translate(380,0)\">3</text></g><g class=\"xtick\"><text text-anchor=\"middle\" x=\"0\" y=\"535\" style=\"font-family: 'Open Sans', verdana, arial, sans-serif; font-size: 14px; fill: rgb(42, 63, 95); fill-opacity: 1; white-space: pre; opacity: 1;\" transform=\"translate(500,0)\">4</text></g><g class=\"xtick\"><text text-anchor=\"middle\" x=\"0\" y=\"535\" style=\"font-family: 'Open Sans', verdana, arial, sans-serif; font-size: 14px; fill: rgb(42, 63, 95); fill-opacity: 1; white-space: pre; opacity: 1;\" transform=\"translate(620,0)\">5</text></g><g class=\"xtick\"><text text-anchor=\"middle\" x=\"0\" y=\"535\" style=\"font-family: 'Open Sans', verdana, arial, sans-serif; font-size: 14px; fill: rgb(42, 63, 95); fill-opacity: 1; white-space: pre; opacity: 1;\" transform=\"translate(740,0)\">6</text></g><g class=\"xtick\"><text text-anchor=\"middle\" x=\"0\" y=\"535\" style=\"font-family: 'Open Sans', verdana, arial, sans-serif; font-size: 14px; fill: rgb(42, 63, 95); fill-opacity: 1; white-space: pre; opacity: 1;\" transform=\"translate(860,0)\">7</text></g></g><g class=\"yaxislayer-above\"><g class=\"ytick\"><text text-anchor=\"end\" x=\"79\" y=\"4.8999999999999995\" transform=\"translate(0,520)\" style=\"font-family: 'Open Sans', verdana, arial, sans-serif; font-size: 14px; fill: rgb(42, 63, 95); fill-opacity: 1; white-space: pre; opacity: 1;\">0</text></g><g class=\"ytick\"><text text-anchor=\"end\" x=\"79\" y=\"4.8999999999999995\" style=\"font-family: 'Open Sans', verdana, arial, sans-serif; font-size: 14px; fill: rgb(42, 63, 95); fill-opacity: 1; white-space: pre; opacity: 1;\" transform=\"translate(0,468.4)\">1B</text></g><g class=\"ytick\"><text text-anchor=\"end\" x=\"79\" y=\"4.8999999999999995\" style=\"font-family: 'Open Sans', verdana, arial, sans-serif; font-size: 14px; fill: rgb(42, 63, 95); fill-opacity: 1; white-space: pre; opacity: 1;\" transform=\"translate(0,416.8)\">2B</text></g><g class=\"ytick\"><text text-anchor=\"end\" x=\"79\" y=\"4.8999999999999995\" style=\"font-family: 'Open Sans', verdana, arial, sans-serif; font-size: 14px; fill: rgb(42, 63, 95); fill-opacity: 1; white-space: pre; opacity: 1;\" transform=\"translate(0,365.2)\">3B</text></g><g class=\"ytick\"><text text-anchor=\"end\" x=\"79\" y=\"4.8999999999999995\" style=\"font-family: 'Open Sans', verdana, arial, sans-serif; font-size: 14px; fill: rgb(42, 63, 95); fill-opacity: 1; white-space: pre; opacity: 1;\" transform=\"translate(0,313.61)\">4B</text></g><g class=\"ytick\"><text text-anchor=\"end\" x=\"79\" y=\"4.8999999999999995\" style=\"font-family: 'Open Sans', verdana, arial, sans-serif; font-size: 14px; fill: rgb(42, 63, 95); fill-opacity: 1; white-space: pre; opacity: 1;\" transform=\"translate(0,262.01)\">5B</text></g><g class=\"ytick\"><text text-anchor=\"end\" x=\"79\" y=\"4.8999999999999995\" style=\"font-family: 'Open Sans', verdana, arial, sans-serif; font-size: 14px; fill: rgb(42, 63, 95); fill-opacity: 1; white-space: pre; opacity: 1;\" transform=\"translate(0,210.41)\">6B</text></g><g class=\"ytick\"><text text-anchor=\"end\" x=\"79\" y=\"4.8999999999999995\" style=\"font-family: 'Open Sans', verdana, arial, sans-serif; font-size: 14px; fill: rgb(42, 63, 95); fill-opacity: 1; white-space: pre; opacity: 1;\" transform=\"translate(0,158.81)\">7B</text></g><g class=\"ytick\"><text text-anchor=\"end\" x=\"79\" y=\"4.8999999999999995\" style=\"font-family: 'Open Sans', verdana, arial, sans-serif; font-size: 14px; fill: rgb(42, 63, 95); fill-opacity: 1; white-space: pre; opacity: 1;\" transform=\"translate(0,107.21)\">8B</text></g></g><g class=\"overaxes-above\"/></g></g><g class=\"polarlayer\"/><g class=\"smithlayer\"/><g class=\"ternarylayer\"/><g class=\"geolayer\"/><g class=\"funnelarealayer\"/><g class=\"pielayer\"/><g class=\"iciclelayer\"/><g class=\"treemaplayer\"/><g class=\"sunburstlayer\"/><g class=\"glimages\"/><defs id=\"topdefs-ab3e36\"><g class=\"clips\"/></defs><g class=\"layer-above\"><g class=\"imagelayer\"/><g class=\"shapelayer\"/></g><g class=\"infolayer\"><g class=\"g-gtitle\"><text class=\"gtitle\" x=\"500\" y=\"50\" text-anchor=\"middle\" dy=\"0em\" style=\"font-family: 'Open Sans', verdana, arial, sans-serif; font-size: 24px; fill: rgb(42, 63, 95); opacity: 1; font-weight: normal; white-space: pre;\">Ad Spend by Election Phase</text></g><g class=\"g-xtitle\"><text class=\"xtitle\" x=\"500\" y=\"565.6\" text-anchor=\"middle\" style=\"font-family: 'Open Sans', verdana, arial, sans-serif; font-size: 18px; fill: rgb(42, 63, 95); opacity: 1; font-weight: normal; white-space: pre;\">Election Phase</text></g><g class=\"g-ytitle\"><text class=\"ytitle\" transform=\"rotate(-90,32.9,310)\" x=\"32.9\" y=\"310\" text-anchor=\"middle\" style=\"font-family: 'Open Sans', verdana, arial, sans-serif; font-size: 18px; fill: rgb(42, 63, 95); opacity: 1; font-weight: normal; white-space: pre;\">Ad Spend (INR)</text></g></g></svg>"
      ]
     },
     "metadata": {},
     "output_type": "display_data"
    }
   ],
   "source": [
    "fig = px.bar(\n",
    "    phase_data,\n",
    "    x='Phase',\n",
    "    y='Amount spent (INR)',\n",
    "    title='Ad Spend by Election Phase',\n",
    "    labels={'Amount spent (INR)': 'Ad Spend (INR)', 'Phase': 'Election Phase'},\n",
    "    color='Amount spent (INR)',\n",
    "    color_continuous_scale='ylorrd'\n",
    ")\n",
    "\n",
    "# Customize the layout\n",
    "fig.update_layout(\n",
    "    title=dict(\n",
    "        text='Ad Spend by Election Phase',\n",
    "        font=dict(size=24),\n",
    "        x=0.5,\n",
    "        xanchor='center'\n",
    "    ),\n",
    "    xaxis=dict(\n",
    "        title='Election Phase',\n",
    "        titlefont=dict(size=18),\n",
    "        tickfont=dict(size=14)\n",
    "    ),\n",
    "    yaxis=dict(\n",
    "        title='Ad Spend (INR)',\n",
    "        titlefont=dict(size=18),\n",
    "        tickfont=dict(size=14)\n",
    "    ),\n",
    "    width=1000,  # Adjust figure width\n",
    "    height=600,  # Adjust figure height\n",
    "    plot_bgcolor='rgba(0,0,0,0)',  # Make background transparent\n",
    "    paper_bgcolor='rgba(0,0,0,0)',  # Make background transparent\n",
    "    coloraxis_showscale=False  # Hide color bar\n",
    ")\n",
    "\n",
    "# Show the plot\n",
    "fig.show(\"svg\")"
   ]
  },
  {
   "cell_type": "markdown",
   "id": "0cfd07f8-99fb-4ec7-926c-2cc378e0eeff",
   "metadata": {},
   "source": [
    "The above bar graph shows a comparison of net expenditure in India **among diffrent phases** of 2024 General Election.         \n",
    "1. **Phase 1 - 5.55B (INR)**\n",
    "2. **Phase 2 - 3.98B (INR)**\n",
    "3. **Phase 3 - 4.72B (INR)**\n",
    "4. **Phase 4 - 7.73B (INR)**\n",
    "5. **Phase 5 - 4.34B (INR)**\n",
    "6. **Phase 6 - 4.17B (INR)**\n",
    "7. **Phase 7 - 4.14B (INR)**"
   ]
  },
  {
   "cell_type": "code",
   "execution_count": 46,
   "id": "fe01a965-5e3e-4ec6-bfd4-ba7ec4546f1e",
   "metadata": {},
   "outputs": [
    {
     "data": {
      "application/vnd.plotly.v1+json": {
       "config": {
        "plotlyServerURL": "https://plot.ly"
       },
       "data": [
        {
         "line": {
          "color": "blue"
         },
         "marker": {
          "color": "blue",
          "size": 10,
          "symbol": "circle-dot"
         },
         "mode": "lines+markers",
         "name": "Voter Turnout (%)",
         "type": "scatter",
         "x": [
          1,
          2,
          3,
          4,
          5,
          6,
          7
         ],
         "y": [
          67.21254901960785,
          67.76727272727273,
          65.99602150537635,
          70.18552083333334,
          62.447916666666664,
          63.836724137931036,
          64.41140350877193
         ]
        }
       ],
       "layout": {
        "height": 600,
        "showlegend": true,
        "template": {
         "data": {
          "bar": [
           {
            "error_x": {
             "color": "#2a3f5f"
            },
            "error_y": {
             "color": "#2a3f5f"
            },
            "marker": {
             "line": {
              "color": "white",
              "width": 0.5
             },
             "pattern": {
              "fillmode": "overlay",
              "size": 10,
              "solidity": 0.2
             }
            },
            "type": "bar"
           }
          ],
          "barpolar": [
           {
            "marker": {
             "line": {
              "color": "white",
              "width": 0.5
             },
             "pattern": {
              "fillmode": "overlay",
              "size": 10,
              "solidity": 0.2
             }
            },
            "type": "barpolar"
           }
          ],
          "carpet": [
           {
            "aaxis": {
             "endlinecolor": "#2a3f5f",
             "gridcolor": "#C8D4E3",
             "linecolor": "#C8D4E3",
             "minorgridcolor": "#C8D4E3",
             "startlinecolor": "#2a3f5f"
            },
            "baxis": {
             "endlinecolor": "#2a3f5f",
             "gridcolor": "#C8D4E3",
             "linecolor": "#C8D4E3",
             "minorgridcolor": "#C8D4E3",
             "startlinecolor": "#2a3f5f"
            },
            "type": "carpet"
           }
          ],
          "choropleth": [
           {
            "colorbar": {
             "outlinewidth": 0,
             "ticks": ""
            },
            "type": "choropleth"
           }
          ],
          "contour": [
           {
            "colorbar": {
             "outlinewidth": 0,
             "ticks": ""
            },
            "colorscale": [
             [
              0,
              "#0d0887"
             ],
             [
              0.1111111111111111,
              "#46039f"
             ],
             [
              0.2222222222222222,
              "#7201a8"
             ],
             [
              0.3333333333333333,
              "#9c179e"
             ],
             [
              0.4444444444444444,
              "#bd3786"
             ],
             [
              0.5555555555555556,
              "#d8576b"
             ],
             [
              0.6666666666666666,
              "#ed7953"
             ],
             [
              0.7777777777777778,
              "#fb9f3a"
             ],
             [
              0.8888888888888888,
              "#fdca26"
             ],
             [
              1,
              "#f0f921"
             ]
            ],
            "type": "contour"
           }
          ],
          "contourcarpet": [
           {
            "colorbar": {
             "outlinewidth": 0,
             "ticks": ""
            },
            "type": "contourcarpet"
           }
          ],
          "heatmap": [
           {
            "colorbar": {
             "outlinewidth": 0,
             "ticks": ""
            },
            "colorscale": [
             [
              0,
              "#0d0887"
             ],
             [
              0.1111111111111111,
              "#46039f"
             ],
             [
              0.2222222222222222,
              "#7201a8"
             ],
             [
              0.3333333333333333,
              "#9c179e"
             ],
             [
              0.4444444444444444,
              "#bd3786"
             ],
             [
              0.5555555555555556,
              "#d8576b"
             ],
             [
              0.6666666666666666,
              "#ed7953"
             ],
             [
              0.7777777777777778,
              "#fb9f3a"
             ],
             [
              0.8888888888888888,
              "#fdca26"
             ],
             [
              1,
              "#f0f921"
             ]
            ],
            "type": "heatmap"
           }
          ],
          "heatmapgl": [
           {
            "colorbar": {
             "outlinewidth": 0,
             "ticks": ""
            },
            "colorscale": [
             [
              0,
              "#0d0887"
             ],
             [
              0.1111111111111111,
              "#46039f"
             ],
             [
              0.2222222222222222,
              "#7201a8"
             ],
             [
              0.3333333333333333,
              "#9c179e"
             ],
             [
              0.4444444444444444,
              "#bd3786"
             ],
             [
              0.5555555555555556,
              "#d8576b"
             ],
             [
              0.6666666666666666,
              "#ed7953"
             ],
             [
              0.7777777777777778,
              "#fb9f3a"
             ],
             [
              0.8888888888888888,
              "#fdca26"
             ],
             [
              1,
              "#f0f921"
             ]
            ],
            "type": "heatmapgl"
           }
          ],
          "histogram": [
           {
            "marker": {
             "pattern": {
              "fillmode": "overlay",
              "size": 10,
              "solidity": 0.2
             }
            },
            "type": "histogram"
           }
          ],
          "histogram2d": [
           {
            "colorbar": {
             "outlinewidth": 0,
             "ticks": ""
            },
            "colorscale": [
             [
              0,
              "#0d0887"
             ],
             [
              0.1111111111111111,
              "#46039f"
             ],
             [
              0.2222222222222222,
              "#7201a8"
             ],
             [
              0.3333333333333333,
              "#9c179e"
             ],
             [
              0.4444444444444444,
              "#bd3786"
             ],
             [
              0.5555555555555556,
              "#d8576b"
             ],
             [
              0.6666666666666666,
              "#ed7953"
             ],
             [
              0.7777777777777778,
              "#fb9f3a"
             ],
             [
              0.8888888888888888,
              "#fdca26"
             ],
             [
              1,
              "#f0f921"
             ]
            ],
            "type": "histogram2d"
           }
          ],
          "histogram2dcontour": [
           {
            "colorbar": {
             "outlinewidth": 0,
             "ticks": ""
            },
            "colorscale": [
             [
              0,
              "#0d0887"
             ],
             [
              0.1111111111111111,
              "#46039f"
             ],
             [
              0.2222222222222222,
              "#7201a8"
             ],
             [
              0.3333333333333333,
              "#9c179e"
             ],
             [
              0.4444444444444444,
              "#bd3786"
             ],
             [
              0.5555555555555556,
              "#d8576b"
             ],
             [
              0.6666666666666666,
              "#ed7953"
             ],
             [
              0.7777777777777778,
              "#fb9f3a"
             ],
             [
              0.8888888888888888,
              "#fdca26"
             ],
             [
              1,
              "#f0f921"
             ]
            ],
            "type": "histogram2dcontour"
           }
          ],
          "mesh3d": [
           {
            "colorbar": {
             "outlinewidth": 0,
             "ticks": ""
            },
            "type": "mesh3d"
           }
          ],
          "parcoords": [
           {
            "line": {
             "colorbar": {
              "outlinewidth": 0,
              "ticks": ""
             }
            },
            "type": "parcoords"
           }
          ],
          "pie": [
           {
            "automargin": true,
            "type": "pie"
           }
          ],
          "scatter": [
           {
            "fillpattern": {
             "fillmode": "overlay",
             "size": 10,
             "solidity": 0.2
            },
            "type": "scatter"
           }
          ],
          "scatter3d": [
           {
            "line": {
             "colorbar": {
              "outlinewidth": 0,
              "ticks": ""
             }
            },
            "marker": {
             "colorbar": {
              "outlinewidth": 0,
              "ticks": ""
             }
            },
            "type": "scatter3d"
           }
          ],
          "scattercarpet": [
           {
            "marker": {
             "colorbar": {
              "outlinewidth": 0,
              "ticks": ""
             }
            },
            "type": "scattercarpet"
           }
          ],
          "scattergeo": [
           {
            "marker": {
             "colorbar": {
              "outlinewidth": 0,
              "ticks": ""
             }
            },
            "type": "scattergeo"
           }
          ],
          "scattergl": [
           {
            "marker": {
             "colorbar": {
              "outlinewidth": 0,
              "ticks": ""
             }
            },
            "type": "scattergl"
           }
          ],
          "scattermapbox": [
           {
            "marker": {
             "colorbar": {
              "outlinewidth": 0,
              "ticks": ""
             }
            },
            "type": "scattermapbox"
           }
          ],
          "scatterpolar": [
           {
            "marker": {
             "colorbar": {
              "outlinewidth": 0,
              "ticks": ""
             }
            },
            "type": "scatterpolar"
           }
          ],
          "scatterpolargl": [
           {
            "marker": {
             "colorbar": {
              "outlinewidth": 0,
              "ticks": ""
             }
            },
            "type": "scatterpolargl"
           }
          ],
          "scatterternary": [
           {
            "marker": {
             "colorbar": {
              "outlinewidth": 0,
              "ticks": ""
             }
            },
            "type": "scatterternary"
           }
          ],
          "surface": [
           {
            "colorbar": {
             "outlinewidth": 0,
             "ticks": ""
            },
            "colorscale": [
             [
              0,
              "#0d0887"
             ],
             [
              0.1111111111111111,
              "#46039f"
             ],
             [
              0.2222222222222222,
              "#7201a8"
             ],
             [
              0.3333333333333333,
              "#9c179e"
             ],
             [
              0.4444444444444444,
              "#bd3786"
             ],
             [
              0.5555555555555556,
              "#d8576b"
             ],
             [
              0.6666666666666666,
              "#ed7953"
             ],
             [
              0.7777777777777778,
              "#fb9f3a"
             ],
             [
              0.8888888888888888,
              "#fdca26"
             ],
             [
              1,
              "#f0f921"
             ]
            ],
            "type": "surface"
           }
          ],
          "table": [
           {
            "cells": {
             "fill": {
              "color": "#EBF0F8"
             },
             "line": {
              "color": "white"
             }
            },
            "header": {
             "fill": {
              "color": "#C8D4E3"
             },
             "line": {
              "color": "white"
             }
            },
            "type": "table"
           }
          ]
         },
         "layout": {
          "annotationdefaults": {
           "arrowcolor": "#2a3f5f",
           "arrowhead": 0,
           "arrowwidth": 1
          },
          "autotypenumbers": "strict",
          "coloraxis": {
           "colorbar": {
            "outlinewidth": 0,
            "ticks": ""
           }
          },
          "colorscale": {
           "diverging": [
            [
             0,
             "#8e0152"
            ],
            [
             0.1,
             "#c51b7d"
            ],
            [
             0.2,
             "#de77ae"
            ],
            [
             0.3,
             "#f1b6da"
            ],
            [
             0.4,
             "#fde0ef"
            ],
            [
             0.5,
             "#f7f7f7"
            ],
            [
             0.6,
             "#e6f5d0"
            ],
            [
             0.7,
             "#b8e186"
            ],
            [
             0.8,
             "#7fbc41"
            ],
            [
             0.9,
             "#4d9221"
            ],
            [
             1,
             "#276419"
            ]
           ],
           "sequential": [
            [
             0,
             "#0d0887"
            ],
            [
             0.1111111111111111,
             "#46039f"
            ],
            [
             0.2222222222222222,
             "#7201a8"
            ],
            [
             0.3333333333333333,
             "#9c179e"
            ],
            [
             0.4444444444444444,
             "#bd3786"
            ],
            [
             0.5555555555555556,
             "#d8576b"
            ],
            [
             0.6666666666666666,
             "#ed7953"
            ],
            [
             0.7777777777777778,
             "#fb9f3a"
            ],
            [
             0.8888888888888888,
             "#fdca26"
            ],
            [
             1,
             "#f0f921"
            ]
           ],
           "sequentialminus": [
            [
             0,
             "#0d0887"
            ],
            [
             0.1111111111111111,
             "#46039f"
            ],
            [
             0.2222222222222222,
             "#7201a8"
            ],
            [
             0.3333333333333333,
             "#9c179e"
            ],
            [
             0.4444444444444444,
             "#bd3786"
            ],
            [
             0.5555555555555556,
             "#d8576b"
            ],
            [
             0.6666666666666666,
             "#ed7953"
            ],
            [
             0.7777777777777778,
             "#fb9f3a"
            ],
            [
             0.8888888888888888,
             "#fdca26"
            ],
            [
             1,
             "#f0f921"
            ]
           ]
          },
          "colorway": [
           "#636efa",
           "#EF553B",
           "#00cc96",
           "#ab63fa",
           "#FFA15A",
           "#19d3f3",
           "#FF6692",
           "#B6E880",
           "#FF97FF",
           "#FECB52"
          ],
          "font": {
           "color": "#2a3f5f"
          },
          "geo": {
           "bgcolor": "white",
           "lakecolor": "white",
           "landcolor": "white",
           "showlakes": true,
           "showland": true,
           "subunitcolor": "#C8D4E3"
          },
          "hoverlabel": {
           "align": "left"
          },
          "hovermode": "closest",
          "mapbox": {
           "style": "light"
          },
          "paper_bgcolor": "white",
          "plot_bgcolor": "white",
          "polar": {
           "angularaxis": {
            "gridcolor": "#EBF0F8",
            "linecolor": "#EBF0F8",
            "ticks": ""
           },
           "bgcolor": "white",
           "radialaxis": {
            "gridcolor": "#EBF0F8",
            "linecolor": "#EBF0F8",
            "ticks": ""
           }
          },
          "scene": {
           "xaxis": {
            "backgroundcolor": "white",
            "gridcolor": "#DFE8F3",
            "gridwidth": 2,
            "linecolor": "#EBF0F8",
            "showbackground": true,
            "ticks": "",
            "zerolinecolor": "#EBF0F8"
           },
           "yaxis": {
            "backgroundcolor": "white",
            "gridcolor": "#DFE8F3",
            "gridwidth": 2,
            "linecolor": "#EBF0F8",
            "showbackground": true,
            "ticks": "",
            "zerolinecolor": "#EBF0F8"
           },
           "zaxis": {
            "backgroundcolor": "white",
            "gridcolor": "#DFE8F3",
            "gridwidth": 2,
            "linecolor": "#EBF0F8",
            "showbackground": true,
            "ticks": "",
            "zerolinecolor": "#EBF0F8"
           }
          },
          "shapedefaults": {
           "line": {
            "color": "#2a3f5f"
           }
          },
          "ternary": {
           "aaxis": {
            "gridcolor": "#DFE8F3",
            "linecolor": "#A2B1C6",
            "ticks": ""
           },
           "baxis": {
            "gridcolor": "#DFE8F3",
            "linecolor": "#A2B1C6",
            "ticks": ""
           },
           "bgcolor": "white",
           "caxis": {
            "gridcolor": "#DFE8F3",
            "linecolor": "#A2B1C6",
            "ticks": ""
           }
          },
          "title": {
           "x": 0.05
          },
          "xaxis": {
           "automargin": true,
           "gridcolor": "#EBF0F8",
           "linecolor": "#EBF0F8",
           "ticks": "",
           "title": {
            "standoff": 15
           },
           "zerolinecolor": "#EBF0F8",
           "zerolinewidth": 2
          },
          "yaxis": {
           "automargin": true,
           "gridcolor": "#EBF0F8",
           "linecolor": "#EBF0F8",
           "ticks": "",
           "title": {
            "standoff": 15
           },
           "zerolinecolor": "#EBF0F8",
           "zerolinewidth": 2
          }
         }
        },
        "title": {
         "font": {
          "size": 24
         },
         "text": "Voter Turnout by Election Phase",
         "x": 0.5,
         "xanchor": "center"
        },
        "width": 1100,
        "xaxis": {
         "autorange": true,
         "range": [
          0.6102841677943167,
          7.389715832205684
         ],
         "tickfont": {
          "size": 14
         },
         "title": {
          "font": {
           "size": 18
          },
          "text": "Phase"
         },
         "type": "linear"
        },
        "yaxis": {
         "autorange": true,
         "range": [
          61.871036465458275,
          70.76240103454174
         ],
         "tickfont": {
          "size": 14
         },
         "title": {
          "font": {
           "size": 18
          },
          "text": "Voter Turnout (%)"
         },
         "type": "linear"
        }
       }
      },
      "image/png": "[encoded data removed]",
      "text/html": [
       "<div>                            <div id=\"3e5b77da-2a70-4f8e-b8e4-c90fa26cee48\" class=\"plotly-graph-div\" style=\"height:600px; width:1100px;\"></div>            <script type=\"text/javascript\">                require([\"plotly\"], function(Plotly) {                    window.PLOTLYENV=window.PLOTLYENV || {};                                    if (document.getElementById(\"3e5b77da-2a70-4f8e-b8e4-c90fa26cee48\")) {                    Plotly.newPlot(                        \"3e5b77da-2a70-4f8e-b8e4-c90fa26cee48\",                        [{\"line\":{\"color\":\"blue\"},\"marker\":{\"color\":\"blue\",\"size\":10,\"symbol\":\"circle-dot\"},\"mode\":\"lines+markers\",\"name\":\"Voter Turnout (%)\",\"x\":[1.0,2.0,3.0,4.0,5.0,6.0,7.0],\"y\":[67.21254901960785,67.76727272727273,65.99602150537635,70.18552083333334,62.447916666666664,63.836724137931036,64.41140350877193],\"type\":\"scatter\"}],                        {\"template\":{\"data\":{\"histogram2dcontour\":[{\"type\":\"histogram2dcontour\",\"colorbar\":{\"outlinewidth\":0,\"ticks\":\"\"},\"colorscale\":[[0.0,\"#0d0887\"],[0.1111111111111111,\"#46039f\"],[0.2222222222222222,\"#7201a8\"],[0.3333333333333333,\"#9c179e\"],[0.4444444444444444,\"#bd3786\"],[0.5555555555555556,\"#d8576b\"],[0.6666666666666666,\"#ed7953\"],[0.7777777777777778,\"#fb9f3a\"],[0.8888888888888888,\"#fdca26\"],[1.0,\"#f0f921\"]]}],\"choropleth\":[{\"type\":\"choropleth\",\"colorbar\":{\"outlinewidth\":0,\"ticks\":\"\"}}],\"histogram2d\":[{\"type\":\"histogram2d\",\"colorbar\":{\"outlinewidth\":0,\"ticks\":\"\"},\"colorscale\":[[0.0,\"#0d0887\"],[0.1111111111111111,\"#46039f\"],[0.2222222222222222,\"#7201a8\"],[0.3333333333333333,\"#9c179e\"],[0.4444444444444444,\"#bd3786\"],[0.5555555555555556,\"#d8576b\"],[0.6666666666666666,\"#ed7953\"],[0.7777777777777778,\"#fb9f3a\"],[0.8888888888888888,\"#fdca26\"],[1.0,\"#f0f921\"]]}],\"heatmap\":[{\"type\":\"heatmap\",\"colorbar\":{\"outlinewidth\":0,\"ticks\":\"\"},\"colorscale\":[[0.0,\"#0d0887\"],[0.1111111111111111,\"#46039f\"],[0.2222222222222222,\"#7201a8\"],[0.3333333333333333,\"#9c179e\"],[0.4444444444444444,\"#bd3786\"],[0.5555555555555556,\"#d8576b\"],[0.6666666666666666,\"#ed7953\"],[0.7777777777777778,\"#fb9f3a\"],[0.8888888888888888,\"#fdca26\"],[1.0,\"#f0f921\"]]}],\"heatmapgl\":[{\"type\":\"heatmapgl\",\"colorbar\":{\"outlinewidth\":0,\"ticks\":\"\"},\"colorscale\":[[0.0,\"#0d0887\"],[0.1111111111111111,\"#46039f\"],[0.2222222222222222,\"#7201a8\"],[0.3333333333333333,\"#9c179e\"],[0.4444444444444444,\"#bd3786\"],[0.5555555555555556,\"#d8576b\"],[0.6666666666666666,\"#ed7953\"],[0.7777777777777778,\"#fb9f3a\"],[0.8888888888888888,\"#fdca26\"],[1.0,\"#f0f921\"]]}],\"contourcarpet\":[{\"type\":\"contourcarpet\",\"colorbar\":{\"outlinewidth\":0,\"ticks\":\"\"}}],\"contour\":[{\"type\":\"contour\",\"colorbar\":{\"outlinewidth\":0,\"ticks\":\"\"},\"colorscale\":[[0.0,\"#0d0887\"],[0.1111111111111111,\"#46039f\"],[0.2222222222222222,\"#7201a8\"],[0.3333333333333333,\"#9c179e\"],[0.4444444444444444,\"#bd3786\"],[0.5555555555555556,\"#d8576b\"],[0.6666666666666666,\"#ed7953\"],[0.7777777777777778,\"#fb9f3a\"],[0.8888888888888888,\"#fdca26\"],[1.0,\"#f0f921\"]]}],\"surface\":[{\"type\":\"surface\",\"colorbar\":{\"outlinewidth\":0,\"ticks\":\"\"},\"colorscale\":[[0.0,\"#0d0887\"],[0.1111111111111111,\"#46039f\"],[0.2222222222222222,\"#7201a8\"],[0.3333333333333333,\"#9c179e\"],[0.4444444444444444,\"#bd3786\"],[0.5555555555555556,\"#d8576b\"],[0.6666666666666666,\"#ed7953\"],[0.7777777777777778,\"#fb9f3a\"],[0.8888888888888888,\"#fdca26\"],[1.0,\"#f0f921\"]]}],\"mesh3d\":[{\"type\":\"mesh3d\",\"colorbar\":{\"outlinewidth\":0,\"ticks\":\"\"}}],\"scatter\":[{\"fillpattern\":{\"fillmode\":\"overlay\",\"size\":10,\"solidity\":0.2},\"type\":\"scatter\"}],\"parcoords\":[{\"type\":\"parcoords\",\"line\":{\"colorbar\":{\"outlinewidth\":0,\"ticks\":\"\"}}}],\"scatterpolargl\":[{\"type\":\"scatterpolargl\",\"marker\":{\"colorbar\":{\"outlinewidth\":0,\"ticks\":\"\"}}}],\"bar\":[{\"error_x\":{\"color\":\"#2a3f5f\"},\"error_y\":{\"color\":\"#2a3f5f\"},\"marker\":{\"line\":{\"color\":\"white\",\"width\":0.5},\"pattern\":{\"fillmode\":\"overlay\",\"size\":10,\"solidity\":0.2}},\"type\":\"bar\"}],\"scattergeo\":[{\"type\":\"scattergeo\",\"marker\":{\"colorbar\":{\"outlinewidth\":0,\"ticks\":\"\"}}}],\"scatterpolar\":[{\"type\":\"scatterpolar\",\"marker\":{\"colorbar\":{\"outlinewidth\":0,\"ticks\":\"\"}}}],\"histogram\":[{\"marker\":{\"pattern\":{\"fillmode\":\"overlay\",\"size\":10,\"solidity\":0.2}},\"type\":\"histogram\"}],\"scattergl\":[{\"type\":\"scattergl\",\"marker\":{\"colorbar\":{\"outlinewidth\":0,\"ticks\":\"\"}}}],\"scatter3d\":[{\"type\":\"scatter3d\",\"line\":{\"colorbar\":{\"outlinewidth\":0,\"ticks\":\"\"}},\"marker\":{\"colorbar\":{\"outlinewidth\":0,\"ticks\":\"\"}}}],\"scattermapbox\":[{\"type\":\"scattermapbox\",\"marker\":{\"colorbar\":{\"outlinewidth\":0,\"ticks\":\"\"}}}],\"scatterternary\":[{\"type\":\"scatterternary\",\"marker\":{\"colorbar\":{\"outlinewidth\":0,\"ticks\":\"\"}}}],\"scattercarpet\":[{\"type\":\"scattercarpet\",\"marker\":{\"colorbar\":{\"outlinewidth\":0,\"ticks\":\"\"}}}],\"carpet\":[{\"aaxis\":{\"endlinecolor\":\"#2a3f5f\",\"gridcolor\":\"#C8D4E3\",\"linecolor\":\"#C8D4E3\",\"minorgridcolor\":\"#C8D4E3\",\"startlinecolor\":\"#2a3f5f\"},\"baxis\":{\"endlinecolor\":\"#2a3f5f\",\"gridcolor\":\"#C8D4E3\",\"linecolor\":\"#C8D4E3\",\"minorgridcolor\":\"#C8D4E3\",\"startlinecolor\":\"#2a3f5f\"},\"type\":\"carpet\"}],\"table\":[{\"cells\":{\"fill\":{\"color\":\"#EBF0F8\"},\"line\":{\"color\":\"white\"}},\"header\":{\"fill\":{\"color\":\"#C8D4E3\"},\"line\":{\"color\":\"white\"}},\"type\":\"table\"}],\"barpolar\":[{\"marker\":{\"line\":{\"color\":\"white\",\"width\":0.5},\"pattern\":{\"fillmode\":\"overlay\",\"size\":10,\"solidity\":0.2}},\"type\":\"barpolar\"}],\"pie\":[{\"automargin\":true,\"type\":\"pie\"}]},\"layout\":{\"autotypenumbers\":\"strict\",\"colorway\":[\"#636efa\",\"#EF553B\",\"#00cc96\",\"#ab63fa\",\"#FFA15A\",\"#19d3f3\",\"#FF6692\",\"#B6E880\",\"#FF97FF\",\"#FECB52\"],\"font\":{\"color\":\"#2a3f5f\"},\"hovermode\":\"closest\",\"hoverlabel\":{\"align\":\"left\"},\"paper_bgcolor\":\"white\",\"plot_bgcolor\":\"white\",\"polar\":{\"bgcolor\":\"white\",\"angularaxis\":{\"gridcolor\":\"#EBF0F8\",\"linecolor\":\"#EBF0F8\",\"ticks\":\"\"},\"radialaxis\":{\"gridcolor\":\"#EBF0F8\",\"linecolor\":\"#EBF0F8\",\"ticks\":\"\"}},\"ternary\":{\"bgcolor\":\"white\",\"aaxis\":{\"gridcolor\":\"#DFE8F3\",\"linecolor\":\"#A2B1C6\",\"ticks\":\"\"},\"baxis\":{\"gridcolor\":\"#DFE8F3\",\"linecolor\":\"#A2B1C6\",\"ticks\":\"\"},\"caxis\":{\"gridcolor\":\"#DFE8F3\",\"linecolor\":\"#A2B1C6\",\"ticks\":\"\"}},\"coloraxis\":{\"colorbar\":{\"outlinewidth\":0,\"ticks\":\"\"}},\"colorscale\":{\"sequential\":[[0.0,\"#0d0887\"],[0.1111111111111111,\"#46039f\"],[0.2222222222222222,\"#7201a8\"],[0.3333333333333333,\"#9c179e\"],[0.4444444444444444,\"#bd3786\"],[0.5555555555555556,\"#d8576b\"],[0.6666666666666666,\"#ed7953\"],[0.7777777777777778,\"#fb9f3a\"],[0.8888888888888888,\"#fdca26\"],[1.0,\"#f0f921\"]],\"sequentialminus\":[[0.0,\"#0d0887\"],[0.1111111111111111,\"#46039f\"],[0.2222222222222222,\"#7201a8\"],[0.3333333333333333,\"#9c179e\"],[0.4444444444444444,\"#bd3786\"],[0.5555555555555556,\"#d8576b\"],[0.6666666666666666,\"#ed7953\"],[0.7777777777777778,\"#fb9f3a\"],[0.8888888888888888,\"#fdca26\"],[1.0,\"#f0f921\"]],\"diverging\":[[0,\"#8e0152\"],[0.1,\"#c51b7d\"],[0.2,\"#de77ae\"],[0.3,\"#f1b6da\"],[0.4,\"#fde0ef\"],[0.5,\"#f7f7f7\"],[0.6,\"#e6f5d0\"],[0.7,\"#b8e186\"],[0.8,\"#7fbc41\"],[0.9,\"#4d9221\"],[1,\"#276419\"]]},\"xaxis\":{\"gridcolor\":\"#EBF0F8\",\"linecolor\":\"#EBF0F8\",\"ticks\":\"\",\"title\":{\"standoff\":15},\"zerolinecolor\":\"#EBF0F8\",\"automargin\":true,\"zerolinewidth\":2},\"yaxis\":{\"gridcolor\":\"#EBF0F8\",\"linecolor\":\"#EBF0F8\",\"ticks\":\"\",\"title\":{\"standoff\":15},\"zerolinecolor\":\"#EBF0F8\",\"automargin\":true,\"zerolinewidth\":2},\"scene\":{\"xaxis\":{\"backgroundcolor\":\"white\",\"gridcolor\":\"#DFE8F3\",\"linecolor\":\"#EBF0F8\",\"showbackground\":true,\"ticks\":\"\",\"zerolinecolor\":\"#EBF0F8\",\"gridwidth\":2},\"yaxis\":{\"backgroundcolor\":\"white\",\"gridcolor\":\"#DFE8F3\",\"linecolor\":\"#EBF0F8\",\"showbackground\":true,\"ticks\":\"\",\"zerolinecolor\":\"#EBF0F8\",\"gridwidth\":2},\"zaxis\":{\"backgroundcolor\":\"white\",\"gridcolor\":\"#DFE8F3\",\"linecolor\":\"#EBF0F8\",\"showbackground\":true,\"ticks\":\"\",\"zerolinecolor\":\"#EBF0F8\",\"gridwidth\":2}},\"shapedefaults\":{\"line\":{\"color\":\"#2a3f5f\"}},\"annotationdefaults\":{\"arrowcolor\":\"#2a3f5f\",\"arrowhead\":0,\"arrowwidth\":1},\"geo\":{\"bgcolor\":\"white\",\"landcolor\":\"white\",\"subunitcolor\":\"#C8D4E3\",\"showland\":true,\"showlakes\":true,\"lakecolor\":\"white\"},\"title\":{\"x\":0.05},\"mapbox\":{\"style\":\"light\"}}},\"title\":{\"font\":{\"size\":24},\"text\":\"Voter Turnout by Election Phase\",\"x\":0.5,\"xanchor\":\"center\"},\"xaxis\":{\"title\":{\"text\":\"Phase\",\"font\":{\"size\":18}},\"tickfont\":{\"size\":14}},\"yaxis\":{\"title\":{\"text\":\"Voter Turnout (%)\",\"font\":{\"size\":18}},\"tickfont\":{\"size\":14}},\"width\":1100,\"height\":600,\"showlegend\":true},                        {\"responsive\": true}                    ).then(function(){\n",
       "                            \n",
       "var gd = document.getElementById('3e5b77da-2a70-4f8e-b8e4-c90fa26cee48');\n",
       "var x = new MutationObserver(function (mutations, observer) {{\n",
       "        var display = window.getComputedStyle(gd).display;\n",
       "        if (!display || display === 'none') {{\n",
       "            console.log([gd, 'removed!']);\n",
       "            Plotly.purge(gd);\n",
       "            observer.disconnect();\n",
       "        }}\n",
       "}});\n",
       "\n",
       "// Listen for the removal of the full notebook cells\n",
       "var notebookContainer = gd.closest('#notebook-container');\n",
       "if (notebookContainer) {{\n",
       "    x.observe(notebookContainer, {childList: true});\n",
       "}}\n",
       "\n",
       "// Listen for the clearing of the current output cell\n",
       "var outputEl = gd.closest('.output');\n",
       "if (outputEl) {{\n",
       "    x.observe(outputEl, {childList: true});\n",
       "}}\n",
       "\n",
       "                        })                };                });            </script>        </div>"
      ]
     },
     "metadata": {},
     "output_type": "display_data"
    }
   ],
   "source": [
    "fig = go.Figure()\n",
    "\n",
    "# Add line trace\n",
    "fig.add_trace(go.Scatter(\n",
    "    x=phase_data['Phase'],\n",
    "    y=phase_data['Polled (%)'],\n",
    "    mode='lines+markers',\n",
    "    marker=dict(symbol='circle-dot', size=10, color='blue'),  # Customize marker\n",
    "    line=dict(color='blue'),  # Customize line color\n",
    "    name='Voter Turnout (%)'\n",
    "))\n",
    "\n",
    "# Update layout for better aesthetics\n",
    "fig.update_layout(\n",
    "    title=dict(\n",
    "        text='Voter Turnout by Election Phase',\n",
    "        font=dict(size=24),\n",
    "        x=0.5,\n",
    "        xanchor='center'\n",
    "    ),\n",
    "    xaxis=dict(\n",
    "        title='Phase',\n",
    "        titlefont=dict(size=18),\n",
    "        tickfont=dict(size=14)\n",
    "    ),\n",
    "    yaxis=dict(\n",
    "        title='Voter Turnout (%)',\n",
    "        titlefont=dict(size=18),\n",
    "        tickfont=dict(size=14)\n",
    "    ),\n",
    "    width=1100,  # Adjust figure width\n",
    "    height=600,  # Adjust figure height\n",
    "    showlegend=True\n",
    ")\n",
    "\n",
    "# Show the plot\n",
    "fig.show()"
   ]
  },
  {
   "cell_type": "markdown",
   "id": "d24b4d05-bde9-4a76-a5f0-691b05c54c32",
   "metadata": {},
   "source": [
    "The above line graph shows **the avearge voter turnout among diffrent phases** of 2024 General Election.    \n",
    "\n",
    "1. **Phase 1 - 67.21 %**\n",
    "2. **Phase 2 - 67.76 %**\n",
    "3. **Phase 3 - 65.99 %**\n",
    "4. **Phase 4 - 70.18 %**\n",
    "5. **Phase 5 - 62.44 %**\n",
    "6. **Phase 6 - 63.83 %**\n",
    "7. **Phase 7 - 64.41 %**"
   ]
  },
  {
   "cell_type": "markdown",
   "id": "920024aa-1f6c-4a08-a2cb-54bfecb96912",
   "metadata": {},
   "source": [
    "-------------------------------------------------------------------------------------------------------------------------------------------"
   ]
  },
  {
   "cell_type": "markdown",
   "id": "057631d5-d96c-4570-8fe3-7e88304a6d4c",
   "metadata": {},
   "source": [
    "Lets the correlation of (`Amount spent (INR)`) and (`Polled (%)`)"
   ]
  },
  {
   "cell_type": "code",
   "execution_count": 47,
   "id": "2f10ebeb-d826-4766-87da-4dae32abc62e",
   "metadata": {},
   "outputs": [
    {
     "name": "stdout",
     "output_type": "stream",
     "text": [
      "                    Amount spent (INR)  Polled (%)\n",
      "Amount spent (INR)            1.000000   -0.002935\n",
      "Polled (%)                   -0.002935    1.000000\n"
     ]
    }
   ],
   "source": [
    "correlation = merged_data[['Amount spent (INR)', 'Polled (%)']].corr()\n",
    "print(correlation)"
   ]
  },
  {
   "cell_type": "markdown",
   "id": "ff8b1c67-4df5-4a83-86a6-5ba7adcaadf9",
   "metadata": {},
   "source": [
    "# Summary"
   ]
  },
  {
   "cell_type": "markdown",
   "id": "3d3108e7-b8b2-4e1c-8f13-ffddd12db455",
   "metadata": {},
   "source": [
    "The analysis of the 2024 General Election in India highlights significant trends and statistics across various categories."
   ]
  },
  {
   "cell_type": "markdown",
   "id": "6b4853d7-498b-4195-9646-24bfa066ee76",
   "metadata": {},
   "source": [
    "**Ad Spending**:\n",
    "   - **Top 5 States/UTs with Highest Ad Spend**: Uttar Pradesh, Maharashtra, Odisha, West Bengal, and Tamil Nadu.\n",
    "   - **Lowest Ad Spend**: Dadra & Nagar Haveli and Daman & Diu, Nagaland, Mizoram, Andaman and Nicobar Islands, Lakshadweep.\n",
    "   - **Top Parties by Ad Spend**: BJP (NDA), BJD, INC (INDIA), DMK (INDIA), BJP Odisha (NDA).\n",
    "   - **NDA Alliance States**: Uttar Pradesh (40.1%), Maharashtra (27.3%), Andhra Pradesh (14.1%), Bihar (12%), Madhya Pradesh (6.48%).\n",
    "   - **INDIA Alliance States**: West Bengal (36.1%), Tamil Nadu (33.2%), Karnataka (13%), Telangana (10.3%), Punjab (7.43%).\n",
    "   - **Total Expenditure**: India (34.66B INR), NDA (20.18B INR), INDIA (10.02B INR).\n",
    "\n",
    "**Voter Turnout**:\n",
    "   - **Highest Average Vote Percentage**: Lakshadweep (84.16%), Tripura (80.92%), Assam (80.88%), Andhra Pradesh (80.77%), Sikkim (79.88%).\n",
    "   - **Lowest Average Vote Percentage**: Nagaland (57.72%), Uttar Pradesh (57.04%), Mizoram (56.87%), Bihar (56.32%), Uttarakhand (56.18%).\n",
    "\n",
    "**Constituencies**:\n",
    "   - **Highest Vote Percentage**: Dhubri (92.08%), Ongole (87.06%), Bishnupur (85.91%), Chittoor(SC) (85.77%), Narsaraopet (85.65%).\n",
    "   - **Lowest Vote Percentage**: Srinagar (38.49%), Nawada (43.17%), Patna Sahib (46.85%), Hyderabad (48.48%), Almora (48.74%).\n",
    "\n",
    "**Election Phases**:\n",
    "   - **Ad Expenditure by Phase**: Phase 1 (5.55B INR), Phase 2 (3.98B INR), Phase 3 (4.72B INR), Phase 4 (7.73B INR), Phase 5 (4.34B INR), Phase 6 (4.17B INR), Phase 7 (4.14B INR).\n",
    "   - **Voter Turnout by Phase**: Phase 1 (67.21%), Phase 2 (67.76%), Phase 3 (65.99%), Phase 4 (70.18%), Phase 5 (62.44%), Phase 6 (63.83%), Phase 7 (64.41%).\n",
    "\n",
    "**The correlation between ad spending and voter turnout is -0.002935, indicating a very weak negative relationship.**"
   ]
  },
  {
   "cell_type": "markdown",
   "id": "dea10e08-bbfc-4f6a-9d86-3bdd81482090",
   "metadata": {},
   "source": [
    "-------------------------------------------------------------------------------------------------------------------------------------------"
   ]
  },
  {
   "cell_type": "markdown",
   "id": "f86e6e0c-d836-4f1e-acbe-db16ce806b03",
   "metadata": {},
   "source": [
    "## **Contact Information**\n",
    "*Please contact us for additional inquiries and collaboration opportunities.*\n",
    "\n",
    "### **Email**\n",
    "\n",
    "mdssohail1018@gmail.com\n",
    "\n",
    "### **Github**\n",
    "(**tsohail12**)\n",
    "\n",
    "## ***Thank you for your time and consideration!!!***"
   ]
  }
 ],
 "metadata": {
  "kernelspec": {
   "display_name": "Python 3 (ipykernel)",
   "language": "python",
   "name": "python3"
  },
  "language_info": {
   "codemirror_mode": {
    "name": "ipython",
    "version": 3
   },
   "file_extension": ".py",
   "mimetype": "text/x-python",
   "name": "python",
   "nbconvert_exporter": "python",
   "pygments_lexer": "ipython3",
   "version": "3.11.7"
  }
 },
 "nbformat": 4,
 "nbformat_minor": 5
}
